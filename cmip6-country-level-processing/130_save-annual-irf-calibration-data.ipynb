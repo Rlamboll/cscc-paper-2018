{
 "cells": [
  {
   "cell_type": "markdown",
   "id": "electric-subject",
   "metadata": {},
   "source": [
    "# Save annual IRF calibration data"
   ]
  },
  {
   "cell_type": "code",
   "execution_count": 1,
   "id": "talented-lemon",
   "metadata": {},
   "outputs": [
    {
     "data": {
      "application/javascript": [
       "\n",
       "            setTimeout(function() {\n",
       "                var nbb_cell_id = 1;\n",
       "                var nbb_unformatted_code = \"%load_ext nb_black\";\n",
       "                var nbb_formatted_code = \"%load_ext nb_black\";\n",
       "                var nbb_cells = Jupyter.notebook.get_cells();\n",
       "                for (var i = 0; i < nbb_cells.length; ++i) {\n",
       "                    if (nbb_cells[i].input_prompt_number == nbb_cell_id) {\n",
       "                        if (nbb_cells[i].get_text() == nbb_unformatted_code) {\n",
       "                             nbb_cells[i].set_text(nbb_formatted_code);\n",
       "                        }\n",
       "                        break;\n",
       "                    }\n",
       "                }\n",
       "            }, 500);\n",
       "            "
      ],
      "text/plain": [
       "<IPython.core.display.Javascript object>"
      ]
     },
     "metadata": {},
     "output_type": "display_data"
    }
   ],
   "source": [
    "%load_ext nb_black"
   ]
  },
  {
   "cell_type": "code",
   "execution_count": 2,
   "id": "listed-comedy",
   "metadata": {},
   "outputs": [
    {
     "name": "stderr",
     "output_type": "stream",
     "text": [
      "<ipython-input-2-91b018e19e24>:12: TqdmExperimentalWarning: Using `tqdm.autonotebook.tqdm` in notebook mode. Use `tqdm.tqdm` instead to force console mode (e.g. in jupyter console)\n",
      "  import tqdm.autonotebook as tqdman\n"
     ]
    },
    {
     "data": {
      "application/javascript": [
       "\n",
       "            setTimeout(function() {\n",
       "                var nbb_cell_id = 2;\n",
       "                var nbb_unformatted_code = \"import datetime as dt\\nimport glob\\nimport os.path\\nfrom multiprocessing import Pool\\n\\nimport matplotlib.pyplot as plt\\nimport numpy as np\\nimport pandas as pd\\nimport scmdata\\nimport seaborn as sns\\nimport statsmodels.api as sm\\nimport tqdm.autonotebook as tqdman\\nfrom openscm_units import unit_registry\\nfrom patsy import dmatrices\\n\\nimport config\";\n",
       "                var nbb_formatted_code = \"import datetime as dt\\nimport glob\\nimport os.path\\nfrom multiprocessing import Pool\\n\\nimport matplotlib.pyplot as plt\\nimport numpy as np\\nimport pandas as pd\\nimport scmdata\\nimport seaborn as sns\\nimport statsmodels.api as sm\\nimport tqdm.autonotebook as tqdman\\nfrom openscm_units import unit_registry\\nfrom patsy import dmatrices\\n\\nimport config\";\n",
       "                var nbb_cells = Jupyter.notebook.get_cells();\n",
       "                for (var i = 0; i < nbb_cells.length; ++i) {\n",
       "                    if (nbb_cells[i].input_prompt_number == nbb_cell_id) {\n",
       "                        if (nbb_cells[i].get_text() == nbb_unformatted_code) {\n",
       "                             nbb_cells[i].set_text(nbb_formatted_code);\n",
       "                        }\n",
       "                        break;\n",
       "                    }\n",
       "                }\n",
       "            }, 500);\n",
       "            "
      ],
      "text/plain": [
       "<IPython.core.display.Javascript object>"
      ]
     },
     "metadata": {},
     "output_type": "display_data"
    }
   ],
   "source": [
    "import datetime as dt\n",
    "import glob\n",
    "import os.path\n",
    "from multiprocessing import Pool\n",
    "\n",
    "import matplotlib.pyplot as plt\n",
    "import numpy as np\n",
    "import pandas as pd\n",
    "import scmdata\n",
    "import seaborn as sns\n",
    "import statsmodels.api as sm\n",
    "import tqdm.autonotebook as tqdman\n",
    "from openscm_units import unit_registry\n",
    "from patsy import dmatrices\n",
    "\n",
    "import config"
   ]
  },
  {
   "cell_type": "code",
   "execution_count": 3,
   "id": "large-reliance",
   "metadata": {},
   "outputs": [
    {
     "data": {
      "application/javascript": [
       "\n",
       "            setTimeout(function() {\n",
       "                var nbb_cell_id = 3;\n",
       "                var nbb_unformatted_code = \"ID = config.ID\";\n",
       "                var nbb_formatted_code = \"ID = config.ID\";\n",
       "                var nbb_cells = Jupyter.notebook.get_cells();\n",
       "                for (var i = 0; i < nbb_cells.length; ++i) {\n",
       "                    if (nbb_cells[i].input_prompt_number == nbb_cell_id) {\n",
       "                        if (nbb_cells[i].get_text() == nbb_unformatted_code) {\n",
       "                             nbb_cells[i].set_text(nbb_formatted_code);\n",
       "                        }\n",
       "                        break;\n",
       "                    }\n",
       "                }\n",
       "            }, 500);\n",
       "            "
      ],
      "text/plain": [
       "<IPython.core.display.Javascript object>"
      ]
     },
     "metadata": {},
     "output_type": "display_data"
    }
   ],
   "source": [
    "ID = config.ID"
   ]
  },
  {
   "cell_type": "code",
   "execution_count": 4,
   "id": "excess-cable",
   "metadata": {},
   "outputs": [
    {
     "data": {
      "application/javascript": [
       "\n",
       "            setTimeout(function() {\n",
       "                var nbb_cell_id = 4;\n",
       "                var nbb_unformatted_code = \"STITCHED_NORMALISED_DIR = \\\"./{}-irf-calibration-crunch-stitched-normalised\\\".format(ID)\\n\\nMAX_WORKERS = 60\";\n",
       "                var nbb_formatted_code = \"STITCHED_NORMALISED_DIR = \\\"./{}-irf-calibration-crunch-stitched-normalised\\\".format(ID)\\n\\nMAX_WORKERS = 60\";\n",
       "                var nbb_cells = Jupyter.notebook.get_cells();\n",
       "                for (var i = 0; i < nbb_cells.length; ++i) {\n",
       "                    if (nbb_cells[i].input_prompt_number == nbb_cell_id) {\n",
       "                        if (nbb_cells[i].get_text() == nbb_unformatted_code) {\n",
       "                             nbb_cells[i].set_text(nbb_formatted_code);\n",
       "                        }\n",
       "                        break;\n",
       "                    }\n",
       "                }\n",
       "            }, 500);\n",
       "            "
      ],
      "text/plain": [
       "<IPython.core.display.Javascript object>"
      ]
     },
     "metadata": {},
     "output_type": "display_data"
    }
   ],
   "source": [
    "STITCHED_NORMALISED_DIR = \"./{}-irf-calibration-crunch-stitched-normalised\".format(ID)\n",
    "\n",
    "MAX_WORKERS = 60"
   ]
  },
  {
   "cell_type": "code",
   "execution_count": 5,
   "id": "hindu-portsmouth",
   "metadata": {},
   "outputs": [
    {
     "data": {
      "application/javascript": [
       "\n",
       "            setTimeout(function() {\n",
       "                var nbb_cell_id = 5;\n",
       "                var nbb_unformatted_code = \"load_dir = STITCHED_NORMALISED_DIR\";\n",
       "                var nbb_formatted_code = \"load_dir = STITCHED_NORMALISED_DIR\";\n",
       "                var nbb_cells = Jupyter.notebook.get_cells();\n",
       "                for (var i = 0; i < nbb_cells.length; ++i) {\n",
       "                    if (nbb_cells[i].input_prompt_number == nbb_cell_id) {\n",
       "                        if (nbb_cells[i].get_text() == nbb_unformatted_code) {\n",
       "                             nbb_cells[i].set_text(nbb_formatted_code);\n",
       "                        }\n",
       "                        break;\n",
       "                    }\n",
       "                }\n",
       "            }, 500);\n",
       "            "
      ],
      "text/plain": [
       "<IPython.core.display.Javascript object>"
      ]
     },
     "metadata": {},
     "output_type": "display_data"
    }
   ],
   "source": [
    "load_dir = STITCHED_NORMALISED_DIR"
   ]
  },
  {
   "cell_type": "code",
   "execution_count": 6,
   "id": "sunrise-pakistan",
   "metadata": {},
   "outputs": [
    {
     "data": {
      "text/plain": [
       "3"
      ]
     },
     "metadata": {},
     "output_type": "display_data"
    },
    {
     "data": {
      "text/plain": [
       "['./20210720-irf-calibration-crunch-stitched-normalised/netcdf-scm_rlut_Amon_ACCESS-CM2_abrupt-4xCO2_r1i1p1f1_gn_95001-109912.nc',\n",
       " './20210720-irf-calibration-crunch-stitched-normalised/netcdf-scm_tas_Amon_ACCESS-CM2_abrupt-4xCO2_r1i1p1f1_gn_95001-109912.nc',\n",
       " './20210720-irf-calibration-crunch-stitched-normalised/netcdf-scm_rsut_Amon_ACCESS-CM2_abrupt-4xCO2_r1i1p1f1_gn_95001-109912.nc']"
      ]
     },
     "execution_count": 6,
     "metadata": {},
     "output_type": "execute_result"
    },
    {
     "data": {
      "application/javascript": [
       "\n",
       "            setTimeout(function() {\n",
       "                var nbb_cell_id = 6;\n",
       "                var nbb_unformatted_code = \"crunched_files = [\\n    f\\n    for f in glob.glob(os.path.join(load_dir, \\\"**\\\", \\\"*.nc\\\"), recursive=True)\\n    if \\\"abrupt-4xCO2\\\" in f\\n]\\ncrunched_files[:2]\\ndisplay(len(crunched_files))\\ncrunched_files\";\n",
       "                var nbb_formatted_code = \"crunched_files = [\\n    f\\n    for f in glob.glob(os.path.join(load_dir, \\\"**\\\", \\\"*.nc\\\"), recursive=True)\\n    if \\\"abrupt-4xCO2\\\" in f\\n]\\ncrunched_files[:2]\\ndisplay(len(crunched_files))\\ncrunched_files\";\n",
       "                var nbb_cells = Jupyter.notebook.get_cells();\n",
       "                for (var i = 0; i < nbb_cells.length; ++i) {\n",
       "                    if (nbb_cells[i].input_prompt_number == nbb_cell_id) {\n",
       "                        if (nbb_cells[i].get_text() == nbb_unformatted_code) {\n",
       "                             nbb_cells[i].set_text(nbb_formatted_code);\n",
       "                        }\n",
       "                        break;\n",
       "                    }\n",
       "                }\n",
       "            }, 500);\n",
       "            "
      ],
      "text/plain": [
       "<IPython.core.display.Javascript object>"
      ]
     },
     "metadata": {},
     "output_type": "display_data"
    }
   ],
   "source": [
    "crunched_files = [\n",
    "    f\n",
    "    for f in glob.glob(os.path.join(load_dir, \"**\", \"*.nc\"), recursive=True)\n",
    "    if \"abrupt-4xCO2\" in f\n",
    "]\n",
    "crunched_files[:2]\n",
    "display(len(crunched_files))\n",
    "crunched_files"
   ]
  },
  {
   "cell_type": "code",
   "execution_count": 7,
   "id": "sudden-apartment",
   "metadata": {},
   "outputs": [
    {
     "name": "stderr",
     "output_type": "stream",
     "text": [
      "/data/ubuntu-znicholls/miniconda3/envs/cmip6-country-level-processing/lib/python3.8/site-packages/scmdata/netcdf.py:201: SerializationWarning: Unable to decode time axis into full numpy.datetime64 objects, continuing using cftime.datetime objects instead, reason: dates out of range\n",
      "  dims[\"time\"] = _read_time_variable(ds.variables[\"time\"])\n",
      "/data/ubuntu-znicholls/miniconda3/envs/cmip6-country-level-processing/lib/python3.8/site-packages/scmdata/netcdf.py:201: SerializationWarning: Unable to decode time axis into full numpy.datetime64 objects, continuing using cftime.datetime objects instead, reason: dates out of range\n",
      "  dims[\"time\"] = _read_time_variable(ds.variables[\"time\"])\n",
      "/data/ubuntu-znicholls/miniconda3/envs/cmip6-country-level-processing/lib/python3.8/site-packages/scmdata/netcdf.py:201: SerializationWarning: Unable to decode time axis into full numpy.datetime64 objects, continuing using cftime.datetime objects instead, reason: dates out of range\n",
      "  dims[\"time\"] = _read_time_variable(ds.variables[\"time\"])\n"
     ]
    },
    {
     "data": {
      "application/vnd.jupyter.widget-view+json": {
       "model_id": "20f2881b4b034deea74f58ca3debc1d6",
       "version_major": 2,
       "version_minor": 0
      },
      "text/plain": [
       "  0%|          | 0/3 [00:00<?, ?it/s]"
      ]
     },
     "metadata": {},
     "output_type": "display_data"
    },
    {
     "data": {
      "text/plain": [
       "<scmdata.ScmRun (timeseries: 1356, timepoints: 1800)>\n",
       "Time:\n",
       "\tStart: 0001-01-16T05:00:00\n",
       "\tEnd: 0150-12-16T19:00:00\n",
       "Meta:\n",
       "\t     activity_id climate_model grid member_id mip_era        model  \\\n",
       "\t0           CMIP    ACCESS-CM2   gn  r1i1p1f1   CMIP6  unspecified   \n",
       "\t1           CMIP    ACCESS-CM2   gn  r1i1p1f1   CMIP6  unspecified   \n",
       "\t2           CMIP    ACCESS-CM2   gn  r1i1p1f1   CMIP6  unspecified   \n",
       "\t3           CMIP    ACCESS-CM2   gn  r1i1p1f1   CMIP6  unspecified   \n",
       "\t4           CMIP    ACCESS-CM2   gn  r1i1p1f1   CMIP6  unspecified   \n",
       "\t...          ...           ...  ...       ...     ...          ...   \n",
       "\t1351        CMIP    ACCESS-CM2   gn  r1i1p1f1   CMIP6  unspecified   \n",
       "\t1352        CMIP    ACCESS-CM2   gn  r1i1p1f1   CMIP6  unspecified   \n",
       "\t1353        CMIP    ACCESS-CM2   gn  r1i1p1f1   CMIP6  unspecified   \n",
       "\t1354        CMIP    ACCESS-CM2   gn  r1i1p1f1   CMIP6  unspecified   \n",
       "\t1355        CMIP    ACCESS-CM2   gn  r1i1p1f1   CMIP6  unspecified   \n",
       "\t\n",
       "\t                                               region      scenario    unit  \\\n",
       "\t0                                       Nearest World  abrupt-4xCO2  W m^-2   \n",
       "\t1         Nearest World|Natural Earth 50m|Afghanistan  abrupt-4xCO2  W m^-2   \n",
       "\t2             Nearest World|Natural Earth 50m|Albania  abrupt-4xCO2  W m^-2   \n",
       "\t3             Nearest World|Natural Earth 50m|Algeria  abrupt-4xCO2  W m^-2   \n",
       "\t4      Nearest World|Natural Earth 50m|American Samoa  abrupt-4xCO2  W m^-2   \n",
       "\t...                                               ...           ...     ...   \n",
       "\t1351  Popn weighted World|Natural Earth 50m|W. Sahara  abrupt-4xCO2  W m^-2   \n",
       "\t1352      Popn weighted World|Natural Earth 50m|Yemen  abrupt-4xCO2  W m^-2   \n",
       "\t1353     Popn weighted World|Natural Earth 50m|Zambia  abrupt-4xCO2  W m^-2   \n",
       "\t1354   Popn weighted World|Natural Earth 50m|Zimbabwe  abrupt-4xCO2  W m^-2   \n",
       "\t1355   Popn weighted World|Natural Earth 50m|eSwatini  abrupt-4xCO2  W m^-2   \n",
       "\t\n",
       "\t     variable       variable_standard_name  \n",
       "\t0        rlut   toa_outgoing_longwave_flux  \n",
       "\t1        rlut   toa_outgoing_longwave_flux  \n",
       "\t2        rlut   toa_outgoing_longwave_flux  \n",
       "\t3        rlut   toa_outgoing_longwave_flux  \n",
       "\t4        rlut   toa_outgoing_longwave_flux  \n",
       "\t...       ...                          ...  \n",
       "\t1351     rsut  toa_outgoing_shortwave_flux  \n",
       "\t1352     rsut  toa_outgoing_shortwave_flux  \n",
       "\t1353     rsut  toa_outgoing_shortwave_flux  \n",
       "\t1354     rsut  toa_outgoing_shortwave_flux  \n",
       "\t1355     rsut  toa_outgoing_shortwave_flux  \n",
       "\t\n",
       "\t[1356 rows x 11 columns]"
      ]
     },
     "execution_count": 7,
     "metadata": {},
     "output_type": "execute_result"
    },
    {
     "data": {
      "application/javascript": [
       "\n",
       "            setTimeout(function() {\n",
       "                var nbb_cell_id = 7;\n",
       "                var nbb_unformatted_code = \"def load_file(f):\\n    out = force_first_year(scmdata.ScmRun.from_nc(f), new_first_year_value=1)\\n\\n    return out\\n\\n\\ndef force_first_year(inp, new_first_year_value=1):\\n    \\\"\\\"\\\"\\n    Force first year of an :obj:`ScmRun` to match a given value\\n    \\\"\\\"\\\"\\n    ts = inp.timeseries()\\n    first_year = inp[\\\"year\\\"].min()\\n    ts.columns = ts.columns.map(\\n        lambda x: dt.datetime(\\n            x.year - first_year + new_first_year_value, x.month, x.day\\n        )\\n    )\\n\\n    out = scmdata.ScmRun(ts)\\n    out.metadata = inp.metadata\\n\\n    return out\\n\\n\\nall_dat = []\\nwith Pool(MAX_WORKERS) as pool:\\n    all_dat = pool.map(load_file, crunched_files)\\n\\nall_dat = scmdata.run_append(\\n    [scmdata.ScmRun(s.timeseries(time_axis=\\\"year-month\\\")) for s in tqdman.tqdm(all_dat)]\\n)\\nall_dat\";\n",
       "                var nbb_formatted_code = \"def load_file(f):\\n    out = force_first_year(scmdata.ScmRun.from_nc(f), new_first_year_value=1)\\n\\n    return out\\n\\n\\ndef force_first_year(inp, new_first_year_value=1):\\n    \\\"\\\"\\\"\\n    Force first year of an :obj:`ScmRun` to match a given value\\n    \\\"\\\"\\\"\\n    ts = inp.timeseries()\\n    first_year = inp[\\\"year\\\"].min()\\n    ts.columns = ts.columns.map(\\n        lambda x: dt.datetime(\\n            x.year - first_year + new_first_year_value, x.month, x.day\\n        )\\n    )\\n\\n    out = scmdata.ScmRun(ts)\\n    out.metadata = inp.metadata\\n\\n    return out\\n\\n\\nall_dat = []\\nwith Pool(MAX_WORKERS) as pool:\\n    all_dat = pool.map(load_file, crunched_files)\\n\\nall_dat = scmdata.run_append(\\n    [scmdata.ScmRun(s.timeseries(time_axis=\\\"year-month\\\")) for s in tqdman.tqdm(all_dat)]\\n)\\nall_dat\";\n",
       "                var nbb_cells = Jupyter.notebook.get_cells();\n",
       "                for (var i = 0; i < nbb_cells.length; ++i) {\n",
       "                    if (nbb_cells[i].input_prompt_number == nbb_cell_id) {\n",
       "                        if (nbb_cells[i].get_text() == nbb_unformatted_code) {\n",
       "                             nbb_cells[i].set_text(nbb_formatted_code);\n",
       "                        }\n",
       "                        break;\n",
       "                    }\n",
       "                }\n",
       "            }, 500);\n",
       "            "
      ],
      "text/plain": [
       "<IPython.core.display.Javascript object>"
      ]
     },
     "metadata": {},
     "output_type": "display_data"
    }
   ],
   "source": [
    "def load_file(f):\n",
    "    out = force_first_year(scmdata.ScmRun.from_nc(f), new_first_year_value=1)\n",
    "\n",
    "    return out\n",
    "\n",
    "\n",
    "def force_first_year(inp, new_first_year_value=1):\n",
    "    \"\"\"\n",
    "    Force first year of an :obj:`ScmRun` to match a given value\n",
    "    \"\"\"\n",
    "    ts = inp.timeseries()\n",
    "    first_year = inp[\"year\"].min()\n",
    "    ts.columns = ts.columns.map(\n",
    "        lambda x: dt.datetime(\n",
    "            x.year - first_year + new_first_year_value, x.month, x.day\n",
    "        )\n",
    "    )\n",
    "\n",
    "    out = scmdata.ScmRun(ts)\n",
    "    out.metadata = inp.metadata\n",
    "\n",
    "    return out\n",
    "\n",
    "\n",
    "all_dat = []\n",
    "with Pool(MAX_WORKERS) as pool:\n",
    "    all_dat = pool.map(load_file, crunched_files)\n",
    "\n",
    "all_dat = scmdata.run_append(\n",
    "    [scmdata.ScmRun(s.timeseries(time_axis=\"year-month\")) for s in tqdman.tqdm(all_dat)]\n",
    ")\n",
    "all_dat"
   ]
  },
  {
   "cell_type": "code",
   "execution_count": 8,
   "id": "challenging-fifth",
   "metadata": {},
   "outputs": [
    {
     "data": {
      "application/javascript": [
       "\n",
       "            setTimeout(function() {\n",
       "                var nbb_cell_id = 8;\n",
       "                var nbb_unformatted_code = \"def get_gregory_plot_df(inp, tas_unit=\\\"K\\\", flux_unit=\\\"W / m^2\\\"):\\n    gregory_plot_df = (\\n        inp.time_mean(\\\"AC\\\")\\n        .convert_unit(tas_unit, variable=\\\"tas\\\")\\n        .convert_unit(flux_unit, variable=\\\"r*\\\")\\n        .drop_meta(\\\"variable_standard_name\\\")\\n        .timeseries(time_axis=\\\"year\\\")\\n        .reset_index(\\\"unit\\\", drop=True)\\n        .unstack(\\\"variable\\\")\\n        .stack(\\\"time\\\")\\n    )\\n    gregory_plot_df[\\\"rndt\\\"] = (\\n        gregory_plot_df[\\\"rsdt\\\"] - gregory_plot_df[\\\"rsut\\\"] - gregory_plot_df[\\\"rlut\\\"]\\n    )\\n\\n    return gregory_plot_df\";\n",
       "                var nbb_formatted_code = \"def get_gregory_plot_df(inp, tas_unit=\\\"K\\\", flux_unit=\\\"W / m^2\\\"):\\n    gregory_plot_df = (\\n        inp.time_mean(\\\"AC\\\")\\n        .convert_unit(tas_unit, variable=\\\"tas\\\")\\n        .convert_unit(flux_unit, variable=\\\"r*\\\")\\n        .drop_meta(\\\"variable_standard_name\\\")\\n        .timeseries(time_axis=\\\"year\\\")\\n        .reset_index(\\\"unit\\\", drop=True)\\n        .unstack(\\\"variable\\\")\\n        .stack(\\\"time\\\")\\n    )\\n    gregory_plot_df[\\\"rndt\\\"] = (\\n        gregory_plot_df[\\\"rsdt\\\"] - gregory_plot_df[\\\"rsut\\\"] - gregory_plot_df[\\\"rlut\\\"]\\n    )\\n\\n    return gregory_plot_df\";\n",
       "                var nbb_cells = Jupyter.notebook.get_cells();\n",
       "                for (var i = 0; i < nbb_cells.length; ++i) {\n",
       "                    if (nbb_cells[i].input_prompt_number == nbb_cell_id) {\n",
       "                        if (nbb_cells[i].get_text() == nbb_unformatted_code) {\n",
       "                             nbb_cells[i].set_text(nbb_formatted_code);\n",
       "                        }\n",
       "                        break;\n",
       "                    }\n",
       "                }\n",
       "            }, 500);\n",
       "            "
      ],
      "text/plain": [
       "<IPython.core.display.Javascript object>"
      ]
     },
     "metadata": {},
     "output_type": "display_data"
    }
   ],
   "source": [
    "def get_gregory_plot_df(inp, tas_unit=\"K\", flux_unit=\"W / m^2\"):\n",
    "    gregory_plot_df = (\n",
    "        inp.time_mean(\"AC\")\n",
    "        .convert_unit(tas_unit, variable=\"tas\")\n",
    "        .convert_unit(flux_unit, variable=\"r*\")\n",
    "        .drop_meta(\"variable_standard_name\")\n",
    "        .timeseries(time_axis=\"year\")\n",
    "        .reset_index(\"unit\", drop=True)\n",
    "        .unstack(\"variable\")\n",
    "        .stack(\"time\")\n",
    "    )\n",
    "    gregory_plot_df[\"rndt\"] = (\n",
    "        gregory_plot_df[\"rsdt\"] - gregory_plot_df[\"rsut\"] - gregory_plot_df[\"rlut\"]\n",
    "    )\n",
    "\n",
    "    return gregory_plot_df"
   ]
  },
  {
   "cell_type": "code",
   "execution_count": 9,
   "id": "applicable-regard",
   "metadata": {},
   "outputs": [
    {
     "data": {
      "application/javascript": [
       "\n",
       "            setTimeout(function() {\n",
       "                var nbb_cell_id = 9;\n",
       "                var nbb_unformatted_code = \"def get_gregory_regression_values(gregory_plot_df, tas_unit, flux_unit):\\n    y, X = dmatrices(\\\"rndt ~ tas\\\", data=gregory_plot_df, return_type=\\\"dataframe\\\")\\n    mod = sm.OLS(y, X)\\n    res = mod.fit()\\n\\n    intercept = res.params[\\\"Intercept\\\"]\\n    gradient = res.params[\\\"tas\\\"]\\n    lambda_val = -gradient * unit_registry(f\\\"{flux_unit} / {tas_unit}\\\")\\n    forcing_4xco2 = intercept * unit_registry(f\\\"{flux_unit}\\\")\\n    forcing_2xco2 = forcing_4xco2 / 2\\n    ecs = forcing_2xco2 / lambda_val\\n\\n    return {\\n        \\\"lambda\\\": lambda_val,\\n        \\\"rf_4xco2\\\": forcing_4xco2,\\n        \\\"rf_2xco2\\\": forcing_2xco2,\\n        \\\"ecs\\\": ecs,\\n    }\";\n",
       "                var nbb_formatted_code = \"def get_gregory_regression_values(gregory_plot_df, tas_unit, flux_unit):\\n    y, X = dmatrices(\\\"rndt ~ tas\\\", data=gregory_plot_df, return_type=\\\"dataframe\\\")\\n    mod = sm.OLS(y, X)\\n    res = mod.fit()\\n\\n    intercept = res.params[\\\"Intercept\\\"]\\n    gradient = res.params[\\\"tas\\\"]\\n    lambda_val = -gradient * unit_registry(f\\\"{flux_unit} / {tas_unit}\\\")\\n    forcing_4xco2 = intercept * unit_registry(f\\\"{flux_unit}\\\")\\n    forcing_2xco2 = forcing_4xco2 / 2\\n    ecs = forcing_2xco2 / lambda_val\\n\\n    return {\\n        \\\"lambda\\\": lambda_val,\\n        \\\"rf_4xco2\\\": forcing_4xco2,\\n        \\\"rf_2xco2\\\": forcing_2xco2,\\n        \\\"ecs\\\": ecs,\\n    }\";\n",
       "                var nbb_cells = Jupyter.notebook.get_cells();\n",
       "                for (var i = 0; i < nbb_cells.length; ++i) {\n",
       "                    if (nbb_cells[i].input_prompt_number == nbb_cell_id) {\n",
       "                        if (nbb_cells[i].get_text() == nbb_unformatted_code) {\n",
       "                             nbb_cells[i].set_text(nbb_formatted_code);\n",
       "                        }\n",
       "                        break;\n",
       "                    }\n",
       "                }\n",
       "            }, 500);\n",
       "            "
      ],
      "text/plain": [
       "<IPython.core.display.Javascript object>"
      ]
     },
     "metadata": {},
     "output_type": "display_data"
    }
   ],
   "source": [
    "def get_gregory_regression_values(gregory_plot_df, tas_unit, flux_unit):\n",
    "    y, X = dmatrices(\"rndt ~ tas\", data=gregory_plot_df, return_type=\"dataframe\")\n",
    "    mod = sm.OLS(y, X)\n",
    "    res = mod.fit()\n",
    "\n",
    "    intercept = res.params[\"Intercept\"]\n",
    "    gradient = res.params[\"tas\"]\n",
    "    lambda_val = -gradient * unit_registry(f\"{flux_unit} / {tas_unit}\")\n",
    "    forcing_4xco2 = intercept * unit_registry(f\"{flux_unit}\")\n",
    "    forcing_2xco2 = forcing_4xco2 / 2\n",
    "    ecs = forcing_2xco2 / lambda_val\n",
    "\n",
    "    return {\n",
    "        \"lambda\": lambda_val,\n",
    "        \"rf_4xco2\": forcing_4xco2,\n",
    "        \"rf_2xco2\": forcing_2xco2,\n",
    "        \"ecs\": ecs,\n",
    "    }"
   ]
  },
  {
   "cell_type": "code",
   "execution_count": 10,
   "id": "immediate-blind",
   "metadata": {},
   "outputs": [
    {
     "data": {
      "application/javascript": [
       "\n",
       "            setTimeout(function() {\n",
       "                var nbb_cell_id = 10;\n",
       "                var nbb_unformatted_code = \"def make_gregory_plot(\\n    gregory_regression_values, gregory_plot_df, tas_unit, flux_unit, ax, style=None\\n):\\n    scat_kwgs = dict(\\n        data=gregory_plot_df,\\n        y=\\\"rndt\\\",\\n        x=\\\"tas\\\",\\n        ax=ax,\\n    )\\n    if style is not None:\\n        scat_kwgs[\\\"style\\\"] = style\\n\\n    ax = sns.scatterplot(**scat_kwgs)\\n\\n    ax.set_xlim(xmin=0)\\n\\n    rf_4xco2 = gregory_regression_values[\\\"rf_4xco2\\\"]\\n    lambda_val = gregory_regression_values[\\\"lambda\\\"]\\n    #     print(ax.get_xlim())\\n\\n    x_vals = np.array([0, (rf_4xco2 / lambda_val).to(tas_unit).magnitude])\\n    ax.set_xlim(x_vals)\\n    print(x_vals)\\n    ax.plot(\\n        x_vals,\\n        (rf_4xco2 - (lambda_val * (x_vals * unit_registry(tas_unit))))\\n        .to(flux_unit)\\n        .magnitude,\\n        label=\\\"Gregory regression (\\\\n   ECS: {:.2f} \\\\n   lambda: {:.2f} \\\\n   rf 4xCO2: {:.2f}\\\\n)\\\".format(\\n            gregory_regression_values[\\\"ecs\\\"],\\n            lambda_val,\\n            gregory_regression_values[\\\"rf_4xco2\\\"],\\n        ),\\n        color=\\\"grey\\\",\\n    )\\n    ax.legend()\\n\\n    def _get_index_vals(idf, c):\\n        out = idf.index.get_level_values(c).unique()\\n        assert len(out) == 1, out\\n\\n        return out[0]\\n\\n    ax.set_title(\\n        \\\"{} {}\\\".format(\\n            _get_index_vals(gregory_plot_df, \\\"climate_model\\\"),\\n            _get_index_vals(gregory_plot_df, \\\"member_id\\\"),\\n        )\\n    )\\n\\n    ax.set_xlabel(f\\\"tas ({tas_unit})\\\")\\n    ax.set_ylabel(f\\\"rndt ({flux_unit})\\\")\\n    ax.axhline(0, color=\\\"gray\\\")\\n\\n    return ax\";\n",
       "                var nbb_formatted_code = \"def make_gregory_plot(\\n    gregory_regression_values, gregory_plot_df, tas_unit, flux_unit, ax, style=None\\n):\\n    scat_kwgs = dict(\\n        data=gregory_plot_df,\\n        y=\\\"rndt\\\",\\n        x=\\\"tas\\\",\\n        ax=ax,\\n    )\\n    if style is not None:\\n        scat_kwgs[\\\"style\\\"] = style\\n\\n    ax = sns.scatterplot(**scat_kwgs)\\n\\n    ax.set_xlim(xmin=0)\\n\\n    rf_4xco2 = gregory_regression_values[\\\"rf_4xco2\\\"]\\n    lambda_val = gregory_regression_values[\\\"lambda\\\"]\\n    #     print(ax.get_xlim())\\n\\n    x_vals = np.array([0, (rf_4xco2 / lambda_val).to(tas_unit).magnitude])\\n    ax.set_xlim(x_vals)\\n    print(x_vals)\\n    ax.plot(\\n        x_vals,\\n        (rf_4xco2 - (lambda_val * (x_vals * unit_registry(tas_unit))))\\n        .to(flux_unit)\\n        .magnitude,\\n        label=\\\"Gregory regression (\\\\n   ECS: {:.2f} \\\\n   lambda: {:.2f} \\\\n   rf 4xCO2: {:.2f}\\\\n)\\\".format(\\n            gregory_regression_values[\\\"ecs\\\"],\\n            lambda_val,\\n            gregory_regression_values[\\\"rf_4xco2\\\"],\\n        ),\\n        color=\\\"grey\\\",\\n    )\\n    ax.legend()\\n\\n    def _get_index_vals(idf, c):\\n        out = idf.index.get_level_values(c).unique()\\n        assert len(out) == 1, out\\n\\n        return out[0]\\n\\n    ax.set_title(\\n        \\\"{} {}\\\".format(\\n            _get_index_vals(gregory_plot_df, \\\"climate_model\\\"),\\n            _get_index_vals(gregory_plot_df, \\\"member_id\\\"),\\n        )\\n    )\\n\\n    ax.set_xlabel(f\\\"tas ({tas_unit})\\\")\\n    ax.set_ylabel(f\\\"rndt ({flux_unit})\\\")\\n    ax.axhline(0, color=\\\"gray\\\")\\n\\n    return ax\";\n",
       "                var nbb_cells = Jupyter.notebook.get_cells();\n",
       "                for (var i = 0; i < nbb_cells.length; ++i) {\n",
       "                    if (nbb_cells[i].input_prompt_number == nbb_cell_id) {\n",
       "                        if (nbb_cells[i].get_text() == nbb_unformatted_code) {\n",
       "                             nbb_cells[i].set_text(nbb_formatted_code);\n",
       "                        }\n",
       "                        break;\n",
       "                    }\n",
       "                }\n",
       "            }, 500);\n",
       "            "
      ],
      "text/plain": [
       "<IPython.core.display.Javascript object>"
      ]
     },
     "metadata": {},
     "output_type": "display_data"
    }
   ],
   "source": [
    "def make_gregory_plot(\n",
    "    gregory_regression_values, gregory_plot_df, tas_unit, flux_unit, ax, style=None\n",
    "):\n",
    "    scat_kwgs = dict(\n",
    "        data=gregory_plot_df,\n",
    "        y=\"rndt\",\n",
    "        x=\"tas\",\n",
    "        ax=ax,\n",
    "    )\n",
    "    if style is not None:\n",
    "        scat_kwgs[\"style\"] = style\n",
    "\n",
    "    ax = sns.scatterplot(**scat_kwgs)\n",
    "\n",
    "    ax.set_xlim(xmin=0)\n",
    "\n",
    "    rf_4xco2 = gregory_regression_values[\"rf_4xco2\"]\n",
    "    lambda_val = gregory_regression_values[\"lambda\"]\n",
    "    #     print(ax.get_xlim())\n",
    "\n",
    "    x_vals = np.array([0, (rf_4xco2 / lambda_val).to(tas_unit).magnitude])\n",
    "    ax.set_xlim(x_vals)\n",
    "    print(x_vals)\n",
    "    ax.plot(\n",
    "        x_vals,\n",
    "        (rf_4xco2 - (lambda_val * (x_vals * unit_registry(tas_unit))))\n",
    "        .to(flux_unit)\n",
    "        .magnitude,\n",
    "        label=\"Gregory regression (\\n   ECS: {:.2f} \\n   lambda: {:.2f} \\n   rf 4xCO2: {:.2f}\\n)\".format(\n",
    "            gregory_regression_values[\"ecs\"],\n",
    "            lambda_val,\n",
    "            gregory_regression_values[\"rf_4xco2\"],\n",
    "        ),\n",
    "        color=\"grey\",\n",
    "    )\n",
    "    ax.legend()\n",
    "\n",
    "    def _get_index_vals(idf, c):\n",
    "        out = idf.index.get_level_values(c).unique()\n",
    "        assert len(out) == 1, out\n",
    "\n",
    "        return out[0]\n",
    "\n",
    "    ax.set_title(\n",
    "        \"{} {}\".format(\n",
    "            _get_index_vals(gregory_plot_df, \"climate_model\"),\n",
    "            _get_index_vals(gregory_plot_df, \"member_id\"),\n",
    "        )\n",
    "    )\n",
    "\n",
    "    ax.set_xlabel(f\"tas ({tas_unit})\")\n",
    "    ax.set_ylabel(f\"rndt ({flux_unit})\")\n",
    "    ax.axhline(0, color=\"gray\")\n",
    "\n",
    "    return ax"
   ]
  },
  {
   "cell_type": "code",
   "execution_count": 11,
   "id": "sonic-seafood",
   "metadata": {},
   "outputs": [
    {
     "data": {
      "application/vnd.jupyter.widget-view+json": {
       "model_id": "5e2fac13f50d4f8a9e9f6371460ae4d2",
       "version_major": 2,
       "version_minor": 0
      },
      "text/plain": [
       "0it [00:00, ?it/s]"
      ]
     },
     "metadata": {},
     "output_type": "display_data"
    },
    {
     "name": "stdout",
     "output_type": "stream",
     "text": [
      "ACCESS-CM2 r1i1p1f1 is missing data for {'rsdt'}\n"
     ]
    },
    {
     "data": {
      "text/html": [
       "<div>\n",
       "<style scoped>\n",
       "    .dataframe tbody tr th:only-of-type {\n",
       "        vertical-align: middle;\n",
       "    }\n",
       "\n",
       "    .dataframe tbody tr th {\n",
       "        vertical-align: top;\n",
       "    }\n",
       "\n",
       "    .dataframe thead th {\n",
       "        text-align: right;\n",
       "    }\n",
       "</style>\n",
       "<table border=\"1\" class=\"dataframe\">\n",
       "  <thead>\n",
       "    <tr style=\"text-align: right;\">\n",
       "      <th></th>\n",
       "    </tr>\n",
       "  </thead>\n",
       "  <tbody>\n",
       "  </tbody>\n",
       "</table>\n",
       "</div>"
      ],
      "text/plain": [
       "Empty DataFrame\n",
       "Columns: []\n",
       "Index: []"
      ]
     },
     "metadata": {},
     "output_type": "display_data"
    },
    {
     "ename": "ValueError",
     "evalue": "No runs to append",
     "output_type": "error",
     "traceback": [
      "\u001b[0;31m---------------------------------------------------------------------------\u001b[0m",
      "\u001b[0;31mValueError\u001b[0m                                Traceback (most recent call last)",
      "\u001b[0;32m<ipython-input-11-2e6972ab0de7>\u001b[0m in \u001b[0;36m<module>\u001b[0;34m\u001b[0m\n\u001b[1;32m     59\u001b[0m \u001b[0mrf4xco2s\u001b[0m \u001b[0;34m=\u001b[0m \u001b[0mpd\u001b[0m\u001b[0;34m.\u001b[0m\u001b[0mDataFrame\u001b[0m\u001b[0;34m(\u001b[0m\u001b[0mrf4xco2s\u001b[0m\u001b[0;34m)\u001b[0m\u001b[0;34m\u001b[0m\u001b[0;34m\u001b[0m\u001b[0m\n\u001b[1;32m     60\u001b[0m \u001b[0mdisplay\u001b[0m\u001b[0;34m(\u001b[0m\u001b[0mrf4xco2s\u001b[0m\u001b[0;34m)\u001b[0m\u001b[0;34m\u001b[0m\u001b[0;34m\u001b[0m\u001b[0m\n\u001b[0;32m---> 61\u001b[0;31m \u001b[0mtas_timeseries\u001b[0m \u001b[0;34m=\u001b[0m \u001b[0mscmdata\u001b[0m\u001b[0;34m.\u001b[0m\u001b[0mrun_append\u001b[0m\u001b[0;34m(\u001b[0m\u001b[0mtas_timeseries\u001b[0m\u001b[0;34m)\u001b[0m\u001b[0;34m\u001b[0m\u001b[0;34m\u001b[0m\u001b[0m\n\u001b[0m\u001b[1;32m     62\u001b[0m \u001b[0mtas_timeseries\u001b[0m\u001b[0;34m\u001b[0m\u001b[0;34m\u001b[0m\u001b[0m\n",
      "\u001b[0;32m/data/ubuntu-znicholls/miniconda3/envs/cmip6-country-level-processing/lib/python3.8/site-packages/scmdata/run.py\u001b[0m in \u001b[0;36mrun_append\u001b[0;34m(runs, inplace, duplicate_msg, metadata)\u001b[0m\n\u001b[1;32m   2077\u001b[0m \u001b[0;34m\u001b[0m\u001b[0m\n\u001b[1;32m   2078\u001b[0m     \u001b[0;32mif\u001b[0m \u001b[0;32mnot\u001b[0m \u001b[0mlen\u001b[0m\u001b[0;34m(\u001b[0m\u001b[0mruns\u001b[0m\u001b[0;34m)\u001b[0m\u001b[0;34m:\u001b[0m\u001b[0;34m\u001b[0m\u001b[0;34m\u001b[0m\u001b[0m\n\u001b[0;32m-> 2079\u001b[0;31m         \u001b[0;32mraise\u001b[0m \u001b[0mValueError\u001b[0m\u001b[0;34m(\u001b[0m\u001b[0;34m\"No runs to append\"\u001b[0m\u001b[0;34m)\u001b[0m\u001b[0;34m\u001b[0m\u001b[0;34m\u001b[0m\u001b[0m\n\u001b[0m\u001b[1;32m   2080\u001b[0m \u001b[0;34m\u001b[0m\u001b[0m\n\u001b[1;32m   2081\u001b[0m     \u001b[0;32mif\u001b[0m \u001b[0minplace\u001b[0m\u001b[0;34m:\u001b[0m\u001b[0;34m\u001b[0m\u001b[0;34m\u001b[0m\u001b[0m\n",
      "\u001b[0;31mValueError\u001b[0m: No runs to append"
     ]
    },
    {
     "data": {
      "application/javascript": [
       "\n",
       "            setTimeout(function() {\n",
       "                var nbb_cell_id = 11;\n",
       "                var nbb_unformatted_code = \"tas_unit = \\\"K\\\"\\nflux_unit = \\\"W / m^2\\\"\\n\\nrf4xco2s = []\\ntas_timeseries = []\\nfor i, cm_em_scmrun in enumerate(\\n    tqdman.tqdm(all_dat.time_mean(\\\"AC\\\").groupby([\\\"climate_model\\\", \\\"member_id\\\"]))\\n):\\n    climate_model = cm_em_scmrun.get_unique_meta(\\\"climate_model\\\", True)\\n    member_id = cm_em_scmrun.get_unique_meta(\\\"member_id\\\", True)\\n\\n    missing_vars = {\\\"rlut\\\", \\\"rsdt\\\", \\\"rsut\\\", \\\"tas\\\"} - set(\\n        cm_em_scmrun.get_unique_meta(\\\"variable\\\")\\n    )\\n    if missing_vars:\\n        print(f\\\"{climate_model} {member_id} is missing data for {missing_vars}\\\")\\n        continue\\n\\n    gregory_plot_df = get_gregory_plot_df(\\n        cm_em_scmrun, tas_unit=tas_unit, flux_unit=flux_unit\\n    ).dropna()\\n    if gregory_plot_df.shape[0] < 100:\\n        print(f\\\"Insufficient data for {climate_model} {member_id}\\\")\\n        continue\\n\\n    gregory_regression_values = get_gregory_regression_values(\\n        gregory_plot_df, tas_unit, flux_unit\\n    )\\n    display(gregory_regression_values)\\n    rf4xco2s.append(\\n        {\\n            \\\"climate_model\\\": climate_model,\\n            \\\"member_id\\\": member_id,\\n            \\\"rf4xco2\\\": np.round(\\n                gregory_regression_values[\\\"rf_4xco2\\\"].to(flux_unit).magnitude, 3\\n            ),\\n            \\\"rf4xco2_unit\\\": flux_unit,\\n            \\\"ecs\\\": np.round(gregory_regression_values[\\\"ecs\\\"].to(tas_unit).magnitude, 3),\\n            \\\"ecs_unit\\\": tas_unit,\\n        }\\n    )\\n\\n    ax = plt.figure(figsize=(12, 6)).add_subplot(111)\\n    make_gregory_plot(\\n        gregory_regression_values, gregory_plot_df, tas_unit, flux_unit, ax, style=None\\n    )\\n\\n    plt.show()\\n\\n    tas_ts = cm_em_scmrun.filter(variable=\\\"tas\\\")\\n    ax = tas_ts.lineplot(time_axis=\\\"year\\\")\\n    ax.set_title(f\\\"{climate_model} {member_id}\\\")\\n    ax.set_ylim(ymin=0)\\n    plt.show()\\n\\n    tas_timeseries.append(tas_ts)\\n#     break\\n\\nrf4xco2s = pd.DataFrame(rf4xco2s)\\ndisplay(rf4xco2s)\\ntas_timeseries = scmdata.run_append(tas_timeseries)\\ntas_timeseries\";\n",
       "                var nbb_formatted_code = \"tas_unit = \\\"K\\\"\\nflux_unit = \\\"W / m^2\\\"\\n\\nrf4xco2s = []\\ntas_timeseries = []\\nfor i, cm_em_scmrun in enumerate(\\n    tqdman.tqdm(all_dat.time_mean(\\\"AC\\\").groupby([\\\"climate_model\\\", \\\"member_id\\\"]))\\n):\\n    climate_model = cm_em_scmrun.get_unique_meta(\\\"climate_model\\\", True)\\n    member_id = cm_em_scmrun.get_unique_meta(\\\"member_id\\\", True)\\n\\n    missing_vars = {\\\"rlut\\\", \\\"rsdt\\\", \\\"rsut\\\", \\\"tas\\\"} - set(\\n        cm_em_scmrun.get_unique_meta(\\\"variable\\\")\\n    )\\n    if missing_vars:\\n        print(f\\\"{climate_model} {member_id} is missing data for {missing_vars}\\\")\\n        continue\\n\\n    gregory_plot_df = get_gregory_plot_df(\\n        cm_em_scmrun, tas_unit=tas_unit, flux_unit=flux_unit\\n    ).dropna()\\n    if gregory_plot_df.shape[0] < 100:\\n        print(f\\\"Insufficient data for {climate_model} {member_id}\\\")\\n        continue\\n\\n    gregory_regression_values = get_gregory_regression_values(\\n        gregory_plot_df, tas_unit, flux_unit\\n    )\\n    display(gregory_regression_values)\\n    rf4xco2s.append(\\n        {\\n            \\\"climate_model\\\": climate_model,\\n            \\\"member_id\\\": member_id,\\n            \\\"rf4xco2\\\": np.round(\\n                gregory_regression_values[\\\"rf_4xco2\\\"].to(flux_unit).magnitude, 3\\n            ),\\n            \\\"rf4xco2_unit\\\": flux_unit,\\n            \\\"ecs\\\": np.round(gregory_regression_values[\\\"ecs\\\"].to(tas_unit).magnitude, 3),\\n            \\\"ecs_unit\\\": tas_unit,\\n        }\\n    )\\n\\n    ax = plt.figure(figsize=(12, 6)).add_subplot(111)\\n    make_gregory_plot(\\n        gregory_regression_values, gregory_plot_df, tas_unit, flux_unit, ax, style=None\\n    )\\n\\n    plt.show()\\n\\n    tas_ts = cm_em_scmrun.filter(variable=\\\"tas\\\")\\n    ax = tas_ts.lineplot(time_axis=\\\"year\\\")\\n    ax.set_title(f\\\"{climate_model} {member_id}\\\")\\n    ax.set_ylim(ymin=0)\\n    plt.show()\\n\\n    tas_timeseries.append(tas_ts)\\n#     break\\n\\nrf4xco2s = pd.DataFrame(rf4xco2s)\\ndisplay(rf4xco2s)\\ntas_timeseries = scmdata.run_append(tas_timeseries)\\ntas_timeseries\";\n",
       "                var nbb_cells = Jupyter.notebook.get_cells();\n",
       "                for (var i = 0; i < nbb_cells.length; ++i) {\n",
       "                    if (nbb_cells[i].input_prompt_number == nbb_cell_id) {\n",
       "                        if (nbb_cells[i].get_text() == nbb_unformatted_code) {\n",
       "                             nbb_cells[i].set_text(nbb_formatted_code);\n",
       "                        }\n",
       "                        break;\n",
       "                    }\n",
       "                }\n",
       "            }, 500);\n",
       "            "
      ],
      "text/plain": [
       "<IPython.core.display.Javascript object>"
      ]
     },
     "metadata": {},
     "output_type": "display_data"
    }
   ],
   "source": [
    "tas_unit = \"K\"\n",
    "flux_unit = \"W / m^2\"\n",
    "\n",
    "rf4xco2s = []\n",
    "tas_timeseries = []\n",
    "for i, cm_em_scmrun in enumerate(\n",
    "    tqdman.tqdm(all_dat.time_mean(\"AC\").groupby([\"climate_model\", \"member_id\"]))\n",
    "):\n",
    "    climate_model = cm_em_scmrun.get_unique_meta(\"climate_model\", True)\n",
    "    member_id = cm_em_scmrun.get_unique_meta(\"member_id\", True)\n",
    "\n",
    "    missing_vars = {\"rlut\", \"rsdt\", \"rsut\", \"tas\"} - set(\n",
    "        cm_em_scmrun.get_unique_meta(\"variable\")\n",
    "    )\n",
    "    if missing_vars:\n",
    "        print(f\"{climate_model} {member_id} is missing data for {missing_vars}\")\n",
    "        continue\n",
    "\n",
    "    gregory_plot_df = get_gregory_plot_df(\n",
    "        cm_em_scmrun, tas_unit=tas_unit, flux_unit=flux_unit\n",
    "    ).dropna()\n",
    "    if gregory_plot_df.shape[0] < 100:\n",
    "        print(f\"Insufficient data for {climate_model} {member_id}\")\n",
    "        continue\n",
    "\n",
    "    gregory_regression_values = get_gregory_regression_values(\n",
    "        gregory_plot_df, tas_unit, flux_unit\n",
    "    )\n",
    "    display(gregory_regression_values)\n",
    "    rf4xco2s.append(\n",
    "        {\n",
    "            \"climate_model\": climate_model,\n",
    "            \"member_id\": member_id,\n",
    "            \"rf4xco2\": np.round(\n",
    "                gregory_regression_values[\"rf_4xco2\"].to(flux_unit).magnitude, 3\n",
    "            ),\n",
    "            \"rf4xco2_unit\": flux_unit,\n",
    "            \"ecs\": np.round(gregory_regression_values[\"ecs\"].to(tas_unit).magnitude, 3),\n",
    "            \"ecs_unit\": tas_unit,\n",
    "        }\n",
    "    )\n",
    "\n",
    "    ax = plt.figure(figsize=(12, 6)).add_subplot(111)\n",
    "    make_gregory_plot(\n",
    "        gregory_regression_values, gregory_plot_df, tas_unit, flux_unit, ax, style=None\n",
    "    )\n",
    "\n",
    "    plt.show()\n",
    "\n",
    "    tas_ts = cm_em_scmrun.filter(variable=\"tas\")\n",
    "    ax = tas_ts.lineplot(time_axis=\"year\")\n",
    "    ax.set_title(f\"{climate_model} {member_id}\")\n",
    "    ax.set_ylim(ymin=0)\n",
    "    plt.show()\n",
    "\n",
    "    tas_timeseries.append(tas_ts)\n",
    "#     break\n",
    "\n",
    "rf4xco2s = pd.DataFrame(rf4xco2s)\n",
    "display(rf4xco2s)\n",
    "tas_timeseries = scmdata.run_append(tas_timeseries)\n",
    "tas_timeseries"
   ]
  },
  {
   "cell_type": "code",
   "execution_count": null,
   "id": "baking-martial",
   "metadata": {},
   "outputs": [],
   "source": [
    "cm_u = rf4xco2s[\"climate_model\"].unique()\n",
    "display(len(cm_u))\n",
    "sorted(cm_u)"
   ]
  },
  {
   "cell_type": "code",
   "execution_count": null,
   "id": "grave-output",
   "metadata": {},
   "outputs": [],
   "source": [
    "tas_timeseries.to_csv(\"{}-irf-calibration-data-tas-timeseries.csv\".format(ID))\n",
    "rf4xco2s.to_csv(\"{}-irf-calibration-data-rf4xco2.csv\".format(ID))"
   ]
  }
 ],
 "metadata": {
  "kernelspec": {
   "display_name": "Python 3",
   "language": "python",
   "name": "python3"
  },
  "language_info": {
   "codemirror_mode": {
    "name": "ipython",
    "version": 3
   },
   "file_extension": ".py",
   "mimetype": "text/x-python",
   "name": "python",
   "nbconvert_exporter": "python",
   "pygments_lexer": "ipython3",
   "version": "3.8.8"
  }
 },
 "nbformat": 4,
 "nbformat_minor": 5
}
