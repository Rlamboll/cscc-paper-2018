{
 "cells": [
  {
   "cell_type": "markdown",
   "id": "express-collectible",
   "metadata": {},
   "source": [
    "# Crunch abrupt-4xCO2 data"
   ]
  },
  {
   "cell_type": "code",
   "execution_count": null,
   "id": "statutory-terminology",
   "metadata": {},
   "outputs": [],
   "source": [
    "%load_ext nb_black"
   ]
  },
  {
   "cell_type": "code",
   "execution_count": null,
   "id": "gross-worry",
   "metadata": {},
   "outputs": [],
   "source": [
    "import logging\n",
    "import os\n",
    "\n",
    "import netcdf_scm\n",
    "import netcdf_scm.crunching\n",
    "\n",
    "import config\n",
    "import utils"
   ]
  },
  {
   "cell_type": "code",
   "execution_count": null,
   "id": "early-cylinder",
   "metadata": {},
   "outputs": [],
   "source": [
    "ID = config.ID"
   ]
  },
  {
   "cell_type": "code",
   "execution_count": null,
   "id": "overhead-peninsula",
   "metadata": {},
   "outputs": [],
   "source": [
    "SOURCE_FILTER = \".*ACCESS.*\"\n",
    "# SOURCE_FILTER = \".*\"\n",
    "SOURCE_FILTER"
   ]
  },
  {
   "cell_type": "code",
   "execution_count": null,
   "id": "rational-thompson",
   "metadata": {},
   "outputs": [],
   "source": [
    "with open(\"source_filter_abrupt-4xCO2.txt\", \"w\") as fh:\n",
    "    fh.write(SOURCE_FILTER)"
   ]
  },
  {
   "cell_type": "code",
   "execution_count": null,
   "id": "otherwise-meter",
   "metadata": {},
   "outputs": [],
   "source": [
    "NETCDF_SCM_LOGGER = logging.getLogger(\"netcdf_scm\")"
   ]
  },
  {
   "cell_type": "code",
   "execution_count": null,
   "id": "severe-offset",
   "metadata": {},
   "outputs": [],
   "source": [
    "STDERR_INFO_HANDLER = logging.StreamHandler()\n",
    "FORMATTER = logging.Formatter(\n",
    "    \"%(asctime)s %(name)s %(threadName)s - %(levelname)s:  %(message)s\",\n",
    "    datefmt=\"%Y-%m-%d %H:%M:%S\",\n",
    ")\n",
    "STDERR_INFO_HANDLER.setFormatter(FORMATTER)\n",
    "STDERR_INFO_HANDLER.setLevel(logging.INFO)\n",
    "\n",
    "NETCDF_SCM_LOGGER.setLevel(logging.DEBUG)\n",
    "NETCDF_SCM_LOGGER.addHandler(STDERR_INFO_HANDLER)"
   ]
  },
  {
   "cell_type": "code",
   "execution_count": null,
   "id": "olympic-sphere",
   "metadata": {},
   "outputs": [],
   "source": [
    "NETCDF_SCM_LOGGER.info(\"SOURCE_FILTER: %s\", SOURCE_FILTER)"
   ]
  },
  {
   "cell_type": "code",
   "execution_count": null,
   "id": "cognitive-password",
   "metadata": {},
   "outputs": [],
   "source": [
    "netcdf_scm.__version__"
   ]
  },
  {
   "cell_type": "code",
   "execution_count": null,
   "id": "sustained-robertson",
   "metadata": {},
   "outputs": [],
   "source": [
    "!find /data/cmip6/CMIP6/CMIP -mindepth 2 -maxdepth 2 -type d -exec sh -c 'x={};echo $(basename ${x})' \\; | sort"
   ]
  },
  {
   "cell_type": "markdown",
   "id": "increasing-worker",
   "metadata": {},
   "source": [
    "## Setup"
   ]
  },
  {
   "cell_type": "code",
   "execution_count": null,
   "id": "mineral-compound",
   "metadata": {},
   "outputs": [],
   "source": [
    "CRUNCH_DIR = \"./{}-irf-calibration-crunch\".format(ID)\n",
    "!mkdir -p {CRUNCH_DIR}\n",
    "CRUNCH_DIR"
   ]
  },
  {
   "cell_type": "markdown",
   "id": "novel-welsh",
   "metadata": {},
   "source": [
    "## Define custom masks"
   ]
  },
  {
   "cell_type": "code",
   "execution_count": null,
   "id": "known-appointment",
   "metadata": {},
   "outputs": [],
   "source": [
    "regions = utils.get_regions()\n",
    "display(len(regions.split(\",\")))\n",
    "regions"
   ]
  },
  {
   "cell_type": "code",
   "execution_count": null,
   "id": "popular-swiss",
   "metadata": {},
   "outputs": [],
   "source": [
    "population_2020 = utils.load_pop_2020()"
   ]
  },
  {
   "cell_type": "code",
   "execution_count": null,
   "id": "arranged-monitor",
   "metadata": {},
   "outputs": [],
   "source": [
    "population_2020.plot()"
   ]
  },
  {
   "cell_type": "code",
   "execution_count": null,
   "id": "roman-audit",
   "metadata": {},
   "outputs": [],
   "source": [
    "population_2020.sel(\n",
    "    latitude=range(0, 50 + 1), longitude=range(70, 130 + 1), method=\"nearest\"\n",
    ").plot()"
   ]
  },
  {
   "cell_type": "code",
   "execution_count": null,
   "id": "boolean-knowing",
   "metadata": {},
   "outputs": [],
   "source": [
    "population_2020_iris = utils.get_pop_2020_iris(population_2020)"
   ]
  },
  {
   "cell_type": "code",
   "execution_count": null,
   "id": "described-relation",
   "metadata": {},
   "outputs": [],
   "source": [
    "CRUNCH_NEAREST_REGION = True\n",
    "CRUNCH_POPULATION_WEIGHTED = True\n",
    "\n",
    "regions_incl_pop = []\n",
    "for region in regions.split(\",\"):\n",
    "    if CRUNCH_NEAREST_REGION:\n",
    "        region_nearest_resort = \"Nearest {}\".format(region)\n",
    "        netcdf_scm.weights.WEIGHTS_FUNCTIONS_WITHOUT_AREA_WEIGHTING[\n",
    "            region_nearest_resort\n",
    "        ] = utils.get_natural_earth_50m_scale_nearest_last_resort_region_weights(\n",
    "            region_nearest_resort, population_2020_iris\n",
    "        )\n",
    "        regions_incl_pop.append(region_nearest_resort)\n",
    "\n",
    "    if CRUNCH_POPULATION_WEIGHTED:\n",
    "        region_incl_pop = \"Popn weighted {}\".format(region)\n",
    "        netcdf_scm.weights.WEIGHTS_FUNCTIONS_WITHOUT_AREA_WEIGHTING[\n",
    "            region_incl_pop\n",
    "        ] = utils.get_natural_earth_50m_scale_popn_weighted_region_weights(\n",
    "            region, population_2020_iris\n",
    "        )\n",
    "        regions_incl_pop.append(region_incl_pop)\n",
    "\n",
    "regions_incl_pop = \",\".join(regions_incl_pop)\n",
    "regions_incl_pop"
   ]
  },
  {
   "cell_type": "markdown",
   "id": "funded-makeup",
   "metadata": {},
   "source": [
    "## Run"
   ]
  },
  {
   "cell_type": "code",
   "execution_count": null,
   "id": "thorough-handy",
   "metadata": {},
   "outputs": [],
   "source": [
    "mips = [\"CMIP\"]\n",
    "\n",
    "scenarios = [\n",
    "    \"abrupt-4xCO2\",\n",
    "    \"piControl\"\n",
    "]\n",
    "members = [\n",
    "    \"r1i1p1f1\",\n",
    "        \"r2i1p1f1\",\n",
    "        \"r3i1p1f1\",\n",
    "        \"r1i1p1f2\",\n",
    "        \"r1i1p2f1\",\n",
    "        \"r1i1p1f3\",\n",
    "        \"r4i1p1f1\",\n",
    "        \"r10i1p1f1\",\n",
    "        \"r11i1p1f1\",\n",
    "]\n",
    "variables = [\"tas\", \"rsdt\", \"rlut\", \"rsut\"]\n",
    "tables = [\"Amon\"]\n",
    "\n",
    "\n",
    "def get_regexp(inl, trail_slash=True):\n",
    "    if trail_slash:\n",
    "        return \"({})\".format(\n",
    "            \"|\".join([\"{}{}{}\".format(os.sep, s, os.sep) for s in inl])\n",
    "        )\n",
    "\n",
    "    return \"({})\".format(\"|\".join([\"{}{}\".format(os.sep, s) for s in inl]))\n",
    "\n",
    "\n",
    "mip_regexp = get_regexp(mips)\n",
    "scenarios_regexp = get_regexp(scenarios, trail_slash=False)\n",
    "members_regexp = get_regexp(members, trail_slash=False)\n",
    "variables_regexp = get_regexp(variables)\n",
    "tables_regexp = get_regexp(tables, trail_slash=False)\n",
    "\n",
    "regexp = \".*{}.*{}.*{}.*{}.*{}.*{}.*\".format(\n",
    "    mip_regexp,\n",
    "    SOURCE_FILTER,\n",
    "    scenarios_regexp,\n",
    "    members_regexp,\n",
    "    tables_regexp,\n",
    "    variables_regexp,\n",
    ")\n",
    "display(regexp)\n",
    "\n",
    "netcdf_scm.crunching._crunch_data(\n",
    "    \"/data/cmip6/CMIP6/CMIP\",\n",
    "    CRUNCH_DIR,\n",
    "    \"Zebedee Nicholls <zebedee.nicholls@climate-energy-college.org>\",\n",
    "    drs=\"CMIP6Output\",\n",
    "    regexp=regexp,\n",
    "    regions=regions_incl_pop,\n",
    "    data_sub_dir=\"netcdf-scm-crunched\",\n",
    "    force=False,\n",
    "    small_number_workers=20,\n",
    "    small_threshold=100,\n",
    "    medium_number_workers=5,\n",
    "    medium_threshold=400,\n",
    "    force_lazy_threshold=600,\n",
    "    cell_weights=None,\n",
    ")"
   ]
  }
 ],
 "metadata": {
  "kernelspec": {
   "display_name": "Python 3",
   "language": "python",
   "name": "python3"
  },
  "language_info": {
   "codemirror_mode": {
    "name": "ipython",
    "version": 3
   },
   "file_extension": ".py",
   "mimetype": "text/x-python",
   "name": "python",
   "nbconvert_exporter": "python",
   "pygments_lexer": "ipython3",
   "version": "3.8.8"
  }
 },
 "nbformat": 4,
 "nbformat_minor": 5
}
