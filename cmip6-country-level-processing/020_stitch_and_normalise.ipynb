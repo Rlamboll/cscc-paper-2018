{
 "cells": [
  {
   "cell_type": "markdown",
   "id": "inclusive-israeli",
   "metadata": {},
   "source": [
    "# Stitch and normalise"
   ]
  },
  {
   "cell_type": "code",
   "execution_count": 1,
   "id": "dried-dover",
   "metadata": {},
   "outputs": [
    {
     "data": {
      "application/javascript": [
       "\n",
       "            setTimeout(function() {\n",
       "                var nbb_cell_id = 1;\n",
       "                var nbb_unformatted_code = \"%load_ext nb_black\";\n",
       "                var nbb_formatted_code = \"%load_ext nb_black\";\n",
       "                var nbb_cells = Jupyter.notebook.get_cells();\n",
       "                for (var i = 0; i < nbb_cells.length; ++i) {\n",
       "                    if (nbb_cells[i].input_prompt_number == nbb_cell_id) {\n",
       "                        if (nbb_cells[i].get_text() == nbb_unformatted_code) {\n",
       "                             nbb_cells[i].set_text(nbb_formatted_code);\n",
       "                        }\n",
       "                        break;\n",
       "                    }\n",
       "                }\n",
       "            }, 500);\n",
       "            "
      ],
      "text/plain": [
       "<IPython.core.display.Javascript object>"
      ]
     },
     "metadata": {},
     "output_type": "display_data"
    }
   ],
   "source": [
    "%load_ext nb_black"
   ]
  },
  {
   "cell_type": "code",
   "execution_count": 2,
   "id": "specific-connectivity",
   "metadata": {},
   "outputs": [
    {
     "name": "stderr",
     "output_type": "stream",
     "text": [
      "/data/ubuntu-znicholls/miniconda3/envs/cmip6-country-level-processing/lib/python3.8/site-packages/netcdf_scm/retractions.py:14: TqdmExperimentalWarning: Using `tqdm.autonotebook.tqdm` in notebook mode. Use `tqdm.tqdm` instead to force console mode (e.g. in jupyter console)\n",
      "  import tqdm.autonotebook as tqdman\n"
     ]
    },
    {
     "data": {
      "application/javascript": [
       "\n",
       "            setTimeout(function() {\n",
       "                var nbb_cell_id = 2;\n",
       "                var nbb_unformatted_code = \"import glob\\nimport os\\nimport os.path\\nimport re\\nimport traceback\\nimport warnings\\nfrom concurrent.futures import as_completed, ProcessPoolExecutor\\nfrom multiprocessing import Pool\\nfrom time import sleep\\n\\nimport netcdf_scm.retractions\\nimport netcdf_scm.stitching\\nimport tqdm.autonotebook as tqdman\";\n",
       "                var nbb_formatted_code = \"import glob\\nimport os\\nimport os.path\\nimport re\\nimport traceback\\nimport warnings\\nfrom concurrent.futures import as_completed, ProcessPoolExecutor\\nfrom multiprocessing import Pool\\nfrom time import sleep\\n\\nimport netcdf_scm.retractions\\nimport netcdf_scm.stitching\\nimport tqdm.autonotebook as tqdman\";\n",
       "                var nbb_cells = Jupyter.notebook.get_cells();\n",
       "                for (var i = 0; i < nbb_cells.length; ++i) {\n",
       "                    if (nbb_cells[i].input_prompt_number == nbb_cell_id) {\n",
       "                        if (nbb_cells[i].get_text() == nbb_unformatted_code) {\n",
       "                             nbb_cells[i].set_text(nbb_formatted_code);\n",
       "                        }\n",
       "                        break;\n",
       "                    }\n",
       "                }\n",
       "            }, 500);\n",
       "            "
      ],
      "text/plain": [
       "<IPython.core.display.Javascript object>"
      ]
     },
     "metadata": {},
     "output_type": "display_data"
    }
   ],
   "source": [
    "import glob\n",
    "import os\n",
    "import os.path\n",
    "import re\n",
    "import traceback\n",
    "import warnings\n",
    "from concurrent.futures import as_completed, ProcessPoolExecutor\n",
    "from multiprocessing import Pool\n",
    "from time import sleep\n",
    "\n",
    "import netcdf_scm.retractions\n",
    "import netcdf_scm.stitching\n",
    "import tqdm.autonotebook as tqdman"
   ]
  },
  {
   "cell_type": "code",
   "execution_count": 3,
   "id": "secondary-peninsula",
   "metadata": {},
   "outputs": [
    {
     "data": {
      "application/javascript": [
       "\n",
       "            setTimeout(function() {\n",
       "                var nbb_cell_id = 3;\n",
       "                var nbb_unformatted_code = \"RUN_CHECK = False\";\n",
       "                var nbb_formatted_code = \"RUN_CHECK = False\";\n",
       "                var nbb_cells = Jupyter.notebook.get_cells();\n",
       "                for (var i = 0; i < nbb_cells.length; ++i) {\n",
       "                    if (nbb_cells[i].input_prompt_number == nbb_cell_id) {\n",
       "                        if (nbb_cells[i].get_text() == nbb_unformatted_code) {\n",
       "                             nbb_cells[i].set_text(nbb_formatted_code);\n",
       "                        }\n",
       "                        break;\n",
       "                    }\n",
       "                }\n",
       "            }, 500);\n",
       "            "
      ],
      "text/plain": [
       "<IPython.core.display.Javascript object>"
      ]
     },
     "metadata": {},
     "output_type": "display_data"
    }
   ],
   "source": [
    "RUN_CHECK = False"
   ]
  },
  {
   "cell_type": "code",
   "execution_count": 4,
   "id": "attached-cookie",
   "metadata": {},
   "outputs": [
    {
     "data": {
      "application/javascript": [
       "\n",
       "            setTimeout(function() {\n",
       "                var nbb_cell_id = 4;\n",
       "                var nbb_unformatted_code = \"CRUNCH_DIR = \\\"./country-crunch\\\"\\nSTITCHED_NORMALISED_DIR = \\\"./country-crunch-stitched-normalised\\\"\\nMAX_WORKERS = 60\";\n",
       "                var nbb_formatted_code = \"CRUNCH_DIR = \\\"./country-crunch\\\"\\nSTITCHED_NORMALISED_DIR = \\\"./country-crunch-stitched-normalised\\\"\\nMAX_WORKERS = 60\";\n",
       "                var nbb_cells = Jupyter.notebook.get_cells();\n",
       "                for (var i = 0; i < nbb_cells.length; ++i) {\n",
       "                    if (nbb_cells[i].input_prompt_number == nbb_cell_id) {\n",
       "                        if (nbb_cells[i].get_text() == nbb_unformatted_code) {\n",
       "                             nbb_cells[i].set_text(nbb_formatted_code);\n",
       "                        }\n",
       "                        break;\n",
       "                    }\n",
       "                }\n",
       "            }, 500);\n",
       "            "
      ],
      "text/plain": [
       "<IPython.core.display.Javascript object>"
      ]
     },
     "metadata": {},
     "output_type": "display_data"
    }
   ],
   "source": [
    "CRUNCH_DIR = \"./country-crunch\"\n",
    "STITCHED_NORMALISED_DIR = \"./country-crunch-stitched-normalised\"\n",
    "MAX_WORKERS = 60"
   ]
  },
  {
   "cell_type": "code",
   "execution_count": 5,
   "id": "editorial-automation",
   "metadata": {},
   "outputs": [
    {
     "data": {
      "application/javascript": [
       "\n",
       "            setTimeout(function() {\n",
       "                var nbb_cell_id = 5;\n",
       "                var nbb_unformatted_code = \"!mkdir -p {STITCHED_NORMALISED_DIR}\";\n",
       "                var nbb_formatted_code = \"!mkdir -p {STITCHED_NORMALISED_DIR}\";\n",
       "                var nbb_cells = Jupyter.notebook.get_cells();\n",
       "                for (var i = 0; i < nbb_cells.length; ++i) {\n",
       "                    if (nbb_cells[i].input_prompt_number == nbb_cell_id) {\n",
       "                        if (nbb_cells[i].get_text() == nbb_unformatted_code) {\n",
       "                             nbb_cells[i].set_text(nbb_formatted_code);\n",
       "                        }\n",
       "                        break;\n",
       "                    }\n",
       "                }\n",
       "            }, 500);\n",
       "            "
      ],
      "text/plain": [
       "<IPython.core.display.Javascript object>"
      ]
     },
     "metadata": {},
     "output_type": "display_data"
    }
   ],
   "source": [
    "!mkdir -p {STITCHED_NORMALISED_DIR}"
   ]
  },
  {
   "cell_type": "code",
   "execution_count": 6,
   "id": "several-waterproof",
   "metadata": {},
   "outputs": [
    {
     "data": {
      "text/plain": [
       "311"
      ]
     },
     "metadata": {},
     "output_type": "display_data"
    },
    {
     "data": {
      "text/plain": [
       "['./country-crunch/netcdf-scm-crunched/CMIP6/ScenarioMIP/BCC/BCC-CSM2-MR/ssp370/r1i1p1f1/Amon/tas/gn/v20190314/netcdf-scm_tas_Amon_BCC-CSM2-MR_ssp370_r1i1p1f1_gn_201501-210012.nc',\n",
       " './country-crunch/netcdf-scm-crunched/CMIP6/ScenarioMIP/BCC/BCC-CSM2-MR/ssp585/r1i1p1f1/Amon/tas/gn/v20190314/netcdf-scm_tas_Amon_BCC-CSM2-MR_ssp585_r1i1p1f1_gn_201501-210012.nc']"
      ]
     },
     "execution_count": 6,
     "metadata": {},
     "output_type": "execute_result"
    },
    {
     "data": {
      "application/javascript": [
       "\n",
       "            setTimeout(function() {\n",
       "                var nbb_cell_id = 6;\n",
       "                var nbb_unformatted_code = \"ssp_files = [\\n    f\\n    for f in glob.glob(os.path.join(CRUNCH_DIR, \\\"**\\\", \\\"*.nc\\\"), recursive=True)\\n    if \\\"ssp\\\" in f and \\\"ssp245-\\\" not in f\\n]\\n# ssp_files = [f for f in glob.glob(os.path.join(CRUNCH_DIR, \\\"**\\\", \\\"*.nc\\\"), recursive=True) if \\\"ssp\\\" in f]\\ndisplay(len(ssp_files))\\nssp_files[:2]\";\n",
       "                var nbb_formatted_code = \"ssp_files = [\\n    f\\n    for f in glob.glob(os.path.join(CRUNCH_DIR, \\\"**\\\", \\\"*.nc\\\"), recursive=True)\\n    if \\\"ssp\\\" in f and \\\"ssp245-\\\" not in f\\n]\\n# ssp_files = [f for f in glob.glob(os.path.join(CRUNCH_DIR, \\\"**\\\", \\\"*.nc\\\"), recursive=True) if \\\"ssp\\\" in f]\\ndisplay(len(ssp_files))\\nssp_files[:2]\";\n",
       "                var nbb_cells = Jupyter.notebook.get_cells();\n",
       "                for (var i = 0; i < nbb_cells.length; ++i) {\n",
       "                    if (nbb_cells[i].input_prompt_number == nbb_cell_id) {\n",
       "                        if (nbb_cells[i].get_text() == nbb_unformatted_code) {\n",
       "                             nbb_cells[i].set_text(nbb_formatted_code);\n",
       "                        }\n",
       "                        break;\n",
       "                    }\n",
       "                }\n",
       "            }, 500);\n",
       "            "
      ],
      "text/plain": [
       "<IPython.core.display.Javascript object>"
      ]
     },
     "metadata": {},
     "output_type": "display_data"
    }
   ],
   "source": [
    "ssp_files = [\n",
    "    f\n",
    "    for f in glob.glob(os.path.join(CRUNCH_DIR, \"**\", \"*.nc\"), recursive=True)\n",
    "    if \"ssp\" in f and \"ssp245-\" not in f\n",
    "]\n",
    "# ssp_files = [f for f in glob.glob(os.path.join(CRUNCH_DIR, \"**\", \"*.nc\"), recursive=True) if \"ssp\" in f]\n",
    "display(len(ssp_files))\n",
    "ssp_files[:2]"
   ]
  },
  {
   "cell_type": "code",
   "execution_count": 7,
   "id": "guided-moscow",
   "metadata": {},
   "outputs": [
    {
     "data": {
      "text/plain": [
       "'./country-crunch/netcdf-scm-crunched/CMIP6/AerChemMIP/MIROC/MIROC6/ssp370-lowNTCF/r1i1p1f1/Amon/tas/gn/v20190807/netcdf-scm_tas_Amon_MIROC6_ssp370-lowNTCF_r1i1p1f1_gn_201501-205512.nc'"
      ]
     },
     "execution_count": 7,
     "metadata": {},
     "output_type": "execute_result"
    },
    {
     "data": {
      "application/javascript": [
       "\n",
       "            setTimeout(function() {\n",
       "                var nbb_cell_id = 7;\n",
       "                var nbb_unformatted_code = \"ssp_files[-1]\";\n",
       "                var nbb_formatted_code = \"ssp_files[-1]\";\n",
       "                var nbb_cells = Jupyter.notebook.get_cells();\n",
       "                for (var i = 0; i < nbb_cells.length; ++i) {\n",
       "                    if (nbb_cells[i].input_prompt_number == nbb_cell_id) {\n",
       "                        if (nbb_cells[i].get_text() == nbb_unformatted_code) {\n",
       "                             nbb_cells[i].set_text(nbb_formatted_code);\n",
       "                        }\n",
       "                        break;\n",
       "                    }\n",
       "                }\n",
       "            }, 500);\n",
       "            "
      ],
      "text/plain": [
       "<IPython.core.display.Javascript object>"
      ]
     },
     "metadata": {},
     "output_type": "display_data"
    }
   ],
   "source": [
    "ssp_files[-1]"
   ]
  },
  {
   "cell_type": "code",
   "execution_count": 8,
   "id": "parental-conservative",
   "metadata": {},
   "outputs": [
    {
     "data": {
      "text/plain": [
       "42"
      ]
     },
     "metadata": {},
     "output_type": "display_data"
    },
    {
     "data": {
      "text/plain": [
       "{'ACCESS-CM2',\n",
       " 'ACCESS-ESM1-5',\n",
       " 'AWI-CM-1-1-MR',\n",
       " 'BCC-CSM2-MR',\n",
       " 'BCC-ESM1',\n",
       " 'CAMS-CSM1-0',\n",
       " 'CESM2',\n",
       " 'CESM2-WACCM',\n",
       " 'CIESM',\n",
       " 'CMCC-CM2-SR5',\n",
       " 'CMCC-ESM2',\n",
       " 'CNRM-CM6-1',\n",
       " 'CNRM-CM6-1-HR',\n",
       " 'CNRM-ESM2-1',\n",
       " 'CanESM5',\n",
       " 'CanESM5-CanOE',\n",
       " 'EC-Earth3',\n",
       " 'EC-Earth3-CC',\n",
       " 'EC-Earth3-Veg',\n",
       " 'EC-Earth3-Veg-LR',\n",
       " 'FGOALS-f3-L',\n",
       " 'FGOALS-g3',\n",
       " 'GISS-E2-1-G',\n",
       " 'HadGEM3-GC31-LL',\n",
       " 'HadGEM3-GC31-MM',\n",
       " 'IITM-ESM',\n",
       " 'INM-CM4-8',\n",
       " 'INM-CM5-0',\n",
       " 'IPSL-CM6A-LR',\n",
       " 'KACE-1-0-G',\n",
       " 'KIOST-ESM',\n",
       " 'MIROC-ES2L',\n",
       " 'MIROC6',\n",
       " 'MPI-ESM-1-2-HAM',\n",
       " 'MPI-ESM1-2-HR',\n",
       " 'MPI-ESM1-2-LR',\n",
       " 'MRI-ESM2-0',\n",
       " 'NESM3',\n",
       " 'NorESM2-LM',\n",
       " 'NorESM2-MM',\n",
       " 'TaiESM1',\n",
       " 'UKESM1-0-LL'}"
      ]
     },
     "execution_count": 8,
     "metadata": {},
     "output_type": "execute_result"
    },
    {
     "data": {
      "application/javascript": [
       "\n",
       "            setTimeout(function() {\n",
       "                var nbb_cell_id = 8;\n",
       "                var nbb_unformatted_code = \"cms = set([f.split(os.sep)[6] for f in ssp_files])\\ndisplay(len(cms))\\ncms\";\n",
       "                var nbb_formatted_code = \"cms = set([f.split(os.sep)[6] for f in ssp_files])\\ndisplay(len(cms))\\ncms\";\n",
       "                var nbb_cells = Jupyter.notebook.get_cells();\n",
       "                for (var i = 0; i < nbb_cells.length; ++i) {\n",
       "                    if (nbb_cells[i].input_prompt_number == nbb_cell_id) {\n",
       "                        if (nbb_cells[i].get_text() == nbb_unformatted_code) {\n",
       "                             nbb_cells[i].set_text(nbb_formatted_code);\n",
       "                        }\n",
       "                        break;\n",
       "                    }\n",
       "                }\n",
       "            }, 500);\n",
       "            "
      ],
      "text/plain": [
       "<IPython.core.display.Javascript object>"
      ]
     },
     "metadata": {},
     "output_type": "display_data"
    }
   ],
   "source": [
    "cms = set([f.split(os.sep)[6] for f in ssp_files])\n",
    "display(len(cms))\n",
    "cms"
   ]
  },
  {
   "cell_type": "code",
   "execution_count": 9,
   "id": "toxic-freeware",
   "metadata": {},
   "outputs": [
    {
     "data": {
      "application/vnd.jupyter.widget-view+json": {
       "model_id": "2c7a332b1d6349f381bb8be59cadb6b0",
       "version_major": 2,
       "version_minor": 0
      },
      "text/plain": [
       "Querying ESGF (submitting jobs):   0%|          | 0/16 [00:00<?, ?it/s]"
      ]
     },
     "metadata": {},
     "output_type": "display_data"
    },
    {
     "data": {
      "application/vnd.jupyter.widget-view+json": {
       "model_id": "f79177e3f6ac4f3587433b80174da8bd",
       "version_major": 2,
       "version_minor": 0
      },
      "text/plain": [
       "Retrieving results from ESGF jobs:   0%|          | 0/16 [00:00<?, ?it/s]"
      ]
     },
     "metadata": {},
     "output_type": "display_data"
    },
    {
     "data": {
      "text/plain": [
       "['./country-crunch/netcdf-scm-crunched/CMIP6/ScenarioMIP/EC-Earth-Consortium/EC-Earth3/ssp370/r1i1p1f1/Amon/tas/gr/v20190927/netcdf-scm_tas_Amon_EC-Earth3_ssp370_r1i1p1f1_gr_201501-210012.nc',\n",
       " './country-crunch/netcdf-scm-crunched/CMIP6/ScenarioMIP/IPSL/IPSL-CM6A-LR/ssp585/r1i1p1f1/Amon/tas/gr/v20190119/netcdf-scm_tas_Amon_IPSL-CM6A-LR_ssp585_r1i1p1f1_gr_201501-210012.nc',\n",
       " './country-crunch/netcdf-scm-crunched/CMIP6/ScenarioMIP/IPSL/IPSL-CM6A-LR/ssp126/r1i1p1f1/Amon/tas/gr/v20190121/netcdf-scm_tas_Amon_IPSL-CM6A-LR_ssp126_r1i1p1f1_gr_201501-210012.nc',\n",
       " './country-crunch/netcdf-scm-crunched/CMIP6/ScenarioMIP/EC-Earth-Consortium/EC-Earth3/ssp126/r1i1p1f1/Amon/tas/gr/v20190926/netcdf-scm_tas_Amon_EC-Earth3_ssp126_r1i1p1f1_gr_201501-210012.nc',\n",
       " './country-crunch/netcdf-scm-crunched/CMIP6/ScenarioMIP/EC-Earth-Consortium/EC-Earth3/ssp245/r1i1p1f1/Amon/tas/gr/v20190927/netcdf-scm_tas_Amon_EC-Earth3_ssp245_r1i1p1f1_gr_201501-210012.nc',\n",
       " './country-crunch/netcdf-scm-crunched/CMIP6/ScenarioMIP/EC-Earth-Consortium/EC-Earth3/ssp585/r1i1p1f1/Amon/tas/gr/v20190928/netcdf-scm_tas_Amon_EC-Earth3_ssp585_r1i1p1f1_gr_201501-210012.nc',\n",
       " './country-crunch/netcdf-scm-crunched/CMIP6/ScenarioMIP/EC-Earth-Consortium/EC-Earth3-Veg/ssp126/r1i1p1f1/Amon/tas/gr/v20190629/netcdf-scm_tas_Amon_EC-Earth3-Veg_ssp126_r1i1p1f1_gr_201501-210012.nc',\n",
       " './country-crunch/netcdf-scm-crunched/CMIP6/ScenarioMIP/EC-Earth-Consortium/EC-Earth3-Veg/ssp585/r1i1p1f1/Amon/tas/gr/v20190629/netcdf-scm_tas_Amon_EC-Earth3-Veg_ssp585_r1i1p1f1_gr_201501-210012.nc',\n",
       " './country-crunch/netcdf-scm-crunched/CMIP6/ScenarioMIP/EC-Earth-Consortium/EC-Earth3-Veg/ssp370/r1i1p1f1/Amon/tas/gr/v20190629/netcdf-scm_tas_Amon_EC-Earth3-Veg_ssp370_r1i1p1f1_gr_201501-210012.nc',\n",
       " './country-crunch/netcdf-scm-crunched/CMIP6/ScenarioMIP/EC-Earth-Consortium/EC-Earth3-Veg/ssp126/r2i1p1f1/Amon/tas/gr/v20190925/netcdf-scm_tas_Amon_EC-Earth3-Veg_ssp126_r2i1p1f1_gr_201501-210012.nc',\n",
       " './country-crunch/netcdf-scm-crunched/CMIP6/ScenarioMIP/EC-Earth-Consortium/EC-Earth3-Veg/ssp370/r2i1p1f1/Amon/tas/gr/v20190925/netcdf-scm_tas_Amon_EC-Earth3-Veg_ssp370_r2i1p1f1_gr_201501-210012.nc',\n",
       " './country-crunch/netcdf-scm-crunched/CMIP6/ScenarioMIP/EC-Earth-Consortium/EC-Earth3-Veg/ssp585/r2i1p1f1/Amon/tas/gr/v20190925/netcdf-scm_tas_Amon_EC-Earth3-Veg_ssp585_r2i1p1f1_gr_201501-210012.nc',\n",
       " './country-crunch/netcdf-scm-crunched/CMIP6/ScenarioMIP/EC-Earth-Consortium/EC-Earth3-Veg/ssp245/r2i1p1f1/Amon/tas/gr/v20190925/netcdf-scm_tas_Amon_EC-Earth3-Veg_ssp245_r2i1p1f1_gr_201501-210012.nc',\n",
       " './country-crunch/netcdf-scm-crunched/CMIP6/ScenarioMIP/EC-Earth-Consortium/EC-Earth3-Veg/ssp245/r1i1p1f1/Amon/tas/gr/v20190629/netcdf-scm_tas_Amon_EC-Earth3-Veg_ssp245_r1i1p1f1_gr_201501-210012.nc',\n",
       " './country-crunch/netcdf-scm-crunched/CMIP6/ScenarioMIP/EC-Earth-Consortium/EC-Earth3-Veg/ssp119/r1i1p1f1/Amon/tas/gr/v20190711/netcdf-scm_tas_Amon_EC-Earth3-Veg_ssp119_r1i1p1f1_gr_201501-210012.nc',\n",
       " './country-crunch/netcdf-scm-crunched/CMIP6/ScenarioMIP/NCAR/CESM2/ssp126/r1i1p1f1/Amon/tas/gn/v20190730/netcdf-scm_tas_Amon_CESM2_ssp126_r1i1p1f1_gn_201501-210012.nc',\n",
       " './country-crunch/netcdf-scm-crunched/CMIP6/ScenarioMIP/NCAR/CESM2/ssp126/r2i1p1f1/Amon/tas/gn/v20191106/netcdf-scm_tas_Amon_CESM2_ssp126_r2i1p1f1_gn_201501-210012.nc',\n",
       " './country-crunch/netcdf-scm-crunched/CMIP6/ScenarioMIP/NCAR/CESM2/ssp585/r2i1p1f1/Amon/tas/gn/v20190730/netcdf-scm_tas_Amon_CESM2_ssp585_r2i1p1f1_gn_201501-210012.nc',\n",
       " './country-crunch/netcdf-scm-crunched/CMIP6/ScenarioMIP/NCAR/CESM2/ssp370/r1i1p1f1/Amon/tas/gn/v20190730/netcdf-scm_tas_Amon_CESM2_ssp370_r1i1p1f1_gn_201501-210012.nc',\n",
       " './country-crunch/netcdf-scm-crunched/CMIP6/ScenarioMIP/NCAR/CESM2/ssp370/r2i1p1f1/Amon/tas/gn/v20190730/netcdf-scm_tas_Amon_CESM2_ssp370_r2i1p1f1_gn_201501-210012.nc',\n",
       " './country-crunch/netcdf-scm-crunched/CMIP6/ScenarioMIP/NCAR/CESM2/ssp585/r1i1p1f1/Amon/tas/gn/v20190730/netcdf-scm_tas_Amon_CESM2_ssp585_r1i1p1f1_gn_201501-210012.nc',\n",
       " './country-crunch/netcdf-scm-crunched/CMIP6/ScenarioMIP/NCAR/CESM2/ssp245/r1i1p1f1/Amon/tas/gn/v20190730/netcdf-scm_tas_Amon_CESM2_ssp245_r1i1p1f1_gn_201501-210012.nc',\n",
       " './country-crunch/netcdf-scm-crunched/CMIP6/ScenarioMIP/NCAR/CESM2/ssp245/r2i1p1f1/Amon/tas/gn/v20191106/netcdf-scm_tas_Amon_CESM2_ssp245_r2i1p1f1_gn_201501-210012.nc']"
      ]
     },
     "execution_count": 9,
     "metadata": {},
     "output_type": "execute_result"
    },
    {
     "data": {
      "application/javascript": [
       "\n",
       "            setTimeout(function() {\n",
       "                var nbb_cell_id = 9;\n",
       "                var nbb_unformatted_code = \"# TODO: move this into netcdf_scm\\nretracted_ids = netcdf_scm.retractions.check_retractions(\\n    [\\\".\\\".join(f.split(os.sep)[3:-1]) for f in ssp_files], esgf_query_batch_size=20\\n)\\nretracted_files = []\\nfor i in retracted_ids:\\n    retracted_dir = os.path.join(\\n        CRUNCH_DIR, \\\"netcdf-scm-crunched\\\", i.replace(\\\".\\\", os.sep)\\n    )\\n    retracted_files_dir = os.listdir(retracted_dir)\\n    assert len(retracted_files_dir) == 1\\n    retracted_files.append(os.path.join(retracted_dir, retracted_files_dir[0]))\\n\\nretracted_files\";\n",
       "                var nbb_formatted_code = \"# TODO: move this into netcdf_scm\\nretracted_ids = netcdf_scm.retractions.check_retractions(\\n    [\\\".\\\".join(f.split(os.sep)[3:-1]) for f in ssp_files], esgf_query_batch_size=20\\n)\\nretracted_files = []\\nfor i in retracted_ids:\\n    retracted_dir = os.path.join(\\n        CRUNCH_DIR, \\\"netcdf-scm-crunched\\\", i.replace(\\\".\\\", os.sep)\\n    )\\n    retracted_files_dir = os.listdir(retracted_dir)\\n    assert len(retracted_files_dir) == 1\\n    retracted_files.append(os.path.join(retracted_dir, retracted_files_dir[0]))\\n\\nretracted_files\";\n",
       "                var nbb_cells = Jupyter.notebook.get_cells();\n",
       "                for (var i = 0; i < nbb_cells.length; ++i) {\n",
       "                    if (nbb_cells[i].input_prompt_number == nbb_cell_id) {\n",
       "                        if (nbb_cells[i].get_text() == nbb_unformatted_code) {\n",
       "                             nbb_cells[i].set_text(nbb_formatted_code);\n",
       "                        }\n",
       "                        break;\n",
       "                    }\n",
       "                }\n",
       "            }, 500);\n",
       "            "
      ],
      "text/plain": [
       "<IPython.core.display.Javascript object>"
      ]
     },
     "metadata": {},
     "output_type": "display_data"
    }
   ],
   "source": [
    "# TODO: move this into netcdf_scm\n",
    "retracted_ids = netcdf_scm.retractions.check_retractions(\n",
    "    [\".\".join(f.split(os.sep)[3:-1]) for f in ssp_files], esgf_query_batch_size=20\n",
    ")\n",
    "retracted_files = []\n",
    "for i in retracted_ids:\n",
    "    retracted_dir = os.path.join(\n",
    "        CRUNCH_DIR, \"netcdf-scm-crunched\", i.replace(\".\", os.sep)\n",
    "    )\n",
    "    retracted_files_dir = os.listdir(retracted_dir)\n",
    "    assert len(retracted_files_dir) == 1\n",
    "    retracted_files.append(os.path.join(retracted_dir, retracted_files_dir[0]))\n",
    "\n",
    "retracted_files"
   ]
  },
  {
   "cell_type": "code",
   "execution_count": 10,
   "id": "excess-warning",
   "metadata": {},
   "outputs": [
    {
     "data": {
      "text/plain": [
       "288"
      ]
     },
     "metadata": {},
     "output_type": "display_data"
    },
    {
     "data": {
      "application/javascript": [
       "\n",
       "            setTimeout(function() {\n",
       "                var nbb_cell_id = 10;\n",
       "                var nbb_unformatted_code = \"ssp_files = [f for f in ssp_files if f not in retracted_files]\\ndisplay(len(ssp_files))\";\n",
       "                var nbb_formatted_code = \"ssp_files = [f for f in ssp_files if f not in retracted_files]\\ndisplay(len(ssp_files))\";\n",
       "                var nbb_cells = Jupyter.notebook.get_cells();\n",
       "                for (var i = 0; i < nbb_cells.length; ++i) {\n",
       "                    if (nbb_cells[i].input_prompt_number == nbb_cell_id) {\n",
       "                        if (nbb_cells[i].get_text() == nbb_unformatted_code) {\n",
       "                             nbb_cells[i].set_text(nbb_formatted_code);\n",
       "                        }\n",
       "                        break;\n",
       "                    }\n",
       "                }\n",
       "            }, 500);\n",
       "            "
      ],
      "text/plain": [
       "<IPython.core.display.Javascript object>"
      ]
     },
     "metadata": {},
     "output_type": "display_data"
    }
   ],
   "source": [
    "ssp_files = [f for f in ssp_files if f not in retracted_files]\n",
    "display(len(ssp_files))"
   ]
  },
  {
   "cell_type": "code",
   "execution_count": 11,
   "id": "dutch-footage",
   "metadata": {},
   "outputs": [
    {
     "data": {
      "application/javascript": [
       "\n",
       "            setTimeout(function() {\n",
       "                var nbb_cell_id = 11;\n",
       "                var nbb_unformatted_code = \"def stitch_and_normalise(f, catch=True, norm_years=21, normalise=True, verbose=False):\\n    def get_result():\\n        if verbose:\\n            print(f\\\"Loading and stitching {f}\\\")\\n        (\\n            scmrun,\\n            picontrol_branching_time,\\n            picontrol_file,\\n        ) = netcdf_scm.stitching.get_continuous_timeseries_with_meta(\\n            f, drs=\\\"CMIP6Output\\\"\\n        )\\n\\n        if not normalise:\\n            if verbose:\\n                print(f\\\"Not normalising, returning\\\")\\n            return scmrun\\n\\n        variable = scmrun.get_unique_meta(\\\"variable\\\", True)\\n        climate_model = scmrun.get_unique_meta(\\\"climate_model\\\", True)\\n        scenario = scmrun.get_unique_meta(\\\"scenario\\\", True)\\n        member_id = scmrun.get_unique_meta(\\\"member_id\\\", True)\\n\\n        min_time = scmrun[\\\"time\\\"].min()\\n        start_year = min_time.year\\n        start_month = min_time.month\\n\\n        max_time = scmrun[\\\"time\\\"].max()\\n        end_year = max_time.year\\n        end_month = max_time.month\\n\\n        table = os.path.basename(f).split(\\\"_\\\")[2]\\n        grid = os.path.basename(f).split(\\\"_\\\")[-2]\\n        out_name = f\\\"netcdf-scm_{variable}_Amon_{climate_model}_{scenario}_{member_id}_{grid}_{start_year}{start_month:02d}-{end_year}{end_month:02d}.nc\\\"\\n        out_file = os.path.join(STITCHED_NORMALISED_DIR, out_name)\\n\\n        if os.path.isfile(out_file):\\n            if verbose:\\n                print(f\\\"Out file already exists: {out_file}\\\")\\n            return None\\n\\n        if verbose:\\n            print(f\\\"Loading {picontrol_file}\\\")\\n\\n        picontrol_scmrun = netcdf_scm.io.load_scmrun(picontrol_file)\\n        picontrol_scmrun.metadata[\\\"netcdf-scm crunched file\\\"] = picontrol_file\\n\\n        if verbose:\\n            print(f\\\"Normalising using {norm_years} years\\\")\\n\\n        normaliser = netcdf_scm.normalisation.NormaliserRunningMean(nyears=norm_years)\\n\\n        normalised = normaliser.normalise_against_picontrol(\\n            scmrun, picontrol_scmrun, picontrol_branching_time\\n        )\\n\\n        normalised[\\\"grid\\\"] = grid\\n\\n        normalised_to_disk = normalised.copy()\\n        normalised_to_disk.metadata = {\\n            k.replace(\\\"(\\\", \\\"\\\").replace(\\\")\\\", \\\"\\\"): v\\n            for k, v in normalised_to_disk.metadata.items()\\n        }\\n\\n        if verbose:\\n            print(f\\\"Saving to {out_file}\\\")\\n\\n        normalised_to_disk.to_nc(out_file)\\n\\n        return None\\n\\n    if catch:\\n        with warnings.catch_warnings():\\n            warnings.simplefilter(\\\"ignore\\\")\\n\\n            try:\\n                return get_result()\\n            except Exception as exc:\\n                raise ValueError(\\\"File failed: {}\\\".format(f)) from exc\\n    else:\\n        return get_result()\";\n",
       "                var nbb_formatted_code = \"def stitch_and_normalise(f, catch=True, norm_years=21, normalise=True, verbose=False):\\n    def get_result():\\n        if verbose:\\n            print(f\\\"Loading and stitching {f}\\\")\\n        (\\n            scmrun,\\n            picontrol_branching_time,\\n            picontrol_file,\\n        ) = netcdf_scm.stitching.get_continuous_timeseries_with_meta(\\n            f, drs=\\\"CMIP6Output\\\"\\n        )\\n\\n        if not normalise:\\n            if verbose:\\n                print(f\\\"Not normalising, returning\\\")\\n            return scmrun\\n\\n        variable = scmrun.get_unique_meta(\\\"variable\\\", True)\\n        climate_model = scmrun.get_unique_meta(\\\"climate_model\\\", True)\\n        scenario = scmrun.get_unique_meta(\\\"scenario\\\", True)\\n        member_id = scmrun.get_unique_meta(\\\"member_id\\\", True)\\n\\n        min_time = scmrun[\\\"time\\\"].min()\\n        start_year = min_time.year\\n        start_month = min_time.month\\n\\n        max_time = scmrun[\\\"time\\\"].max()\\n        end_year = max_time.year\\n        end_month = max_time.month\\n\\n        table = os.path.basename(f).split(\\\"_\\\")[2]\\n        grid = os.path.basename(f).split(\\\"_\\\")[-2]\\n        out_name = f\\\"netcdf-scm_{variable}_Amon_{climate_model}_{scenario}_{member_id}_{grid}_{start_year}{start_month:02d}-{end_year}{end_month:02d}.nc\\\"\\n        out_file = os.path.join(STITCHED_NORMALISED_DIR, out_name)\\n\\n        if os.path.isfile(out_file):\\n            if verbose:\\n                print(f\\\"Out file already exists: {out_file}\\\")\\n            return None\\n\\n        if verbose:\\n            print(f\\\"Loading {picontrol_file}\\\")\\n\\n        picontrol_scmrun = netcdf_scm.io.load_scmrun(picontrol_file)\\n        picontrol_scmrun.metadata[\\\"netcdf-scm crunched file\\\"] = picontrol_file\\n\\n        if verbose:\\n            print(f\\\"Normalising using {norm_years} years\\\")\\n\\n        normaliser = netcdf_scm.normalisation.NormaliserRunningMean(nyears=norm_years)\\n\\n        normalised = normaliser.normalise_against_picontrol(\\n            scmrun, picontrol_scmrun, picontrol_branching_time\\n        )\\n\\n        normalised[\\\"grid\\\"] = grid\\n\\n        normalised_to_disk = normalised.copy()\\n        normalised_to_disk.metadata = {\\n            k.replace(\\\"(\\\", \\\"\\\").replace(\\\")\\\", \\\"\\\"): v\\n            for k, v in normalised_to_disk.metadata.items()\\n        }\\n\\n        if verbose:\\n            print(f\\\"Saving to {out_file}\\\")\\n\\n        normalised_to_disk.to_nc(out_file)\\n\\n        return None\\n\\n    if catch:\\n        with warnings.catch_warnings():\\n            warnings.simplefilter(\\\"ignore\\\")\\n\\n            try:\\n                return get_result()\\n            except Exception as exc:\\n                raise ValueError(\\\"File failed: {}\\\".format(f)) from exc\\n    else:\\n        return get_result()\";\n",
       "                var nbb_cells = Jupyter.notebook.get_cells();\n",
       "                for (var i = 0; i < nbb_cells.length; ++i) {\n",
       "                    if (nbb_cells[i].input_prompt_number == nbb_cell_id) {\n",
       "                        if (nbb_cells[i].get_text() == nbb_unformatted_code) {\n",
       "                             nbb_cells[i].set_text(nbb_formatted_code);\n",
       "                        }\n",
       "                        break;\n",
       "                    }\n",
       "                }\n",
       "            }, 500);\n",
       "            "
      ],
      "text/plain": [
       "<IPython.core.display.Javascript object>"
      ]
     },
     "metadata": {},
     "output_type": "display_data"
    }
   ],
   "source": [
    "def stitch_and_normalise(f, catch=True, norm_years=21, normalise=True, verbose=False):\n",
    "    def get_result():\n",
    "        if verbose:\n",
    "            print(f\"Loading and stitching {f}\")\n",
    "        (\n",
    "            scmrun,\n",
    "            picontrol_branching_time,\n",
    "            picontrol_file,\n",
    "        ) = netcdf_scm.stitching.get_continuous_timeseries_with_meta(\n",
    "            f, drs=\"CMIP6Output\"\n",
    "        )\n",
    "\n",
    "        if not normalise:\n",
    "            if verbose:\n",
    "                print(f\"Not normalising, returning\")\n",
    "            return scmrun\n",
    "\n",
    "        variable = scmrun.get_unique_meta(\"variable\", True)\n",
    "        climate_model = scmrun.get_unique_meta(\"climate_model\", True)\n",
    "        scenario = scmrun.get_unique_meta(\"scenario\", True)\n",
    "        member_id = scmrun.get_unique_meta(\"member_id\", True)\n",
    "\n",
    "        min_time = scmrun[\"time\"].min()\n",
    "        start_year = min_time.year\n",
    "        start_month = min_time.month\n",
    "\n",
    "        max_time = scmrun[\"time\"].max()\n",
    "        end_year = max_time.year\n",
    "        end_month = max_time.month\n",
    "\n",
    "        table = os.path.basename(f).split(\"_\")[2]\n",
    "        grid = os.path.basename(f).split(\"_\")[-2]\n",
    "        out_name = f\"netcdf-scm_{variable}_Amon_{climate_model}_{scenario}_{member_id}_{grid}_{start_year}{start_month:02d}-{end_year}{end_month:02d}.nc\"\n",
    "        out_file = os.path.join(STITCHED_NORMALISED_DIR, out_name)\n",
    "\n",
    "        if os.path.isfile(out_file):\n",
    "            if verbose:\n",
    "                print(f\"Out file already exists: {out_file}\")\n",
    "            return None\n",
    "\n",
    "        if verbose:\n",
    "            print(f\"Loading {picontrol_file}\")\n",
    "\n",
    "        picontrol_scmrun = netcdf_scm.io.load_scmrun(picontrol_file)\n",
    "        picontrol_scmrun.metadata[\"netcdf-scm crunched file\"] = picontrol_file\n",
    "\n",
    "        if verbose:\n",
    "            print(f\"Normalising using {norm_years} years\")\n",
    "\n",
    "        normaliser = netcdf_scm.normalisation.NormaliserRunningMean(nyears=norm_years)\n",
    "\n",
    "        normalised = normaliser.normalise_against_picontrol(\n",
    "            scmrun, picontrol_scmrun, picontrol_branching_time\n",
    "        )\n",
    "\n",
    "        normalised[\"grid\"] = grid\n",
    "\n",
    "        normalised_to_disk = normalised.copy()\n",
    "        normalised_to_disk.metadata = {\n",
    "            k.replace(\"(\", \"\").replace(\")\", \"\"): v\n",
    "            for k, v in normalised_to_disk.metadata.items()\n",
    "        }\n",
    "\n",
    "        if verbose:\n",
    "            print(f\"Saving to {out_file}\")\n",
    "\n",
    "        normalised_to_disk.to_nc(out_file)\n",
    "\n",
    "        return None\n",
    "\n",
    "    if catch:\n",
    "        with warnings.catch_warnings():\n",
    "            warnings.simplefilter(\"ignore\")\n",
    "\n",
    "            try:\n",
    "                return get_result()\n",
    "            except Exception as exc:\n",
    "                raise ValueError(\"File failed: {}\".format(f)) from exc\n",
    "    else:\n",
    "        return get_result()"
   ]
  },
  {
   "cell_type": "code",
   "execution_count": null,
   "id": "variable-eligibility",
   "metadata": {},
   "outputs": [],
   "source": [
    "checker = \"./country-crunch/netcdf-scm-crunched/CMIP6/ScenarioMIP/DWD/MPI-ESM1-2-HR/ssp585/r2i1p1f1/Amon/tas/gn/v20190710/netcdf-scm_tas_Amon_MPI-ESM1-2-HR_ssp585_r2i1p1f1_gn_201501-210012.nc\"\n",
    "checker"
   ]
  },
  {
   "cell_type": "code",
   "execution_count": null,
   "id": "foreign-extraction",
   "metadata": {},
   "outputs": [],
   "source": [
    "# RUN_CHECK= True"
   ]
  },
  {
   "cell_type": "code",
   "execution_count": null,
   "id": "applied-alabama",
   "metadata": {},
   "outputs": [],
   "source": [
    "if RUN_CHECK:\n",
    "    tmp = stitch_and_normalise(checker, catch=False, verbose=True)\n",
    "    display(tmp)"
   ]
  },
  {
   "cell_type": "code",
   "execution_count": 14,
   "id": "preceding-decline",
   "metadata": {},
   "outputs": [
    {
     "data": {
      "application/javascript": [
       "\n",
       "            setTimeout(function() {\n",
       "                var nbb_cell_id = 14;\n",
       "                var nbb_unformatted_code = \"# source = netcdf_scm.io.load_scmrun(checker)\";\n",
       "                var nbb_formatted_code = \"# source = netcdf_scm.io.load_scmrun(checker)\";\n",
       "                var nbb_cells = Jupyter.notebook.get_cells();\n",
       "                for (var i = 0; i < nbb_cells.length; ++i) {\n",
       "                    if (nbb_cells[i].input_prompt_number == nbb_cell_id) {\n",
       "                        if (nbb_cells[i].get_text() == nbb_unformatted_code) {\n",
       "                             nbb_cells[i].set_text(nbb_formatted_code);\n",
       "                        }\n",
       "                        break;\n",
       "                    }\n",
       "                }\n",
       "            }, 500);\n",
       "            "
      ],
      "text/plain": [
       "<IPython.core.display.Javascript object>"
      ]
     },
     "metadata": {},
     "output_type": "display_data"
    }
   ],
   "source": [
    "# source = netcdf_scm.io.load_scmrun(checker)"
   ]
  },
  {
   "cell_type": "code",
   "execution_count": 15,
   "id": "played-negative",
   "metadata": {},
   "outputs": [
    {
     "data": {
      "application/javascript": [
       "\n",
       "            setTimeout(function() {\n",
       "                var nbb_cell_id = 15;\n",
       "                var nbb_unformatted_code = \"# scmdata.run_append([source, parent]).filter(region=\\\"World\\\").lineplot()\";\n",
       "                var nbb_formatted_code = \"# scmdata.run_append([source, parent]).filter(region=\\\"World\\\").lineplot()\";\n",
       "                var nbb_cells = Jupyter.notebook.get_cells();\n",
       "                for (var i = 0; i < nbb_cells.length; ++i) {\n",
       "                    if (nbb_cells[i].input_prompt_number == nbb_cell_id) {\n",
       "                        if (nbb_cells[i].get_text() == nbb_unformatted_code) {\n",
       "                             nbb_cells[i].set_text(nbb_formatted_code);\n",
       "                        }\n",
       "                        break;\n",
       "                    }\n",
       "                }\n",
       "            }, 500);\n",
       "            "
      ],
      "text/plain": [
       "<IPython.core.display.Javascript object>"
      ]
     },
     "metadata": {},
     "output_type": "display_data"
    }
   ],
   "source": [
    "# scmdata.run_append([source, parent]).filter(region=\"World\").lineplot()"
   ]
  },
  {
   "cell_type": "code",
   "execution_count": 16,
   "id": "amended-reservoir",
   "metadata": {},
   "outputs": [
    {
     "data": {
      "text/plain": [
       "['./country-crunch/netcdf-scm-crunched/CMIP6/ScenarioMIP/DWD/MPI-ESM1-2-HR/ssp585/r2i1p1f1/Amon/tas/gn/v20190710/netcdf-scm_tas_Amon_MPI-ESM1-2-HR_ssp585_r2i1p1f1_gn_201501-210012.nc',\n",
       " './country-crunch/netcdf-scm-crunched/CMIP6/ScenarioMIP/DWD/MPI-ESM1-2-HR/ssp126/r2i1p1f1/Amon/tas/gn/v20190710/netcdf-scm_tas_Amon_MPI-ESM1-2-HR_ssp126_r2i1p1f1_gn_201501-210012.nc',\n",
       " './country-crunch/netcdf-scm-crunched/CMIP6/ScenarioMIP/DKRZ/MPI-ESM1-2-HR/ssp370/r2i1p1f1/Amon/tas/gn/v20190710/netcdf-scm_tas_Amon_MPI-ESM1-2-HR_ssp370_r2i1p1f1_gn_201501-210012.nc',\n",
       " './country-crunch/netcdf-scm-crunched/CMIP6/ScenarioMIP/DKRZ/MPI-ESM1-2-HR/ssp370/r1i1p1f1/Amon/tas/gn/v20190710/netcdf-scm_tas_Amon_MPI-ESM1-2-HR_ssp370_r1i1p1f1_gn_201501-210012.nc',\n",
       " './country-crunch/netcdf-scm-crunched/CMIP6/ScenarioMIP/DKRZ/MPI-ESM1-2-HR/ssp585/r1i1p1f1/Amon/tas/gn/v20190710/netcdf-scm_tas_Amon_MPI-ESM1-2-HR_ssp585_r1i1p1f1_gn_201501-210012.nc',\n",
       " './country-crunch/netcdf-scm-crunched/CMIP6/ScenarioMIP/DKRZ/MPI-ESM1-2-HR/ssp126/r1i1p1f1/Amon/tas/gn/v20190710/netcdf-scm_tas_Amon_MPI-ESM1-2-HR_ssp126_r1i1p1f1_gn_201501-210012.nc',\n",
       " './country-crunch/netcdf-scm-crunched/CMIP6/ScenarioMIP/DKRZ/MPI-ESM1-2-HR/ssp245/r2i1p1f1/Amon/tas/gn/v20190710/netcdf-scm_tas_Amon_MPI-ESM1-2-HR_ssp245_r2i1p1f1_gn_201501-210012.nc',\n",
       " './country-crunch/netcdf-scm-crunched/CMIP6/ScenarioMIP/DKRZ/MPI-ESM1-2-HR/ssp245/r1i1p1f1/Amon/tas/gn/v20190710/netcdf-scm_tas_Amon_MPI-ESM1-2-HR_ssp245_r1i1p1f1_gn_201501-210012.nc']"
      ]
     },
     "execution_count": 16,
     "metadata": {},
     "output_type": "execute_result"
    },
    {
     "data": {
      "application/javascript": [
       "\n",
       "            setTimeout(function() {\n",
       "                var nbb_cell_id = 16;\n",
       "                var nbb_unformatted_code = \"ssp_files = [f for f in ssp_files if \\\"MPI-ESM1-2-HR\\\" in f]\\nssp_files\";\n",
       "                var nbb_formatted_code = \"ssp_files = [f for f in ssp_files if \\\"MPI-ESM1-2-HR\\\" in f]\\nssp_files\";\n",
       "                var nbb_cells = Jupyter.notebook.get_cells();\n",
       "                for (var i = 0; i < nbb_cells.length; ++i) {\n",
       "                    if (nbb_cells[i].input_prompt_number == nbb_cell_id) {\n",
       "                        if (nbb_cells[i].get_text() == nbb_unformatted_code) {\n",
       "                             nbb_cells[i].set_text(nbb_formatted_code);\n",
       "                        }\n",
       "                        break;\n",
       "                    }\n",
       "                }\n",
       "            }, 500);\n",
       "            "
      ],
      "text/plain": [
       "<IPython.core.display.Javascript object>"
      ]
     },
     "metadata": {},
     "output_type": "display_data"
    }
   ],
   "source": [
    "ssp_files = [f for f in ssp_files if \"MPI-ESM1-2-HR\" in f]\n",
    "ssp_files"
   ]
  },
  {
   "cell_type": "code",
   "execution_count": 17,
   "id": "static-station",
   "metadata": {},
   "outputs": [
    {
     "data": {
      "application/vnd.jupyter.widget-view+json": {
       "model_id": "fe7be564f9ee4be2af81382402dd2544",
       "version_major": 2,
       "version_minor": 0
      },
      "text/plain": [
       "  0%|          | 0/8 [00:00<?, ?it/s]"
      ]
     },
     "metadata": {},
     "output_type": "display_data"
    },
    {
     "data": {
      "application/vnd.jupyter.widget-view+json": {
       "model_id": "46ee1a5cb788478eacb6ccd485380978",
       "version_major": 2,
       "version_minor": 0
      },
      "text/plain": [
       "  0%|          | 0/8 [00:00<?, ?it/s]"
      ]
     },
     "metadata": {},
     "output_type": "display_data"
    },
    {
     "name": "stdout",
     "output_type": "stream",
     "text": [
      "concurrent.futures.process._RemoteTraceback: \n",
      "\"\"\"\n",
      "Traceback (most recent call last):\n",
      "  File \"<ipython-input-11-141b9142bf74>\", line 76, in stitch_and_normalise\n",
      "    return get_result()\n",
      "  File \"<ipython-input-11-141b9142bf74>\", line 9, in get_result\n",
      "    ) = netcdf_scm.stitching.get_continuous_timeseries_with_meta(\n",
      "  File \"/data/ubuntu-znicholls/miniconda3/envs/cmip6-country-level-processing/lib/python3.8/site-packages/netcdf_scm/stitching.py\", line 246, in get_continuous_timeseries_with_meta\n",
      "    ) = get_continuous_timeseries_with_meta(\n",
      "  File \"/data/ubuntu-znicholls/miniconda3/envs/cmip6-country-level-processing/lib/python3.8/site-packages/netcdf_scm/stitching.py\", line 226, in get_continuous_timeseries_with_meta\n",
      "    picontrol_file = get_parent_file_path(\n",
      "  File \"/data/ubuntu-znicholls/miniconda3/envs/cmip6-country-level-processing/lib/python3.8/site-packages/netcdf_scm/stitching.py\", line 374, in get_parent_file_path\n",
      "    raise IOError(\n",
      "OSError: No parent data (piControl) available for ./country-crunch/netcdf-scm-crunched/CMIP6/CMIP/MPI-M/MPI-ESM1-2-HR/historical/r2i1p1f1/Amon/tas/gn/v20190710/netcdf-scm_tas_Amon_MPI-ESM1-2-HR_historical_r2i1p1f1_gn_185001-201412.nc, we looked in ./country-crunch/netcdf-scm-crunched/CMIP6/CMIP/MPI-M/MPI-ESM1-2-HR/piControl/r2i1p1f1/Amon/tas/gn/*/netcdf-scm_tas_Amon_MPI-ESM1-2-HR_piControl_r2i1p1f1_gn_*.nc and ./country-crunch/netcdf-scm-crunched/CMIP6/CMIP/*/MPI-ESM1-2-HR/piControl/r2i1p1f1/Amon/tas/gn/*/netcdf-scm_tas_Amon_MPI-ESM1-2-HR_piControl_r2i1p1f1_gn_*.nc\n",
      "\n",
      "The above exception was the direct cause of the following exception:\n",
      "\n",
      "Traceback (most recent call last):\n",
      "  File \"/data/ubuntu-znicholls/miniconda3/envs/cmip6-country-level-processing/lib/python3.8/concurrent/futures/process.py\", line 239, in _process_worker\n",
      "    r = call_item.fn(*call_item.args, **call_item.kwargs)\n",
      "  File \"<ipython-input-11-141b9142bf74>\", line 78, in stitch_and_normalise\n",
      "    raise ValueError(\"File failed: {}\".format(f)) from exc\n",
      "ValueError: File failed: ./country-crunch/netcdf-scm-crunched/CMIP6/ScenarioMIP/DKRZ/MPI-ESM1-2-HR/ssp370/r2i1p1f1/Amon/tas/gn/v20190710/netcdf-scm_tas_Amon_MPI-ESM1-2-HR_ssp370_r2i1p1f1_gn_201501-210012.nc\n",
      "\"\"\"\n",
      "\n",
      "The above exception was the direct cause of the following exception:\n",
      "\n",
      "Traceback (most recent call last):\n",
      "  File \"<ipython-input-17-df04d0b3af93>\", line 13, in <module>\n",
      "    future.result()\n",
      "  File \"/data/ubuntu-znicholls/miniconda3/envs/cmip6-country-level-processing/lib/python3.8/concurrent/futures/_base.py\", line 432, in result\n",
      "    return self.__get_result()\n",
      "  File \"/data/ubuntu-znicholls/miniconda3/envs/cmip6-country-level-processing/lib/python3.8/concurrent/futures/_base.py\", line 388, in __get_result\n",
      "    raise self._exception\n",
      "  File \"/data/ubuntu-znicholls/miniconda3/envs/cmip6-country-level-processing/lib/python3.8/concurrent/futures/process.py\", line 239, in _process_worker\n",
      "    r = call_item.fn(*call_item.args, **call_item.kwargs)\n",
      "  File \"<ipython-input-11-141b9142bf74>\", line 78, in stitch_and_normalise\n",
      "    raise ValueError(\"File failed: {}\".format(f)) from exc\n",
      "ValueError: File failed: ./country-crunch/netcdf-scm-crunched/CMIP6/ScenarioMIP/DKRZ/MPI-ESM1-2-HR/ssp370/r2i1p1f1/Amon/tas/gn/v20190710/netcdf-scm_tas_Amon_MPI-ESM1-2-HR_ssp370_r2i1p1f1_gn_201501-210012.nc\n",
      "\n",
      "\n",
      "concurrent.futures.process._RemoteTraceback: \n",
      "\"\"\"\n",
      "Traceback (most recent call last):\n",
      "  File \"<ipython-input-11-141b9142bf74>\", line 76, in stitch_and_normalise\n",
      "    return get_result()\n",
      "  File \"<ipython-input-11-141b9142bf74>\", line 9, in get_result\n",
      "    ) = netcdf_scm.stitching.get_continuous_timeseries_with_meta(\n",
      "  File \"/data/ubuntu-znicholls/miniconda3/envs/cmip6-country-level-processing/lib/python3.8/site-packages/netcdf_scm/stitching.py\", line 246, in get_continuous_timeseries_with_meta\n",
      "    ) = get_continuous_timeseries_with_meta(\n",
      "  File \"/data/ubuntu-znicholls/miniconda3/envs/cmip6-country-level-processing/lib/python3.8/site-packages/netcdf_scm/stitching.py\", line 226, in get_continuous_timeseries_with_meta\n",
      "    picontrol_file = get_parent_file_path(\n",
      "  File \"/data/ubuntu-znicholls/miniconda3/envs/cmip6-country-level-processing/lib/python3.8/site-packages/netcdf_scm/stitching.py\", line 374, in get_parent_file_path\n",
      "    raise IOError(\n",
      "OSError: No parent data (piControl) available for ./country-crunch/netcdf-scm-crunched/CMIP6/CMIP/MPI-M/MPI-ESM1-2-HR/historical/r2i1p1f1/Amon/tas/gn/v20190710/netcdf-scm_tas_Amon_MPI-ESM1-2-HR_historical_r2i1p1f1_gn_185001-201412.nc, we looked in ./country-crunch/netcdf-scm-crunched/CMIP6/CMIP/MPI-M/MPI-ESM1-2-HR/piControl/r2i1p1f1/Amon/tas/gn/*/netcdf-scm_tas_Amon_MPI-ESM1-2-HR_piControl_r2i1p1f1_gn_*.nc and ./country-crunch/netcdf-scm-crunched/CMIP6/CMIP/*/MPI-ESM1-2-HR/piControl/r2i1p1f1/Amon/tas/gn/*/netcdf-scm_tas_Amon_MPI-ESM1-2-HR_piControl_r2i1p1f1_gn_*.nc\n",
      "\n",
      "The above exception was the direct cause of the following exception:\n",
      "\n",
      "Traceback (most recent call last):\n",
      "  File \"/data/ubuntu-znicholls/miniconda3/envs/cmip6-country-level-processing/lib/python3.8/concurrent/futures/process.py\", line 239, in _process_worker\n",
      "    r = call_item.fn(*call_item.args, **call_item.kwargs)\n",
      "  File \"<ipython-input-11-141b9142bf74>\", line 78, in stitch_and_normalise\n",
      "    raise ValueError(\"File failed: {}\".format(f)) from exc\n",
      "ValueError: File failed: ./country-crunch/netcdf-scm-crunched/CMIP6/ScenarioMIP/DWD/MPI-ESM1-2-HR/ssp585/r2i1p1f1/Amon/tas/gn/v20190710/netcdf-scm_tas_Amon_MPI-ESM1-2-HR_ssp585_r2i1p1f1_gn_201501-210012.nc\n",
      "\"\"\"\n",
      "\n",
      "The above exception was the direct cause of the following exception:\n",
      "\n",
      "Traceback (most recent call last):\n",
      "  File \"<ipython-input-17-df04d0b3af93>\", line 13, in <module>\n",
      "    future.result()\n",
      "  File \"/data/ubuntu-znicholls/miniconda3/envs/cmip6-country-level-processing/lib/python3.8/concurrent/futures/_base.py\", line 432, in result\n",
      "    return self.__get_result()\n",
      "  File \"/data/ubuntu-znicholls/miniconda3/envs/cmip6-country-level-processing/lib/python3.8/concurrent/futures/_base.py\", line 388, in __get_result\n",
      "    raise self._exception\n",
      "  File \"/data/ubuntu-znicholls/miniconda3/envs/cmip6-country-level-processing/lib/python3.8/concurrent/futures/process.py\", line 239, in _process_worker\n",
      "    r = call_item.fn(*call_item.args, **call_item.kwargs)\n",
      "  File \"<ipython-input-11-141b9142bf74>\", line 78, in stitch_and_normalise\n",
      "    raise ValueError(\"File failed: {}\".format(f)) from exc\n",
      "ValueError: File failed: ./country-crunch/netcdf-scm-crunched/CMIP6/ScenarioMIP/DWD/MPI-ESM1-2-HR/ssp585/r2i1p1f1/Amon/tas/gn/v20190710/netcdf-scm_tas_Amon_MPI-ESM1-2-HR_ssp585_r2i1p1f1_gn_201501-210012.nc\n",
      "\n",
      "\n",
      "concurrent.futures.process._RemoteTraceback: \n",
      "\"\"\"\n",
      "Traceback (most recent call last):\n",
      "  File \"<ipython-input-11-141b9142bf74>\", line 76, in stitch_and_normalise\n",
      "    return get_result()\n",
      "  File \"<ipython-input-11-141b9142bf74>\", line 9, in get_result\n",
      "    ) = netcdf_scm.stitching.get_continuous_timeseries_with_meta(\n",
      "  File \"/data/ubuntu-znicholls/miniconda3/envs/cmip6-country-level-processing/lib/python3.8/site-packages/netcdf_scm/stitching.py\", line 246, in get_continuous_timeseries_with_meta\n",
      "    ) = get_continuous_timeseries_with_meta(\n",
      "  File \"/data/ubuntu-znicholls/miniconda3/envs/cmip6-country-level-processing/lib/python3.8/site-packages/netcdf_scm/stitching.py\", line 226, in get_continuous_timeseries_with_meta\n",
      "    picontrol_file = get_parent_file_path(\n",
      "  File \"/data/ubuntu-znicholls/miniconda3/envs/cmip6-country-level-processing/lib/python3.8/site-packages/netcdf_scm/stitching.py\", line 374, in get_parent_file_path\n",
      "    raise IOError(\n",
      "OSError: No parent data (piControl) available for ./country-crunch/netcdf-scm-crunched/CMIP6/CMIP/MPI-M/MPI-ESM1-2-HR/historical/r2i1p1f1/Amon/tas/gn/v20190710/netcdf-scm_tas_Amon_MPI-ESM1-2-HR_historical_r2i1p1f1_gn_185001-201412.nc, we looked in ./country-crunch/netcdf-scm-crunched/CMIP6/CMIP/MPI-M/MPI-ESM1-2-HR/piControl/r2i1p1f1/Amon/tas/gn/*/netcdf-scm_tas_Amon_MPI-ESM1-2-HR_piControl_r2i1p1f1_gn_*.nc and ./country-crunch/netcdf-scm-crunched/CMIP6/CMIP/*/MPI-ESM1-2-HR/piControl/r2i1p1f1/Amon/tas/gn/*/netcdf-scm_tas_Amon_MPI-ESM1-2-HR_piControl_r2i1p1f1_gn_*.nc\n",
      "\n",
      "The above exception was the direct cause of the following exception:\n",
      "\n",
      "Traceback (most recent call last):\n",
      "  File \"/data/ubuntu-znicholls/miniconda3/envs/cmip6-country-level-processing/lib/python3.8/concurrent/futures/process.py\", line 239, in _process_worker\n",
      "    r = call_item.fn(*call_item.args, **call_item.kwargs)\n",
      "  File \"<ipython-input-11-141b9142bf74>\", line 78, in stitch_and_normalise\n",
      "    raise ValueError(\"File failed: {}\".format(f)) from exc\n",
      "ValueError: File failed: ./country-crunch/netcdf-scm-crunched/CMIP6/ScenarioMIP/DWD/MPI-ESM1-2-HR/ssp126/r2i1p1f1/Amon/tas/gn/v20190710/netcdf-scm_tas_Amon_MPI-ESM1-2-HR_ssp126_r2i1p1f1_gn_201501-210012.nc\n",
      "\"\"\"\n",
      "\n",
      "The above exception was the direct cause of the following exception:\n",
      "\n",
      "Traceback (most recent call last):\n",
      "  File \"<ipython-input-17-df04d0b3af93>\", line 13, in <module>\n",
      "    future.result()\n",
      "  File \"/data/ubuntu-znicholls/miniconda3/envs/cmip6-country-level-processing/lib/python3.8/concurrent/futures/_base.py\", line 432, in result\n",
      "    return self.__get_result()\n",
      "  File \"/data/ubuntu-znicholls/miniconda3/envs/cmip6-country-level-processing/lib/python3.8/concurrent/futures/_base.py\", line 388, in __get_result\n",
      "    raise self._exception\n",
      "  File \"/data/ubuntu-znicholls/miniconda3/envs/cmip6-country-level-processing/lib/python3.8/concurrent/futures/process.py\", line 239, in _process_worker\n",
      "    r = call_item.fn(*call_item.args, **call_item.kwargs)\n",
      "  File \"<ipython-input-11-141b9142bf74>\", line 78, in stitch_and_normalise\n",
      "    raise ValueError(\"File failed: {}\".format(f)) from exc\n",
      "ValueError: File failed: ./country-crunch/netcdf-scm-crunched/CMIP6/ScenarioMIP/DWD/MPI-ESM1-2-HR/ssp126/r2i1p1f1/Amon/tas/gn/v20190710/netcdf-scm_tas_Amon_MPI-ESM1-2-HR_ssp126_r2i1p1f1_gn_201501-210012.nc\n",
      "\n",
      "\n",
      "concurrent.futures.process._RemoteTraceback: \n",
      "\"\"\"\n",
      "Traceback (most recent call last):\n",
      "  File \"<ipython-input-11-141b9142bf74>\", line 76, in stitch_and_normalise\n",
      "    return get_result()\n",
      "  File \"<ipython-input-11-141b9142bf74>\", line 9, in get_result\n",
      "    ) = netcdf_scm.stitching.get_continuous_timeseries_with_meta(\n",
      "  File \"/data/ubuntu-znicholls/miniconda3/envs/cmip6-country-level-processing/lib/python3.8/site-packages/netcdf_scm/stitching.py\", line 246, in get_continuous_timeseries_with_meta\n",
      "    ) = get_continuous_timeseries_with_meta(\n",
      "  File \"/data/ubuntu-znicholls/miniconda3/envs/cmip6-country-level-processing/lib/python3.8/site-packages/netcdf_scm/stitching.py\", line 226, in get_continuous_timeseries_with_meta\n",
      "    picontrol_file = get_parent_file_path(\n",
      "  File \"/data/ubuntu-znicholls/miniconda3/envs/cmip6-country-level-processing/lib/python3.8/site-packages/netcdf_scm/stitching.py\", line 374, in get_parent_file_path\n",
      "    raise IOError(\n",
      "OSError: No parent data (piControl) available for ./country-crunch/netcdf-scm-crunched/CMIP6/CMIP/MPI-M/MPI-ESM1-2-HR/historical/r2i1p1f1/Amon/tas/gn/v20190710/netcdf-scm_tas_Amon_MPI-ESM1-2-HR_historical_r2i1p1f1_gn_185001-201412.nc, we looked in ./country-crunch/netcdf-scm-crunched/CMIP6/CMIP/MPI-M/MPI-ESM1-2-HR/piControl/r2i1p1f1/Amon/tas/gn/*/netcdf-scm_tas_Amon_MPI-ESM1-2-HR_piControl_r2i1p1f1_gn_*.nc and ./country-crunch/netcdf-scm-crunched/CMIP6/CMIP/*/MPI-ESM1-2-HR/piControl/r2i1p1f1/Amon/tas/gn/*/netcdf-scm_tas_Amon_MPI-ESM1-2-HR_piControl_r2i1p1f1_gn_*.nc\n",
      "\n",
      "The above exception was the direct cause of the following exception:\n",
      "\n",
      "Traceback (most recent call last):\n",
      "  File \"/data/ubuntu-znicholls/miniconda3/envs/cmip6-country-level-processing/lib/python3.8/concurrent/futures/process.py\", line 239, in _process_worker\n",
      "    r = call_item.fn(*call_item.args, **call_item.kwargs)\n",
      "  File \"<ipython-input-11-141b9142bf74>\", line 78, in stitch_and_normalise\n",
      "    raise ValueError(\"File failed: {}\".format(f)) from exc\n",
      "ValueError: File failed: ./country-crunch/netcdf-scm-crunched/CMIP6/ScenarioMIP/DKRZ/MPI-ESM1-2-HR/ssp245/r2i1p1f1/Amon/tas/gn/v20190710/netcdf-scm_tas_Amon_MPI-ESM1-2-HR_ssp245_r2i1p1f1_gn_201501-210012.nc\n",
      "\"\"\"\n",
      "\n",
      "The above exception was the direct cause of the following exception:\n",
      "\n",
      "Traceback (most recent call last):\n",
      "  File \"<ipython-input-17-df04d0b3af93>\", line 13, in <module>\n",
      "    future.result()\n",
      "  File \"/data/ubuntu-znicholls/miniconda3/envs/cmip6-country-level-processing/lib/python3.8/concurrent/futures/_base.py\", line 432, in result\n",
      "    return self.__get_result()\n",
      "  File \"/data/ubuntu-znicholls/miniconda3/envs/cmip6-country-level-processing/lib/python3.8/concurrent/futures/_base.py\", line 388, in __get_result\n",
      "    raise self._exception\n",
      "  File \"/data/ubuntu-znicholls/miniconda3/envs/cmip6-country-level-processing/lib/python3.8/concurrent/futures/process.py\", line 239, in _process_worker\n",
      "    r = call_item.fn(*call_item.args, **call_item.kwargs)\n",
      "  File \"<ipython-input-11-141b9142bf74>\", line 78, in stitch_and_normalise\n",
      "    raise ValueError(\"File failed: {}\".format(f)) from exc\n",
      "ValueError: File failed: ./country-crunch/netcdf-scm-crunched/CMIP6/ScenarioMIP/DKRZ/MPI-ESM1-2-HR/ssp245/r2i1p1f1/Amon/tas/gn/v20190710/netcdf-scm_tas_Amon_MPI-ESM1-2-HR_ssp245_r2i1p1f1_gn_201501-210012.nc\n",
      "\n"
     ]
    },
    {
     "data": {
      "text/plain": [
       "['./country-crunch/netcdf-scm-crunched/CMIP6/ScenarioMIP/DKRZ/MPI-ESM1-2-HR/ssp245/r2i1p1f1/Amon/tas/gn/v20190710/netcdf-scm_tas_Amon_MPI-ESM1-2-HR_ssp245_r2i1p1f1_gn_201501-210012.nc',\n",
       " './country-crunch/netcdf-scm-crunched/CMIP6/ScenarioMIP/DWD/MPI-ESM1-2-HR/ssp126/r2i1p1f1/Amon/tas/gn/v20190710/netcdf-scm_tas_Amon_MPI-ESM1-2-HR_ssp126_r2i1p1f1_gn_201501-210012.nc',\n",
       " './country-crunch/netcdf-scm-crunched/CMIP6/ScenarioMIP/DWD/MPI-ESM1-2-HR/ssp585/r2i1p1f1/Amon/tas/gn/v20190710/netcdf-scm_tas_Amon_MPI-ESM1-2-HR_ssp585_r2i1p1f1_gn_201501-210012.nc',\n",
       " './country-crunch/netcdf-scm-crunched/CMIP6/ScenarioMIP/DKRZ/MPI-ESM1-2-HR/ssp370/r2i1p1f1/Amon/tas/gn/v20190710/netcdf-scm_tas_Amon_MPI-ESM1-2-HR_ssp370_r2i1p1f1_gn_201501-210012.nc']"
      ]
     },
     "execution_count": 17,
     "metadata": {},
     "output_type": "execute_result"
    },
    {
     "data": {
      "application/javascript": [
       "\n",
       "            setTimeout(function() {\n",
       "                var nbb_cell_id = 17;\n",
       "                var nbb_unformatted_code = \"pool = ProcessPoolExecutor(max_workers=MAX_WORKERS)\\n\\nfutures = []\\nfor f in tqdman.tqdm(ssp_files):\\n    futures.append(pool.submit(stitch_and_normalise, f))\\n\\nall_errors = []\\nerrors = []\\nfor i, future in tqdman.tqdm(\\n    enumerate(as_completed(futures, timeout=None)), total=len(futures)\\n):\\n    try:\\n        future.result()\\n    except Exception as exc:\\n        errors.append(traceback.format_exc())\\n\\n    if i % 50 == 10 or i == len(futures) - 1:\\n        print(\\\"\\\\n\\\\n\\\".join(errors))\\n        all_errors += list(\\n            set([v for e in errors for v in re.findall(\\\".*File failed: (.*.nc)\\\", e)])\\n        )\\n        errors = []\\n\\nall_errors\";\n",
       "                var nbb_formatted_code = \"pool = ProcessPoolExecutor(max_workers=MAX_WORKERS)\\n\\nfutures = []\\nfor f in tqdman.tqdm(ssp_files):\\n    futures.append(pool.submit(stitch_and_normalise, f))\\n\\nall_errors = []\\nerrors = []\\nfor i, future in tqdman.tqdm(\\n    enumerate(as_completed(futures, timeout=None)), total=len(futures)\\n):\\n    try:\\n        future.result()\\n    except Exception as exc:\\n        errors.append(traceback.format_exc())\\n\\n    if i % 50 == 10 or i == len(futures) - 1:\\n        print(\\\"\\\\n\\\\n\\\".join(errors))\\n        all_errors += list(\\n            set([v for e in errors for v in re.findall(\\\".*File failed: (.*.nc)\\\", e)])\\n        )\\n        errors = []\\n\\nall_errors\";\n",
       "                var nbb_cells = Jupyter.notebook.get_cells();\n",
       "                for (var i = 0; i < nbb_cells.length; ++i) {\n",
       "                    if (nbb_cells[i].input_prompt_number == nbb_cell_id) {\n",
       "                        if (nbb_cells[i].get_text() == nbb_unformatted_code) {\n",
       "                             nbb_cells[i].set_text(nbb_formatted_code);\n",
       "                        }\n",
       "                        break;\n",
       "                    }\n",
       "                }\n",
       "            }, 500);\n",
       "            "
      ],
      "text/plain": [
       "<IPython.core.display.Javascript object>"
      ]
     },
     "metadata": {},
     "output_type": "display_data"
    }
   ],
   "source": [
    "pool = ProcessPoolExecutor(max_workers=MAX_WORKERS)\n",
    "\n",
    "futures = []\n",
    "for f in tqdman.tqdm(ssp_files):\n",
    "    futures.append(pool.submit(stitch_and_normalise, f))\n",
    "\n",
    "all_errors = []\n",
    "errors = []\n",
    "for i, future in tqdman.tqdm(\n",
    "    enumerate(as_completed(futures, timeout=None)), total=len(futures)\n",
    "):\n",
    "    try:\n",
    "        future.result()\n",
    "    except Exception as exc:\n",
    "        errors.append(traceback.format_exc())\n",
    "\n",
    "    if i % 50 == 10 or i == len(futures) - 1:\n",
    "        print(\"\\n\\n\".join(errors))\n",
    "        all_errors += list(\n",
    "            set([v for e in errors for v in re.findall(\".*File failed: (.*.nc)\", e)])\n",
    "        )\n",
    "        errors = []\n",
    "\n",
    "all_errors"
   ]
  },
  {
   "cell_type": "code",
   "execution_count": 20,
   "id": "configured-hawaii",
   "metadata": {},
   "outputs": [
    {
     "name": "stdout",
     "output_type": "stream",
     "text": [
      "./country-crunch-stitched-normalised/netcdf-scm_tas_Amon_MPI-ESM1-2-HR_ssp245_r1i1p1f1_gn_185001-210012.nc\r\n"
     ]
    },
    {
     "data": {
      "application/javascript": [
       "\n",
       "            setTimeout(function() {\n",
       "                var nbb_cell_id = 20;\n",
       "                var nbb_unformatted_code = \"!find {STITCHED_NORMALISED_DIR} -name '*MPI-ESM1-2-HR*_ssp245_*' -type f  #| wc -l\";\n",
       "                var nbb_formatted_code = \"!find {STITCHED_NORMALISED_DIR} -name '*MPI-ESM1-2-HR*_ssp245_*' -type f  #| wc -l\";\n",
       "                var nbb_cells = Jupyter.notebook.get_cells();\n",
       "                for (var i = 0; i < nbb_cells.length; ++i) {\n",
       "                    if (nbb_cells[i].input_prompt_number == nbb_cell_id) {\n",
       "                        if (nbb_cells[i].get_text() == nbb_unformatted_code) {\n",
       "                             nbb_cells[i].set_text(nbb_formatted_code);\n",
       "                        }\n",
       "                        break;\n",
       "                    }\n",
       "                }\n",
       "            }, 500);\n",
       "            "
      ],
      "text/plain": [
       "<IPython.core.display.Javascript object>"
      ]
     },
     "metadata": {},
     "output_type": "display_data"
    }
   ],
   "source": [
    "!find {STITCHED_NORMALISED_DIR} -name '*MPI-ESM1-2-HR*_ssp245_*' -type f  #| wc -l"
   ]
  },
  {
   "cell_type": "code",
   "execution_count": 21,
   "id": "mighty-matthew",
   "metadata": {},
   "outputs": [
    {
     "name": "stdout",
     "output_type": "stream",
     "text": [
      "./country-crunch/netcdf-scm-crunched/CMIP6/CMIP/MPI-M/MPI-ESM1-2-HR/piControl/r1i1p1f1/Amon/tas/gn/v20190710/netcdf-scm_tas_Amon_MPI-ESM1-2-HR_piControl_r1i1p1f1_gn_185001-234912.nc\r\n",
      "./country-crunch/netcdf-scm-crunched/CMIP6/CMIP/MPI-M/MPI-ESM1-2-HR/historical/r2i1p1f1/Amon/tas/gn/v20190710/netcdf-scm_tas_Amon_MPI-ESM1-2-HR_historical_r2i1p1f1_gn_185001-201412.nc\r\n",
      "./country-crunch/netcdf-scm-crunched/CMIP6/CMIP/MPI-M/MPI-ESM1-2-HR/historical/r1i1p1f1/Amon/tas/gn/v20190710/netcdf-scm_tas_Amon_MPI-ESM1-2-HR_historical_r1i1p1f1_gn_185001-201412.nc\r\n",
      "./country-crunch/netcdf-scm-crunched/CMIP6/ScenarioMIP/DWD/MPI-ESM1-2-HR/ssp585/r2i1p1f1/Amon/tas/gn/v20190710/netcdf-scm_tas_Amon_MPI-ESM1-2-HR_ssp585_r2i1p1f1_gn_201501-210012.nc\r\n",
      "./country-crunch/netcdf-scm-crunched/CMIP6/ScenarioMIP/DWD/MPI-ESM1-2-HR/ssp126/r2i1p1f1/Amon/tas/gn/v20190710/netcdf-scm_tas_Amon_MPI-ESM1-2-HR_ssp126_r2i1p1f1_gn_201501-210012.nc\r\n",
      "./country-crunch/netcdf-scm-crunched/CMIP6/ScenarioMIP/DKRZ/MPI-ESM1-2-HR/ssp370/r2i1p1f1/Amon/tas/gn/v20190710/netcdf-scm_tas_Amon_MPI-ESM1-2-HR_ssp370_r2i1p1f1_gn_201501-210012.nc\r\n",
      "./country-crunch/netcdf-scm-crunched/CMIP6/ScenarioMIP/DKRZ/MPI-ESM1-2-HR/ssp370/r1i1p1f1/Amon/tas/gn/v20190710/netcdf-scm_tas_Amon_MPI-ESM1-2-HR_ssp370_r1i1p1f1_gn_201501-210012.nc\r\n",
      "./country-crunch/netcdf-scm-crunched/CMIP6/ScenarioMIP/DKRZ/MPI-ESM1-2-HR/ssp585/r1i1p1f1/Amon/tas/gn/v20190710/netcdf-scm_tas_Amon_MPI-ESM1-2-HR_ssp585_r1i1p1f1_gn_201501-210012.nc\r\n",
      "./country-crunch/netcdf-scm-crunched/CMIP6/ScenarioMIP/DKRZ/MPI-ESM1-2-HR/ssp126/r1i1p1f1/Amon/tas/gn/v20190710/netcdf-scm_tas_Amon_MPI-ESM1-2-HR_ssp126_r1i1p1f1_gn_201501-210012.nc\r\n",
      "./country-crunch/netcdf-scm-crunched/CMIP6/ScenarioMIP/DKRZ/MPI-ESM1-2-HR/ssp245/r2i1p1f1/Amon/tas/gn/v20190710/netcdf-scm_tas_Amon_MPI-ESM1-2-HR_ssp245_r2i1p1f1_gn_201501-210012.nc\r\n",
      "./country-crunch/netcdf-scm-crunched/CMIP6/ScenarioMIP/DKRZ/MPI-ESM1-2-HR/ssp245/r1i1p1f1/Amon/tas/gn/v20190710/netcdf-scm_tas_Amon_MPI-ESM1-2-HR_ssp245_r1i1p1f1_gn_201501-210012.nc\r\n"
     ]
    },
    {
     "data": {
      "application/javascript": [
       "\n",
       "            setTimeout(function() {\n",
       "                var nbb_cell_id = 21;\n",
       "                var nbb_unformatted_code = \"!find {CRUNCH_DIR} -name '*MPI-ESM1-2-HR*' -type f  #| wc -l\";\n",
       "                var nbb_formatted_code = \"!find {CRUNCH_DIR} -name '*MPI-ESM1-2-HR*' -type f  #| wc -l\";\n",
       "                var nbb_cells = Jupyter.notebook.get_cells();\n",
       "                for (var i = 0; i < nbb_cells.length; ++i) {\n",
       "                    if (nbb_cells[i].input_prompt_number == nbb_cell_id) {\n",
       "                        if (nbb_cells[i].get_text() == nbb_unformatted_code) {\n",
       "                             nbb_cells[i].set_text(nbb_formatted_code);\n",
       "                        }\n",
       "                        break;\n",
       "                    }\n",
       "                }\n",
       "            }, 500);\n",
       "            "
      ],
      "text/plain": [
       "<IPython.core.display.Javascript object>"
      ]
     },
     "metadata": {},
     "output_type": "display_data"
    }
   ],
   "source": [
    "!find {CRUNCH_DIR} -name '*MPI-ESM1-2-HR*' -type f  #| wc -l"
   ]
  },
  {
   "cell_type": "code",
   "execution_count": 18,
   "id": "later-technical",
   "metadata": {},
   "outputs": [
    {
     "name": "stdout",
     "output_type": "stream",
     "text": [
      "AS-RCEC  CCCma\t       CSIRO-ARCCSS\t    INM    MPI-M      NIMS-KMA\t UA\r\n",
      "AWI\t CCCR-IITM     E3SM-Project\t    IPSL   MRI\t      NOAA-GFDL\r\n",
      "BCC\t CMCC\t       EC-Earth-Consortium  KIOST  NASA-GISS  NUIST\r\n",
      "CAMS\t CNRM-CERFACS  FIO-QLNM\t\t    MIROC  NCAR       SNU\r\n",
      "CAS\t CSIRO\t       HAMMOZ-Consortium    MOHC   NCC\t      THU\r\n"
     ]
    },
    {
     "data": {
      "application/javascript": [
       "\n",
       "            setTimeout(function() {\n",
       "                var nbb_cell_id = 18;\n",
       "                var nbb_unformatted_code = \"!ls /data/cmip6/CMIP6/CMIP/\";\n",
       "                var nbb_formatted_code = \"!ls /data/cmip6/CMIP6/CMIP/\";\n",
       "                var nbb_cells = Jupyter.notebook.get_cells();\n",
       "                for (var i = 0; i < nbb_cells.length; ++i) {\n",
       "                    if (nbb_cells[i].input_prompt_number == nbb_cell_id) {\n",
       "                        if (nbb_cells[i].get_text() == nbb_unformatted_code) {\n",
       "                             nbb_cells[i].set_text(nbb_formatted_code);\n",
       "                        }\n",
       "                        break;\n",
       "                    }\n",
       "                }\n",
       "            }, 500);\n",
       "            "
      ],
      "text/plain": [
       "<IPython.core.display.Javascript object>"
      ]
     },
     "metadata": {},
     "output_type": "display_data"
    }
   ],
   "source": [
    "!ls /data/cmip6/CMIP6/CMIP/"
   ]
  },
  {
   "cell_type": "code",
   "execution_count": null,
   "id": "particular-diesel",
   "metadata": {},
   "outputs": [],
   "source": [
    "# parent_variant r2i1p1f1 doesn't exist...\n",
    "!ncdump -h ./country-crunch/netcdf-scm-crunched/CMIP6/CMIP/THU/CIESM/historical/r1i1p1f1/Amon/tas/gr/v20200417/netcdf-scm_tas_Amon_CIESM_historical_r1i1p1f1_gr_185001-201412.nc | grep parent"
   ]
  },
  {
   "cell_type": "code",
   "execution_count": null,
   "id": "collected-monday",
   "metadata": {},
   "outputs": [],
   "source": [
    "# branch time units wrong?\n",
    "./country-crunch/netcdf-scm-crunched/CMIP6/ScenarioMIP/NUIST/NESM3/ssp585/r1i1p1f1/Amon/tas/gn/v20190728/netcdf-scm_tas_Amon_NESM3_ssp585_r1i1p1f1_gn_201501-210012.nc\n",
    "\n",
    "# piControl too short\n",
    "./country-crunch/netcdf-scm-crunched/CMIP6/ScenarioMIP/BCC/BCC-CSM2-MR/ssp585/r1i1p1f1/Amon/tas/gn/v20190314/netcdf-scm_tas_Amon_BCC-CSM2-MR_ssp585_r1i1p1f1_gn_201501-210012.nc\n",
    "\n",
    "# key error, branch_time_in_parent\n",
    "./country-crunch/netcdf-scm-crunched/CMIP6/ScenarioMIP/NCAR/CESM2-WACCM/ssp585/r1i1p1f1/Amon/tas/gn/v20200702/netcdf-scm_tas_Amon_CESM2-WACCM_ssp585_r1i1p1f1_gn_201501-229912.nc\n",
    "\n",
    "# Branching time `185804` not available in piControl data in ./country-crunch/netcdf-scm-crunched/CMIP6/CMIP/CAMS/CAMS-CSM1-0/piControl/r1i1p1f1/Amon/tas/gn/v20190729/netcdf-scm_tas_Amon_CAMS-CSM1-0_piControl_r1i1p1f1_gn_290001-339912.nc\n",
    "./country-crunch/netcdf-scm-crunched/CMIP6/ScenarioMIP/CAMS/CAMS-CSM1-0/ssp126/r1i1p1f1/Amon/tas/gn/v20190708/netcdf-scm_tas_Amon_CAMS-CSM1-0_ssp126_r1i1p1f1_gn_201501-209912.nc\n",
    "\n",
    "# Branching time `003410` not available in piControl data in ./country-crunch/netcdf-scm-crunched/CMIP6/CMIP/CAS/FGOALS-f3-L/piControl/r1i1p1f1/Amon/tas/gr/v20191029/netcdf-scm_tas_Amon_FGOALS-f3-L_piControl_r1i1p1f1_gr_060001-116012.nc\n",
    "./country-crunch/netcdf-scm-crunched/CMIP6/ScenarioMIP/CAS/FGOALS-f3-L/ssp585/r1i1p1f1/Amon/tas/gr/v20191013/netcdf-scm_tas_Amon_FGOALS-f3-L_ssp585_r1i1p1f1_gr_201501-210012.nc\n",
    "\n",
    "# Branching time `232001` not available in piControl data in ./country-crunch/netcdf-scm-crunched/CMIP6/CMIP/AS-RCEC/TaiESM1/piControl/r1i1p1f1/Amon/tas/gn/v20200211/netcdf-scm_tas_Amon_TaiESM1_piControl_r1i1p1f1_gn_020101-070012.nc\n",
    "./country-crunch/netcdf-scm-crunched/CMIP6/ScenarioMIP/AS-RCEC/TaiESM1/ssp585/r1i1p1f1/Amon/tas/gn/v20200901/netcdf-scm_tas_Amon_TaiESM1_ssp585_r1i1p1f1_gn_201501-210012.nc\n",
    "\n"
   ]
  },
  {
   "cell_type": "code",
   "execution_count": null,
   "id": "moral-thread",
   "metadata": {},
   "outputs": [],
   "source": [
    "len(all_errors)"
   ]
  }
 ],
 "metadata": {
  "kernelspec": {
   "display_name": "Python 3",
   "language": "python",
   "name": "python3"
  },
  "language_info": {
   "codemirror_mode": {
    "name": "ipython",
    "version": 3
   },
   "file_extension": ".py",
   "mimetype": "text/x-python",
   "name": "python",
   "nbconvert_exporter": "python",
   "pygments_lexer": "ipython3",
   "version": "3.8.8"
  }
 },
 "nbformat": 4,
 "nbformat_minor": 5
}
