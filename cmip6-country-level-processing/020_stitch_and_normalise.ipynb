{
 "cells": [
  {
   "cell_type": "markdown",
   "id": "inclusive-israeli",
   "metadata": {},
   "source": [
    "# Stitch and normalise"
   ]
  },
  {
   "cell_type": "code",
   "execution_count": 30,
   "id": "dried-dover",
   "metadata": {},
   "outputs": [
    {
     "name": "stdout",
     "output_type": "stream",
     "text": [
      "The nb_black extension is already loaded. To reload it, use:\n",
      "  %reload_ext nb_black\n"
     ]
    },
    {
     "data": {
      "application/javascript": [
       "\n",
       "            setTimeout(function() {\n",
       "                var nbb_cell_id = 30;\n",
       "                var nbb_unformatted_code = \"%load_ext nb_black\";\n",
       "                var nbb_formatted_code = \"%load_ext nb_black\";\n",
       "                var nbb_cells = Jupyter.notebook.get_cells();\n",
       "                for (var i = 0; i < nbb_cells.length; ++i) {\n",
       "                    if (nbb_cells[i].input_prompt_number == nbb_cell_id) {\n",
       "                        if (nbb_cells[i].get_text() == nbb_unformatted_code) {\n",
       "                             nbb_cells[i].set_text(nbb_formatted_code);\n",
       "                        }\n",
       "                        break;\n",
       "                    }\n",
       "                }\n",
       "            }, 500);\n",
       "            "
      ],
      "text/plain": [
       "<IPython.core.display.Javascript object>"
      ]
     },
     "metadata": {},
     "output_type": "display_data"
    }
   ],
   "source": [
    "%load_ext nb_black"
   ]
  },
  {
   "cell_type": "code",
   "execution_count": 31,
   "id": "specific-connectivity",
   "metadata": {},
   "outputs": [
    {
     "data": {
      "application/javascript": [
       "\n",
       "            setTimeout(function() {\n",
       "                var nbb_cell_id = 31;\n",
       "                var nbb_unformatted_code = \"import glob\\nimport os\\nimport os.path\\nimport re\\nimport traceback\\nimport warnings\\nfrom concurrent.futures import as_completed, ProcessPoolExecutor\\nfrom multiprocessing import Pool\\nfrom time import sleep\\n\\nimport netcdf_scm.retractions\\nimport netcdf_scm.stitching\\nimport scmdata\\nimport tqdm.autonotebook as tqdman\\nimport xarray as xr\";\n",
       "                var nbb_formatted_code = \"import glob\\nimport os\\nimport os.path\\nimport re\\nimport traceback\\nimport warnings\\nfrom concurrent.futures import as_completed, ProcessPoolExecutor\\nfrom multiprocessing import Pool\\nfrom time import sleep\\n\\nimport netcdf_scm.retractions\\nimport netcdf_scm.stitching\\nimport scmdata\\nimport tqdm.autonotebook as tqdman\\nimport xarray as xr\";\n",
       "                var nbb_cells = Jupyter.notebook.get_cells();\n",
       "                for (var i = 0; i < nbb_cells.length; ++i) {\n",
       "                    if (nbb_cells[i].input_prompt_number == nbb_cell_id) {\n",
       "                        if (nbb_cells[i].get_text() == nbb_unformatted_code) {\n",
       "                             nbb_cells[i].set_text(nbb_formatted_code);\n",
       "                        }\n",
       "                        break;\n",
       "                    }\n",
       "                }\n",
       "            }, 500);\n",
       "            "
      ],
      "text/plain": [
       "<IPython.core.display.Javascript object>"
      ]
     },
     "metadata": {},
     "output_type": "display_data"
    }
   ],
   "source": [
    "import glob\n",
    "import os\n",
    "import os.path\n",
    "import re\n",
    "import traceback\n",
    "import warnings\n",
    "from concurrent.futures import as_completed, ProcessPoolExecutor\n",
    "from multiprocessing import Pool\n",
    "from time import sleep\n",
    "\n",
    "import netcdf_scm.retractions\n",
    "import netcdf_scm.stitching\n",
    "import scmdata\n",
    "import tqdm.autonotebook as tqdman\n",
    "import xarray as xr"
   ]
  },
  {
   "cell_type": "code",
   "execution_count": 32,
   "id": "secondary-peninsula",
   "metadata": {},
   "outputs": [
    {
     "data": {
      "application/javascript": [
       "\n",
       "            setTimeout(function() {\n",
       "                var nbb_cell_id = 32;\n",
       "                var nbb_unformatted_code = \"RUN_CHECK = False\";\n",
       "                var nbb_formatted_code = \"RUN_CHECK = False\";\n",
       "                var nbb_cells = Jupyter.notebook.get_cells();\n",
       "                for (var i = 0; i < nbb_cells.length; ++i) {\n",
       "                    if (nbb_cells[i].input_prompt_number == nbb_cell_id) {\n",
       "                        if (nbb_cells[i].get_text() == nbb_unformatted_code) {\n",
       "                             nbb_cells[i].set_text(nbb_formatted_code);\n",
       "                        }\n",
       "                        break;\n",
       "                    }\n",
       "                }\n",
       "            }, 500);\n",
       "            "
      ],
      "text/plain": [
       "<IPython.core.display.Javascript object>"
      ]
     },
     "metadata": {},
     "output_type": "display_data"
    }
   ],
   "source": [
    "RUN_CHECK = False"
   ]
  },
  {
   "cell_type": "code",
   "execution_count": 33,
   "id": "attached-cookie",
   "metadata": {},
   "outputs": [
    {
     "data": {
      "application/javascript": [
       "\n",
       "            setTimeout(function() {\n",
       "                var nbb_cell_id = 33;\n",
       "                var nbb_unformatted_code = \"CRUNCH_DIR = \\\"./country-crunch\\\"\\nSTITCHED_DIR = \\\"./country-crunch-stitched\\\"\\nSTITCHED_NORMALISED_DIR = \\\"./country-crunch-stitched-normalised\\\"\\nMAX_WORKERS = 60\";\n",
       "                var nbb_formatted_code = \"CRUNCH_DIR = \\\"./country-crunch\\\"\\nSTITCHED_DIR = \\\"./country-crunch-stitched\\\"\\nSTITCHED_NORMALISED_DIR = \\\"./country-crunch-stitched-normalised\\\"\\nMAX_WORKERS = 60\";\n",
       "                var nbb_cells = Jupyter.notebook.get_cells();\n",
       "                for (var i = 0; i < nbb_cells.length; ++i) {\n",
       "                    if (nbb_cells[i].input_prompt_number == nbb_cell_id) {\n",
       "                        if (nbb_cells[i].get_text() == nbb_unformatted_code) {\n",
       "                             nbb_cells[i].set_text(nbb_formatted_code);\n",
       "                        }\n",
       "                        break;\n",
       "                    }\n",
       "                }\n",
       "            }, 500);\n",
       "            "
      ],
      "text/plain": [
       "<IPython.core.display.Javascript object>"
      ]
     },
     "metadata": {},
     "output_type": "display_data"
    }
   ],
   "source": [
    "CRUNCH_DIR = \"./country-crunch\"\n",
    "STITCHED_DIR = \"./country-crunch-stitched\"\n",
    "STITCHED_NORMALISED_DIR = \"./country-crunch-stitched-normalised\"\n",
    "MAX_WORKERS = 60"
   ]
  },
  {
   "cell_type": "code",
   "execution_count": 34,
   "id": "editorial-automation",
   "metadata": {},
   "outputs": [
    {
     "data": {
      "application/javascript": [
       "\n",
       "            setTimeout(function() {\n",
       "                var nbb_cell_id = 34;\n",
       "                var nbb_unformatted_code = \"!mkdir -p {STITCHED_DIR}\\n!mkdir -p {STITCHED_NORMALISED_DIR}\";\n",
       "                var nbb_formatted_code = \"!mkdir -p {STITCHED_DIR}\\n!mkdir -p {STITCHED_NORMALISED_DIR}\";\n",
       "                var nbb_cells = Jupyter.notebook.get_cells();\n",
       "                for (var i = 0; i < nbb_cells.length; ++i) {\n",
       "                    if (nbb_cells[i].input_prompt_number == nbb_cell_id) {\n",
       "                        if (nbb_cells[i].get_text() == nbb_unformatted_code) {\n",
       "                             nbb_cells[i].set_text(nbb_formatted_code);\n",
       "                        }\n",
       "                        break;\n",
       "                    }\n",
       "                }\n",
       "            }, 500);\n",
       "            "
      ],
      "text/plain": [
       "<IPython.core.display.Javascript object>"
      ]
     },
     "metadata": {},
     "output_type": "display_data"
    }
   ],
   "source": [
    "!mkdir -p {STITCHED_DIR}\n",
    "!mkdir -p {STITCHED_NORMALISED_DIR}"
   ]
  },
  {
   "cell_type": "code",
   "execution_count": 35,
   "id": "several-waterproof",
   "metadata": {},
   "outputs": [
    {
     "data": {
      "text/plain": [
       "487"
      ]
     },
     "metadata": {},
     "output_type": "display_data"
    },
    {
     "data": {
      "text/plain": [
       "['./country-crunch/netcdf-scm-crunched/CMIP6/ScenarioMIP/BCC/BCC-CSM2-MR/ssp370/r1i1p1f1/Amon/tas/gn/v20190314/netcdf-scm_tas_Amon_BCC-CSM2-MR_ssp370_r1i1p1f1_gn_201501-210012.nc',\n",
       " './country-crunch/netcdf-scm-crunched/CMIP6/ScenarioMIP/BCC/BCC-CSM2-MR/ssp585/r1i1p1f1/Amon/tas/gn/v20190314/netcdf-scm_tas_Amon_BCC-CSM2-MR_ssp585_r1i1p1f1_gn_201501-210012.nc']"
      ]
     },
     "execution_count": 35,
     "metadata": {},
     "output_type": "execute_result"
    },
    {
     "data": {
      "application/javascript": [
       "\n",
       "            setTimeout(function() {\n",
       "                var nbb_cell_id = 35;\n",
       "                var nbb_unformatted_code = \"ssp_files = [\\n    f\\n    for f in glob.glob(os.path.join(CRUNCH_DIR, \\\"**\\\", \\\"*.nc\\\"), recursive=True)\\n    if \\\"ssp\\\" in f and \\\"ssp245-\\\" not in f\\n]\\n# ssp_files = [f for f in glob.glob(os.path.join(CRUNCH_DIR, \\\"**\\\", \\\"*.nc\\\"), recursive=True) if \\\"ssp\\\" in f]\\ndisplay(len(ssp_files))\\nssp_files[:2]\";\n",
       "                var nbb_formatted_code = \"ssp_files = [\\n    f\\n    for f in glob.glob(os.path.join(CRUNCH_DIR, \\\"**\\\", \\\"*.nc\\\"), recursive=True)\\n    if \\\"ssp\\\" in f and \\\"ssp245-\\\" not in f\\n]\\n# ssp_files = [f for f in glob.glob(os.path.join(CRUNCH_DIR, \\\"**\\\", \\\"*.nc\\\"), recursive=True) if \\\"ssp\\\" in f]\\ndisplay(len(ssp_files))\\nssp_files[:2]\";\n",
       "                var nbb_cells = Jupyter.notebook.get_cells();\n",
       "                for (var i = 0; i < nbb_cells.length; ++i) {\n",
       "                    if (nbb_cells[i].input_prompt_number == nbb_cell_id) {\n",
       "                        if (nbb_cells[i].get_text() == nbb_unformatted_code) {\n",
       "                             nbb_cells[i].set_text(nbb_formatted_code);\n",
       "                        }\n",
       "                        break;\n",
       "                    }\n",
       "                }\n",
       "            }, 500);\n",
       "            "
      ],
      "text/plain": [
       "<IPython.core.display.Javascript object>"
      ]
     },
     "metadata": {},
     "output_type": "display_data"
    }
   ],
   "source": [
    "ssp_files = [\n",
    "    f\n",
    "    for f in glob.glob(os.path.join(CRUNCH_DIR, \"**\", \"*.nc\"), recursive=True)\n",
    "    if \"ssp\" in f and \"ssp245-\" not in f\n",
    "]\n",
    "# ssp_files = [f for f in glob.glob(os.path.join(CRUNCH_DIR, \"**\", \"*.nc\"), recursive=True) if \"ssp\" in f]\n",
    "display(len(ssp_files))\n",
    "ssp_files[:2]"
   ]
  },
  {
   "cell_type": "code",
   "execution_count": 36,
   "id": "guided-moscow",
   "metadata": {},
   "outputs": [
    {
     "data": {
      "text/plain": [
       "'./country-crunch/netcdf-scm-crunched/CMIP6/AerChemMIP/MIROC/MIROC6/ssp370-lowNTCF/r3i1p1f1/Amon/tas/gn/v20190807/netcdf-scm_tas_Amon_MIROC6_ssp370-lowNTCF_r3i1p1f1_gn_201501-205512.nc'"
      ]
     },
     "execution_count": 36,
     "metadata": {},
     "output_type": "execute_result"
    },
    {
     "data": {
      "application/javascript": [
       "\n",
       "            setTimeout(function() {\n",
       "                var nbb_cell_id = 36;\n",
       "                var nbb_unformatted_code = \"ssp_files[-1]\";\n",
       "                var nbb_formatted_code = \"ssp_files[-1]\";\n",
       "                var nbb_cells = Jupyter.notebook.get_cells();\n",
       "                for (var i = 0; i < nbb_cells.length; ++i) {\n",
       "                    if (nbb_cells[i].input_prompt_number == nbb_cell_id) {\n",
       "                        if (nbb_cells[i].get_text() == nbb_unformatted_code) {\n",
       "                             nbb_cells[i].set_text(nbb_formatted_code);\n",
       "                        }\n",
       "                        break;\n",
       "                    }\n",
       "                }\n",
       "            }, 500);\n",
       "            "
      ],
      "text/plain": [
       "<IPython.core.display.Javascript object>"
      ]
     },
     "metadata": {},
     "output_type": "display_data"
    }
   ],
   "source": [
    "ssp_files[-1]"
   ]
  },
  {
   "cell_type": "code",
   "execution_count": 37,
   "id": "parental-conservative",
   "metadata": {},
   "outputs": [
    {
     "data": {
      "text/plain": [
       "47"
      ]
     },
     "metadata": {},
     "output_type": "display_data"
    },
    {
     "name": "stdout",
     "output_type": "stream",
     "text": [
      "ACCESS-CM2\n",
      "ACCESS-ESM1-5\n",
      "AWI-CM-1-1-MR\n",
      "BCC-CSM2-MR\n",
      "BCC-ESM1\n",
      "CAMS-CSM1-0\n",
      "CAS-ESM2-0\n",
      "CESM2\n",
      "CESM2-WACCM\n",
      "CIESM\n",
      "CMCC-CM2-SR5\n",
      "CMCC-ESM2\n",
      "CNRM-CM6-1\n",
      "CNRM-CM6-1-HR\n",
      "CNRM-ESM2-1\n",
      "CanESM5\n",
      "CanESM5-CanOE\n",
      "E3SM-1-1\n",
      "EC-Earth3\n",
      "EC-Earth3-CC\n",
      "EC-Earth3-Veg\n",
      "EC-Earth3-Veg-LR\n",
      "FGOALS-f3-L\n",
      "FGOALS-g3\n",
      "FIO-ESM-2-0\n",
      "GFDL-CM4\n",
      "GFDL-ESM4\n",
      "GISS-E2-1-G\n",
      "HadGEM3-GC31-LL\n",
      "HadGEM3-GC31-MM\n",
      "IITM-ESM\n",
      "INM-CM4-8\n",
      "INM-CM5-0\n",
      "IPSL-CM6A-LR\n",
      "KACE-1-0-G\n",
      "KIOST-ESM\n",
      "MIROC-ES2L\n",
      "MIROC6\n",
      "MPI-ESM-1-2-HAM\n",
      "MPI-ESM1-2-HR\n",
      "MPI-ESM1-2-LR\n",
      "MRI-ESM2-0\n",
      "NESM3\n",
      "NorESM2-LM\n",
      "NorESM2-MM\n",
      "TaiESM1\n",
      "UKESM1-0-LL\n"
     ]
    },
    {
     "data": {
      "application/javascript": [
       "\n",
       "            setTimeout(function() {\n",
       "                var nbb_cell_id = 37;\n",
       "                var nbb_unformatted_code = \"cms = set([f.split(os.sep)[6] for f in ssp_files])\\ndisplay(len(cms))\\nprint(\\\"\\\\n\\\".join(sorted(cms)))\";\n",
       "                var nbb_formatted_code = \"cms = set([f.split(os.sep)[6] for f in ssp_files])\\ndisplay(len(cms))\\nprint(\\\"\\\\n\\\".join(sorted(cms)))\";\n",
       "                var nbb_cells = Jupyter.notebook.get_cells();\n",
       "                for (var i = 0; i < nbb_cells.length; ++i) {\n",
       "                    if (nbb_cells[i].input_prompt_number == nbb_cell_id) {\n",
       "                        if (nbb_cells[i].get_text() == nbb_unformatted_code) {\n",
       "                             nbb_cells[i].set_text(nbb_formatted_code);\n",
       "                        }\n",
       "                        break;\n",
       "                    }\n",
       "                }\n",
       "            }, 500);\n",
       "            "
      ],
      "text/plain": [
       "<IPython.core.display.Javascript object>"
      ]
     },
     "metadata": {},
     "output_type": "display_data"
    }
   ],
   "source": [
    "cms = set([f.split(os.sep)[6] for f in ssp_files])\n",
    "display(len(cms))\n",
    "print(\"\\n\".join(sorted(cms)))"
   ]
  },
  {
   "cell_type": "code",
   "execution_count": 38,
   "id": "toxic-freeware",
   "metadata": {},
   "outputs": [
    {
     "data": {
      "application/vnd.jupyter.widget-view+json": {
       "model_id": "8c4fb24ec9254bb8a577ff10ecb54637",
       "version_major": 2,
       "version_minor": 0
      },
      "text/plain": [
       "Querying ESGF (submitting jobs):   0%|          | 0/25 [00:00<?, ?it/s]"
      ]
     },
     "metadata": {},
     "output_type": "display_data"
    },
    {
     "data": {
      "application/vnd.jupyter.widget-view+json": {
       "model_id": "6b94f3d08edc4f05b7117b22c4cffb9c",
       "version_major": 2,
       "version_minor": 0
      },
      "text/plain": [
       "Retrieving results from ESGF jobs:   0%|          | 0/25 [00:00<?, ?it/s]"
      ]
     },
     "metadata": {},
     "output_type": "display_data"
    },
    {
     "data": {
      "text/plain": [
       "['./country-crunch/netcdf-scm-crunched/CMIP6/ScenarioMIP/EC-Earth-Consortium/EC-Earth3-Veg/ssp119/r1i1p1f1/Amon/tas/gr/v20190711/netcdf-scm_tas_Amon_EC-Earth3-Veg_ssp119_r1i1p1f1_gr_201501-210012.nc',\n",
       " './country-crunch/netcdf-scm-crunched/CMIP6/ScenarioMIP/EC-Earth-Consortium/EC-Earth3-Veg/ssp126/r1i1p1f1/Amon/tas/gr/v20190629/netcdf-scm_tas_Amon_EC-Earth3-Veg_ssp126_r1i1p1f1_gr_201501-210012.nc',\n",
       " './country-crunch/netcdf-scm-crunched/CMIP6/ScenarioMIP/EC-Earth-Consortium/EC-Earth3-Veg/ssp126/r2i1p1f1/Amon/tas/gr/v20190925/netcdf-scm_tas_Amon_EC-Earth3-Veg_ssp126_r2i1p1f1_gr_201501-210012.nc',\n",
       " './country-crunch/netcdf-scm-crunched/CMIP6/ScenarioMIP/EC-Earth-Consortium/EC-Earth3-Veg/ssp126/r4i1p1f1/Amon/tas/gr/v20190915/netcdf-scm_tas_Amon_EC-Earth3-Veg_ssp126_r4i1p1f1_gr_201501-210012.nc',\n",
       " './country-crunch/netcdf-scm-crunched/CMIP6/ScenarioMIP/EC-Earth-Consortium/EC-Earth3-Veg/ssp245/r1i1p1f1/Amon/tas/gr/v20190629/netcdf-scm_tas_Amon_EC-Earth3-Veg_ssp245_r1i1p1f1_gr_201501-210012.nc',\n",
       " './country-crunch/netcdf-scm-crunched/CMIP6/ScenarioMIP/EC-Earth-Consortium/EC-Earth3-Veg/ssp245/r2i1p1f1/Amon/tas/gr/v20190925/netcdf-scm_tas_Amon_EC-Earth3-Veg_ssp245_r2i1p1f1_gr_201501-210012.nc',\n",
       " './country-crunch/netcdf-scm-crunched/CMIP6/ScenarioMIP/EC-Earth-Consortium/EC-Earth3-Veg/ssp245/r4i1p1f1/Amon/tas/gr/v20190915/netcdf-scm_tas_Amon_EC-Earth3-Veg_ssp245_r4i1p1f1_gr_201501-210012.nc',\n",
       " './country-crunch/netcdf-scm-crunched/CMIP6/ScenarioMIP/EC-Earth-Consortium/EC-Earth3-Veg/ssp370/r1i1p1f1/Amon/tas/gr/v20190629/netcdf-scm_tas_Amon_EC-Earth3-Veg_ssp370_r1i1p1f1_gr_201501-210012.nc',\n",
       " './country-crunch/netcdf-scm-crunched/CMIP6/ScenarioMIP/EC-Earth-Consortium/EC-Earth3-Veg/ssp370/r2i1p1f1/Amon/tas/gr/v20190925/netcdf-scm_tas_Amon_EC-Earth3-Veg_ssp370_r2i1p1f1_gr_201501-210012.nc',\n",
       " './country-crunch/netcdf-scm-crunched/CMIP6/ScenarioMIP/EC-Earth-Consortium/EC-Earth3-Veg/ssp370/r4i1p1f1/Amon/tas/gr/v20190915/netcdf-scm_tas_Amon_EC-Earth3-Veg_ssp370_r4i1p1f1_gr_201501-210012.nc',\n",
       " './country-crunch/netcdf-scm-crunched/CMIP6/ScenarioMIP/EC-Earth-Consortium/EC-Earth3-Veg/ssp585/r1i1p1f1/Amon/tas/gr/v20190629/netcdf-scm_tas_Amon_EC-Earth3-Veg_ssp585_r1i1p1f1_gr_201501-210012.nc',\n",
       " './country-crunch/netcdf-scm-crunched/CMIP6/ScenarioMIP/EC-Earth-Consortium/EC-Earth3-Veg/ssp585/r2i1p1f1/Amon/tas/gr/v20190925/netcdf-scm_tas_Amon_EC-Earth3-Veg_ssp585_r2i1p1f1_gr_201501-210012.nc',\n",
       " './country-crunch/netcdf-scm-crunched/CMIP6/ScenarioMIP/EC-Earth-Consortium/EC-Earth3-Veg/ssp585/r4i1p1f1/Amon/tas/gr/v20190915/netcdf-scm_tas_Amon_EC-Earth3-Veg_ssp585_r4i1p1f1_gr_201501-210012.nc',\n",
       " './country-crunch/netcdf-scm-crunched/CMIP6/ScenarioMIP/EC-Earth-Consortium/EC-Earth3/ssp126/r11i1p1f1/Amon/tas/gr/v20190710/netcdf-scm_tas_Amon_EC-Earth3_ssp126_r11i1p1f1_gr_201501-210012.nc',\n",
       " './country-crunch/netcdf-scm-crunched/CMIP6/ScenarioMIP/EC-Earth-Consortium/EC-Earth3/ssp126/r1i1p1f1/Amon/tas/gr/v20190926/netcdf-scm_tas_Amon_EC-Earth3_ssp126_r1i1p1f1_gr_201501-210012.nc',\n",
       " './country-crunch/netcdf-scm-crunched/CMIP6/ScenarioMIP/EC-Earth-Consortium/EC-Earth3/ssp245/r1i1p1f1/Amon/tas/gr/v20190927/netcdf-scm_tas_Amon_EC-Earth3_ssp245_r1i1p1f1_gr_201501-210012.nc',\n",
       " './country-crunch/netcdf-scm-crunched/CMIP6/ScenarioMIP/EC-Earth-Consortium/EC-Earth3/ssp370/r1i1p1f1/Amon/tas/gr/v20190927/netcdf-scm_tas_Amon_EC-Earth3_ssp370_r1i1p1f1_gr_201501-210012.nc',\n",
       " './country-crunch/netcdf-scm-crunched/CMIP6/ScenarioMIP/EC-Earth-Consortium/EC-Earth3/ssp585/r1i1p1f1/Amon/tas/gr/v20190928/netcdf-scm_tas_Amon_EC-Earth3_ssp585_r1i1p1f1_gr_201501-210012.nc',\n",
       " './country-crunch/netcdf-scm-crunched/CMIP6/ScenarioMIP/IPSL/IPSL-CM6A-LR/ssp126/r1i1p1f1/Amon/tas/gr/v20190121/netcdf-scm_tas_Amon_IPSL-CM6A-LR_ssp126_r1i1p1f1_gr_201501-210012.nc',\n",
       " './country-crunch/netcdf-scm-crunched/CMIP6/ScenarioMIP/IPSL/IPSL-CM6A-LR/ssp585/r1i1p1f1/Amon/tas/gr/v20190119/netcdf-scm_tas_Amon_IPSL-CM6A-LR_ssp585_r1i1p1f1_gr_201501-210012.nc',\n",
       " './country-crunch/netcdf-scm-crunched/CMIP6/ScenarioMIP/NCAR/CESM2/ssp126/r1i1p1f1/Amon/tas/gn/v20190730/netcdf-scm_tas_Amon_CESM2_ssp126_r1i1p1f1_gn_201501-210012.nc',\n",
       " './country-crunch/netcdf-scm-crunched/CMIP6/ScenarioMIP/NCAR/CESM2/ssp126/r2i1p1f1/Amon/tas/gn/v20191106/netcdf-scm_tas_Amon_CESM2_ssp126_r2i1p1f1_gn_201501-210012.nc',\n",
       " './country-crunch/netcdf-scm-crunched/CMIP6/ScenarioMIP/NCAR/CESM2/ssp245/r1i1p1f1/Amon/tas/gn/v20190730/netcdf-scm_tas_Amon_CESM2_ssp245_r1i1p1f1_gn_201501-210012.nc',\n",
       " './country-crunch/netcdf-scm-crunched/CMIP6/ScenarioMIP/NCAR/CESM2/ssp245/r2i1p1f1/Amon/tas/gn/v20191106/netcdf-scm_tas_Amon_CESM2_ssp245_r2i1p1f1_gn_201501-210012.nc',\n",
       " './country-crunch/netcdf-scm-crunched/CMIP6/ScenarioMIP/NCAR/CESM2/ssp245/r3i1p1f1/Amon/tas/gn/v20191106/netcdf-scm_tas_Amon_CESM2_ssp245_r3i1p1f1_gn_201501-210012.nc',\n",
       " './country-crunch/netcdf-scm-crunched/CMIP6/ScenarioMIP/NCAR/CESM2/ssp370/r1i1p1f1/Amon/tas/gn/v20190730/netcdf-scm_tas_Amon_CESM2_ssp370_r1i1p1f1_gn_201501-210012.nc',\n",
       " './country-crunch/netcdf-scm-crunched/CMIP6/ScenarioMIP/NCAR/CESM2/ssp370/r2i1p1f1/Amon/tas/gn/v20190730/netcdf-scm_tas_Amon_CESM2_ssp370_r2i1p1f1_gn_201501-210012.nc',\n",
       " './country-crunch/netcdf-scm-crunched/CMIP6/ScenarioMIP/NCAR/CESM2/ssp585/r1i1p1f1/Amon/tas/gn/v20190730/netcdf-scm_tas_Amon_CESM2_ssp585_r1i1p1f1_gn_201501-210012.nc',\n",
       " './country-crunch/netcdf-scm-crunched/CMIP6/ScenarioMIP/NCAR/CESM2/ssp585/r2i1p1f1/Amon/tas/gn/v20190730/netcdf-scm_tas_Amon_CESM2_ssp585_r2i1p1f1_gn_201501-210012.nc']"
      ]
     },
     "execution_count": 38,
     "metadata": {},
     "output_type": "execute_result"
    },
    {
     "data": {
      "application/javascript": [
       "\n",
       "            setTimeout(function() {\n",
       "                var nbb_cell_id = 38;\n",
       "                var nbb_unformatted_code = \"# TODO: move this into netcdf_scm\\nretracted_ids = netcdf_scm.retractions.check_retractions(\\n    [\\\".\\\".join(f.split(os.sep)[3:-1]) for f in ssp_files], esgf_query_batch_size=20\\n)\\nretracted_files = []\\nfor i in retracted_ids:\\n    retracted_dir = os.path.join(\\n        CRUNCH_DIR, \\\"netcdf-scm-crunched\\\", i.replace(\\\".\\\", os.sep)\\n    )\\n    retracted_files_dir = os.listdir(retracted_dir)\\n    assert len(retracted_files_dir) == 1\\n    retracted_files.append(os.path.join(retracted_dir, retracted_files_dir[0]))\\n\\nsorted(retracted_files)\";\n",
       "                var nbb_formatted_code = \"# TODO: move this into netcdf_scm\\nretracted_ids = netcdf_scm.retractions.check_retractions(\\n    [\\\".\\\".join(f.split(os.sep)[3:-1]) for f in ssp_files], esgf_query_batch_size=20\\n)\\nretracted_files = []\\nfor i in retracted_ids:\\n    retracted_dir = os.path.join(\\n        CRUNCH_DIR, \\\"netcdf-scm-crunched\\\", i.replace(\\\".\\\", os.sep)\\n    )\\n    retracted_files_dir = os.listdir(retracted_dir)\\n    assert len(retracted_files_dir) == 1\\n    retracted_files.append(os.path.join(retracted_dir, retracted_files_dir[0]))\\n\\nsorted(retracted_files)\";\n",
       "                var nbb_cells = Jupyter.notebook.get_cells();\n",
       "                for (var i = 0; i < nbb_cells.length; ++i) {\n",
       "                    if (nbb_cells[i].input_prompt_number == nbb_cell_id) {\n",
       "                        if (nbb_cells[i].get_text() == nbb_unformatted_code) {\n",
       "                             nbb_cells[i].set_text(nbb_formatted_code);\n",
       "                        }\n",
       "                        break;\n",
       "                    }\n",
       "                }\n",
       "            }, 500);\n",
       "            "
      ],
      "text/plain": [
       "<IPython.core.display.Javascript object>"
      ]
     },
     "metadata": {},
     "output_type": "display_data"
    }
   ],
   "source": [
    "# TODO: move this into netcdf_scm\n",
    "retracted_ids = netcdf_scm.retractions.check_retractions(\n",
    "    [\".\".join(f.split(os.sep)[3:-1]) for f in ssp_files], esgf_query_batch_size=20\n",
    ")\n",
    "retracted_files = []\n",
    "for i in retracted_ids:\n",
    "    retracted_dir = os.path.join(\n",
    "        CRUNCH_DIR, \"netcdf-scm-crunched\", i.replace(\".\", os.sep)\n",
    "    )\n",
    "    retracted_files_dir = os.listdir(retracted_dir)\n",
    "    assert len(retracted_files_dir) == 1\n",
    "    retracted_files.append(os.path.join(retracted_dir, retracted_files_dir[0]))\n",
    "\n",
    "sorted(retracted_files)"
   ]
  },
  {
   "cell_type": "code",
   "execution_count": 39,
   "id": "excess-warning",
   "metadata": {},
   "outputs": [
    {
     "data": {
      "text/plain": [
       "458"
      ]
     },
     "metadata": {},
     "output_type": "display_data"
    },
    {
     "data": {
      "application/javascript": [
       "\n",
       "            setTimeout(function() {\n",
       "                var nbb_cell_id = 39;\n",
       "                var nbb_unformatted_code = \"ssp_files = [f for f in ssp_files if f not in retracted_files]\\ndisplay(len(ssp_files))\";\n",
       "                var nbb_formatted_code = \"ssp_files = [f for f in ssp_files if f not in retracted_files]\\ndisplay(len(ssp_files))\";\n",
       "                var nbb_cells = Jupyter.notebook.get_cells();\n",
       "                for (var i = 0; i < nbb_cells.length; ++i) {\n",
       "                    if (nbb_cells[i].input_prompt_number == nbb_cell_id) {\n",
       "                        if (nbb_cells[i].get_text() == nbb_unformatted_code) {\n",
       "                             nbb_cells[i].set_text(nbb_formatted_code);\n",
       "                        }\n",
       "                        break;\n",
       "                    }\n",
       "                }\n",
       "            }, 500);\n",
       "            "
      ],
      "text/plain": [
       "<IPython.core.display.Javascript object>"
      ]
     },
     "metadata": {},
     "output_type": "display_data"
    }
   ],
   "source": [
    "ssp_files = [f for f in ssp_files if f not in retracted_files]\n",
    "display(len(ssp_files))"
   ]
  },
  {
   "cell_type": "code",
   "execution_count": 40,
   "id": "dutch-footage",
   "metadata": {},
   "outputs": [
    {
     "data": {
      "application/javascript": [
       "\n",
       "            setTimeout(function() {\n",
       "                var nbb_cell_id = 40;\n",
       "                var nbb_unformatted_code = \"def stitch_and_normalise(f, catch=True, norm_years=21, normalise=True, verbose=False):\\n    def get_result():\\n        if verbose:\\n            print(f\\\"Loading and stitching {f}\\\")\\n        (\\n            scmrun,\\n            picontrol_branching_time,\\n            picontrol_file,\\n        ) = netcdf_scm.stitching.get_continuous_timeseries_with_meta(\\n            f, drs=\\\"CMIP6Output\\\", return_picontrol_info=normalise\\n        )\\n\\n        variable = scmrun.get_unique_meta(\\\"variable\\\", True)\\n        climate_model = scmrun.get_unique_meta(\\\"climate_model\\\", True)\\n        scenario = scmrun.get_unique_meta(\\\"scenario\\\", True)\\n        member_id = scmrun.get_unique_meta(\\\"member_id\\\", True)\\n\\n        min_time = scmrun[\\\"time\\\"].min()\\n        start_year = min_time.year\\n        start_month = min_time.month\\n\\n        max_time = scmrun[\\\"time\\\"].max()\\n        end_year = max_time.year\\n        end_month = max_time.month\\n\\n        table = os.path.basename(f).split(\\\"_\\\")[2]\\n        grid = os.path.basename(f).split(\\\"_\\\")[-2]\\n        out_name = f\\\"netcdf-scm_{variable}_Amon_{climate_model}_{scenario}_{member_id}_{grid}_{start_year}{start_month:02d}-{end_year}{end_month:02d}.nc\\\"\\n\\n        if normalise:\\n            out_file = os.path.join(STITCHED_NORMALISED_DIR, out_name)\\n        else:\\n            out_file = os.path.join(STITCHED_DIR, out_name)\\n\\n        if os.path.isfile(out_file):\\n            if verbose:\\n                print(f\\\"Out file already exists: {out_file}\\\")\\n            return None\\n\\n        if normalise:\\n            if verbose:\\n                print(f\\\"Loading {picontrol_file}\\\")\\n\\n            picontrol_scmrun = netcdf_scm.io.load_scmrun(picontrol_file)\\n            picontrol_scmrun.metadata[\\\"netcdf-scm crunched file\\\"] = picontrol_file\\n\\n            if verbose:\\n                print(f\\\"Normalising using {norm_years} years\\\")\\n\\n            normaliser = netcdf_scm.normalisation.NormaliserRunningMean(\\n                nyears=norm_years\\n            )\\n\\n            out = normaliser.normalise_against_picontrol(\\n                scmrun, picontrol_scmrun, picontrol_branching_time\\n            )\\n        else:\\n            out = scmrun\\n\\n        out[\\\"grid\\\"] = grid\\n\\n        out_to_disk = out.copy()\\n        out_to_disk.metadata = {\\n            k.replace(\\\"(\\\", \\\"\\\").replace(\\\")\\\", \\\"\\\"): v\\n            for k, v in out_to_disk.metadata.items()\\n        }\\n\\n        if verbose:\\n            print(f\\\"Saving to {out_file}\\\")\\n\\n        out_to_disk.to_nc(out_file)\\n\\n        return None\\n\\n    if catch:\\n        with warnings.catch_warnings():\\n            warnings.simplefilter(\\\"ignore\\\")\\n\\n            try:\\n                return get_result()\\n            except Exception as exc:\\n                raise ValueError(\\\"File failed: {}\\\".format(f)) from exc\\n    else:\\n        return get_result()\";\n",
       "                var nbb_formatted_code = \"def stitch_and_normalise(f, catch=True, norm_years=21, normalise=True, verbose=False):\\n    def get_result():\\n        if verbose:\\n            print(f\\\"Loading and stitching {f}\\\")\\n        (\\n            scmrun,\\n            picontrol_branching_time,\\n            picontrol_file,\\n        ) = netcdf_scm.stitching.get_continuous_timeseries_with_meta(\\n            f, drs=\\\"CMIP6Output\\\", return_picontrol_info=normalise\\n        )\\n\\n        variable = scmrun.get_unique_meta(\\\"variable\\\", True)\\n        climate_model = scmrun.get_unique_meta(\\\"climate_model\\\", True)\\n        scenario = scmrun.get_unique_meta(\\\"scenario\\\", True)\\n        member_id = scmrun.get_unique_meta(\\\"member_id\\\", True)\\n\\n        min_time = scmrun[\\\"time\\\"].min()\\n        start_year = min_time.year\\n        start_month = min_time.month\\n\\n        max_time = scmrun[\\\"time\\\"].max()\\n        end_year = max_time.year\\n        end_month = max_time.month\\n\\n        table = os.path.basename(f).split(\\\"_\\\")[2]\\n        grid = os.path.basename(f).split(\\\"_\\\")[-2]\\n        out_name = f\\\"netcdf-scm_{variable}_Amon_{climate_model}_{scenario}_{member_id}_{grid}_{start_year}{start_month:02d}-{end_year}{end_month:02d}.nc\\\"\\n\\n        if normalise:\\n            out_file = os.path.join(STITCHED_NORMALISED_DIR, out_name)\\n        else:\\n            out_file = os.path.join(STITCHED_DIR, out_name)\\n\\n        if os.path.isfile(out_file):\\n            if verbose:\\n                print(f\\\"Out file already exists: {out_file}\\\")\\n            return None\\n\\n        if normalise:\\n            if verbose:\\n                print(f\\\"Loading {picontrol_file}\\\")\\n\\n            picontrol_scmrun = netcdf_scm.io.load_scmrun(picontrol_file)\\n            picontrol_scmrun.metadata[\\\"netcdf-scm crunched file\\\"] = picontrol_file\\n\\n            if verbose:\\n                print(f\\\"Normalising using {norm_years} years\\\")\\n\\n            normaliser = netcdf_scm.normalisation.NormaliserRunningMean(\\n                nyears=norm_years\\n            )\\n\\n            out = normaliser.normalise_against_picontrol(\\n                scmrun, picontrol_scmrun, picontrol_branching_time\\n            )\\n        else:\\n            out = scmrun\\n\\n        out[\\\"grid\\\"] = grid\\n\\n        out_to_disk = out.copy()\\n        out_to_disk.metadata = {\\n            k.replace(\\\"(\\\", \\\"\\\").replace(\\\")\\\", \\\"\\\"): v\\n            for k, v in out_to_disk.metadata.items()\\n        }\\n\\n        if verbose:\\n            print(f\\\"Saving to {out_file}\\\")\\n\\n        out_to_disk.to_nc(out_file)\\n\\n        return None\\n\\n    if catch:\\n        with warnings.catch_warnings():\\n            warnings.simplefilter(\\\"ignore\\\")\\n\\n            try:\\n                return get_result()\\n            except Exception as exc:\\n                raise ValueError(\\\"File failed: {}\\\".format(f)) from exc\\n    else:\\n        return get_result()\";\n",
       "                var nbb_cells = Jupyter.notebook.get_cells();\n",
       "                for (var i = 0; i < nbb_cells.length; ++i) {\n",
       "                    if (nbb_cells[i].input_prompt_number == nbb_cell_id) {\n",
       "                        if (nbb_cells[i].get_text() == nbb_unformatted_code) {\n",
       "                             nbb_cells[i].set_text(nbb_formatted_code);\n",
       "                        }\n",
       "                        break;\n",
       "                    }\n",
       "                }\n",
       "            }, 500);\n",
       "            "
      ],
      "text/plain": [
       "<IPython.core.display.Javascript object>"
      ]
     },
     "metadata": {},
     "output_type": "display_data"
    }
   ],
   "source": [
    "def stitch_and_normalise(f, catch=True, norm_years=21, normalise=True, verbose=False):\n",
    "    def get_result():\n",
    "        if verbose:\n",
    "            print(f\"Loading and stitching {f}\")\n",
    "        (\n",
    "            scmrun,\n",
    "            picontrol_branching_time,\n",
    "            picontrol_file,\n",
    "        ) = netcdf_scm.stitching.get_continuous_timeseries_with_meta(\n",
    "            f, drs=\"CMIP6Output\", return_picontrol_info=normalise\n",
    "        )\n",
    "\n",
    "        variable = scmrun.get_unique_meta(\"variable\", True)\n",
    "        climate_model = scmrun.get_unique_meta(\"climate_model\", True)\n",
    "        scenario = scmrun.get_unique_meta(\"scenario\", True)\n",
    "        member_id = scmrun.get_unique_meta(\"member_id\", True)\n",
    "\n",
    "        min_time = scmrun[\"time\"].min()\n",
    "        start_year = min_time.year\n",
    "        start_month = min_time.month\n",
    "\n",
    "        max_time = scmrun[\"time\"].max()\n",
    "        end_year = max_time.year\n",
    "        end_month = max_time.month\n",
    "\n",
    "        table = os.path.basename(f).split(\"_\")[2]\n",
    "        grid = os.path.basename(f).split(\"_\")[-2]\n",
    "        out_name = f\"netcdf-scm_{variable}_Amon_{climate_model}_{scenario}_{member_id}_{grid}_{start_year}{start_month:02d}-{end_year}{end_month:02d}.nc\"\n",
    "\n",
    "        if normalise:\n",
    "            out_file = os.path.join(STITCHED_NORMALISED_DIR, out_name)\n",
    "        else:\n",
    "            out_file = os.path.join(STITCHED_DIR, out_name)\n",
    "\n",
    "        if os.path.isfile(out_file):\n",
    "            if verbose:\n",
    "                print(f\"Out file already exists: {out_file}\")\n",
    "            return None\n",
    "\n",
    "        if normalise:\n",
    "            if verbose:\n",
    "                print(f\"Loading {picontrol_file}\")\n",
    "\n",
    "            picontrol_scmrun = netcdf_scm.io.load_scmrun(picontrol_file)\n",
    "            picontrol_scmrun.metadata[\"netcdf-scm crunched file\"] = picontrol_file\n",
    "\n",
    "            if verbose:\n",
    "                print(f\"Normalising using {norm_years} years\")\n",
    "\n",
    "            normaliser = netcdf_scm.normalisation.NormaliserRunningMean(\n",
    "                nyears=norm_years\n",
    "            )\n",
    "\n",
    "            out = normaliser.normalise_against_picontrol(\n",
    "                scmrun, picontrol_scmrun, picontrol_branching_time\n",
    "            )\n",
    "        else:\n",
    "            out = scmrun\n",
    "\n",
    "        out[\"grid\"] = grid\n",
    "\n",
    "        out_to_disk = out.copy()\n",
    "        out_to_disk.metadata = {\n",
    "            k.replace(\"(\", \"\").replace(\")\", \"\"): v\n",
    "            for k, v in out_to_disk.metadata.items()\n",
    "        }\n",
    "\n",
    "        if verbose:\n",
    "            print(f\"Saving to {out_file}\")\n",
    "\n",
    "        out_to_disk.to_nc(out_file)\n",
    "\n",
    "        return None\n",
    "\n",
    "    if catch:\n",
    "        with warnings.catch_warnings():\n",
    "            warnings.simplefilter(\"ignore\")\n",
    "\n",
    "            try:\n",
    "                return get_result()\n",
    "            except Exception as exc:\n",
    "                raise ValueError(\"File failed: {}\".format(f)) from exc\n",
    "    else:\n",
    "        return get_result()"
   ]
  },
  {
   "cell_type": "code",
   "execution_count": 41,
   "id": "variable-eligibility",
   "metadata": {},
   "outputs": [
    {
     "data": {
      "text/plain": [
       "'./country-crunch/netcdf-scm-crunched/CMIP6/ScenarioMIP/CAS/FGOALS-f3-L/ssp245/r1i1p1f1/Amon/tas/gr/v20191013/netcdf-scm_tas_Amon_FGOALS-f3-L_ssp245_r1i1p1f1_gr_201501-210012.nc'"
      ]
     },
     "execution_count": 41,
     "metadata": {},
     "output_type": "execute_result"
    },
    {
     "data": {
      "application/javascript": [
       "\n",
       "            setTimeout(function() {\n",
       "                var nbb_cell_id = 41;\n",
       "                var nbb_unformatted_code = \"checker = \\\"./country-crunch/netcdf-scm-crunched/CMIP6/ScenarioMIP/CAS/FGOALS-f3-L/ssp245/r1i1p1f1/Amon/tas/gr/v20191013/netcdf-scm_tas_Amon_FGOALS-f3-L_ssp245_r1i1p1f1_gr_201501-210012.nc\\\"\\nchecker\";\n",
       "                var nbb_formatted_code = \"checker = \\\"./country-crunch/netcdf-scm-crunched/CMIP6/ScenarioMIP/CAS/FGOALS-f3-L/ssp245/r1i1p1f1/Amon/tas/gr/v20191013/netcdf-scm_tas_Amon_FGOALS-f3-L_ssp245_r1i1p1f1_gr_201501-210012.nc\\\"\\nchecker\";\n",
       "                var nbb_cells = Jupyter.notebook.get_cells();\n",
       "                for (var i = 0; i < nbb_cells.length; ++i) {\n",
       "                    if (nbb_cells[i].input_prompt_number == nbb_cell_id) {\n",
       "                        if (nbb_cells[i].get_text() == nbb_unformatted_code) {\n",
       "                             nbb_cells[i].set_text(nbb_formatted_code);\n",
       "                        }\n",
       "                        break;\n",
       "                    }\n",
       "                }\n",
       "            }, 500);\n",
       "            "
      ],
      "text/plain": [
       "<IPython.core.display.Javascript object>"
      ]
     },
     "metadata": {},
     "output_type": "display_data"
    }
   ],
   "source": [
    "checker = \"./country-crunch/netcdf-scm-crunched/CMIP6/ScenarioMIP/CAS/FGOALS-f3-L/ssp245/r1i1p1f1/Amon/tas/gr/v20191013/netcdf-scm_tas_Amon_FGOALS-f3-L_ssp245_r1i1p1f1_gr_201501-210012.nc\"\n",
    "checker"
   ]
  },
  {
   "cell_type": "code",
   "execution_count": 42,
   "id": "foreign-extraction",
   "metadata": {},
   "outputs": [
    {
     "data": {
      "application/javascript": [
       "\n",
       "            setTimeout(function() {\n",
       "                var nbb_cell_id = 42;\n",
       "                var nbb_unformatted_code = \"# RUN_CHECK = True\\n# %pdb off\";\n",
       "                var nbb_formatted_code = \"# RUN_CHECK = True\\n# %pdb off\";\n",
       "                var nbb_cells = Jupyter.notebook.get_cells();\n",
       "                for (var i = 0; i < nbb_cells.length; ++i) {\n",
       "                    if (nbb_cells[i].input_prompt_number == nbb_cell_id) {\n",
       "                        if (nbb_cells[i].get_text() == nbb_unformatted_code) {\n",
       "                             nbb_cells[i].set_text(nbb_formatted_code);\n",
       "                        }\n",
       "                        break;\n",
       "                    }\n",
       "                }\n",
       "            }, 500);\n",
       "            "
      ],
      "text/plain": [
       "<IPython.core.display.Javascript object>"
      ]
     },
     "metadata": {},
     "output_type": "display_data"
    }
   ],
   "source": [
    "# RUN_CHECK = True\n",
    "# %pdb off"
   ]
  },
  {
   "cell_type": "code",
   "execution_count": 43,
   "id": "applied-alabama",
   "metadata": {},
   "outputs": [
    {
     "data": {
      "application/javascript": [
       "\n",
       "            setTimeout(function() {\n",
       "                var nbb_cell_id = 43;\n",
       "                var nbb_unformatted_code = \"if RUN_CHECK:\\n    tmp = stitch_and_normalise(checker, catch=False, verbose=True)\\n    display(tmp)\";\n",
       "                var nbb_formatted_code = \"if RUN_CHECK:\\n    tmp = stitch_and_normalise(checker, catch=False, verbose=True)\\n    display(tmp)\";\n",
       "                var nbb_cells = Jupyter.notebook.get_cells();\n",
       "                for (var i = 0; i < nbb_cells.length; ++i) {\n",
       "                    if (nbb_cells[i].input_prompt_number == nbb_cell_id) {\n",
       "                        if (nbb_cells[i].get_text() == nbb_unformatted_code) {\n",
       "                             nbb_cells[i].set_text(nbb_formatted_code);\n",
       "                        }\n",
       "                        break;\n",
       "                    }\n",
       "                }\n",
       "            }, 500);\n",
       "            "
      ],
      "text/plain": [
       "<IPython.core.display.Javascript object>"
      ]
     },
     "metadata": {},
     "output_type": "display_data"
    }
   ],
   "source": [
    "if RUN_CHECK:\n",
    "    tmp = stitch_and_normalise(checker, catch=False, verbose=True)\n",
    "    display(tmp)"
   ]
  },
  {
   "cell_type": "code",
   "execution_count": 44,
   "id": "preceding-decline",
   "metadata": {},
   "outputs": [
    {
     "data": {
      "application/javascript": [
       "\n",
       "            setTimeout(function() {\n",
       "                var nbb_cell_id = 44;\n",
       "                var nbb_unformatted_code = \"if RUN_CHECK:\\n    source = netcdf_scm.io.load_scmrun(checker)\\n    source\";\n",
       "                var nbb_formatted_code = \"if RUN_CHECK:\\n    source = netcdf_scm.io.load_scmrun(checker)\\n    source\";\n",
       "                var nbb_cells = Jupyter.notebook.get_cells();\n",
       "                for (var i = 0; i < nbb_cells.length; ++i) {\n",
       "                    if (nbb_cells[i].input_prompt_number == nbb_cell_id) {\n",
       "                        if (nbb_cells[i].get_text() == nbb_unformatted_code) {\n",
       "                             nbb_cells[i].set_text(nbb_formatted_code);\n",
       "                        }\n",
       "                        break;\n",
       "                    }\n",
       "                }\n",
       "            }, 500);\n",
       "            "
      ],
      "text/plain": [
       "<IPython.core.display.Javascript object>"
      ]
     },
     "metadata": {},
     "output_type": "display_data"
    }
   ],
   "source": [
    "if RUN_CHECK:\n",
    "    source = netcdf_scm.io.load_scmrun(checker)\n",
    "    source"
   ]
  },
  {
   "cell_type": "code",
   "execution_count": 45,
   "id": "piano-objective",
   "metadata": {},
   "outputs": [
    {
     "data": {
      "application/javascript": [
       "\n",
       "            setTimeout(function() {\n",
       "                var nbb_cell_id = 45;\n",
       "                var nbb_unformatted_code = \"if RUN_CHECK:\\n    parent_replacements = netcdf_scm.stitching.get_parent_replacements(source)\\n    parent_replacements\";\n",
       "                var nbb_formatted_code = \"if RUN_CHECK:\\n    parent_replacements = netcdf_scm.stitching.get_parent_replacements(source)\\n    parent_replacements\";\n",
       "                var nbb_cells = Jupyter.notebook.get_cells();\n",
       "                for (var i = 0; i < nbb_cells.length; ++i) {\n",
       "                    if (nbb_cells[i].input_prompt_number == nbb_cell_id) {\n",
       "                        if (nbb_cells[i].get_text() == nbb_unformatted_code) {\n",
       "                             nbb_cells[i].set_text(nbb_formatted_code);\n",
       "                        }\n",
       "                        break;\n",
       "                    }\n",
       "                }\n",
       "            }, 500);\n",
       "            "
      ],
      "text/plain": [
       "<IPython.core.display.Javascript object>"
      ]
     },
     "metadata": {},
     "output_type": "display_data"
    }
   ],
   "source": [
    "if RUN_CHECK:\n",
    "    parent_replacements = netcdf_scm.stitching.get_parent_replacements(source)\n",
    "    parent_replacements"
   ]
  },
  {
   "cell_type": "code",
   "execution_count": 46,
   "id": "failing-northern",
   "metadata": {},
   "outputs": [
    {
     "data": {
      "application/javascript": [
       "\n",
       "            setTimeout(function() {\n",
       "                var nbb_cell_id = 46;\n",
       "                var nbb_unformatted_code = \"if RUN_CHECK:\\n    parent_file = netcdf_scm.stitching.get_parent_file_path(\\n        checker, parent_replacements, \\\"CMIP6Output\\\"\\n    )\\n    parent_file\";\n",
       "                var nbb_formatted_code = \"if RUN_CHECK:\\n    parent_file = netcdf_scm.stitching.get_parent_file_path(\\n        checker, parent_replacements, \\\"CMIP6Output\\\"\\n    )\\n    parent_file\";\n",
       "                var nbb_cells = Jupyter.notebook.get_cells();\n",
       "                for (var i = 0; i < nbb_cells.length; ++i) {\n",
       "                    if (nbb_cells[i].input_prompt_number == nbb_cell_id) {\n",
       "                        if (nbb_cells[i].get_text() == nbb_unformatted_code) {\n",
       "                             nbb_cells[i].set_text(nbb_formatted_code);\n",
       "                        }\n",
       "                        break;\n",
       "                    }\n",
       "                }\n",
       "            }, 500);\n",
       "            "
      ],
      "text/plain": [
       "<IPython.core.display.Javascript object>"
      ]
     },
     "metadata": {},
     "output_type": "display_data"
    }
   ],
   "source": [
    "if RUN_CHECK:\n",
    "    parent_file = netcdf_scm.stitching.get_parent_file_path(\n",
    "        checker, parent_replacements, \"CMIP6Output\"\n",
    "    )\n",
    "    parent_file"
   ]
  },
  {
   "cell_type": "code",
   "execution_count": 47,
   "id": "after-arena",
   "metadata": {},
   "outputs": [
    {
     "data": {
      "application/javascript": [
       "\n",
       "            setTimeout(function() {\n",
       "                var nbb_cell_id = 47;\n",
       "                var nbb_unformatted_code = \"if RUN_CHECK:\\n    parent = netcdf_scm.io.load_scmrun(parent_file)\";\n",
       "                var nbb_formatted_code = \"if RUN_CHECK:\\n    parent = netcdf_scm.io.load_scmrun(parent_file)\";\n",
       "                var nbb_cells = Jupyter.notebook.get_cells();\n",
       "                for (var i = 0; i < nbb_cells.length; ++i) {\n",
       "                    if (nbb_cells[i].input_prompt_number == nbb_cell_id) {\n",
       "                        if (nbb_cells[i].get_text() == nbb_unformatted_code) {\n",
       "                             nbb_cells[i].set_text(nbb_formatted_code);\n",
       "                        }\n",
       "                        break;\n",
       "                    }\n",
       "                }\n",
       "            }, 500);\n",
       "            "
      ],
      "text/plain": [
       "<IPython.core.display.Javascript object>"
      ]
     },
     "metadata": {},
     "output_type": "display_data"
    }
   ],
   "source": [
    "if RUN_CHECK:\n",
    "    parent = netcdf_scm.io.load_scmrun(parent_file)"
   ]
  },
  {
   "cell_type": "code",
   "execution_count": 48,
   "id": "handled-manchester",
   "metadata": {},
   "outputs": [
    {
     "data": {
      "application/javascript": [
       "\n",
       "            setTimeout(function() {\n",
       "                var nbb_cell_id = 48;\n",
       "                var nbb_unformatted_code = \"if RUN_CHECK:\\n    display(netcdf_scm.stitching.get_branch_time(parent, parent=True))\\n    netcdf_scm.stitching.get_branch_time(parent)\";\n",
       "                var nbb_formatted_code = \"if RUN_CHECK:\\n    display(netcdf_scm.stitching.get_branch_time(parent, parent=True))\\n    netcdf_scm.stitching.get_branch_time(parent)\";\n",
       "                var nbb_cells = Jupyter.notebook.get_cells();\n",
       "                for (var i = 0; i < nbb_cells.length; ++i) {\n",
       "                    if (nbb_cells[i].input_prompt_number == nbb_cell_id) {\n",
       "                        if (nbb_cells[i].get_text() == nbb_unformatted_code) {\n",
       "                             nbb_cells[i].set_text(nbb_formatted_code);\n",
       "                        }\n",
       "                        break;\n",
       "                    }\n",
       "                }\n",
       "            }, 500);\n",
       "            "
      ],
      "text/plain": [
       "<IPython.core.display.Javascript object>"
      ]
     },
     "metadata": {},
     "output_type": "display_data"
    }
   ],
   "source": [
    "if RUN_CHECK:\n",
    "    display(netcdf_scm.stitching.get_branch_time(parent, parent=True))\n",
    "    netcdf_scm.stitching.get_branch_time(parent)"
   ]
  },
  {
   "cell_type": "code",
   "execution_count": 49,
   "id": "cutting-disability",
   "metadata": {},
   "outputs": [
    {
     "data": {
      "application/javascript": [
       "\n",
       "            setTimeout(function() {\n",
       "                var nbb_cell_id = 49;\n",
       "                var nbb_unformatted_code = \"if RUN_CHECK:\\n    !ncdump -h {parent_file} | grep parent\";\n",
       "                var nbb_formatted_code = \"if RUN_CHECK:\\n    !ncdump -h {parent_file} | grep parent\";\n",
       "                var nbb_cells = Jupyter.notebook.get_cells();\n",
       "                for (var i = 0; i < nbb_cells.length; ++i) {\n",
       "                    if (nbb_cells[i].input_prompt_number == nbb_cell_id) {\n",
       "                        if (nbb_cells[i].get_text() == nbb_unformatted_code) {\n",
       "                             nbb_cells[i].set_text(nbb_formatted_code);\n",
       "                        }\n",
       "                        break;\n",
       "                    }\n",
       "                }\n",
       "            }, 500);\n",
       "            "
      ],
      "text/plain": [
       "<IPython.core.display.Javascript object>"
      ]
     },
     "metadata": {},
     "output_type": "display_data"
    }
   ],
   "source": [
    "if RUN_CHECK:\n",
    "    !ncdump -h {parent_file} | grep parent"
   ]
  },
  {
   "cell_type": "code",
   "execution_count": 50,
   "id": "occasional-supplier",
   "metadata": {},
   "outputs": [
    {
     "data": {
      "application/javascript": [
       "\n",
       "            setTimeout(function() {\n",
       "                var nbb_cell_id = 50;\n",
       "                var nbb_unformatted_code = \"if RUN_CHECK:\\n    picontrol = netcdf_scm.io.load_scmrun(\\n        \\\"./country-crunch/netcdf-scm-crunched/CMIP6/CMIP/CAS/FGOALS-f3-L/piControl/r1i1p1f1/Amon/tas/gr/v20191029/netcdf-scm_tas_Amon_FGOALS-f3-L_piControl_r1i1p1f1_gr_060001-116012.nc\\\"\\n    )\";\n",
       "                var nbb_formatted_code = \"if RUN_CHECK:\\n    picontrol = netcdf_scm.io.load_scmrun(\\n        \\\"./country-crunch/netcdf-scm-crunched/CMIP6/CMIP/CAS/FGOALS-f3-L/piControl/r1i1p1f1/Amon/tas/gr/v20191029/netcdf-scm_tas_Amon_FGOALS-f3-L_piControl_r1i1p1f1_gr_060001-116012.nc\\\"\\n    )\";\n",
       "                var nbb_cells = Jupyter.notebook.get_cells();\n",
       "                for (var i = 0; i < nbb_cells.length; ++i) {\n",
       "                    if (nbb_cells[i].input_prompt_number == nbb_cell_id) {\n",
       "                        if (nbb_cells[i].get_text() == nbb_unformatted_code) {\n",
       "                             nbb_cells[i].set_text(nbb_formatted_code);\n",
       "                        }\n",
       "                        break;\n",
       "                    }\n",
       "                }\n",
       "            }, 500);\n",
       "            "
      ],
      "text/plain": [
       "<IPython.core.display.Javascript object>"
      ]
     },
     "metadata": {},
     "output_type": "display_data"
    }
   ],
   "source": [
    "if RUN_CHECK:\n",
    "    picontrol = netcdf_scm.io.load_scmrun(\n",
    "        \"./country-crunch/netcdf-scm-crunched/CMIP6/CMIP/CAS/FGOALS-f3-L/piControl/r1i1p1f1/Amon/tas/gr/v20191029/netcdf-scm_tas_Amon_FGOALS-f3-L_piControl_r1i1p1f1_gr_060001-116012.nc\"\n",
    "    )"
   ]
  },
  {
   "cell_type": "code",
   "execution_count": 51,
   "id": "threatened-brunei",
   "metadata": {},
   "outputs": [
    {
     "data": {
      "application/javascript": [
       "\n",
       "            setTimeout(function() {\n",
       "                var nbb_cell_id = 51;\n",
       "                var nbb_unformatted_code = \"if RUN_CHECK:\\n    picontrol\";\n",
       "                var nbb_formatted_code = \"if RUN_CHECK:\\n    picontrol\";\n",
       "                var nbb_cells = Jupyter.notebook.get_cells();\n",
       "                for (var i = 0; i < nbb_cells.length; ++i) {\n",
       "                    if (nbb_cells[i].input_prompt_number == nbb_cell_id) {\n",
       "                        if (nbb_cells[i].get_text() == nbb_unformatted_code) {\n",
       "                             nbb_cells[i].set_text(nbb_formatted_code);\n",
       "                        }\n",
       "                        break;\n",
       "                    }\n",
       "                }\n",
       "            }, 500);\n",
       "            "
      ],
      "text/plain": [
       "<IPython.core.display.Javascript object>"
      ]
     },
     "metadata": {},
     "output_type": "display_data"
    }
   ],
   "source": [
    "if RUN_CHECK:\n",
    "    picontrol"
   ]
  },
  {
   "cell_type": "code",
   "execution_count": 52,
   "id": "hindu-oxford",
   "metadata": {},
   "outputs": [
    {
     "data": {
      "application/javascript": [
       "\n",
       "            setTimeout(function() {\n",
       "                var nbb_cell_id = 52;\n",
       "                var nbb_unformatted_code = \"if RUN_CHECK:\\n    picontrol_new_time = picontrol.timeseries(time_axis=\\\"year-month\\\")\\n    year_shift = picontrol_new_time.columns.min() - 1850\\n    # year_shift = 3030 - 1850\\n    picontrol_new_time.columns = picontrol_new_time.columns.map(\\n        lambda x: x - year_shift\\n    )\\n    # picontrol_new_time = picontrol_new_time.rolling(\\n    #     window=21 * 12, center=True, axis=\\\"columns\\\"\\n    # ).mean()\\n    picontrol_new_time = scmdata.ScmRun(picontrol_new_time)\\n    picontrol_new_time\";\n",
       "                var nbb_formatted_code = \"if RUN_CHECK:\\n    picontrol_new_time = picontrol.timeseries(time_axis=\\\"year-month\\\")\\n    year_shift = picontrol_new_time.columns.min() - 1850\\n    # year_shift = 3030 - 1850\\n    picontrol_new_time.columns = picontrol_new_time.columns.map(\\n        lambda x: x - year_shift\\n    )\\n    # picontrol_new_time = picontrol_new_time.rolling(\\n    #     window=21 * 12, center=True, axis=\\\"columns\\\"\\n    # ).mean()\\n    picontrol_new_time = scmdata.ScmRun(picontrol_new_time)\\n    picontrol_new_time\";\n",
       "                var nbb_cells = Jupyter.notebook.get_cells();\n",
       "                for (var i = 0; i < nbb_cells.length; ++i) {\n",
       "                    if (nbb_cells[i].input_prompt_number == nbb_cell_id) {\n",
       "                        if (nbb_cells[i].get_text() == nbb_unformatted_code) {\n",
       "                             nbb_cells[i].set_text(nbb_formatted_code);\n",
       "                        }\n",
       "                        break;\n",
       "                    }\n",
       "                }\n",
       "            }, 500);\n",
       "            "
      ],
      "text/plain": [
       "<IPython.core.display.Javascript object>"
      ]
     },
     "metadata": {},
     "output_type": "display_data"
    }
   ],
   "source": [
    "if RUN_CHECK:\n",
    "    picontrol_new_time = picontrol.timeseries(time_axis=\"year-month\")\n",
    "    year_shift = picontrol_new_time.columns.min() - 1850\n",
    "    # year_shift = 3030 - 1850\n",
    "    picontrol_new_time.columns = picontrol_new_time.columns.map(\n",
    "        lambda x: x - year_shift\n",
    "    )\n",
    "    # picontrol_new_time = picontrol_new_time.rolling(\n",
    "    #     window=21 * 12, center=True, axis=\"columns\"\n",
    "    # ).mean()\n",
    "    picontrol_new_time = scmdata.ScmRun(picontrol_new_time)\n",
    "    picontrol_new_time"
   ]
  },
  {
   "cell_type": "code",
   "execution_count": 53,
   "id": "played-negative",
   "metadata": {},
   "outputs": [
    {
     "data": {
      "application/javascript": [
       "\n",
       "            setTimeout(function() {\n",
       "                var nbb_cell_id = 53;\n",
       "                var nbb_unformatted_code = \"if RUN_CHECK:\\n    ax = (\\n        #     scmdata.run_append([source, parent, picontrol])\\n        scmdata.run_append([source, parent, picontrol_new_time])\\n        .filter(region=\\\"World\\\")\\n        .time_mean(\\\"AC\\\")\\n        #     .filter(year=range(1850, 1950))\\n        .lineplot(time_axis=\\\"year\\\", style=\\\"climate_model\\\")\\n    )\\n    ax.set_xlim([1850, 2100])\";\n",
       "                var nbb_formatted_code = \"if RUN_CHECK:\\n    ax = (\\n        #     scmdata.run_append([source, parent, picontrol])\\n        scmdata.run_append([source, parent, picontrol_new_time])\\n        .filter(region=\\\"World\\\")\\n        .time_mean(\\\"AC\\\")\\n        #     .filter(year=range(1850, 1950))\\n        .lineplot(time_axis=\\\"year\\\", style=\\\"climate_model\\\")\\n    )\\n    ax.set_xlim([1850, 2100])\";\n",
       "                var nbb_cells = Jupyter.notebook.get_cells();\n",
       "                for (var i = 0; i < nbb_cells.length; ++i) {\n",
       "                    if (nbb_cells[i].input_prompt_number == nbb_cell_id) {\n",
       "                        if (nbb_cells[i].get_text() == nbb_unformatted_code) {\n",
       "                             nbb_cells[i].set_text(nbb_formatted_code);\n",
       "                        }\n",
       "                        break;\n",
       "                    }\n",
       "                }\n",
       "            }, 500);\n",
       "            "
      ],
      "text/plain": [
       "<IPython.core.display.Javascript object>"
      ]
     },
     "metadata": {},
     "output_type": "display_data"
    }
   ],
   "source": [
    "if RUN_CHECK:\n",
    "    ax = (\n",
    "        #     scmdata.run_append([source, parent, picontrol])\n",
    "        scmdata.run_append([source, parent, picontrol_new_time])\n",
    "        .filter(region=\"World\")\n",
    "        .time_mean(\"AC\")\n",
    "        #     .filter(year=range(1850, 1950))\n",
    "        .lineplot(time_axis=\"year\", style=\"climate_model\")\n",
    "    )\n",
    "    ax.set_xlim([1850, 2100])"
   ]
  },
  {
   "cell_type": "code",
   "execution_count": 54,
   "id": "amended-reservoir",
   "metadata": {},
   "outputs": [
    {
     "data": {
      "text/plain": [
       "['./country-crunch/netcdf-scm-crunched/CMIP6/ScenarioMIP/NOAA-GFDL/GFDL-CM4/ssp585/r1i1p1f1/Amon/tas/gr1/v20180701/netcdf-scm_tas_Amon_GFDL-CM4_ssp585_r1i1p1f1_gr1_201501-210012.nc',\n",
       " './country-crunch/netcdf-scm-crunched/CMIP6/ScenarioMIP/NOAA-GFDL/GFDL-CM4/ssp245/r1i1p1f1/Amon/tas/gr1/v20180701/netcdf-scm_tas_Amon_GFDL-CM4_ssp245_r1i1p1f1_gr1_201501-210012.nc',\n",
       " './country-crunch/netcdf-scm-crunched/CMIP6/ScenarioMIP/NOAA-GFDL/GFDL-ESM4/ssp370/r1i1p1f1/Amon/tas/gr1/v20180701/netcdf-scm_tas_Amon_GFDL-ESM4_ssp370_r1i1p1f1_gr1_201501-210012.nc',\n",
       " './country-crunch/netcdf-scm-crunched/CMIP6/ScenarioMIP/NOAA-GFDL/GFDL-ESM4/ssp585/r1i1p1f1/Amon/tas/gr1/v20180701/netcdf-scm_tas_Amon_GFDL-ESM4_ssp585_r1i1p1f1_gr1_201501-210012.nc',\n",
       " './country-crunch/netcdf-scm-crunched/CMIP6/ScenarioMIP/NOAA-GFDL/GFDL-ESM4/ssp126/r1i1p1f1/Amon/tas/gr1/v20180701/netcdf-scm_tas_Amon_GFDL-ESM4_ssp126_r1i1p1f1_gr1_201501-210012.nc',\n",
       " './country-crunch/netcdf-scm-crunched/CMIP6/ScenarioMIP/NOAA-GFDL/GFDL-ESM4/ssp119/r1i1p1f1/Amon/tas/gr1/v20180701/netcdf-scm_tas_Amon_GFDL-ESM4_ssp119_r1i1p1f1_gr1_201501-210012.nc',\n",
       " './country-crunch/netcdf-scm-crunched/CMIP6/ScenarioMIP/NOAA-GFDL/GFDL-ESM4/ssp245/r2i1p1f1/Amon/tas/gr1/v20180701/netcdf-scm_tas_Amon_GFDL-ESM4_ssp245_r2i1p1f1_gr1_201501-210012.nc',\n",
       " './country-crunch/netcdf-scm-crunched/CMIP6/ScenarioMIP/NOAA-GFDL/GFDL-ESM4/ssp245/r1i1p1f1/Amon/tas/gr1/v20180701/netcdf-scm_tas_Amon_GFDL-ESM4_ssp245_r1i1p1f1_gr1_201501-210012.nc',\n",
       " './country-crunch/netcdf-scm-crunched/CMIP6/ScenarioMIP/NOAA-GFDL/GFDL-ESM4/ssp245/r3i1p1f1/Amon/tas/gr1/v20180701/netcdf-scm_tas_Amon_GFDL-ESM4_ssp245_r3i1p1f1_gr1_201501-210012.nc',\n",
       " './country-crunch/netcdf-scm-crunched/CMIP6/AerChemMIP/NOAA-GFDL/GFDL-ESM4/ssp370-lowNTCF/r1i1p1f1/Amon/tas/gr1/v20180701/netcdf-scm_tas_Amon_GFDL-ESM4_ssp370-lowNTCF_r1i1p1f1_gr1_201501-205912.nc']"
      ]
     },
     "execution_count": 54,
     "metadata": {},
     "output_type": "execute_result"
    },
    {
     "data": {
      "application/javascript": [
       "\n",
       "            setTimeout(function() {\n",
       "                var nbb_cell_id = 54;\n",
       "                var nbb_unformatted_code = \"ssp_files = [f for f in ssp_files if \\\"GFDL\\\" in f]\\nssp_files\";\n",
       "                var nbb_formatted_code = \"ssp_files = [f for f in ssp_files if \\\"GFDL\\\" in f]\\nssp_files\";\n",
       "                var nbb_cells = Jupyter.notebook.get_cells();\n",
       "                for (var i = 0; i < nbb_cells.length; ++i) {\n",
       "                    if (nbb_cells[i].input_prompt_number == nbb_cell_id) {\n",
       "                        if (nbb_cells[i].get_text() == nbb_unformatted_code) {\n",
       "                             nbb_cells[i].set_text(nbb_formatted_code);\n",
       "                        }\n",
       "                        break;\n",
       "                    }\n",
       "                }\n",
       "            }, 500);\n",
       "            "
      ],
      "text/plain": [
       "<IPython.core.display.Javascript object>"
      ]
     },
     "metadata": {},
     "output_type": "display_data"
    }
   ],
   "source": [
    "ssp_files = [f for f in ssp_files if \"GFDL\" in f]\n",
    "ssp_files"
   ]
  },
  {
   "cell_type": "code",
   "execution_count": 60,
   "id": "static-station",
   "metadata": {},
   "outputs": [
    {
     "data": {
      "application/vnd.jupyter.widget-view+json": {
       "model_id": "cd8b0533f9c74700a197395556665d72",
       "version_major": 2,
       "version_minor": 0
      },
      "text/plain": [
       "  0%|          | 0/10 [00:00<?, ?it/s]"
      ]
     },
     "metadata": {},
     "output_type": "display_data"
    },
    {
     "data": {
      "application/vnd.jupyter.widget-view+json": {
       "model_id": "1b7842174a524f858094e0190638557c",
       "version_major": 2,
       "version_minor": 0
      },
      "text/plain": [
       "  0%|          | 0/10 [00:00<?, ?it/s]"
      ]
     },
     "metadata": {},
     "output_type": "display_data"
    },
    {
     "name": "stdout",
     "output_type": "stream",
     "text": [
      "concurrent.futures.process._RemoteTraceback: \n",
      "\"\"\"\n",
      "Traceback (most recent call last):\n",
      "  File \"<ipython-input-40-08da58d087d8>\", line 80, in stitch_and_normalise\n",
      "    return get_result()\n",
      "  File \"<ipython-input-40-08da58d087d8>\", line 54, in get_result\n",
      "    out = normaliser.normalise_against_picontrol(\n",
      "  File \"/data/ubuntu-znicholls/miniconda3/envs/cmip6-country-level-processing/lib/python3.8/site-packages/netcdf_scm/normalisation/base.py\", line 150, in normalise_against_picontrol\n",
      "    reference_values = self.get_reference_values(\n",
      "  File \"/data/ubuntu-znicholls/miniconda3/envs/cmip6-country-level-processing/lib/python3.8/site-packages/netcdf_scm/normalisation/base.py\", line 77, in get_reference_values\n",
      "    self._raise_branching_time_unavailable_error(\n",
      "  File \"/data/ubuntu-znicholls/miniconda3/envs/cmip6-country-level-processing/lib/python3.8/site-packages/netcdf_scm/normalisation/base.py\", line 44, in _raise_branching_time_unavailable_error\n",
      "    raise ValueError(error_msg)\n",
      "ValueError: Branching time `010101` not available in piControl data in ./country-crunch/netcdf-scm-crunched/CMIP6/CMIP/NOAA-GFDL/GFDL-CM4/piControl/r1i1p1f1/Amon/tas/gr1/v20180701/netcdf-scm_tas_Amon_GFDL-CM4_piControl_r1i1p1f1_gr1_015101-065012.nc\n",
      "\n",
      "The above exception was the direct cause of the following exception:\n",
      "\n",
      "Traceback (most recent call last):\n",
      "  File \"/data/ubuntu-znicholls/miniconda3/envs/cmip6-country-level-processing/lib/python3.8/concurrent/futures/process.py\", line 239, in _process_worker\n",
      "    r = call_item.fn(*call_item.args, **call_item.kwargs)\n",
      "  File \"<ipython-input-40-08da58d087d8>\", line 82, in stitch_and_normalise\n",
      "    raise ValueError(\"File failed: {}\".format(f)) from exc\n",
      "ValueError: File failed: ./country-crunch/netcdf-scm-crunched/CMIP6/ScenarioMIP/NOAA-GFDL/GFDL-CM4/ssp585/r1i1p1f1/Amon/tas/gr1/v20180701/netcdf-scm_tas_Amon_GFDL-CM4_ssp585_r1i1p1f1_gr1_201501-210012.nc\n",
      "\"\"\"\n",
      "\n",
      "The above exception was the direct cause of the following exception:\n",
      "\n",
      "Traceback (most recent call last):\n",
      "  File \"<ipython-input-60-15d2699e0801>\", line 15, in <module>\n",
      "    future.result()\n",
      "  File \"/data/ubuntu-znicholls/miniconda3/envs/cmip6-country-level-processing/lib/python3.8/concurrent/futures/_base.py\", line 432, in result\n",
      "    return self.__get_result()\n",
      "  File \"/data/ubuntu-znicholls/miniconda3/envs/cmip6-country-level-processing/lib/python3.8/concurrent/futures/_base.py\", line 388, in __get_result\n",
      "    raise self._exception\n",
      "  File \"/data/ubuntu-znicholls/miniconda3/envs/cmip6-country-level-processing/lib/python3.8/concurrent/futures/process.py\", line 239, in _process_worker\n",
      "    r = call_item.fn(*call_item.args, **call_item.kwargs)\n",
      "  File \"<ipython-input-40-08da58d087d8>\", line 82, in stitch_and_normalise\n",
      "    raise ValueError(\"File failed: {}\".format(f)) from exc\n",
      "ValueError: File failed: ./country-crunch/netcdf-scm-crunched/CMIP6/ScenarioMIP/NOAA-GFDL/GFDL-CM4/ssp585/r1i1p1f1/Amon/tas/gr1/v20180701/netcdf-scm_tas_Amon_GFDL-CM4_ssp585_r1i1p1f1_gr1_201501-210012.nc\n",
      "\n",
      "\n",
      "concurrent.futures.process._RemoteTraceback: \n",
      "\"\"\"\n",
      "Traceback (most recent call last):\n",
      "  File \"<ipython-input-40-08da58d087d8>\", line 80, in stitch_and_normalise\n",
      "    return get_result()\n",
      "  File \"<ipython-input-40-08da58d087d8>\", line 54, in get_result\n",
      "    out = normaliser.normalise_against_picontrol(\n",
      "  File \"/data/ubuntu-znicholls/miniconda3/envs/cmip6-country-level-processing/lib/python3.8/site-packages/netcdf_scm/normalisation/base.py\", line 150, in normalise_against_picontrol\n",
      "    reference_values = self.get_reference_values(\n",
      "  File \"/data/ubuntu-znicholls/miniconda3/envs/cmip6-country-level-processing/lib/python3.8/site-packages/netcdf_scm/normalisation/base.py\", line 77, in get_reference_values\n",
      "    self._raise_branching_time_unavailable_error(\n",
      "  File \"/data/ubuntu-znicholls/miniconda3/envs/cmip6-country-level-processing/lib/python3.8/site-packages/netcdf_scm/normalisation/base.py\", line 44, in _raise_branching_time_unavailable_error\n",
      "    raise ValueError(error_msg)\n",
      "ValueError: Branching time `010101` not available in piControl data in ./country-crunch/netcdf-scm-crunched/CMIP6/CMIP/NOAA-GFDL/GFDL-CM4/piControl/r1i1p1f1/Amon/tas/gr1/v20180701/netcdf-scm_tas_Amon_GFDL-CM4_piControl_r1i1p1f1_gr1_015101-065012.nc\n",
      "\n",
      "The above exception was the direct cause of the following exception:\n",
      "\n",
      "Traceback (most recent call last):\n",
      "  File \"/data/ubuntu-znicholls/miniconda3/envs/cmip6-country-level-processing/lib/python3.8/concurrent/futures/process.py\", line 239, in _process_worker\n",
      "    r = call_item.fn(*call_item.args, **call_item.kwargs)\n",
      "  File \"<ipython-input-40-08da58d087d8>\", line 82, in stitch_and_normalise\n",
      "    raise ValueError(\"File failed: {}\".format(f)) from exc\n",
      "ValueError: File failed: ./country-crunch/netcdf-scm-crunched/CMIP6/ScenarioMIP/NOAA-GFDL/GFDL-CM4/ssp245/r1i1p1f1/Amon/tas/gr1/v20180701/netcdf-scm_tas_Amon_GFDL-CM4_ssp245_r1i1p1f1_gr1_201501-210012.nc\n",
      "\"\"\"\n",
      "\n",
      "The above exception was the direct cause of the following exception:\n",
      "\n",
      "Traceback (most recent call last):\n",
      "  File \"<ipython-input-60-15d2699e0801>\", line 15, in <module>\n",
      "    future.result()\n",
      "  File \"/data/ubuntu-znicholls/miniconda3/envs/cmip6-country-level-processing/lib/python3.8/concurrent/futures/_base.py\", line 432, in result\n",
      "    return self.__get_result()\n",
      "  File \"/data/ubuntu-znicholls/miniconda3/envs/cmip6-country-level-processing/lib/python3.8/concurrent/futures/_base.py\", line 388, in __get_result\n",
      "    raise self._exception\n",
      "  File \"/data/ubuntu-znicholls/miniconda3/envs/cmip6-country-level-processing/lib/python3.8/concurrent/futures/process.py\", line 239, in _process_worker\n",
      "    r = call_item.fn(*call_item.args, **call_item.kwargs)\n",
      "  File \"<ipython-input-40-08da58d087d8>\", line 82, in stitch_and_normalise\n",
      "    raise ValueError(\"File failed: {}\".format(f)) from exc\n",
      "ValueError: File failed: ./country-crunch/netcdf-scm-crunched/CMIP6/ScenarioMIP/NOAA-GFDL/GFDL-CM4/ssp245/r1i1p1f1/Amon/tas/gr1/v20180701/netcdf-scm_tas_Amon_GFDL-CM4_ssp245_r1i1p1f1_gr1_201501-210012.nc\n",
      "\n"
     ]
    },
    {
     "data": {
      "application/javascript": [
       "\n",
       "            setTimeout(function() {\n",
       "                var nbb_cell_id = 60;\n",
       "                var nbb_unformatted_code = \"normalise = False\\nnormalise = True\\npool = ProcessPoolExecutor(max_workers=MAX_WORKERS)\\n\\nfutures = []\\nfor f in tqdman.tqdm(ssp_files):\\n    futures.append(pool.submit(stitch_and_normalise, f, normalise=normalise))\\n\\nall_errors = []\\nerrors = []\\nfor i, future in tqdman.tqdm(\\n    enumerate(as_completed(futures, timeout=None)), total=len(futures)\\n):\\n    try:\\n        future.result()\\n    except Exception as exc:\\n        errors.append(traceback.format_exc())\\n\\n    if i % 50 == 10 or i == len(futures) - 1:\\n        print(\\\"\\\\n\\\\n\\\".join(errors))\\n        all_errors += list(\\n            set([v for e in errors for v in re.findall(\\\".*File failed: (.*.nc)\\\", e)])\\n        )\\n        #         if errors:\\n        #             break\\n        errors = []\";\n",
       "                var nbb_formatted_code = \"normalise = False\\nnormalise = True\\npool = ProcessPoolExecutor(max_workers=MAX_WORKERS)\\n\\nfutures = []\\nfor f in tqdman.tqdm(ssp_files):\\n    futures.append(pool.submit(stitch_and_normalise, f, normalise=normalise))\\n\\nall_errors = []\\nerrors = []\\nfor i, future in tqdman.tqdm(\\n    enumerate(as_completed(futures, timeout=None)), total=len(futures)\\n):\\n    try:\\n        future.result()\\n    except Exception as exc:\\n        errors.append(traceback.format_exc())\\n\\n    if i % 50 == 10 or i == len(futures) - 1:\\n        print(\\\"\\\\n\\\\n\\\".join(errors))\\n        all_errors += list(\\n            set([v for e in errors for v in re.findall(\\\".*File failed: (.*.nc)\\\", e)])\\n        )\\n        #         if errors:\\n        #             break\\n        errors = []\";\n",
       "                var nbb_cells = Jupyter.notebook.get_cells();\n",
       "                for (var i = 0; i < nbb_cells.length; ++i) {\n",
       "                    if (nbb_cells[i].input_prompt_number == nbb_cell_id) {\n",
       "                        if (nbb_cells[i].get_text() == nbb_unformatted_code) {\n",
       "                             nbb_cells[i].set_text(nbb_formatted_code);\n",
       "                        }\n",
       "                        break;\n",
       "                    }\n",
       "                }\n",
       "            }, 500);\n",
       "            "
      ],
      "text/plain": [
       "<IPython.core.display.Javascript object>"
      ]
     },
     "metadata": {},
     "output_type": "display_data"
    }
   ],
   "source": [
    "normalise = False\n",
    "normalise = True\n",
    "pool = ProcessPoolExecutor(max_workers=MAX_WORKERS)\n",
    "\n",
    "futures = []\n",
    "for f in tqdman.tqdm(ssp_files):\n",
    "    futures.append(pool.submit(stitch_and_normalise, f, normalise=normalise))\n",
    "\n",
    "all_errors = []\n",
    "errors = []\n",
    "for i, future in tqdman.tqdm(\n",
    "    enumerate(as_completed(futures, timeout=None)), total=len(futures)\n",
    "):\n",
    "    try:\n",
    "        future.result()\n",
    "    except Exception as exc:\n",
    "        errors.append(traceback.format_exc())\n",
    "\n",
    "    if i % 50 == 10 or i == len(futures) - 1:\n",
    "        print(\"\\n\\n\".join(errors))\n",
    "        all_errors += list(\n",
    "            set([v for e in errors for v in re.findall(\".*File failed: (.*.nc)\", e)])\n",
    "        )\n",
    "        #         if errors:\n",
    "        #             break\n",
    "        errors = []"
   ]
  },
  {
   "cell_type": "code",
   "execution_count": 58,
   "id": "equivalent-village",
   "metadata": {},
   "outputs": [
    {
     "data": {
      "text/plain": [
       "['./country-crunch/netcdf-scm-crunched/CMIP6/ScenarioMIP/NOAA-GFDL/GFDL-CM4/ssp585/r1i1p1f1/Amon/tas/gr1/v20180701/netcdf-scm_tas_Amon_GFDL-CM4_ssp585_r1i1p1f1_gr1_201501-210012.nc',\n",
       " './country-crunch/netcdf-scm-crunched/CMIP6/ScenarioMIP/NOAA-GFDL/GFDL-CM4/ssp245/r1i1p1f1/Amon/tas/gr1/v20180701/netcdf-scm_tas_Amon_GFDL-CM4_ssp245_r1i1p1f1_gr1_201501-210012.nc']"
      ]
     },
     "execution_count": 58,
     "metadata": {},
     "output_type": "execute_result"
    },
    {
     "data": {
      "application/javascript": [
       "\n",
       "            setTimeout(function() {\n",
       "                var nbb_cell_id = 58;\n",
       "                var nbb_unformatted_code = \"all_errors\";\n",
       "                var nbb_formatted_code = \"all_errors\";\n",
       "                var nbb_cells = Jupyter.notebook.get_cells();\n",
       "                for (var i = 0; i < nbb_cells.length; ++i) {\n",
       "                    if (nbb_cells[i].input_prompt_number == nbb_cell_id) {\n",
       "                        if (nbb_cells[i].get_text() == nbb_unformatted_code) {\n",
       "                             nbb_cells[i].set_text(nbb_formatted_code);\n",
       "                        }\n",
       "                        break;\n",
       "                    }\n",
       "                }\n",
       "            }, 500);\n",
       "            "
      ],
      "text/plain": [
       "<IPython.core.display.Javascript object>"
      ]
     },
     "metadata": {},
     "output_type": "display_data"
    }
   ],
   "source": [
    "all_errors"
   ]
  },
  {
   "cell_type": "code",
   "execution_count": 59,
   "id": "moral-thread",
   "metadata": {},
   "outputs": [
    {
     "data": {
      "text/plain": [
       "2"
      ]
     },
     "execution_count": 59,
     "metadata": {},
     "output_type": "execute_result"
    },
    {
     "data": {
      "application/javascript": [
       "\n",
       "            setTimeout(function() {\n",
       "                var nbb_cell_id = 59;\n",
       "                var nbb_unformatted_code = \"len(all_errors)\";\n",
       "                var nbb_formatted_code = \"len(all_errors)\";\n",
       "                var nbb_cells = Jupyter.notebook.get_cells();\n",
       "                for (var i = 0; i < nbb_cells.length; ++i) {\n",
       "                    if (nbb_cells[i].input_prompt_number == nbb_cell_id) {\n",
       "                        if (nbb_cells[i].get_text() == nbb_unformatted_code) {\n",
       "                             nbb_cells[i].set_text(nbb_formatted_code);\n",
       "                        }\n",
       "                        break;\n",
       "                    }\n",
       "                }\n",
       "            }, 500);\n",
       "            "
      ],
      "text/plain": [
       "<IPython.core.display.Javascript object>"
      ]
     },
     "metadata": {},
     "output_type": "display_data"
    }
   ],
   "source": [
    "len(all_errors)"
   ]
  },
  {
   "cell_type": "code",
   "execution_count": 31,
   "id": "configured-hawaii",
   "metadata": {},
   "outputs": [
    {
     "name": "stdout",
     "output_type": "stream",
     "text": [
      "./country-crunch-stitched-normalised/netcdf-scm_tas_Amon_MPI-ESM1-2-HR_ssp245_r1i1p1f1_gn_185001-210012.nc\r\n"
     ]
    },
    {
     "data": {
      "application/javascript": [
       "\n",
       "            setTimeout(function() {\n",
       "                var nbb_cell_id = 31;\n",
       "                var nbb_unformatted_code = \"!find {STITCHED_NORMALISED_DIR} -name '*MPI-ESM1-2-HR*_ssp245_*' -type f  #| wc -l\";\n",
       "                var nbb_formatted_code = \"!find {STITCHED_NORMALISED_DIR} -name '*MPI-ESM1-2-HR*_ssp245_*' -type f  #| wc -l\";\n",
       "                var nbb_cells = Jupyter.notebook.get_cells();\n",
       "                for (var i = 0; i < nbb_cells.length; ++i) {\n",
       "                    if (nbb_cells[i].input_prompt_number == nbb_cell_id) {\n",
       "                        if (nbb_cells[i].get_text() == nbb_unformatted_code) {\n",
       "                             nbb_cells[i].set_text(nbb_formatted_code);\n",
       "                        }\n",
       "                        break;\n",
       "                    }\n",
       "                }\n",
       "            }, 500);\n",
       "            "
      ],
      "text/plain": [
       "<IPython.core.display.Javascript object>"
      ]
     },
     "metadata": {},
     "output_type": "display_data"
    }
   ],
   "source": [
    "!find {STITCHED_NORMALISED_DIR} -name '*MPI-ESM1-2-HR*_ssp245_*' -type f  #| wc -l"
   ]
  },
  {
   "cell_type": "code",
   "execution_count": 32,
   "id": "mighty-matthew",
   "metadata": {},
   "outputs": [
    {
     "name": "stdout",
     "output_type": "stream",
     "text": [
      "./country-crunch/netcdf-scm-crunched/CMIP6/CMIP/MPI-M/MPI-ESM1-2-HR/piControl/r1i1p1f1/Amon/tas/gn/v20190710/netcdf-scm_tas_Amon_MPI-ESM1-2-HR_piControl_r1i1p1f1_gn_185001-234912.nc\r\n",
      "./country-crunch/netcdf-scm-crunched/CMIP6/CMIP/MPI-M/MPI-ESM1-2-HR/historical/r2i1p1f1/Amon/tas/gn/v20190710/netcdf-scm_tas_Amon_MPI-ESM1-2-HR_historical_r2i1p1f1_gn_185001-201412.nc\r\n",
      "./country-crunch/netcdf-scm-crunched/CMIP6/CMIP/MPI-M/MPI-ESM1-2-HR/historical/r1i1p1f1/Amon/tas/gn/v20190710/netcdf-scm_tas_Amon_MPI-ESM1-2-HR_historical_r1i1p1f1_gn_185001-201412.nc\r\n",
      "./country-crunch/netcdf-scm-crunched/CMIP6/CMIP/MPI-M/MPI-ESM1-2-HR/historical/r10i1p1f1/Amon/tas/gn/v20190710/netcdf-scm_tas_Amon_MPI-ESM1-2-HR_historical_r10i1p1f1_gn_185001-201412.nc\r\n",
      "./country-crunch/netcdf-scm-crunched/CMIP6/CMIP/MPI-M/MPI-ESM1-2-HR/historical/r4i1p1f1/Amon/tas/gn/v20190710/netcdf-scm_tas_Amon_MPI-ESM1-2-HR_historical_r4i1p1f1_gn_185001-201412.nc\r\n",
      "./country-crunch/netcdf-scm-crunched/CMIP6/CMIP/MPI-M/MPI-ESM1-2-HR/historical/r3i1p1f1/Amon/tas/gn/v20190710/netcdf-scm_tas_Amon_MPI-ESM1-2-HR_historical_r3i1p1f1_gn_185001-201412.nc\r\n",
      "./country-crunch/netcdf-scm-crunched/CMIP6/ScenarioMIP/DWD/MPI-ESM1-2-HR/ssp585/r2i1p1f1/Amon/tas/gn/v20190710/netcdf-scm_tas_Amon_MPI-ESM1-2-HR_ssp585_r2i1p1f1_gn_201501-210012.nc\r\n",
      "./country-crunch/netcdf-scm-crunched/CMIP6/ScenarioMIP/DWD/MPI-ESM1-2-HR/ssp126/r2i1p1f1/Amon/tas/gn/v20190710/netcdf-scm_tas_Amon_MPI-ESM1-2-HR_ssp126_r2i1p1f1_gn_201501-210012.nc\r\n",
      "./country-crunch/netcdf-scm-crunched/CMIP6/ScenarioMIP/DKRZ/MPI-ESM1-2-HR/ssp370/r2i1p1f1/Amon/tas/gn/v20190710/netcdf-scm_tas_Amon_MPI-ESM1-2-HR_ssp370_r2i1p1f1_gn_201501-210012.nc\r\n",
      "./country-crunch/netcdf-scm-crunched/CMIP6/ScenarioMIP/DKRZ/MPI-ESM1-2-HR/ssp370/r1i1p1f1/Amon/tas/gn/v20190710/netcdf-scm_tas_Amon_MPI-ESM1-2-HR_ssp370_r1i1p1f1_gn_201501-210012.nc\r\n",
      "./country-crunch/netcdf-scm-crunched/CMIP6/ScenarioMIP/DKRZ/MPI-ESM1-2-HR/ssp370/r10i1p1f1/Amon/tas/gn/v20190710/netcdf-scm_tas_Amon_MPI-ESM1-2-HR_ssp370_r10i1p1f1_gn_201501-210012.nc\r\n",
      "./country-crunch/netcdf-scm-crunched/CMIP6/ScenarioMIP/DKRZ/MPI-ESM1-2-HR/ssp370/r4i1p1f1/Amon/tas/gn/v20190710/netcdf-scm_tas_Amon_MPI-ESM1-2-HR_ssp370_r4i1p1f1_gn_201501-210012.nc\r\n",
      "./country-crunch/netcdf-scm-crunched/CMIP6/ScenarioMIP/DKRZ/MPI-ESM1-2-HR/ssp370/r3i1p1f1/Amon/tas/gn/v20190710/netcdf-scm_tas_Amon_MPI-ESM1-2-HR_ssp370_r3i1p1f1_gn_201501-210012.nc\r\n",
      "./country-crunch/netcdf-scm-crunched/CMIP6/ScenarioMIP/DKRZ/MPI-ESM1-2-HR/ssp585/r1i1p1f1/Amon/tas/gn/v20190710/netcdf-scm_tas_Amon_MPI-ESM1-2-HR_ssp585_r1i1p1f1_gn_201501-210012.nc\r\n",
      "./country-crunch/netcdf-scm-crunched/CMIP6/ScenarioMIP/DKRZ/MPI-ESM1-2-HR/ssp126/r1i1p1f1/Amon/tas/gn/v20190710/netcdf-scm_tas_Amon_MPI-ESM1-2-HR_ssp126_r1i1p1f1_gn_201501-210012.nc\r\n",
      "./country-crunch/netcdf-scm-crunched/CMIP6/ScenarioMIP/DKRZ/MPI-ESM1-2-HR/ssp245/r2i1p1f1/Amon/tas/gn/v20190710/netcdf-scm_tas_Amon_MPI-ESM1-2-HR_ssp245_r2i1p1f1_gn_201501-210012.nc\r\n",
      "./country-crunch/netcdf-scm-crunched/CMIP6/ScenarioMIP/DKRZ/MPI-ESM1-2-HR/ssp245/r1i1p1f1/Amon/tas/gn/v20190710/netcdf-scm_tas_Amon_MPI-ESM1-2-HR_ssp245_r1i1p1f1_gn_201501-210012.nc\r\n"
     ]
    },
    {
     "data": {
      "application/javascript": [
       "\n",
       "            setTimeout(function() {\n",
       "                var nbb_cell_id = 32;\n",
       "                var nbb_unformatted_code = \"!find {CRUNCH_DIR} -name '*MPI-ESM1-2-HR*' -type f  #| wc -l\";\n",
       "                var nbb_formatted_code = \"!find {CRUNCH_DIR} -name '*MPI-ESM1-2-HR*' -type f  #| wc -l\";\n",
       "                var nbb_cells = Jupyter.notebook.get_cells();\n",
       "                for (var i = 0; i < nbb_cells.length; ++i) {\n",
       "                    if (nbb_cells[i].input_prompt_number == nbb_cell_id) {\n",
       "                        if (nbb_cells[i].get_text() == nbb_unformatted_code) {\n",
       "                             nbb_cells[i].set_text(nbb_formatted_code);\n",
       "                        }\n",
       "                        break;\n",
       "                    }\n",
       "                }\n",
       "            }, 500);\n",
       "            "
      ],
      "text/plain": [
       "<IPython.core.display.Javascript object>"
      ]
     },
     "metadata": {},
     "output_type": "display_data"
    }
   ],
   "source": [
    "!find {CRUNCH_DIR} -name '*MPI-ESM1-2-HR*' -type f  #| wc -l"
   ]
  },
  {
   "cell_type": "code",
   "execution_count": 33,
   "id": "later-technical",
   "metadata": {},
   "outputs": [
    {
     "name": "stdout",
     "output_type": "stream",
     "text": [
      "AS-RCEC  CCCma\t       CSIRO-ARCCSS\t    INM    MPI-M      NIMS-KMA\t UA\r\n",
      "AWI\t CCCR-IITM     E3SM-Project\t    IPSL   MRI\t      NOAA-GFDL\r\n",
      "BCC\t CMCC\t       EC-Earth-Consortium  KIOST  NASA-GISS  NUIST\r\n",
      "CAMS\t CNRM-CERFACS  FIO-QLNM\t\t    MIROC  NCAR       SNU\r\n",
      "CAS\t CSIRO\t       HAMMOZ-Consortium    MOHC   NCC\t      THU\r\n"
     ]
    },
    {
     "data": {
      "application/javascript": [
       "\n",
       "            setTimeout(function() {\n",
       "                var nbb_cell_id = 33;\n",
       "                var nbb_unformatted_code = \"!ls /data/cmip6/CMIP6/CMIP/\";\n",
       "                var nbb_formatted_code = \"!ls /data/cmip6/CMIP6/CMIP/\";\n",
       "                var nbb_cells = Jupyter.notebook.get_cells();\n",
       "                for (var i = 0; i < nbb_cells.length; ++i) {\n",
       "                    if (nbb_cells[i].input_prompt_number == nbb_cell_id) {\n",
       "                        if (nbb_cells[i].get_text() == nbb_unformatted_code) {\n",
       "                             nbb_cells[i].set_text(nbb_formatted_code);\n",
       "                        }\n",
       "                        break;\n",
       "                    }\n",
       "                }\n",
       "            }, 500);\n",
       "            "
      ],
      "text/plain": [
       "<IPython.core.display.Javascript object>"
      ]
     },
     "metadata": {},
     "output_type": "display_data"
    }
   ],
   "source": [
    "!ls /data/cmip6/CMIP6/CMIP/"
   ]
  },
  {
   "cell_type": "code",
   "execution_count": 34,
   "id": "particular-diesel",
   "metadata": {},
   "outputs": [
    {
     "name": "stdout",
     "output_type": "stream",
     "text": [
      "\t\t:branch_time_in_parent = 182500. ;\r\n",
      "\t\t:parent_activity_id = \"CMIP\" ;\r\n",
      "\t\t:parent_experiment_id = \"piControl\" ;\r\n",
      "\t\t:parent_mip_era = \"CMIP6\" ;\r\n",
      "\t\t:parent_source_id = \"CIESM\" ;\r\n",
      "\t\t:parent_time_units = \"days since 0001-01-01\" ;\r\n",
      "\t\t:parent_variant_label = \"r2i1p1f1\" ;\r\n"
     ]
    },
    {
     "data": {
      "application/javascript": [
       "\n",
       "            setTimeout(function() {\n",
       "                var nbb_cell_id = 34;\n",
       "                var nbb_unformatted_code = \"# parent_variant r2i1p1f1 doesn't exist...\\n!ncdump -h ./country-crunch/netcdf-scm-crunched/CMIP6/CMIP/THU/CIESM/historical/r1i1p1f1/Amon/tas/gr/v20200417/netcdf-scm_tas_Amon_CIESM_historical_r1i1p1f1_gr_185001-201412.nc | grep parent\";\n",
       "                var nbb_formatted_code = \"# parent_variant r2i1p1f1 doesn't exist...\\n!ncdump -h ./country-crunch/netcdf-scm-crunched/CMIP6/CMIP/THU/CIESM/historical/r1i1p1f1/Amon/tas/gr/v20200417/netcdf-scm_tas_Amon_CIESM_historical_r1i1p1f1_gr_185001-201412.nc | grep parent\";\n",
       "                var nbb_cells = Jupyter.notebook.get_cells();\n",
       "                for (var i = 0; i < nbb_cells.length; ++i) {\n",
       "                    if (nbb_cells[i].input_prompt_number == nbb_cell_id) {\n",
       "                        if (nbb_cells[i].get_text() == nbb_unformatted_code) {\n",
       "                             nbb_cells[i].set_text(nbb_formatted_code);\n",
       "                        }\n",
       "                        break;\n",
       "                    }\n",
       "                }\n",
       "            }, 500);\n",
       "            "
      ],
      "text/plain": [
       "<IPython.core.display.Javascript object>"
      ]
     },
     "metadata": {},
     "output_type": "display_data"
    }
   ],
   "source": [
    "# parent_variant r2i1p1f1 doesn't exist...\n",
    "!ncdump -h ./country-crunch/netcdf-scm-crunched/CMIP6/CMIP/THU/CIESM/historical/r1i1p1f1/Amon/tas/gr/v20200417/netcdf-scm_tas_Amon_CIESM_historical_r1i1p1f1_gr_185001-201412.nc | grep parent"
   ]
  },
  {
   "cell_type": "code",
   "execution_count": 35,
   "id": "collected-monday",
   "metadata": {},
   "outputs": [
    {
     "ename": "SyntaxError",
     "evalue": "invalid syntax (<ipython-input-35-cd518e298bb1>, line 2)",
     "output_type": "error",
     "traceback": [
      "\u001b[0;36m  File \u001b[0;32m\"<ipython-input-35-cd518e298bb1>\"\u001b[0;36m, line \u001b[0;32m2\u001b[0m\n\u001b[0;31m    ./country-crunch/netcdf-scm-crunched/CMIP6/ScenarioMIP/NUIST/NESM3/ssp585/r1i1p1f1/Amon/tas/gn/v20190728/netcdf-scm_tas_Amon_NESM3_ssp585_r1i1p1f1_gn_201501-210012.nc\u001b[0m\n\u001b[0m    ^\u001b[0m\n\u001b[0;31mSyntaxError\u001b[0m\u001b[0;31m:\u001b[0m invalid syntax\n"
     ]
    },
    {
     "name": "stderr",
     "output_type": "stream",
     "text": [
      "ERROR:root:Cannot parse: 2:1: ./country-crunch/netcdf-scm-crunched/CMIP6/ScenarioMIP/NUIST/NESM3/ssp585/r1i1p1f1/Amon/tas/gn/v20190728/netcdf-scm_tas_Amon_NESM3_ssp585_r1i1p1f1_gn_201501-210012.nc\n",
      "Traceback (most recent call last):\n",
      "  File \"/data/ubuntu-znicholls/miniconda3/envs/cmip6-country-level-processing/lib/python3.8/site-packages/lab_black.py\", line 218, in format_cell\n",
      "    formatted_code = _format_code(cell)\n",
      "  File \"/data/ubuntu-znicholls/miniconda3/envs/cmip6-country-level-processing/lib/python3.8/site-packages/lab_black.py\", line 29, in _format_code\n",
      "    return format_str(src_contents=code, mode=FileMode())\n",
      "  File \"/data/ubuntu-znicholls/miniconda3/envs/cmip6-country-level-processing/lib/python3.8/site-packages/black/__init__.py\", line 974, in format_str\n",
      "    src_node = lib2to3_parse(src_contents.lstrip(), mode.target_versions)\n",
      "  File \"/data/ubuntu-znicholls/miniconda3/envs/cmip6-country-level-processing/lib/python3.8/site-packages/black/__init__.py\", line 1083, in lib2to3_parse\n",
      "    raise exc from None\n",
      "black.InvalidInput: Cannot parse: 2:1: ./country-crunch/netcdf-scm-crunched/CMIP6/ScenarioMIP/NUIST/NESM3/ssp585/r1i1p1f1/Amon/tas/gn/v20190728/netcdf-scm_tas_Amon_NESM3_ssp585_r1i1p1f1_gn_201501-210012.nc\n"
     ]
    }
   ],
   "source": [
    "# # branch time units wrong?\n",
    "# ./country-crunch/netcdf-scm-crunched/CMIP6/ScenarioMIP/NUIST/NESM3/ssp585/r1i1p1f1/Amon/tas/gn/v20190728/netcdf-scm_tas_Amon_NESM3_ssp585_r1i1p1f1_gn_201501-210012.nc\n",
    "\n",
    "# # piControl too short\n",
    "# ./country-crunch/netcdf-scm-crunched/CMIP6/ScenarioMIP/BCC/BCC-CSM2-MR/ssp585/r1i1p1f1/Amon/tas/gn/v20190314/netcdf-scm_tas_Amon_BCC-CSM2-MR_ssp585_r1i1p1f1_gn_201501-210012.nc\n",
    "\n",
    "# # key error, branch_time_in_parent\n",
    "# ./country-crunch/netcdf-scm-crunched/CMIP6/ScenarioMIP/NCAR/CESM2-WACCM/ssp585/r1i1p1f1/Amon/tas/gn/v20200702/netcdf-scm_tas_Amon_CESM2-WACCM_ssp585_r1i1p1f1_gn_201501-229912.nc\n",
    "\n",
    "# # Branching time `185804` not available in piControl data in ./country-crunch/netcdf-scm-crunched/CMIP6/CMIP/CAMS/CAMS-CSM1-0/piControl/r1i1p1f1/Amon/tas/gn/v20190729/netcdf-scm_tas_Amon_CAMS-CSM1-0_piControl_r1i1p1f1_gn_290001-339912.nc\n",
    "# ./country-crunch/netcdf-scm-crunched/CMIP6/ScenarioMIP/CAMS/CAMS-CSM1-0/ssp126/r1i1p1f1/Amon/tas/gn/v20190708/netcdf-scm_tas_Amon_CAMS-CSM1-0_ssp126_r1i1p1f1_gn_201501-209912.nc\n",
    "\n",
    "# # Branching time `003410` not available in piControl data in ./country-crunch/netcdf-scm-crunched/CMIP6/CMIP/CAS/FGOALS-f3-L/piControl/r1i1p1f1/Amon/tas/gr/v20191029/netcdf-scm_tas_Amon_FGOALS-f3-L_piControl_r1i1p1f1_gr_060001-116012.nc\n",
    "# ./country-crunch/netcdf-scm-crunched/CMIP6/ScenarioMIP/CAS/FGOALS-f3-L/ssp585/r1i1p1f1/Amon/tas/gr/v20191013/netcdf-scm_tas_Amon_FGOALS-f3-L_ssp585_r1i1p1f1_gr_201501-210012.nc\n",
    "\n",
    "# # Branching time `232001` not available in piControl data in ./country-crunch/netcdf-scm-crunched/CMIP6/CMIP/AS-RCEC/TaiESM1/piControl/r1i1p1f1/Amon/tas/gn/v20200211/netcdf-scm_tas_Amon_TaiESM1_piControl_r1i1p1f1_gn_020101-070012.nc\n",
    "# ./country-crunch/netcdf-scm-crunched/CMIP6/ScenarioMIP/AS-RCEC/TaiESM1/ssp585/r1i1p1f1/Amon/tas/gn/v20200901/netcdf-scm_tas_Amon_TaiESM1_ssp585_r1i1p1f1_gn_201501-210012.nc\n",
    "\n"
   ]
  }
 ],
 "metadata": {
  "kernelspec": {
   "display_name": "Python 3",
   "language": "python",
   "name": "python3"
  },
  "language_info": {
   "codemirror_mode": {
    "name": "ipython",
    "version": 3
   },
   "file_extension": ".py",
   "mimetype": "text/x-python",
   "name": "python",
   "nbconvert_exporter": "python",
   "pygments_lexer": "ipython3",
   "version": "3.8.8"
  }
 },
 "nbformat": 4,
 "nbformat_minor": 5
}
