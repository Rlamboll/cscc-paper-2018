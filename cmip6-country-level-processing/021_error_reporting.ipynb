{
 "cells": [
  {
   "cell_type": "code",
   "execution_count": 1,
   "id": "revolutionary-nebraska",
   "metadata": {},
   "outputs": [
    {
     "data": {
      "application/javascript": [
       "\n",
       "            setTimeout(function() {\n",
       "                var nbb_cell_id = 1;\n",
       "                var nbb_unformatted_code = \"%load_ext nb_black\";\n",
       "                var nbb_formatted_code = \"%load_ext nb_black\";\n",
       "                var nbb_cells = Jupyter.notebook.get_cells();\n",
       "                for (var i = 0; i < nbb_cells.length; ++i) {\n",
       "                    if (nbb_cells[i].input_prompt_number == nbb_cell_id) {\n",
       "                        if (nbb_cells[i].get_text() == nbb_unformatted_code) {\n",
       "                             nbb_cells[i].set_text(nbb_formatted_code);\n",
       "                        }\n",
       "                        break;\n",
       "                    }\n",
       "                }\n",
       "            }, 500);\n",
       "            "
      ],
      "text/plain": [
       "<IPython.core.display.Javascript object>"
      ]
     },
     "metadata": {},
     "output_type": "display_data"
    }
   ],
   "source": [
    "%load_ext nb_black"
   ]
  },
  {
   "cell_type": "code",
   "execution_count": 51,
   "id": "encouraging-blood",
   "metadata": {},
   "outputs": [
    {
     "data": {
      "application/javascript": [
       "\n",
       "            setTimeout(function() {\n",
       "                var nbb_cell_id = 51;\n",
       "                var nbb_unformatted_code = \"import os\\n\\nimport netcdf_scm.io\\nimport netcdf_scm.stitching\\nimport tqdm.autonotebook as tqdman\\nimport xarray as xr\\nfrom netcdf_scm.iris_cube_wrappers import ScmCube\";\n",
       "                var nbb_formatted_code = \"import os\\n\\nimport netcdf_scm.io\\nimport netcdf_scm.stitching\\nimport tqdm.autonotebook as tqdman\\nimport xarray as xr\\nfrom netcdf_scm.iris_cube_wrappers import ScmCube\";\n",
       "                var nbb_cells = Jupyter.notebook.get_cells();\n",
       "                for (var i = 0; i < nbb_cells.length; ++i) {\n",
       "                    if (nbb_cells[i].input_prompt_number == nbb_cell_id) {\n",
       "                        if (nbb_cells[i].get_text() == nbb_unformatted_code) {\n",
       "                             nbb_cells[i].set_text(nbb_formatted_code);\n",
       "                        }\n",
       "                        break;\n",
       "                    }\n",
       "                }\n",
       "            }, 500);\n",
       "            "
      ],
      "text/plain": [
       "<IPython.core.display.Javascript object>"
      ]
     },
     "metadata": {},
     "output_type": "display_data"
    }
   ],
   "source": [
    "import os\n",
    "\n",
    "import netcdf_scm.io\n",
    "import netcdf_scm.stitching\n",
    "import tqdm.autonotebook as tqdman\n",
    "import xarray as xr\n",
    "from netcdf_scm.iris_cube_wrappers import ScmCube"
   ]
  },
  {
   "cell_type": "code",
   "execution_count": 77,
   "id": "dimensional-module",
   "metadata": {},
   "outputs": [
    {
     "data": {
      "application/javascript": [
       "\n",
       "            setTimeout(function() {\n",
       "                var nbb_cell_id = 77;\n",
       "                var nbb_unformatted_code = \"all_errors = [\\n    './country-crunch/netcdf-scm-crunched/CMIP6/ScenarioMIP/E3SM-Project/E3SM-1-1/ssp245/r3i1p1f1/Amon/tas/gr/v20201110/netcdf-scm_tas_Amon_E3SM-1-1_ssp245_r3i1p1f1_gr_202001-202412.nc',\\n './country-crunch/netcdf-scm-crunched/CMIP6/ScenarioMIP/E3SM-Project/E3SM-1-1/ssp245/r10i1p1f1/Amon/tas/gr/v20201110/netcdf-scm_tas_Amon_E3SM-1-1_ssp245_r10i1p1f1_gr_202001-202412.nc',\\n './country-crunch/netcdf-scm-crunched/CMIP6/ScenarioMIP/E3SM-Project/E3SM-1-1/ssp245/r4i1p1f1/Amon/tas/gr/v20201110/netcdf-scm_tas_Amon_E3SM-1-1_ssp245_r4i1p1f1_gr_202001-202412.nc',\\n './country-crunch/netcdf-scm-crunched/CMIP6/ScenarioMIP/E3SM-Project/E3SM-1-1/ssp245/r2i1p1f1/Amon/tas/gr/v20201110/netcdf-scm_tas_Amon_E3SM-1-1_ssp245_r2i1p1f1_gr_202001-202412.nc',\\n './country-crunch/netcdf-scm-crunched/CMIP6/ScenarioMIP/CCCR-IITM/IITM-ESM/ssp585/r1i1p1f1/Amon/tas/gn/v20200915/netcdf-scm_tas_Amon_IITM-ESM_ssp585_r1i1p1f1_gn_201501-209912.nc',\\n './country-crunch/netcdf-scm-crunched/CMIP6/ScenarioMIP/E3SM-Project/E3SM-1-1/ssp585/r1i1p1f1/Amon/tas/gr/v20201117/netcdf-scm_tas_Amon_E3SM-1-1_ssp585_r1i1p1f1_gr_201501-210012.nc',\\n './country-crunch/netcdf-scm-crunched/CMIP6/ScenarioMIP/CCCR-IITM/IITM-ESM/ssp126/r1i1p1f1/Amon/tas/gn/v20201112/netcdf-scm_tas_Amon_IITM-ESM_ssp126_r1i1p1f1_gn_201501-210012.nc',\\n './country-crunch/netcdf-scm-crunched/CMIP6/ScenarioMIP/CCCR-IITM/IITM-ESM/ssp245/r1i1p1f1/Amon/tas/gn/v20200915/netcdf-scm_tas_Amon_IITM-ESM_ssp245_r1i1p1f1_gn_201501-209912.nc',\\n './country-crunch/netcdf-scm-crunched/CMIP6/ScenarioMIP/NUIST/NESM3/ssp245/r1i1p1f1/Amon/tas/gn/v20190731/netcdf-scm_tas_Amon_NESM3_ssp245_r1i1p1f1_gn_201501-210012.nc',\\n './country-crunch/netcdf-scm-crunched/CMIP6/ScenarioMIP/HAMMOZ-Consortium/MPI-ESM-1-2-HAM/ssp370/r2i1p1f1/Amon/tas/gn/v20190628/netcdf-scm_tas_Amon_MPI-ESM-1-2-HAM_ssp370_r2i1p1f1_gn_201501-205512.nc',\\n './country-crunch/netcdf-scm-crunched/CMIP6/ScenarioMIP/E3SM-Project/E3SM-1-1/ssp245/r1i1p1f1/Amon/tas/gr/v20201109/netcdf-scm_tas_Amon_E3SM-1-1_ssp245_r1i1p1f1_gr_202001-202412.nc',\\n './country-crunch/netcdf-scm-crunched/CMIP6/ScenarioMIP/NUIST/NESM3/ssp585/r1i1p1f1/Amon/tas/gn/v20190728/netcdf-scm_tas_Amon_NESM3_ssp585_r1i1p1f1_gn_201501-210012.nc',\\n './country-crunch/netcdf-scm-crunched/CMIP6/ScenarioMIP/EC-Earth-Consortium/EC-Earth3-CC/ssp245/r1i1p1f1/Amon/tas/gr/v20210113/netcdf-scm_tas_Amon_EC-Earth3-CC_ssp245_r1i1p1f1_gr_201501-210012.nc',\\n './country-crunch/netcdf-scm-crunched/CMIP6/ScenarioMIP/EC-Earth-Consortium/EC-Earth3-CC/ssp585/r1i1p1f1/Amon/tas/gr/v20210113/netcdf-scm_tas_Amon_EC-Earth3-CC_ssp585_r1i1p1f1_gr_201501-210012.nc',\\n './country-crunch/netcdf-scm-crunched/CMIP6/ScenarioMIP/NUIST/NESM3/ssp245/r2i1p1f1/Amon/tas/gn/v20190731/netcdf-scm_tas_Amon_NESM3_ssp245_r2i1p1f1_gn_201501-210012.nc',\\n './country-crunch/netcdf-scm-crunched/CMIP6/ScenarioMIP/BCC/BCC-CSM2-MR/ssp585/r1i1p1f1/Amon/tas/gn/v20190314/netcdf-scm_tas_Amon_BCC-CSM2-MR_ssp585_r1i1p1f1_gn_201501-210012.nc',\\n './country-crunch/netcdf-scm-crunched/CMIP6/ScenarioMIP/CCCR-IITM/IITM-ESM/ssp370/r1i1p1f1/Amon/tas/gn/v20200915/netcdf-scm_tas_Amon_IITM-ESM_ssp370_r1i1p1f1_gn_201501-210012.nc',\\n './country-crunch/netcdf-scm-crunched/CMIP6/ScenarioMIP/KIOST/KIOST-ESM/ssp585/r1i1p1f1/Amon/tas/gr1/v20191106/netcdf-scm_tas_Amon_KIOST-ESM_ssp585_r1i1p1f1_gr1_201501-210012.nc',\\n './country-crunch/netcdf-scm-crunched/CMIP6/ScenarioMIP/BCC/BCC-CSM2-MR/ssp370/r1i1p1f1/Amon/tas/gn/v20190314/netcdf-scm_tas_Amon_BCC-CSM2-MR_ssp370_r1i1p1f1_gn_201501-210012.nc',\\n './country-crunch/netcdf-scm-crunched/CMIP6/ScenarioMIP/NUIST/NESM3/ssp126/r1i1p1f1/Amon/tas/gn/v20190731/netcdf-scm_tas_Amon_NESM3_ssp126_r1i1p1f1_gn_201501-210012.nc',\\n './country-crunch/netcdf-scm-crunched/CMIP6/ScenarioMIP/NUIST/NESM3/ssp585/r2i1p1f1/Amon/tas/gn/v20190731/netcdf-scm_tas_Amon_NESM3_ssp585_r2i1p1f1_gn_201501-210012.nc',\\n './country-crunch/netcdf-scm-crunched/CMIP6/ScenarioMIP/AWI/AWI-CM-1-1-MR/ssp370/r2i1p1f1/Amon/tas/gn/v20190529/netcdf-scm_tas_Amon_AWI-CM-1-1-MR_ssp370_r2i1p1f1_gn_201501-210012.nc',\\n './country-crunch/netcdf-scm-crunched/CMIP6/ScenarioMIP/INM/INM-CM5-0/ssp370/r2i1p1f1/Amon/tas/gr1/v20190712/netcdf-scm_tas_Amon_INM-CM5-0_ssp370_r2i1p1f1_gr1_201501-210012.nc',\\n './country-crunch/netcdf-scm-crunched/CMIP6/ScenarioMIP/BCC/BCC-CSM2-MR/ssp126/r1i1p1f1/Amon/tas/gn/v20190314/netcdf-scm_tas_Amon_BCC-CSM2-MR_ssp126_r1i1p1f1_gn_201501-210012.nc',\\n './country-crunch/netcdf-scm-crunched/CMIP6/ScenarioMIP/INM/INM-CM5-0/ssp370/r4i1p1f1/Amon/tas/gr1/v20190723/netcdf-scm_tas_Amon_INM-CM5-0_ssp370_r4i1p1f1_gr1_201501-210012.nc',\\n './country-crunch/netcdf-scm-crunched/CMIP6/ScenarioMIP/KIOST/KIOST-ESM/ssp245/r1i1p1f1/Amon/tas/gr1/v20191106/netcdf-scm_tas_Amon_KIOST-ESM_ssp245_r1i1p1f1_gr1_201501-210012.nc',\\n './country-crunch/netcdf-scm-crunched/CMIP6/ScenarioMIP/BCC/BCC-CSM2-MR/ssp245/r1i1p1f1/Amon/tas/gn/v20190314/netcdf-scm_tas_Amon_BCC-CSM2-MR_ssp245_r1i1p1f1_gn_201501-210012.nc',\\n './country-crunch/netcdf-scm-crunched/CMIP6/ScenarioMIP/AWI/AWI-CM-1-1-MR/ssp370/r4i1p1f1/Amon/tas/gn/v20190529/netcdf-scm_tas_Amon_AWI-CM-1-1-MR_ssp370_r4i1p1f1_gn_201501-210012.nc',\\n './country-crunch/netcdf-scm-crunched/CMIP6/ScenarioMIP/INM/INM-CM5-0/ssp370/r3i1p1f1/Amon/tas/gr1/v20190715/netcdf-scm_tas_Amon_INM-CM5-0_ssp370_r3i1p1f1_gr1_201501-210012.nc',\\n './country-crunch/netcdf-scm-crunched/CMIP6/ScenarioMIP/DWD/MPI-ESM1-2-HR/ssp585/r2i1p1f1/Amon/tas/gn/v20190710/netcdf-scm_tas_Amon_MPI-ESM1-2-HR_ssp585_r2i1p1f1_gn_201501-210012.nc',\\n './country-crunch/netcdf-scm-crunched/CMIP6/ScenarioMIP/KIOST/KIOST-ESM/ssp126/r1i1p1f1/Amon/tas/gr1/v20191106/netcdf-scm_tas_Amon_KIOST-ESM_ssp126_r1i1p1f1_gr1_201501-210012.nc',\\n './country-crunch/netcdf-scm-crunched/CMIP6/ScenarioMIP/NUIST/NESM3/ssp126/r2i1p1f1/Amon/tas/gn/v20190801/netcdf-scm_tas_Amon_NESM3_ssp126_r2i1p1f1_gn_201501-210012.nc',\\n './country-crunch/netcdf-scm-crunched/CMIP6/ScenarioMIP/DKRZ/MPI-ESM1-2-HR/ssp370/r4i1p1f1/Amon/tas/gn/v20190710/netcdf-scm_tas_Amon_MPI-ESM1-2-HR_ssp370_r4i1p1f1_gn_201501-210012.nc',\\n './country-crunch/netcdf-scm-crunched/CMIP6/ScenarioMIP/DKRZ/MPI-ESM1-2-HR/ssp370/r10i1p1f1/Amon/tas/gn/v20190710/netcdf-scm_tas_Amon_MPI-ESM1-2-HR_ssp370_r10i1p1f1_gn_201501-210012.nc',\\n './country-crunch/netcdf-scm-crunched/CMIP6/ScenarioMIP/DWD/MPI-ESM1-2-HR/ssp126/r2i1p1f1/Amon/tas/gn/v20190710/netcdf-scm_tas_Amon_MPI-ESM1-2-HR_ssp126_r2i1p1f1_gn_201501-210012.nc',\\n './country-crunch/netcdf-scm-crunched/CMIP6/ScenarioMIP/DKRZ/MPI-ESM1-2-HR/ssp370/r2i1p1f1/Amon/tas/gn/v20190710/netcdf-scm_tas_Amon_MPI-ESM1-2-HR_ssp370_r2i1p1f1_gn_201501-210012.nc',\\n './country-crunch/netcdf-scm-crunched/CMIP6/ScenarioMIP/AWI/AWI-CM-1-1-MR/ssp370/r3i1p1f1/Amon/tas/gn/v20190529/netcdf-scm_tas_Amon_AWI-CM-1-1-MR_ssp370_r3i1p1f1_gn_201501-210012.nc',\\n './country-crunch/netcdf-scm-crunched/CMIP6/ScenarioMIP/DKRZ/MPI-ESM1-2-HR/ssp370/r3i1p1f1/Amon/tas/gn/v20190710/netcdf-scm_tas_Amon_MPI-ESM1-2-HR_ssp370_r3i1p1f1_gn_201501-210012.nc',\\n './country-crunch/netcdf-scm-crunched/CMIP6/ScenarioMIP/THU/CIESM/ssp126/r1i1p1f1/Amon/tas/gr/v20200417/netcdf-scm_tas_Amon_CIESM_ssp126_r1i1p1f1_gr_201501-210012.nc',\\n './country-crunch/netcdf-scm-crunched/CMIP6/ScenarioMIP/DKRZ/MPI-ESM1-2-HR/ssp245/r2i1p1f1/Amon/tas/gn/v20190710/netcdf-scm_tas_Amon_MPI-ESM1-2-HR_ssp245_r2i1p1f1_gn_201501-210012.nc',\\n './country-crunch/netcdf-scm-crunched/CMIP6/ScenarioMIP/THU/CIESM/ssp585/r1i1p1f1/Amon/tas/gr/v20200605/netcdf-scm_tas_Amon_CIESM_ssp585_r1i1p1f1_gr_201501-210012.nc',\\n './country-crunch/netcdf-scm-crunched/CMIP6/ScenarioMIP/THU/CIESM/ssp245/r1i1p1f1/Amon/tas/gr/v20200417/netcdf-scm_tas_Amon_CIESM_ssp245_r1i1p1f1_gr_201501-210012.nc',\\n './country-crunch/netcdf-scm-crunched/CMIP6/ScenarioMIP/NCAR/CESM2-WACCM/ssp585/r1i1p1f1/Amon/tas/gn/v20200702/netcdf-scm_tas_Amon_CESM2-WACCM_ssp585_r1i1p1f1_gn_201501-229912.nc',\\n './country-crunch/netcdf-scm-crunched/CMIP6/ScenarioMIP/NOAA-GFDL/GFDL-ESM4/ssp370/r1i1p1f1/Amon/tas/gr1/v20180701/netcdf-scm_tas_Amon_GFDL-ESM4_ssp370_r1i1p1f1_gr1_201501-210012.nc',\\n './country-crunch/netcdf-scm-crunched/CMIP6/ScenarioMIP/NOAA-GFDL/GFDL-CM4/ssp585/r1i1p1f1/Amon/tas/gr1/v20180701/netcdf-scm_tas_Amon_GFDL-CM4_ssp585_r1i1p1f1_gr1_201501-210012.nc',\\n './country-crunch/netcdf-scm-crunched/CMIP6/ScenarioMIP/NOAA-GFDL/GFDL-CM4/ssp245/r1i1p1f1/Amon/tas/gr1/v20180701/netcdf-scm_tas_Amon_GFDL-CM4_ssp245_r1i1p1f1_gr1_201501-210012.nc',\\n './country-crunch/netcdf-scm-crunched/CMIP6/ScenarioMIP/NOAA-GFDL/GFDL-ESM4/ssp119/r1i1p1f1/Amon/tas/gr1/v20180701/netcdf-scm_tas_Amon_GFDL-ESM4_ssp119_r1i1p1f1_gr1_201501-210012.nc',\\n './country-crunch/netcdf-scm-crunched/CMIP6/ScenarioMIP/NOAA-GFDL/GFDL-ESM4/ssp126/r1i1p1f1/Amon/tas/gr1/v20180701/netcdf-scm_tas_Amon_GFDL-ESM4_ssp126_r1i1p1f1_gr1_201501-210012.nc',\\n './country-crunch/netcdf-scm-crunched/CMIP6/ScenarioMIP/NOAA-GFDL/GFDL-ESM4/ssp585/r1i1p1f1/Amon/tas/gr1/v20180701/netcdf-scm_tas_Amon_GFDL-ESM4_ssp585_r1i1p1f1_gr1_201501-210012.nc',\\n './country-crunch/netcdf-scm-crunched/CMIP6/ScenarioMIP/CAS/CAS-ESM2-0/ssp245/r1i1p1f1/Amon/tas/gn/v20201228/netcdf-scm_tas_Amon_CAS-ESM2-0_ssp245_r1i1p1f1_gn_201501-210012.nc',\\n './country-crunch/netcdf-scm-crunched/CMIP6/ScenarioMIP/NOAA-GFDL/GFDL-ESM4/ssp245/r3i1p1f1/Amon/tas/gr1/v20180701/netcdf-scm_tas_Amon_GFDL-ESM4_ssp245_r3i1p1f1_gr1_201501-210012.nc',\\n './country-crunch/netcdf-scm-crunched/CMIP6/ScenarioMIP/CAMS/CAMS-CSM1-0/ssp245/r1i1p1f1/Amon/tas/gn/v20190708/netcdf-scm_tas_Amon_CAMS-CSM1-0_ssp245_r1i1p1f1_gn_201501-209912.nc',\\n './country-crunch/netcdf-scm-crunched/CMIP6/ScenarioMIP/CAMS/CAMS-CSM1-0/ssp585/r1i1p1f1/Amon/tas/gn/v20190708/netcdf-scm_tas_Amon_CAMS-CSM1-0_ssp585_r1i1p1f1_gn_201501-209912.nc',\\n './country-crunch/netcdf-scm-crunched/CMIP6/ScenarioMIP/CAMS/CAMS-CSM1-0/ssp119/r1i1p1f1/Amon/tas/gn/v20190708/netcdf-scm_tas_Amon_CAMS-CSM1-0_ssp119_r1i1p1f1_gn_201501-209912.nc',\\n './country-crunch/netcdf-scm-crunched/CMIP6/ScenarioMIP/CAMS/CAMS-CSM1-0/ssp126/r1i1p1f1/Amon/tas/gn/v20190708/netcdf-scm_tas_Amon_CAMS-CSM1-0_ssp126_r1i1p1f1_gn_201501-209912.nc',\\n './country-crunch/netcdf-scm-crunched/CMIP6/ScenarioMIP/CAMS/CAMS-CSM1-0/ssp126/r2i1p1f1/Amon/tas/gn/v20190924/netcdf-scm_tas_Amon_CAMS-CSM1-0_ssp126_r2i1p1f1_gn_201501-209912.nc',\\n './country-crunch/netcdf-scm-crunched/CMIP6/ScenarioMIP/CAS/CAS-ESM2-0/ssp370/r1i1p1f1/Amon/tas/gn/v20201228/netcdf-scm_tas_Amon_CAS-ESM2-0_ssp370_r1i1p1f1_gn_201501-210012.nc',\\n './country-crunch/netcdf-scm-crunched/CMIP6/ScenarioMIP/CAS/CAS-ESM2-0/ssp245/r3i1p1f1/Amon/tas/gn/v20201228/netcdf-scm_tas_Amon_CAS-ESM2-0_ssp245_r3i1p1f1_gn_201501-210012.nc',\\n './country-crunch/netcdf-scm-crunched/CMIP6/ScenarioMIP/CAMS/CAMS-CSM1-0/ssp370/r2i1p1f1/Amon/tas/gn/v20190924/netcdf-scm_tas_Amon_CAMS-CSM1-0_ssp370_r2i1p1f1_gn_201501-209912.nc',\\n './country-crunch/netcdf-scm-crunched/CMIP6/ScenarioMIP/CAS/CAS-ESM2-0/ssp585/r3i1p1f1/Amon/tas/gn/v20201228/netcdf-scm_tas_Amon_CAS-ESM2-0_ssp585_r3i1p1f1_gn_201501-210012.nc',\\n './country-crunch/netcdf-scm-crunched/CMIP6/AerChemMIP/NOAA-GFDL/GFDL-ESM4/ssp370-lowNTCF/r1i1p1f1/Amon/tas/gr1/v20180701/netcdf-scm_tas_Amon_GFDL-ESM4_ssp370-lowNTCF_r1i1p1f1_gr1_201501-205912.nc',\\n './country-crunch/netcdf-scm-crunched/CMIP6/ScenarioMIP/CAMS/CAMS-CSM1-0/ssp585/r2i1p1f1/Amon/tas/gn/v20190924/netcdf-scm_tas_Amon_CAMS-CSM1-0_ssp585_r2i1p1f1_gn_201501-209912.nc',\\n './country-crunch/netcdf-scm-crunched/CMIP6/ScenarioMIP/NCAR/CESM2-WACCM/ssp534-over/r2i1p1f1/Amon/tas/gn/v20200211/netcdf-scm_tas_Amon_CESM2-WACCM_ssp534-over_r2i1p1f1_gn_204001-210012.nc',\\n './country-crunch/netcdf-scm-crunched/CMIP6/ScenarioMIP/CAS/CAS-ESM2-0/ssp370/r3i1p1f1/Amon/tas/gn/v20201228/netcdf-scm_tas_Amon_CAS-ESM2-0_ssp370_r3i1p1f1_gn_201501-210012.nc',\\n './country-crunch/netcdf-scm-crunched/CMIP6/ScenarioMIP/CAS/CAS-ESM2-0/ssp126/r3i1p1f1/Amon/tas/gn/v20201228/netcdf-scm_tas_Amon_CAS-ESM2-0_ssp126_r3i1p1f1_gn_201501-210012.nc',\\n './country-crunch/netcdf-scm-crunched/CMIP6/ScenarioMIP/CAMS/CAMS-CSM1-0/ssp119/r2i1p1f1/Amon/tas/gn/v20190924/netcdf-scm_tas_Amon_CAMS-CSM1-0_ssp119_r2i1p1f1_gn_201501-209912.nc',\\n './country-crunch/netcdf-scm-crunched/CMIP6/ScenarioMIP/CAMS/CAMS-CSM1-0/ssp370/r1i1p1f1/Amon/tas/gn/v20190708/netcdf-scm_tas_Amon_CAMS-CSM1-0_ssp370_r1i1p1f1_gn_201501-209912.nc',\\n './country-crunch/netcdf-scm-crunched/CMIP6/ScenarioMIP/CAS/CAS-ESM2-0/ssp585/r1i1p1f1/Amon/tas/gn/v20201228/netcdf-scm_tas_Amon_CAS-ESM2-0_ssp585_r1i1p1f1_gn_201501-210012.nc',\\n './country-crunch/netcdf-scm-crunched/CMIP6/ScenarioMIP/NCAR/CESM2-WACCM/ssp534-over/r1i1p1f1/Amon/tas/gn/v20200701/netcdf-scm_tas_Amon_CESM2-WACCM_ssp534-over_r1i1p1f1_gn_204001-229912.nc',\\n './country-crunch/netcdf-scm-crunched/CMIP6/ScenarioMIP/CAS/FGOALS-f3-L/ssp245/r1i1p1f1/Amon/tas/gr/v20191013/netcdf-scm_tas_Amon_FGOALS-f3-L_ssp245_r1i1p1f1_gr_201501-210012.nc',\\n './country-crunch/netcdf-scm-crunched/CMIP6/ScenarioMIP/AS-RCEC/TaiESM1/ssp245/r1i1p1f1/Amon/tas/gn/v20201124/netcdf-scm_tas_Amon_TaiESM1_ssp245_r1i1p1f1_gn_201501-210012.nc',\\n './country-crunch/netcdf-scm-crunched/CMIP6/AerChemMIP/BCC/BCC-ESM1/ssp370-lowNTCF/r3i1p1f1/Amon/tas/gn/v20190624/netcdf-scm_tas_Amon_BCC-ESM1_ssp370-lowNTCF_r3i1p1f1_gn_201501-205512.nc',\\n './country-crunch/netcdf-scm-crunched/CMIP6/ScenarioMIP/CAS/CAS-ESM2-0/ssp126/r1i1p1f1/Amon/tas/gn/v20201228/netcdf-scm_tas_Amon_CAS-ESM2-0_ssp126_r1i1p1f1_gn_201501-210012.nc',\\n './country-crunch/netcdf-scm-crunched/CMIP6/ScenarioMIP/AS-RCEC/TaiESM1/ssp126/r1i1p1f1/Amon/tas/gn/v20201124/netcdf-scm_tas_Amon_TaiESM1_ssp126_r1i1p1f1_gn_201501-210012.nc',\\n './country-crunch/netcdf-scm-crunched/CMIP6/ScenarioMIP/CAMS/CAMS-CSM1-0/ssp245/r2i1p1f1/Amon/tas/gn/v20190924/netcdf-scm_tas_Amon_CAMS-CSM1-0_ssp245_r2i1p1f1_gn_201501-209912.nc',\\n './country-crunch/netcdf-scm-crunched/CMIP6/ScenarioMIP/CAS/FGOALS-f3-L/ssp370/r1i1p1f1/Amon/tas/gr/v20191013/netcdf-scm_tas_Amon_FGOALS-f3-L_ssp370_r1i1p1f1_gr_201501-210012.nc',\\n './country-crunch/netcdf-scm-crunched/CMIP6/AerChemMIP/HAMMOZ-Consortium/MPI-ESM-1-2-HAM/ssp370-lowNTCF/r2i1p1f1/Amon/tas/gn/v20190628/netcdf-scm_tas_Amon_MPI-ESM-1-2-HAM_ssp370-lowNTCF_r2i1p1f1_gn_201501-205512.nc',\\n './country-crunch/netcdf-scm-crunched/CMIP6/AerChemMIP/BCC/BCC-ESM1/ssp370/r3i1p1f1/Amon/tas/gn/v20190702/netcdf-scm_tas_Amon_BCC-ESM1_ssp370_r3i1p1f1_gn_201501-205512.nc',\\n './country-crunch/netcdf-scm-crunched/CMIP6/AerChemMIP/BCC/BCC-ESM1/ssp370/r1i1p1f1/Amon/tas/gn/v20190624/netcdf-scm_tas_Amon_BCC-ESM1_ssp370_r1i1p1f1_gn_201501-205512.nc',\\n './country-crunch/netcdf-scm-crunched/CMIP6/ScenarioMIP/AS-RCEC/TaiESM1/ssp370/r1i1p1f1/Amon/tas/gn/v20201014/netcdf-scm_tas_Amon_TaiESM1_ssp370_r1i1p1f1_gn_201501-210012.nc',\\n './country-crunch/netcdf-scm-crunched/CMIP6/ScenarioMIP/CAS/FGOALS-f3-L/ssp126/r1i1p1f1/Amon/tas/gr/v20191013/netcdf-scm_tas_Amon_FGOALS-f3-L_ssp126_r1i1p1f1_gr_201501-210012.nc',\\n './country-crunch/netcdf-scm-crunched/CMIP6/AerChemMIP/BCC/BCC-ESM1/ssp370-lowNTCF/r1i1p1f1/Amon/tas/gn/v20190624/netcdf-scm_tas_Amon_BCC-ESM1_ssp370-lowNTCF_r1i1p1f1_gn_201501-205512.nc',\\n './country-crunch/netcdf-scm-crunched/CMIP6/ScenarioMIP/AS-RCEC/TaiESM1/ssp585/r1i1p1f1/Amon/tas/gn/v20200901/netcdf-scm_tas_Amon_TaiESM1_ssp585_r1i1p1f1_gn_201501-210012.nc',\\n './country-crunch/netcdf-scm-crunched/CMIP6/ScenarioMIP/CAS/FGOALS-f3-L/ssp585/r1i1p1f1/Amon/tas/gr/v20191013/netcdf-scm_tas_Amon_FGOALS-f3-L_ssp585_r1i1p1f1_gr_201501-210012.nc'\\n]\";\n",
       "                var nbb_formatted_code = \"all_errors = [\\n    \\\"./country-crunch/netcdf-scm-crunched/CMIP6/ScenarioMIP/E3SM-Project/E3SM-1-1/ssp245/r3i1p1f1/Amon/tas/gr/v20201110/netcdf-scm_tas_Amon_E3SM-1-1_ssp245_r3i1p1f1_gr_202001-202412.nc\\\",\\n    \\\"./country-crunch/netcdf-scm-crunched/CMIP6/ScenarioMIP/E3SM-Project/E3SM-1-1/ssp245/r10i1p1f1/Amon/tas/gr/v20201110/netcdf-scm_tas_Amon_E3SM-1-1_ssp245_r10i1p1f1_gr_202001-202412.nc\\\",\\n    \\\"./country-crunch/netcdf-scm-crunched/CMIP6/ScenarioMIP/E3SM-Project/E3SM-1-1/ssp245/r4i1p1f1/Amon/tas/gr/v20201110/netcdf-scm_tas_Amon_E3SM-1-1_ssp245_r4i1p1f1_gr_202001-202412.nc\\\",\\n    \\\"./country-crunch/netcdf-scm-crunched/CMIP6/ScenarioMIP/E3SM-Project/E3SM-1-1/ssp245/r2i1p1f1/Amon/tas/gr/v20201110/netcdf-scm_tas_Amon_E3SM-1-1_ssp245_r2i1p1f1_gr_202001-202412.nc\\\",\\n    \\\"./country-crunch/netcdf-scm-crunched/CMIP6/ScenarioMIP/CCCR-IITM/IITM-ESM/ssp585/r1i1p1f1/Amon/tas/gn/v20200915/netcdf-scm_tas_Amon_IITM-ESM_ssp585_r1i1p1f1_gn_201501-209912.nc\\\",\\n    \\\"./country-crunch/netcdf-scm-crunched/CMIP6/ScenarioMIP/E3SM-Project/E3SM-1-1/ssp585/r1i1p1f1/Amon/tas/gr/v20201117/netcdf-scm_tas_Amon_E3SM-1-1_ssp585_r1i1p1f1_gr_201501-210012.nc\\\",\\n    \\\"./country-crunch/netcdf-scm-crunched/CMIP6/ScenarioMIP/CCCR-IITM/IITM-ESM/ssp126/r1i1p1f1/Amon/tas/gn/v20201112/netcdf-scm_tas_Amon_IITM-ESM_ssp126_r1i1p1f1_gn_201501-210012.nc\\\",\\n    \\\"./country-crunch/netcdf-scm-crunched/CMIP6/ScenarioMIP/CCCR-IITM/IITM-ESM/ssp245/r1i1p1f1/Amon/tas/gn/v20200915/netcdf-scm_tas_Amon_IITM-ESM_ssp245_r1i1p1f1_gn_201501-209912.nc\\\",\\n    \\\"./country-crunch/netcdf-scm-crunched/CMIP6/ScenarioMIP/NUIST/NESM3/ssp245/r1i1p1f1/Amon/tas/gn/v20190731/netcdf-scm_tas_Amon_NESM3_ssp245_r1i1p1f1_gn_201501-210012.nc\\\",\\n    \\\"./country-crunch/netcdf-scm-crunched/CMIP6/ScenarioMIP/HAMMOZ-Consortium/MPI-ESM-1-2-HAM/ssp370/r2i1p1f1/Amon/tas/gn/v20190628/netcdf-scm_tas_Amon_MPI-ESM-1-2-HAM_ssp370_r2i1p1f1_gn_201501-205512.nc\\\",\\n    \\\"./country-crunch/netcdf-scm-crunched/CMIP6/ScenarioMIP/E3SM-Project/E3SM-1-1/ssp245/r1i1p1f1/Amon/tas/gr/v20201109/netcdf-scm_tas_Amon_E3SM-1-1_ssp245_r1i1p1f1_gr_202001-202412.nc\\\",\\n    \\\"./country-crunch/netcdf-scm-crunched/CMIP6/ScenarioMIP/NUIST/NESM3/ssp585/r1i1p1f1/Amon/tas/gn/v20190728/netcdf-scm_tas_Amon_NESM3_ssp585_r1i1p1f1_gn_201501-210012.nc\\\",\\n    \\\"./country-crunch/netcdf-scm-crunched/CMIP6/ScenarioMIP/EC-Earth-Consortium/EC-Earth3-CC/ssp245/r1i1p1f1/Amon/tas/gr/v20210113/netcdf-scm_tas_Amon_EC-Earth3-CC_ssp245_r1i1p1f1_gr_201501-210012.nc\\\",\\n    \\\"./country-crunch/netcdf-scm-crunched/CMIP6/ScenarioMIP/EC-Earth-Consortium/EC-Earth3-CC/ssp585/r1i1p1f1/Amon/tas/gr/v20210113/netcdf-scm_tas_Amon_EC-Earth3-CC_ssp585_r1i1p1f1_gr_201501-210012.nc\\\",\\n    \\\"./country-crunch/netcdf-scm-crunched/CMIP6/ScenarioMIP/NUIST/NESM3/ssp245/r2i1p1f1/Amon/tas/gn/v20190731/netcdf-scm_tas_Amon_NESM3_ssp245_r2i1p1f1_gn_201501-210012.nc\\\",\\n    \\\"./country-crunch/netcdf-scm-crunched/CMIP6/ScenarioMIP/BCC/BCC-CSM2-MR/ssp585/r1i1p1f1/Amon/tas/gn/v20190314/netcdf-scm_tas_Amon_BCC-CSM2-MR_ssp585_r1i1p1f1_gn_201501-210012.nc\\\",\\n    \\\"./country-crunch/netcdf-scm-crunched/CMIP6/ScenarioMIP/CCCR-IITM/IITM-ESM/ssp370/r1i1p1f1/Amon/tas/gn/v20200915/netcdf-scm_tas_Amon_IITM-ESM_ssp370_r1i1p1f1_gn_201501-210012.nc\\\",\\n    \\\"./country-crunch/netcdf-scm-crunched/CMIP6/ScenarioMIP/KIOST/KIOST-ESM/ssp585/r1i1p1f1/Amon/tas/gr1/v20191106/netcdf-scm_tas_Amon_KIOST-ESM_ssp585_r1i1p1f1_gr1_201501-210012.nc\\\",\\n    \\\"./country-crunch/netcdf-scm-crunched/CMIP6/ScenarioMIP/BCC/BCC-CSM2-MR/ssp370/r1i1p1f1/Amon/tas/gn/v20190314/netcdf-scm_tas_Amon_BCC-CSM2-MR_ssp370_r1i1p1f1_gn_201501-210012.nc\\\",\\n    \\\"./country-crunch/netcdf-scm-crunched/CMIP6/ScenarioMIP/NUIST/NESM3/ssp126/r1i1p1f1/Amon/tas/gn/v20190731/netcdf-scm_tas_Amon_NESM3_ssp126_r1i1p1f1_gn_201501-210012.nc\\\",\\n    \\\"./country-crunch/netcdf-scm-crunched/CMIP6/ScenarioMIP/NUIST/NESM3/ssp585/r2i1p1f1/Amon/tas/gn/v20190731/netcdf-scm_tas_Amon_NESM3_ssp585_r2i1p1f1_gn_201501-210012.nc\\\",\\n    \\\"./country-crunch/netcdf-scm-crunched/CMIP6/ScenarioMIP/AWI/AWI-CM-1-1-MR/ssp370/r2i1p1f1/Amon/tas/gn/v20190529/netcdf-scm_tas_Amon_AWI-CM-1-1-MR_ssp370_r2i1p1f1_gn_201501-210012.nc\\\",\\n    \\\"./country-crunch/netcdf-scm-crunched/CMIP6/ScenarioMIP/INM/INM-CM5-0/ssp370/r2i1p1f1/Amon/tas/gr1/v20190712/netcdf-scm_tas_Amon_INM-CM5-0_ssp370_r2i1p1f1_gr1_201501-210012.nc\\\",\\n    \\\"./country-crunch/netcdf-scm-crunched/CMIP6/ScenarioMIP/BCC/BCC-CSM2-MR/ssp126/r1i1p1f1/Amon/tas/gn/v20190314/netcdf-scm_tas_Amon_BCC-CSM2-MR_ssp126_r1i1p1f1_gn_201501-210012.nc\\\",\\n    \\\"./country-crunch/netcdf-scm-crunched/CMIP6/ScenarioMIP/INM/INM-CM5-0/ssp370/r4i1p1f1/Amon/tas/gr1/v20190723/netcdf-scm_tas_Amon_INM-CM5-0_ssp370_r4i1p1f1_gr1_201501-210012.nc\\\",\\n    \\\"./country-crunch/netcdf-scm-crunched/CMIP6/ScenarioMIP/KIOST/KIOST-ESM/ssp245/r1i1p1f1/Amon/tas/gr1/v20191106/netcdf-scm_tas_Amon_KIOST-ESM_ssp245_r1i1p1f1_gr1_201501-210012.nc\\\",\\n    \\\"./country-crunch/netcdf-scm-crunched/CMIP6/ScenarioMIP/BCC/BCC-CSM2-MR/ssp245/r1i1p1f1/Amon/tas/gn/v20190314/netcdf-scm_tas_Amon_BCC-CSM2-MR_ssp245_r1i1p1f1_gn_201501-210012.nc\\\",\\n    \\\"./country-crunch/netcdf-scm-crunched/CMIP6/ScenarioMIP/AWI/AWI-CM-1-1-MR/ssp370/r4i1p1f1/Amon/tas/gn/v20190529/netcdf-scm_tas_Amon_AWI-CM-1-1-MR_ssp370_r4i1p1f1_gn_201501-210012.nc\\\",\\n    \\\"./country-crunch/netcdf-scm-crunched/CMIP6/ScenarioMIP/INM/INM-CM5-0/ssp370/r3i1p1f1/Amon/tas/gr1/v20190715/netcdf-scm_tas_Amon_INM-CM5-0_ssp370_r3i1p1f1_gr1_201501-210012.nc\\\",\\n    \\\"./country-crunch/netcdf-scm-crunched/CMIP6/ScenarioMIP/DWD/MPI-ESM1-2-HR/ssp585/r2i1p1f1/Amon/tas/gn/v20190710/netcdf-scm_tas_Amon_MPI-ESM1-2-HR_ssp585_r2i1p1f1_gn_201501-210012.nc\\\",\\n    \\\"./country-crunch/netcdf-scm-crunched/CMIP6/ScenarioMIP/KIOST/KIOST-ESM/ssp126/r1i1p1f1/Amon/tas/gr1/v20191106/netcdf-scm_tas_Amon_KIOST-ESM_ssp126_r1i1p1f1_gr1_201501-210012.nc\\\",\\n    \\\"./country-crunch/netcdf-scm-crunched/CMIP6/ScenarioMIP/NUIST/NESM3/ssp126/r2i1p1f1/Amon/tas/gn/v20190801/netcdf-scm_tas_Amon_NESM3_ssp126_r2i1p1f1_gn_201501-210012.nc\\\",\\n    \\\"./country-crunch/netcdf-scm-crunched/CMIP6/ScenarioMIP/DKRZ/MPI-ESM1-2-HR/ssp370/r4i1p1f1/Amon/tas/gn/v20190710/netcdf-scm_tas_Amon_MPI-ESM1-2-HR_ssp370_r4i1p1f1_gn_201501-210012.nc\\\",\\n    \\\"./country-crunch/netcdf-scm-crunched/CMIP6/ScenarioMIP/DKRZ/MPI-ESM1-2-HR/ssp370/r10i1p1f1/Amon/tas/gn/v20190710/netcdf-scm_tas_Amon_MPI-ESM1-2-HR_ssp370_r10i1p1f1_gn_201501-210012.nc\\\",\\n    \\\"./country-crunch/netcdf-scm-crunched/CMIP6/ScenarioMIP/DWD/MPI-ESM1-2-HR/ssp126/r2i1p1f1/Amon/tas/gn/v20190710/netcdf-scm_tas_Amon_MPI-ESM1-2-HR_ssp126_r2i1p1f1_gn_201501-210012.nc\\\",\\n    \\\"./country-crunch/netcdf-scm-crunched/CMIP6/ScenarioMIP/DKRZ/MPI-ESM1-2-HR/ssp370/r2i1p1f1/Amon/tas/gn/v20190710/netcdf-scm_tas_Amon_MPI-ESM1-2-HR_ssp370_r2i1p1f1_gn_201501-210012.nc\\\",\\n    \\\"./country-crunch/netcdf-scm-crunched/CMIP6/ScenarioMIP/AWI/AWI-CM-1-1-MR/ssp370/r3i1p1f1/Amon/tas/gn/v20190529/netcdf-scm_tas_Amon_AWI-CM-1-1-MR_ssp370_r3i1p1f1_gn_201501-210012.nc\\\",\\n    \\\"./country-crunch/netcdf-scm-crunched/CMIP6/ScenarioMIP/DKRZ/MPI-ESM1-2-HR/ssp370/r3i1p1f1/Amon/tas/gn/v20190710/netcdf-scm_tas_Amon_MPI-ESM1-2-HR_ssp370_r3i1p1f1_gn_201501-210012.nc\\\",\\n    \\\"./country-crunch/netcdf-scm-crunched/CMIP6/ScenarioMIP/THU/CIESM/ssp126/r1i1p1f1/Amon/tas/gr/v20200417/netcdf-scm_tas_Amon_CIESM_ssp126_r1i1p1f1_gr_201501-210012.nc\\\",\\n    \\\"./country-crunch/netcdf-scm-crunched/CMIP6/ScenarioMIP/DKRZ/MPI-ESM1-2-HR/ssp245/r2i1p1f1/Amon/tas/gn/v20190710/netcdf-scm_tas_Amon_MPI-ESM1-2-HR_ssp245_r2i1p1f1_gn_201501-210012.nc\\\",\\n    \\\"./country-crunch/netcdf-scm-crunched/CMIP6/ScenarioMIP/THU/CIESM/ssp585/r1i1p1f1/Amon/tas/gr/v20200605/netcdf-scm_tas_Amon_CIESM_ssp585_r1i1p1f1_gr_201501-210012.nc\\\",\\n    \\\"./country-crunch/netcdf-scm-crunched/CMIP6/ScenarioMIP/THU/CIESM/ssp245/r1i1p1f1/Amon/tas/gr/v20200417/netcdf-scm_tas_Amon_CIESM_ssp245_r1i1p1f1_gr_201501-210012.nc\\\",\\n    \\\"./country-crunch/netcdf-scm-crunched/CMIP6/ScenarioMIP/NCAR/CESM2-WACCM/ssp585/r1i1p1f1/Amon/tas/gn/v20200702/netcdf-scm_tas_Amon_CESM2-WACCM_ssp585_r1i1p1f1_gn_201501-229912.nc\\\",\\n    \\\"./country-crunch/netcdf-scm-crunched/CMIP6/ScenarioMIP/NOAA-GFDL/GFDL-ESM4/ssp370/r1i1p1f1/Amon/tas/gr1/v20180701/netcdf-scm_tas_Amon_GFDL-ESM4_ssp370_r1i1p1f1_gr1_201501-210012.nc\\\",\\n    \\\"./country-crunch/netcdf-scm-crunched/CMIP6/ScenarioMIP/NOAA-GFDL/GFDL-CM4/ssp585/r1i1p1f1/Amon/tas/gr1/v20180701/netcdf-scm_tas_Amon_GFDL-CM4_ssp585_r1i1p1f1_gr1_201501-210012.nc\\\",\\n    \\\"./country-crunch/netcdf-scm-crunched/CMIP6/ScenarioMIP/NOAA-GFDL/GFDL-CM4/ssp245/r1i1p1f1/Amon/tas/gr1/v20180701/netcdf-scm_tas_Amon_GFDL-CM4_ssp245_r1i1p1f1_gr1_201501-210012.nc\\\",\\n    \\\"./country-crunch/netcdf-scm-crunched/CMIP6/ScenarioMIP/NOAA-GFDL/GFDL-ESM4/ssp119/r1i1p1f1/Amon/tas/gr1/v20180701/netcdf-scm_tas_Amon_GFDL-ESM4_ssp119_r1i1p1f1_gr1_201501-210012.nc\\\",\\n    \\\"./country-crunch/netcdf-scm-crunched/CMIP6/ScenarioMIP/NOAA-GFDL/GFDL-ESM4/ssp126/r1i1p1f1/Amon/tas/gr1/v20180701/netcdf-scm_tas_Amon_GFDL-ESM4_ssp126_r1i1p1f1_gr1_201501-210012.nc\\\",\\n    \\\"./country-crunch/netcdf-scm-crunched/CMIP6/ScenarioMIP/NOAA-GFDL/GFDL-ESM4/ssp585/r1i1p1f1/Amon/tas/gr1/v20180701/netcdf-scm_tas_Amon_GFDL-ESM4_ssp585_r1i1p1f1_gr1_201501-210012.nc\\\",\\n    \\\"./country-crunch/netcdf-scm-crunched/CMIP6/ScenarioMIP/CAS/CAS-ESM2-0/ssp245/r1i1p1f1/Amon/tas/gn/v20201228/netcdf-scm_tas_Amon_CAS-ESM2-0_ssp245_r1i1p1f1_gn_201501-210012.nc\\\",\\n    \\\"./country-crunch/netcdf-scm-crunched/CMIP6/ScenarioMIP/NOAA-GFDL/GFDL-ESM4/ssp245/r3i1p1f1/Amon/tas/gr1/v20180701/netcdf-scm_tas_Amon_GFDL-ESM4_ssp245_r3i1p1f1_gr1_201501-210012.nc\\\",\\n    \\\"./country-crunch/netcdf-scm-crunched/CMIP6/ScenarioMIP/CAMS/CAMS-CSM1-0/ssp245/r1i1p1f1/Amon/tas/gn/v20190708/netcdf-scm_tas_Amon_CAMS-CSM1-0_ssp245_r1i1p1f1_gn_201501-209912.nc\\\",\\n    \\\"./country-crunch/netcdf-scm-crunched/CMIP6/ScenarioMIP/CAMS/CAMS-CSM1-0/ssp585/r1i1p1f1/Amon/tas/gn/v20190708/netcdf-scm_tas_Amon_CAMS-CSM1-0_ssp585_r1i1p1f1_gn_201501-209912.nc\\\",\\n    \\\"./country-crunch/netcdf-scm-crunched/CMIP6/ScenarioMIP/CAMS/CAMS-CSM1-0/ssp119/r1i1p1f1/Amon/tas/gn/v20190708/netcdf-scm_tas_Amon_CAMS-CSM1-0_ssp119_r1i1p1f1_gn_201501-209912.nc\\\",\\n    \\\"./country-crunch/netcdf-scm-crunched/CMIP6/ScenarioMIP/CAMS/CAMS-CSM1-0/ssp126/r1i1p1f1/Amon/tas/gn/v20190708/netcdf-scm_tas_Amon_CAMS-CSM1-0_ssp126_r1i1p1f1_gn_201501-209912.nc\\\",\\n    \\\"./country-crunch/netcdf-scm-crunched/CMIP6/ScenarioMIP/CAMS/CAMS-CSM1-0/ssp126/r2i1p1f1/Amon/tas/gn/v20190924/netcdf-scm_tas_Amon_CAMS-CSM1-0_ssp126_r2i1p1f1_gn_201501-209912.nc\\\",\\n    \\\"./country-crunch/netcdf-scm-crunched/CMIP6/ScenarioMIP/CAS/CAS-ESM2-0/ssp370/r1i1p1f1/Amon/tas/gn/v20201228/netcdf-scm_tas_Amon_CAS-ESM2-0_ssp370_r1i1p1f1_gn_201501-210012.nc\\\",\\n    \\\"./country-crunch/netcdf-scm-crunched/CMIP6/ScenarioMIP/CAS/CAS-ESM2-0/ssp245/r3i1p1f1/Amon/tas/gn/v20201228/netcdf-scm_tas_Amon_CAS-ESM2-0_ssp245_r3i1p1f1_gn_201501-210012.nc\\\",\\n    \\\"./country-crunch/netcdf-scm-crunched/CMIP6/ScenarioMIP/CAMS/CAMS-CSM1-0/ssp370/r2i1p1f1/Amon/tas/gn/v20190924/netcdf-scm_tas_Amon_CAMS-CSM1-0_ssp370_r2i1p1f1_gn_201501-209912.nc\\\",\\n    \\\"./country-crunch/netcdf-scm-crunched/CMIP6/ScenarioMIP/CAS/CAS-ESM2-0/ssp585/r3i1p1f1/Amon/tas/gn/v20201228/netcdf-scm_tas_Amon_CAS-ESM2-0_ssp585_r3i1p1f1_gn_201501-210012.nc\\\",\\n    \\\"./country-crunch/netcdf-scm-crunched/CMIP6/AerChemMIP/NOAA-GFDL/GFDL-ESM4/ssp370-lowNTCF/r1i1p1f1/Amon/tas/gr1/v20180701/netcdf-scm_tas_Amon_GFDL-ESM4_ssp370-lowNTCF_r1i1p1f1_gr1_201501-205912.nc\\\",\\n    \\\"./country-crunch/netcdf-scm-crunched/CMIP6/ScenarioMIP/CAMS/CAMS-CSM1-0/ssp585/r2i1p1f1/Amon/tas/gn/v20190924/netcdf-scm_tas_Amon_CAMS-CSM1-0_ssp585_r2i1p1f1_gn_201501-209912.nc\\\",\\n    \\\"./country-crunch/netcdf-scm-crunched/CMIP6/ScenarioMIP/NCAR/CESM2-WACCM/ssp534-over/r2i1p1f1/Amon/tas/gn/v20200211/netcdf-scm_tas_Amon_CESM2-WACCM_ssp534-over_r2i1p1f1_gn_204001-210012.nc\\\",\\n    \\\"./country-crunch/netcdf-scm-crunched/CMIP6/ScenarioMIP/CAS/CAS-ESM2-0/ssp370/r3i1p1f1/Amon/tas/gn/v20201228/netcdf-scm_tas_Amon_CAS-ESM2-0_ssp370_r3i1p1f1_gn_201501-210012.nc\\\",\\n    \\\"./country-crunch/netcdf-scm-crunched/CMIP6/ScenarioMIP/CAS/CAS-ESM2-0/ssp126/r3i1p1f1/Amon/tas/gn/v20201228/netcdf-scm_tas_Amon_CAS-ESM2-0_ssp126_r3i1p1f1_gn_201501-210012.nc\\\",\\n    \\\"./country-crunch/netcdf-scm-crunched/CMIP6/ScenarioMIP/CAMS/CAMS-CSM1-0/ssp119/r2i1p1f1/Amon/tas/gn/v20190924/netcdf-scm_tas_Amon_CAMS-CSM1-0_ssp119_r2i1p1f1_gn_201501-209912.nc\\\",\\n    \\\"./country-crunch/netcdf-scm-crunched/CMIP6/ScenarioMIP/CAMS/CAMS-CSM1-0/ssp370/r1i1p1f1/Amon/tas/gn/v20190708/netcdf-scm_tas_Amon_CAMS-CSM1-0_ssp370_r1i1p1f1_gn_201501-209912.nc\\\",\\n    \\\"./country-crunch/netcdf-scm-crunched/CMIP6/ScenarioMIP/CAS/CAS-ESM2-0/ssp585/r1i1p1f1/Amon/tas/gn/v20201228/netcdf-scm_tas_Amon_CAS-ESM2-0_ssp585_r1i1p1f1_gn_201501-210012.nc\\\",\\n    \\\"./country-crunch/netcdf-scm-crunched/CMIP6/ScenarioMIP/NCAR/CESM2-WACCM/ssp534-over/r1i1p1f1/Amon/tas/gn/v20200701/netcdf-scm_tas_Amon_CESM2-WACCM_ssp534-over_r1i1p1f1_gn_204001-229912.nc\\\",\\n    \\\"./country-crunch/netcdf-scm-crunched/CMIP6/ScenarioMIP/CAS/FGOALS-f3-L/ssp245/r1i1p1f1/Amon/tas/gr/v20191013/netcdf-scm_tas_Amon_FGOALS-f3-L_ssp245_r1i1p1f1_gr_201501-210012.nc\\\",\\n    \\\"./country-crunch/netcdf-scm-crunched/CMIP6/ScenarioMIP/AS-RCEC/TaiESM1/ssp245/r1i1p1f1/Amon/tas/gn/v20201124/netcdf-scm_tas_Amon_TaiESM1_ssp245_r1i1p1f1_gn_201501-210012.nc\\\",\\n    \\\"./country-crunch/netcdf-scm-crunched/CMIP6/AerChemMIP/BCC/BCC-ESM1/ssp370-lowNTCF/r3i1p1f1/Amon/tas/gn/v20190624/netcdf-scm_tas_Amon_BCC-ESM1_ssp370-lowNTCF_r3i1p1f1_gn_201501-205512.nc\\\",\\n    \\\"./country-crunch/netcdf-scm-crunched/CMIP6/ScenarioMIP/CAS/CAS-ESM2-0/ssp126/r1i1p1f1/Amon/tas/gn/v20201228/netcdf-scm_tas_Amon_CAS-ESM2-0_ssp126_r1i1p1f1_gn_201501-210012.nc\\\",\\n    \\\"./country-crunch/netcdf-scm-crunched/CMIP6/ScenarioMIP/AS-RCEC/TaiESM1/ssp126/r1i1p1f1/Amon/tas/gn/v20201124/netcdf-scm_tas_Amon_TaiESM1_ssp126_r1i1p1f1_gn_201501-210012.nc\\\",\\n    \\\"./country-crunch/netcdf-scm-crunched/CMIP6/ScenarioMIP/CAMS/CAMS-CSM1-0/ssp245/r2i1p1f1/Amon/tas/gn/v20190924/netcdf-scm_tas_Amon_CAMS-CSM1-0_ssp245_r2i1p1f1_gn_201501-209912.nc\\\",\\n    \\\"./country-crunch/netcdf-scm-crunched/CMIP6/ScenarioMIP/CAS/FGOALS-f3-L/ssp370/r1i1p1f1/Amon/tas/gr/v20191013/netcdf-scm_tas_Amon_FGOALS-f3-L_ssp370_r1i1p1f1_gr_201501-210012.nc\\\",\\n    \\\"./country-crunch/netcdf-scm-crunched/CMIP6/AerChemMIP/HAMMOZ-Consortium/MPI-ESM-1-2-HAM/ssp370-lowNTCF/r2i1p1f1/Amon/tas/gn/v20190628/netcdf-scm_tas_Amon_MPI-ESM-1-2-HAM_ssp370-lowNTCF_r2i1p1f1_gn_201501-205512.nc\\\",\\n    \\\"./country-crunch/netcdf-scm-crunched/CMIP6/AerChemMIP/BCC/BCC-ESM1/ssp370/r3i1p1f1/Amon/tas/gn/v20190702/netcdf-scm_tas_Amon_BCC-ESM1_ssp370_r3i1p1f1_gn_201501-205512.nc\\\",\\n    \\\"./country-crunch/netcdf-scm-crunched/CMIP6/AerChemMIP/BCC/BCC-ESM1/ssp370/r1i1p1f1/Amon/tas/gn/v20190624/netcdf-scm_tas_Amon_BCC-ESM1_ssp370_r1i1p1f1_gn_201501-205512.nc\\\",\\n    \\\"./country-crunch/netcdf-scm-crunched/CMIP6/ScenarioMIP/AS-RCEC/TaiESM1/ssp370/r1i1p1f1/Amon/tas/gn/v20201014/netcdf-scm_tas_Amon_TaiESM1_ssp370_r1i1p1f1_gn_201501-210012.nc\\\",\\n    \\\"./country-crunch/netcdf-scm-crunched/CMIP6/ScenarioMIP/CAS/FGOALS-f3-L/ssp126/r1i1p1f1/Amon/tas/gr/v20191013/netcdf-scm_tas_Amon_FGOALS-f3-L_ssp126_r1i1p1f1_gr_201501-210012.nc\\\",\\n    \\\"./country-crunch/netcdf-scm-crunched/CMIP6/AerChemMIP/BCC/BCC-ESM1/ssp370-lowNTCF/r1i1p1f1/Amon/tas/gn/v20190624/netcdf-scm_tas_Amon_BCC-ESM1_ssp370-lowNTCF_r1i1p1f1_gn_201501-205512.nc\\\",\\n    \\\"./country-crunch/netcdf-scm-crunched/CMIP6/ScenarioMIP/AS-RCEC/TaiESM1/ssp585/r1i1p1f1/Amon/tas/gn/v20200901/netcdf-scm_tas_Amon_TaiESM1_ssp585_r1i1p1f1_gn_201501-210012.nc\\\",\\n    \\\"./country-crunch/netcdf-scm-crunched/CMIP6/ScenarioMIP/CAS/FGOALS-f3-L/ssp585/r1i1p1f1/Amon/tas/gr/v20191013/netcdf-scm_tas_Amon_FGOALS-f3-L_ssp585_r1i1p1f1_gr_201501-210012.nc\\\",\\n]\";\n",
       "                var nbb_cells = Jupyter.notebook.get_cells();\n",
       "                for (var i = 0; i < nbb_cells.length; ++i) {\n",
       "                    if (nbb_cells[i].input_prompt_number == nbb_cell_id) {\n",
       "                        if (nbb_cells[i].get_text() == nbb_unformatted_code) {\n",
       "                             nbb_cells[i].set_text(nbb_formatted_code);\n",
       "                        }\n",
       "                        break;\n",
       "                    }\n",
       "                }\n",
       "            }, 500);\n",
       "            "
      ],
      "text/plain": [
       "<IPython.core.display.Javascript object>"
      ]
     },
     "metadata": {},
     "output_type": "display_data"
    }
   ],
   "source": [
    "all_errors = [\n",
    "    \"./country-crunch/netcdf-scm-crunched/CMIP6/ScenarioMIP/E3SM-Project/E3SM-1-1/ssp245/r3i1p1f1/Amon/tas/gr/v20201110/netcdf-scm_tas_Amon_E3SM-1-1_ssp245_r3i1p1f1_gr_202001-202412.nc\",\n",
    "    \"./country-crunch/netcdf-scm-crunched/CMIP6/ScenarioMIP/E3SM-Project/E3SM-1-1/ssp245/r10i1p1f1/Amon/tas/gr/v20201110/netcdf-scm_tas_Amon_E3SM-1-1_ssp245_r10i1p1f1_gr_202001-202412.nc\",\n",
    "    \"./country-crunch/netcdf-scm-crunched/CMIP6/ScenarioMIP/E3SM-Project/E3SM-1-1/ssp245/r4i1p1f1/Amon/tas/gr/v20201110/netcdf-scm_tas_Amon_E3SM-1-1_ssp245_r4i1p1f1_gr_202001-202412.nc\",\n",
    "    \"./country-crunch/netcdf-scm-crunched/CMIP6/ScenarioMIP/E3SM-Project/E3SM-1-1/ssp245/r2i1p1f1/Amon/tas/gr/v20201110/netcdf-scm_tas_Amon_E3SM-1-1_ssp245_r2i1p1f1_gr_202001-202412.nc\",\n",
    "    \"./country-crunch/netcdf-scm-crunched/CMIP6/ScenarioMIP/CCCR-IITM/IITM-ESM/ssp585/r1i1p1f1/Amon/tas/gn/v20200915/netcdf-scm_tas_Amon_IITM-ESM_ssp585_r1i1p1f1_gn_201501-209912.nc\",\n",
    "    \"./country-crunch/netcdf-scm-crunched/CMIP6/ScenarioMIP/E3SM-Project/E3SM-1-1/ssp585/r1i1p1f1/Amon/tas/gr/v20201117/netcdf-scm_tas_Amon_E3SM-1-1_ssp585_r1i1p1f1_gr_201501-210012.nc\",\n",
    "    \"./country-crunch/netcdf-scm-crunched/CMIP6/ScenarioMIP/CCCR-IITM/IITM-ESM/ssp126/r1i1p1f1/Amon/tas/gn/v20201112/netcdf-scm_tas_Amon_IITM-ESM_ssp126_r1i1p1f1_gn_201501-210012.nc\",\n",
    "    \"./country-crunch/netcdf-scm-crunched/CMIP6/ScenarioMIP/CCCR-IITM/IITM-ESM/ssp245/r1i1p1f1/Amon/tas/gn/v20200915/netcdf-scm_tas_Amon_IITM-ESM_ssp245_r1i1p1f1_gn_201501-209912.nc\",\n",
    "    \"./country-crunch/netcdf-scm-crunched/CMIP6/ScenarioMIP/NUIST/NESM3/ssp245/r1i1p1f1/Amon/tas/gn/v20190731/netcdf-scm_tas_Amon_NESM3_ssp245_r1i1p1f1_gn_201501-210012.nc\",\n",
    "    \"./country-crunch/netcdf-scm-crunched/CMIP6/ScenarioMIP/HAMMOZ-Consortium/MPI-ESM-1-2-HAM/ssp370/r2i1p1f1/Amon/tas/gn/v20190628/netcdf-scm_tas_Amon_MPI-ESM-1-2-HAM_ssp370_r2i1p1f1_gn_201501-205512.nc\",\n",
    "    \"./country-crunch/netcdf-scm-crunched/CMIP6/ScenarioMIP/E3SM-Project/E3SM-1-1/ssp245/r1i1p1f1/Amon/tas/gr/v20201109/netcdf-scm_tas_Amon_E3SM-1-1_ssp245_r1i1p1f1_gr_202001-202412.nc\",\n",
    "    \"./country-crunch/netcdf-scm-crunched/CMIP6/ScenarioMIP/NUIST/NESM3/ssp585/r1i1p1f1/Amon/tas/gn/v20190728/netcdf-scm_tas_Amon_NESM3_ssp585_r1i1p1f1_gn_201501-210012.nc\",\n",
    "    \"./country-crunch/netcdf-scm-crunched/CMIP6/ScenarioMIP/EC-Earth-Consortium/EC-Earth3-CC/ssp245/r1i1p1f1/Amon/tas/gr/v20210113/netcdf-scm_tas_Amon_EC-Earth3-CC_ssp245_r1i1p1f1_gr_201501-210012.nc\",\n",
    "    \"./country-crunch/netcdf-scm-crunched/CMIP6/ScenarioMIP/EC-Earth-Consortium/EC-Earth3-CC/ssp585/r1i1p1f1/Amon/tas/gr/v20210113/netcdf-scm_tas_Amon_EC-Earth3-CC_ssp585_r1i1p1f1_gr_201501-210012.nc\",\n",
    "    \"./country-crunch/netcdf-scm-crunched/CMIP6/ScenarioMIP/NUIST/NESM3/ssp245/r2i1p1f1/Amon/tas/gn/v20190731/netcdf-scm_tas_Amon_NESM3_ssp245_r2i1p1f1_gn_201501-210012.nc\",\n",
    "    \"./country-crunch/netcdf-scm-crunched/CMIP6/ScenarioMIP/BCC/BCC-CSM2-MR/ssp585/r1i1p1f1/Amon/tas/gn/v20190314/netcdf-scm_tas_Amon_BCC-CSM2-MR_ssp585_r1i1p1f1_gn_201501-210012.nc\",\n",
    "    \"./country-crunch/netcdf-scm-crunched/CMIP6/ScenarioMIP/CCCR-IITM/IITM-ESM/ssp370/r1i1p1f1/Amon/tas/gn/v20200915/netcdf-scm_tas_Amon_IITM-ESM_ssp370_r1i1p1f1_gn_201501-210012.nc\",\n",
    "    \"./country-crunch/netcdf-scm-crunched/CMIP6/ScenarioMIP/KIOST/KIOST-ESM/ssp585/r1i1p1f1/Amon/tas/gr1/v20191106/netcdf-scm_tas_Amon_KIOST-ESM_ssp585_r1i1p1f1_gr1_201501-210012.nc\",\n",
    "    \"./country-crunch/netcdf-scm-crunched/CMIP6/ScenarioMIP/BCC/BCC-CSM2-MR/ssp370/r1i1p1f1/Amon/tas/gn/v20190314/netcdf-scm_tas_Amon_BCC-CSM2-MR_ssp370_r1i1p1f1_gn_201501-210012.nc\",\n",
    "    \"./country-crunch/netcdf-scm-crunched/CMIP6/ScenarioMIP/NUIST/NESM3/ssp126/r1i1p1f1/Amon/tas/gn/v20190731/netcdf-scm_tas_Amon_NESM3_ssp126_r1i1p1f1_gn_201501-210012.nc\",\n",
    "    \"./country-crunch/netcdf-scm-crunched/CMIP6/ScenarioMIP/NUIST/NESM3/ssp585/r2i1p1f1/Amon/tas/gn/v20190731/netcdf-scm_tas_Amon_NESM3_ssp585_r2i1p1f1_gn_201501-210012.nc\",\n",
    "    \"./country-crunch/netcdf-scm-crunched/CMIP6/ScenarioMIP/AWI/AWI-CM-1-1-MR/ssp370/r2i1p1f1/Amon/tas/gn/v20190529/netcdf-scm_tas_Amon_AWI-CM-1-1-MR_ssp370_r2i1p1f1_gn_201501-210012.nc\",\n",
    "    \"./country-crunch/netcdf-scm-crunched/CMIP6/ScenarioMIP/INM/INM-CM5-0/ssp370/r2i1p1f1/Amon/tas/gr1/v20190712/netcdf-scm_tas_Amon_INM-CM5-0_ssp370_r2i1p1f1_gr1_201501-210012.nc\",\n",
    "    \"./country-crunch/netcdf-scm-crunched/CMIP6/ScenarioMIP/BCC/BCC-CSM2-MR/ssp126/r1i1p1f1/Amon/tas/gn/v20190314/netcdf-scm_tas_Amon_BCC-CSM2-MR_ssp126_r1i1p1f1_gn_201501-210012.nc\",\n",
    "    \"./country-crunch/netcdf-scm-crunched/CMIP6/ScenarioMIP/INM/INM-CM5-0/ssp370/r4i1p1f1/Amon/tas/gr1/v20190723/netcdf-scm_tas_Amon_INM-CM5-0_ssp370_r4i1p1f1_gr1_201501-210012.nc\",\n",
    "    \"./country-crunch/netcdf-scm-crunched/CMIP6/ScenarioMIP/KIOST/KIOST-ESM/ssp245/r1i1p1f1/Amon/tas/gr1/v20191106/netcdf-scm_tas_Amon_KIOST-ESM_ssp245_r1i1p1f1_gr1_201501-210012.nc\",\n",
    "    \"./country-crunch/netcdf-scm-crunched/CMIP6/ScenarioMIP/BCC/BCC-CSM2-MR/ssp245/r1i1p1f1/Amon/tas/gn/v20190314/netcdf-scm_tas_Amon_BCC-CSM2-MR_ssp245_r1i1p1f1_gn_201501-210012.nc\",\n",
    "    \"./country-crunch/netcdf-scm-crunched/CMIP6/ScenarioMIP/AWI/AWI-CM-1-1-MR/ssp370/r4i1p1f1/Amon/tas/gn/v20190529/netcdf-scm_tas_Amon_AWI-CM-1-1-MR_ssp370_r4i1p1f1_gn_201501-210012.nc\",\n",
    "    \"./country-crunch/netcdf-scm-crunched/CMIP6/ScenarioMIP/INM/INM-CM5-0/ssp370/r3i1p1f1/Amon/tas/gr1/v20190715/netcdf-scm_tas_Amon_INM-CM5-0_ssp370_r3i1p1f1_gr1_201501-210012.nc\",\n",
    "    \"./country-crunch/netcdf-scm-crunched/CMIP6/ScenarioMIP/DWD/MPI-ESM1-2-HR/ssp585/r2i1p1f1/Amon/tas/gn/v20190710/netcdf-scm_tas_Amon_MPI-ESM1-2-HR_ssp585_r2i1p1f1_gn_201501-210012.nc\",\n",
    "    \"./country-crunch/netcdf-scm-crunched/CMIP6/ScenarioMIP/KIOST/KIOST-ESM/ssp126/r1i1p1f1/Amon/tas/gr1/v20191106/netcdf-scm_tas_Amon_KIOST-ESM_ssp126_r1i1p1f1_gr1_201501-210012.nc\",\n",
    "    \"./country-crunch/netcdf-scm-crunched/CMIP6/ScenarioMIP/NUIST/NESM3/ssp126/r2i1p1f1/Amon/tas/gn/v20190801/netcdf-scm_tas_Amon_NESM3_ssp126_r2i1p1f1_gn_201501-210012.nc\",\n",
    "    \"./country-crunch/netcdf-scm-crunched/CMIP6/ScenarioMIP/DKRZ/MPI-ESM1-2-HR/ssp370/r4i1p1f1/Amon/tas/gn/v20190710/netcdf-scm_tas_Amon_MPI-ESM1-2-HR_ssp370_r4i1p1f1_gn_201501-210012.nc\",\n",
    "    \"./country-crunch/netcdf-scm-crunched/CMIP6/ScenarioMIP/DKRZ/MPI-ESM1-2-HR/ssp370/r10i1p1f1/Amon/tas/gn/v20190710/netcdf-scm_tas_Amon_MPI-ESM1-2-HR_ssp370_r10i1p1f1_gn_201501-210012.nc\",\n",
    "    \"./country-crunch/netcdf-scm-crunched/CMIP6/ScenarioMIP/DWD/MPI-ESM1-2-HR/ssp126/r2i1p1f1/Amon/tas/gn/v20190710/netcdf-scm_tas_Amon_MPI-ESM1-2-HR_ssp126_r2i1p1f1_gn_201501-210012.nc\",\n",
    "    \"./country-crunch/netcdf-scm-crunched/CMIP6/ScenarioMIP/DKRZ/MPI-ESM1-2-HR/ssp370/r2i1p1f1/Amon/tas/gn/v20190710/netcdf-scm_tas_Amon_MPI-ESM1-2-HR_ssp370_r2i1p1f1_gn_201501-210012.nc\",\n",
    "    \"./country-crunch/netcdf-scm-crunched/CMIP6/ScenarioMIP/AWI/AWI-CM-1-1-MR/ssp370/r3i1p1f1/Amon/tas/gn/v20190529/netcdf-scm_tas_Amon_AWI-CM-1-1-MR_ssp370_r3i1p1f1_gn_201501-210012.nc\",\n",
    "    \"./country-crunch/netcdf-scm-crunched/CMIP6/ScenarioMIP/DKRZ/MPI-ESM1-2-HR/ssp370/r3i1p1f1/Amon/tas/gn/v20190710/netcdf-scm_tas_Amon_MPI-ESM1-2-HR_ssp370_r3i1p1f1_gn_201501-210012.nc\",\n",
    "    \"./country-crunch/netcdf-scm-crunched/CMIP6/ScenarioMIP/THU/CIESM/ssp126/r1i1p1f1/Amon/tas/gr/v20200417/netcdf-scm_tas_Amon_CIESM_ssp126_r1i1p1f1_gr_201501-210012.nc\",\n",
    "    \"./country-crunch/netcdf-scm-crunched/CMIP6/ScenarioMIP/DKRZ/MPI-ESM1-2-HR/ssp245/r2i1p1f1/Amon/tas/gn/v20190710/netcdf-scm_tas_Amon_MPI-ESM1-2-HR_ssp245_r2i1p1f1_gn_201501-210012.nc\",\n",
    "    \"./country-crunch/netcdf-scm-crunched/CMIP6/ScenarioMIP/THU/CIESM/ssp585/r1i1p1f1/Amon/tas/gr/v20200605/netcdf-scm_tas_Amon_CIESM_ssp585_r1i1p1f1_gr_201501-210012.nc\",\n",
    "    \"./country-crunch/netcdf-scm-crunched/CMIP6/ScenarioMIP/THU/CIESM/ssp245/r1i1p1f1/Amon/tas/gr/v20200417/netcdf-scm_tas_Amon_CIESM_ssp245_r1i1p1f1_gr_201501-210012.nc\",\n",
    "    \"./country-crunch/netcdf-scm-crunched/CMIP6/ScenarioMIP/NCAR/CESM2-WACCM/ssp585/r1i1p1f1/Amon/tas/gn/v20200702/netcdf-scm_tas_Amon_CESM2-WACCM_ssp585_r1i1p1f1_gn_201501-229912.nc\",\n",
    "    \"./country-crunch/netcdf-scm-crunched/CMIP6/ScenarioMIP/NOAA-GFDL/GFDL-ESM4/ssp370/r1i1p1f1/Amon/tas/gr1/v20180701/netcdf-scm_tas_Amon_GFDL-ESM4_ssp370_r1i1p1f1_gr1_201501-210012.nc\",\n",
    "    \"./country-crunch/netcdf-scm-crunched/CMIP6/ScenarioMIP/NOAA-GFDL/GFDL-CM4/ssp585/r1i1p1f1/Amon/tas/gr1/v20180701/netcdf-scm_tas_Amon_GFDL-CM4_ssp585_r1i1p1f1_gr1_201501-210012.nc\",\n",
    "    \"./country-crunch/netcdf-scm-crunched/CMIP6/ScenarioMIP/NOAA-GFDL/GFDL-CM4/ssp245/r1i1p1f1/Amon/tas/gr1/v20180701/netcdf-scm_tas_Amon_GFDL-CM4_ssp245_r1i1p1f1_gr1_201501-210012.nc\",\n",
    "    \"./country-crunch/netcdf-scm-crunched/CMIP6/ScenarioMIP/NOAA-GFDL/GFDL-ESM4/ssp119/r1i1p1f1/Amon/tas/gr1/v20180701/netcdf-scm_tas_Amon_GFDL-ESM4_ssp119_r1i1p1f1_gr1_201501-210012.nc\",\n",
    "    \"./country-crunch/netcdf-scm-crunched/CMIP6/ScenarioMIP/NOAA-GFDL/GFDL-ESM4/ssp126/r1i1p1f1/Amon/tas/gr1/v20180701/netcdf-scm_tas_Amon_GFDL-ESM4_ssp126_r1i1p1f1_gr1_201501-210012.nc\",\n",
    "    \"./country-crunch/netcdf-scm-crunched/CMIP6/ScenarioMIP/NOAA-GFDL/GFDL-ESM4/ssp585/r1i1p1f1/Amon/tas/gr1/v20180701/netcdf-scm_tas_Amon_GFDL-ESM4_ssp585_r1i1p1f1_gr1_201501-210012.nc\",\n",
    "    \"./country-crunch/netcdf-scm-crunched/CMIP6/ScenarioMIP/CAS/CAS-ESM2-0/ssp245/r1i1p1f1/Amon/tas/gn/v20201228/netcdf-scm_tas_Amon_CAS-ESM2-0_ssp245_r1i1p1f1_gn_201501-210012.nc\",\n",
    "    \"./country-crunch/netcdf-scm-crunched/CMIP6/ScenarioMIP/NOAA-GFDL/GFDL-ESM4/ssp245/r3i1p1f1/Amon/tas/gr1/v20180701/netcdf-scm_tas_Amon_GFDL-ESM4_ssp245_r3i1p1f1_gr1_201501-210012.nc\",\n",
    "    \"./country-crunch/netcdf-scm-crunched/CMIP6/ScenarioMIP/CAMS/CAMS-CSM1-0/ssp245/r1i1p1f1/Amon/tas/gn/v20190708/netcdf-scm_tas_Amon_CAMS-CSM1-0_ssp245_r1i1p1f1_gn_201501-209912.nc\",\n",
    "    \"./country-crunch/netcdf-scm-crunched/CMIP6/ScenarioMIP/CAMS/CAMS-CSM1-0/ssp585/r1i1p1f1/Amon/tas/gn/v20190708/netcdf-scm_tas_Amon_CAMS-CSM1-0_ssp585_r1i1p1f1_gn_201501-209912.nc\",\n",
    "    \"./country-crunch/netcdf-scm-crunched/CMIP6/ScenarioMIP/CAMS/CAMS-CSM1-0/ssp119/r1i1p1f1/Amon/tas/gn/v20190708/netcdf-scm_tas_Amon_CAMS-CSM1-0_ssp119_r1i1p1f1_gn_201501-209912.nc\",\n",
    "    \"./country-crunch/netcdf-scm-crunched/CMIP6/ScenarioMIP/CAMS/CAMS-CSM1-0/ssp126/r1i1p1f1/Amon/tas/gn/v20190708/netcdf-scm_tas_Amon_CAMS-CSM1-0_ssp126_r1i1p1f1_gn_201501-209912.nc\",\n",
    "    \"./country-crunch/netcdf-scm-crunched/CMIP6/ScenarioMIP/CAMS/CAMS-CSM1-0/ssp126/r2i1p1f1/Amon/tas/gn/v20190924/netcdf-scm_tas_Amon_CAMS-CSM1-0_ssp126_r2i1p1f1_gn_201501-209912.nc\",\n",
    "    \"./country-crunch/netcdf-scm-crunched/CMIP6/ScenarioMIP/CAS/CAS-ESM2-0/ssp370/r1i1p1f1/Amon/tas/gn/v20201228/netcdf-scm_tas_Amon_CAS-ESM2-0_ssp370_r1i1p1f1_gn_201501-210012.nc\",\n",
    "    \"./country-crunch/netcdf-scm-crunched/CMIP6/ScenarioMIP/CAS/CAS-ESM2-0/ssp245/r3i1p1f1/Amon/tas/gn/v20201228/netcdf-scm_tas_Amon_CAS-ESM2-0_ssp245_r3i1p1f1_gn_201501-210012.nc\",\n",
    "    \"./country-crunch/netcdf-scm-crunched/CMIP6/ScenarioMIP/CAMS/CAMS-CSM1-0/ssp370/r2i1p1f1/Amon/tas/gn/v20190924/netcdf-scm_tas_Amon_CAMS-CSM1-0_ssp370_r2i1p1f1_gn_201501-209912.nc\",\n",
    "    \"./country-crunch/netcdf-scm-crunched/CMIP6/ScenarioMIP/CAS/CAS-ESM2-0/ssp585/r3i1p1f1/Amon/tas/gn/v20201228/netcdf-scm_tas_Amon_CAS-ESM2-0_ssp585_r3i1p1f1_gn_201501-210012.nc\",\n",
    "    \"./country-crunch/netcdf-scm-crunched/CMIP6/AerChemMIP/NOAA-GFDL/GFDL-ESM4/ssp370-lowNTCF/r1i1p1f1/Amon/tas/gr1/v20180701/netcdf-scm_tas_Amon_GFDL-ESM4_ssp370-lowNTCF_r1i1p1f1_gr1_201501-205912.nc\",\n",
    "    \"./country-crunch/netcdf-scm-crunched/CMIP6/ScenarioMIP/CAMS/CAMS-CSM1-0/ssp585/r2i1p1f1/Amon/tas/gn/v20190924/netcdf-scm_tas_Amon_CAMS-CSM1-0_ssp585_r2i1p1f1_gn_201501-209912.nc\",\n",
    "    \"./country-crunch/netcdf-scm-crunched/CMIP6/ScenarioMIP/NCAR/CESM2-WACCM/ssp534-over/r2i1p1f1/Amon/tas/gn/v20200211/netcdf-scm_tas_Amon_CESM2-WACCM_ssp534-over_r2i1p1f1_gn_204001-210012.nc\",\n",
    "    \"./country-crunch/netcdf-scm-crunched/CMIP6/ScenarioMIP/CAS/CAS-ESM2-0/ssp370/r3i1p1f1/Amon/tas/gn/v20201228/netcdf-scm_tas_Amon_CAS-ESM2-0_ssp370_r3i1p1f1_gn_201501-210012.nc\",\n",
    "    \"./country-crunch/netcdf-scm-crunched/CMIP6/ScenarioMIP/CAS/CAS-ESM2-0/ssp126/r3i1p1f1/Amon/tas/gn/v20201228/netcdf-scm_tas_Amon_CAS-ESM2-0_ssp126_r3i1p1f1_gn_201501-210012.nc\",\n",
    "    \"./country-crunch/netcdf-scm-crunched/CMIP6/ScenarioMIP/CAMS/CAMS-CSM1-0/ssp119/r2i1p1f1/Amon/tas/gn/v20190924/netcdf-scm_tas_Amon_CAMS-CSM1-0_ssp119_r2i1p1f1_gn_201501-209912.nc\",\n",
    "    \"./country-crunch/netcdf-scm-crunched/CMIP6/ScenarioMIP/CAMS/CAMS-CSM1-0/ssp370/r1i1p1f1/Amon/tas/gn/v20190708/netcdf-scm_tas_Amon_CAMS-CSM1-0_ssp370_r1i1p1f1_gn_201501-209912.nc\",\n",
    "    \"./country-crunch/netcdf-scm-crunched/CMIP6/ScenarioMIP/CAS/CAS-ESM2-0/ssp585/r1i1p1f1/Amon/tas/gn/v20201228/netcdf-scm_tas_Amon_CAS-ESM2-0_ssp585_r1i1p1f1_gn_201501-210012.nc\",\n",
    "    \"./country-crunch/netcdf-scm-crunched/CMIP6/ScenarioMIP/NCAR/CESM2-WACCM/ssp534-over/r1i1p1f1/Amon/tas/gn/v20200701/netcdf-scm_tas_Amon_CESM2-WACCM_ssp534-over_r1i1p1f1_gn_204001-229912.nc\",\n",
    "    \"./country-crunch/netcdf-scm-crunched/CMIP6/ScenarioMIP/CAS/FGOALS-f3-L/ssp245/r1i1p1f1/Amon/tas/gr/v20191013/netcdf-scm_tas_Amon_FGOALS-f3-L_ssp245_r1i1p1f1_gr_201501-210012.nc\",\n",
    "    \"./country-crunch/netcdf-scm-crunched/CMIP6/ScenarioMIP/AS-RCEC/TaiESM1/ssp245/r1i1p1f1/Amon/tas/gn/v20201124/netcdf-scm_tas_Amon_TaiESM1_ssp245_r1i1p1f1_gn_201501-210012.nc\",\n",
    "    \"./country-crunch/netcdf-scm-crunched/CMIP6/AerChemMIP/BCC/BCC-ESM1/ssp370-lowNTCF/r3i1p1f1/Amon/tas/gn/v20190624/netcdf-scm_tas_Amon_BCC-ESM1_ssp370-lowNTCF_r3i1p1f1_gn_201501-205512.nc\",\n",
    "    \"./country-crunch/netcdf-scm-crunched/CMIP6/ScenarioMIP/CAS/CAS-ESM2-0/ssp126/r1i1p1f1/Amon/tas/gn/v20201228/netcdf-scm_tas_Amon_CAS-ESM2-0_ssp126_r1i1p1f1_gn_201501-210012.nc\",\n",
    "    \"./country-crunch/netcdf-scm-crunched/CMIP6/ScenarioMIP/AS-RCEC/TaiESM1/ssp126/r1i1p1f1/Amon/tas/gn/v20201124/netcdf-scm_tas_Amon_TaiESM1_ssp126_r1i1p1f1_gn_201501-210012.nc\",\n",
    "    \"./country-crunch/netcdf-scm-crunched/CMIP6/ScenarioMIP/CAMS/CAMS-CSM1-0/ssp245/r2i1p1f1/Amon/tas/gn/v20190924/netcdf-scm_tas_Amon_CAMS-CSM1-0_ssp245_r2i1p1f1_gn_201501-209912.nc\",\n",
    "    \"./country-crunch/netcdf-scm-crunched/CMIP6/ScenarioMIP/CAS/FGOALS-f3-L/ssp370/r1i1p1f1/Amon/tas/gr/v20191013/netcdf-scm_tas_Amon_FGOALS-f3-L_ssp370_r1i1p1f1_gr_201501-210012.nc\",\n",
    "    \"./country-crunch/netcdf-scm-crunched/CMIP6/AerChemMIP/HAMMOZ-Consortium/MPI-ESM-1-2-HAM/ssp370-lowNTCF/r2i1p1f1/Amon/tas/gn/v20190628/netcdf-scm_tas_Amon_MPI-ESM-1-2-HAM_ssp370-lowNTCF_r2i1p1f1_gn_201501-205512.nc\",\n",
    "    \"./country-crunch/netcdf-scm-crunched/CMIP6/AerChemMIP/BCC/BCC-ESM1/ssp370/r3i1p1f1/Amon/tas/gn/v20190702/netcdf-scm_tas_Amon_BCC-ESM1_ssp370_r3i1p1f1_gn_201501-205512.nc\",\n",
    "    \"./country-crunch/netcdf-scm-crunched/CMIP6/AerChemMIP/BCC/BCC-ESM1/ssp370/r1i1p1f1/Amon/tas/gn/v20190624/netcdf-scm_tas_Amon_BCC-ESM1_ssp370_r1i1p1f1_gn_201501-205512.nc\",\n",
    "    \"./country-crunch/netcdf-scm-crunched/CMIP6/ScenarioMIP/AS-RCEC/TaiESM1/ssp370/r1i1p1f1/Amon/tas/gn/v20201014/netcdf-scm_tas_Amon_TaiESM1_ssp370_r1i1p1f1_gn_201501-210012.nc\",\n",
    "    \"./country-crunch/netcdf-scm-crunched/CMIP6/ScenarioMIP/CAS/FGOALS-f3-L/ssp126/r1i1p1f1/Amon/tas/gr/v20191013/netcdf-scm_tas_Amon_FGOALS-f3-L_ssp126_r1i1p1f1_gr_201501-210012.nc\",\n",
    "    \"./country-crunch/netcdf-scm-crunched/CMIP6/AerChemMIP/BCC/BCC-ESM1/ssp370-lowNTCF/r1i1p1f1/Amon/tas/gn/v20190624/netcdf-scm_tas_Amon_BCC-ESM1_ssp370-lowNTCF_r1i1p1f1_gn_201501-205512.nc\",\n",
    "    \"./country-crunch/netcdf-scm-crunched/CMIP6/ScenarioMIP/AS-RCEC/TaiESM1/ssp585/r1i1p1f1/Amon/tas/gn/v20200901/netcdf-scm_tas_Amon_TaiESM1_ssp585_r1i1p1f1_gn_201501-210012.nc\",\n",
    "    \"./country-crunch/netcdf-scm-crunched/CMIP6/ScenarioMIP/CAS/FGOALS-f3-L/ssp585/r1i1p1f1/Amon/tas/gr/v20191013/netcdf-scm_tas_Amon_FGOALS-f3-L_ssp585_r1i1p1f1_gr_201501-210012.nc\",\n",
    "]"
   ]
  },
  {
   "cell_type": "code",
   "execution_count": 78,
   "id": "sexual-church",
   "metadata": {},
   "outputs": [
    {
     "data": {
      "application/javascript": [
       "\n",
       "            setTimeout(function() {\n",
       "                var nbb_cell_id = 78;\n",
       "                var nbb_unformatted_code = \"def _load_helper_and_scm_cubes(path):\\n    scm_cubes = {}\\n\\n    data = xr.open_dataset(path)\\n    data.load()  # get everything in memory\\n\\n    # Must be kept until https://github.com/pandas-dev/pandas/issues/37071\\n    # is solved\\n    if data[\\\"time\\\"].encoding[\\\"units\\\"] == \\\"days since 1-01-01 00:00:00\\\":\\n        data[\\\"time\\\"].encoding[\\\"units\\\"] = \\\"days since 0001-01-01 00:00:00\\\"\\n\\n    for _, darray in data.data_vars.items():\\n        try:\\n            region = darray.attrs[\\\"region\\\"]\\n        except KeyError:\\n            # bnds or some other unclassified variable\\n            continue\\n        scm_cubes[region] = ScmCube()\\n\\n        scm_cubes[region].cube = darray.to_iris()\\n        scm_cubes[region].cube.attributes = {\\n            **scm_cubes[region].cube.attributes,\\n            **data.attrs,\\n        }\\n        break\\n\\n    # take any cube as base for now, not sure how to really handle this so will\\n    # leave like this for now and only make this method public when I work it\\n    # out...\\n    loaded = list(scm_cubes.values())[0]\\n\\n    return loaded, scm_cubes\";\n",
       "                var nbb_formatted_code = \"def _load_helper_and_scm_cubes(path):\\n    scm_cubes = {}\\n\\n    data = xr.open_dataset(path)\\n    data.load()  # get everything in memory\\n\\n    # Must be kept until https://github.com/pandas-dev/pandas/issues/37071\\n    # is solved\\n    if data[\\\"time\\\"].encoding[\\\"units\\\"] == \\\"days since 1-01-01 00:00:00\\\":\\n        data[\\\"time\\\"].encoding[\\\"units\\\"] = \\\"days since 0001-01-01 00:00:00\\\"\\n\\n    for _, darray in data.data_vars.items():\\n        try:\\n            region = darray.attrs[\\\"region\\\"]\\n        except KeyError:\\n            # bnds or some other unclassified variable\\n            continue\\n        scm_cubes[region] = ScmCube()\\n\\n        scm_cubes[region].cube = darray.to_iris()\\n        scm_cubes[region].cube.attributes = {\\n            **scm_cubes[region].cube.attributes,\\n            **data.attrs,\\n        }\\n        break\\n\\n    # take any cube as base for now, not sure how to really handle this so will\\n    # leave like this for now and only make this method public when I work it\\n    # out...\\n    loaded = list(scm_cubes.values())[0]\\n\\n    return loaded, scm_cubes\";\n",
       "                var nbb_cells = Jupyter.notebook.get_cells();\n",
       "                for (var i = 0; i < nbb_cells.length; ++i) {\n",
       "                    if (nbb_cells[i].input_prompt_number == nbb_cell_id) {\n",
       "                        if (nbb_cells[i].get_text() == nbb_unformatted_code) {\n",
       "                             nbb_cells[i].set_text(nbb_formatted_code);\n",
       "                        }\n",
       "                        break;\n",
       "                    }\n",
       "                }\n",
       "            }, 500);\n",
       "            "
      ],
      "text/plain": [
       "<IPython.core.display.Javascript object>"
      ]
     },
     "metadata": {},
     "output_type": "display_data"
    }
   ],
   "source": [
    "def _load_helper_and_scm_cubes(path):\n",
    "    scm_cubes = {}\n",
    "\n",
    "    data = xr.open_dataset(path)\n",
    "    data.load()  # get everything in memory\n",
    "\n",
    "    # Must be kept until https://github.com/pandas-dev/pandas/issues/37071\n",
    "    # is solved\n",
    "    if data[\"time\"].encoding[\"units\"] == \"days since 1-01-01 00:00:00\":\n",
    "        data[\"time\"].encoding[\"units\"] = \"days since 0001-01-01 00:00:00\"\n",
    "\n",
    "    for _, darray in data.data_vars.items():\n",
    "        try:\n",
    "            region = darray.attrs[\"region\"]\n",
    "        except KeyError:\n",
    "            # bnds or some other unclassified variable\n",
    "            continue\n",
    "        scm_cubes[region] = ScmCube()\n",
    "\n",
    "        scm_cubes[region].cube = darray.to_iris()\n",
    "        scm_cubes[region].cube.attributes = {\n",
    "            **scm_cubes[region].cube.attributes,\n",
    "            **data.attrs,\n",
    "        }\n",
    "        break\n",
    "\n",
    "    # take any cube as base for now, not sure how to really handle this so will\n",
    "    # leave like this for now and only make this method public when I work it\n",
    "    # out...\n",
    "    loaded = list(scm_cubes.values())[0]\n",
    "\n",
    "    return loaded, scm_cubes\n"
   ]
  },
  {
   "cell_type": "code",
   "execution_count": 79,
   "id": "fallen-collectible",
   "metadata": {},
   "outputs": [
    {
     "data": {
      "application/javascript": [
       "\n",
       "            setTimeout(function() {\n",
       "                var nbb_cell_id = 79;\n",
       "                var nbb_unformatted_code = \"netcdf_scm.io._load_helper_and_scm_cubes = _load_helper_and_scm_cubes\";\n",
       "                var nbb_formatted_code = \"netcdf_scm.io._load_helper_and_scm_cubes = _load_helper_and_scm_cubes\";\n",
       "                var nbb_cells = Jupyter.notebook.get_cells();\n",
       "                for (var i = 0; i < nbb_cells.length; ++i) {\n",
       "                    if (nbb_cells[i].input_prompt_number == nbb_cell_id) {\n",
       "                        if (nbb_cells[i].get_text() == nbb_unformatted_code) {\n",
       "                             nbb_cells[i].set_text(nbb_formatted_code);\n",
       "                        }\n",
       "                        break;\n",
       "                    }\n",
       "                }\n",
       "            }, 500);\n",
       "            "
      ],
      "text/plain": [
       "<IPython.core.display.Javascript object>"
      ]
     },
     "metadata": {},
     "output_type": "display_data"
    }
   ],
   "source": [
    "netcdf_scm.io._load_helper_and_scm_cubes = _load_helper_and_scm_cubes"
   ]
  },
  {
   "cell_type": "code",
   "execution_count": 98,
   "id": "corrected-poultry",
   "metadata": {
    "scrolled": true
   },
   "outputs": [
    {
     "data": {
      "application/vnd.jupyter.widget-view+json": {
       "model_id": "1b4c0fd9622c4c8495a9125a28e260cb",
       "version_major": 2,
       "version_minor": 0
      },
      "text/plain": [
       "  0%|          | 0/84 [00:00<?, ?it/s]"
      ]
     },
     "metadata": {},
     "output_type": "display_data"
    },
    {
     "name": "stdout",
     "output_type": "stream",
     "text": [
      "No parent data (historical) available for ./country-crunch/netcdf-scm-crunched/CMIP6/ScenarioMIP/NOAA-GFDL/GFDL-CM4/ssp585/r1i1p1f1/Amon/tas/gr1/v20180701/netcdf-scm_tas_Amon_GFDL-CM4_ssp585_r1i1p1f1_gr1_201501-210012.nc, we looked in ./country-crunch/netcdf-scm-crunched/CMIP6/CMIP/NOAA-GFDL/GFDL-CM4/historical/r1i1p1f1/Amon/tas/gr1/*/netcdf-scm_tas_Amon_GFDL-CM4_historical_r1i1p1f1_gr1_*.nc and ./country-crunch/netcdf-scm-crunched/CMIP6/CMIP/*/GFDL-CM4/historical/r1i1p1f1/Amon/tas/gr1/*/netcdf-scm_tas_Amon_GFDL-CM4_historical_r1i1p1f1_gr1_*.nc\n",
      "\n",
      "---\n",
      "No parent data (historical) available for ./country-crunch/netcdf-scm-crunched/CMIP6/ScenarioMIP/NOAA-GFDL/GFDL-CM4/ssp245/r1i1p1f1/Amon/tas/gr1/v20180701/netcdf-scm_tas_Amon_GFDL-CM4_ssp245_r1i1p1f1_gr1_201501-210012.nc, we looked in ./country-crunch/netcdf-scm-crunched/CMIP6/CMIP/NOAA-GFDL/GFDL-CM4/historical/r1i1p1f1/Amon/tas/gr1/*/netcdf-scm_tas_Amon_GFDL-CM4_historical_r1i1p1f1_gr1_*.nc and ./country-crunch/netcdf-scm-crunched/CMIP6/CMIP/*/GFDL-CM4/historical/r1i1p1f1/Amon/tas/gr1/*/netcdf-scm_tas_Amon_GFDL-CM4_historical_r1i1p1f1_gr1_*.nc\n",
      "\n",
      "---\n"
     ]
    },
    {
     "data": {
      "application/javascript": [
       "\n",
       "            setTimeout(function() {\n",
       "                var nbb_cell_id = 98;\n",
       "                var nbb_unformatted_code = \"contacts = []\\nfor f in tqdman.tqdm(all_errors):\\n    if \\\"GFDL-CM4\\\" not in f:\\n        continue\\n\\n    source = netcdf_scm.io.load_scmrun(f)\\n    parent_replacements = netcdf_scm.stitching.get_parent_replacements(source)\\n    try:\\n        parent_file = netcdf_scm.stitching.get_parent_file_path(\\n            f, parent_replacements, \\\"CMIP6Output\\\"\\n        )\\n    except OSError as exc:\\n        print(exc)\\n        print()\\n        print(\\\"---\\\")\\n        continue\\n\\n    parent = netcdf_scm.io.load_scmrun(parent_file)\\n\\n    picontrol_replacements = netcdf_scm.stitching.get_parent_replacements(parent)\\n    try:\\n        picontrol_file = netcdf_scm.stitching.get_parent_file_path(\\n            parent_file, picontrol_replacements, \\\"CMIP6Output\\\"\\n        )\\n    except OSError as exc:\\n        #         print(exc)\\n        #         print()\\n        #         print(\\\"---\\\")\\n        continue\\n\\n    try:\\n        contact = xr.load_dataset(parent_file).attrs[\\\"contact\\\"]\\n    except KeyError:\\n        #         print(\\\"No contact for {}\\\".format(parent_file))\\n        #         print()\\n        #         print(\\\"---\\\")\\n        continue\\n\\n    if contact in contacts:\\n        continue\\n    else:\\n        contacts.append(contact)\\n\\n    print(\\\"dataset id: {}\\\".format(\\\".\\\".join(parent_file.split(os.sep)[3:-1])))\\n    !ncdump -h {parent_file} | grep :contact\\n    !ncdump -h {parent_file} | grep branch_time_in_parent\\n    !ncdump -h {parent_file} | grep parent_time_units\\n    print(\\n        \\\"\\t\\t:branch time in human readable form = {}\\\".format(\\n            netcdf_scm.stitching.get_branch_time(parent)\\n        )\\n    )\\n\\n    print()\\n    print(\\n        \\\"piControl dataset id: {}\\\".format(\\\".\\\".join(picontrol_file.split(os.sep)[3:-1]))\\n    )\\n    picontrol_start = os.path.basename(picontrol_file).split(\\\"_\\\")[-1].split(\\\"-\\\")[0]\\n    picontrol_end = (\\n        os.path.basename(picontrol_file)\\n        .split(\\\"_\\\")[-1]\\n        .split(\\\"-\\\")[-1]\\n        .replace(\\\".nc\\\", \\\"\\\")\\n    )\\n    print(\\n        \\\"\\t\\t:piControl start time: {}-{}\\\".format(\\n            picontrol_start[:4], picontrol_start[4:]\\n        )\\n    )\\n    print(\\\"\\t\\t:piControl end time: {}-{}\\\".format(picontrol_end[:4], picontrol_end[4:]))\\n    print(\\\"---\\\")\\n    print()\\n#     break\";\n",
       "                var nbb_formatted_code = \"contacts = []\\nfor f in tqdman.tqdm(all_errors):\\n    if \\\"GFDL-CM4\\\" not in f:\\n        continue\\n\\n    source = netcdf_scm.io.load_scmrun(f)\\n    parent_replacements = netcdf_scm.stitching.get_parent_replacements(source)\\n    try:\\n        parent_file = netcdf_scm.stitching.get_parent_file_path(\\n            f, parent_replacements, \\\"CMIP6Output\\\"\\n        )\\n    except OSError as exc:\\n        print(exc)\\n        print()\\n        print(\\\"---\\\")\\n        continue\\n\\n    parent = netcdf_scm.io.load_scmrun(parent_file)\\n\\n    picontrol_replacements = netcdf_scm.stitching.get_parent_replacements(parent)\\n    try:\\n        picontrol_file = netcdf_scm.stitching.get_parent_file_path(\\n            parent_file, picontrol_replacements, \\\"CMIP6Output\\\"\\n        )\\n    except OSError as exc:\\n        #         print(exc)\\n        #         print()\\n        #         print(\\\"---\\\")\\n        continue\\n\\n    try:\\n        contact = xr.load_dataset(parent_file).attrs[\\\"contact\\\"]\\n    except KeyError:\\n        #         print(\\\"No contact for {}\\\".format(parent_file))\\n        #         print()\\n        #         print(\\\"---\\\")\\n        continue\\n\\n    if contact in contacts:\\n        continue\\n    else:\\n        contacts.append(contact)\\n\\n    print(\\\"dataset id: {}\\\".format(\\\".\\\".join(parent_file.split(os.sep)[3:-1])))\\n    !ncdump -h {parent_file} | grep :contact\\n    !ncdump -h {parent_file} | grep branch_time_in_parent\\n    !ncdump -h {parent_file} | grep parent_time_units\\n    print(\\n        \\\"\\t\\t:branch time in human readable form = {}\\\".format(\\n            netcdf_scm.stitching.get_branch_time(parent)\\n        )\\n    )\\n\\n    print()\\n    print(\\n        \\\"piControl dataset id: {}\\\".format(\\\".\\\".join(picontrol_file.split(os.sep)[3:-1]))\\n    )\\n    picontrol_start = os.path.basename(picontrol_file).split(\\\"_\\\")[-1].split(\\\"-\\\")[0]\\n    picontrol_end = (\\n        os.path.basename(picontrol_file)\\n        .split(\\\"_\\\")[-1]\\n        .split(\\\"-\\\")[-1]\\n        .replace(\\\".nc\\\", \\\"\\\")\\n    )\\n    print(\\n        \\\"\\t\\t:piControl start time: {}-{}\\\".format(\\n            picontrol_start[:4], picontrol_start[4:]\\n        )\\n    )\\n    print(\\\"\\t\\t:piControl end time: {}-{}\\\".format(picontrol_end[:4], picontrol_end[4:]))\\n    print(\\\"---\\\")\\n    print()\\n#     break\";\n",
       "                var nbb_cells = Jupyter.notebook.get_cells();\n",
       "                for (var i = 0; i < nbb_cells.length; ++i) {\n",
       "                    if (nbb_cells[i].input_prompt_number == nbb_cell_id) {\n",
       "                        if (nbb_cells[i].get_text() == nbb_unformatted_code) {\n",
       "                             nbb_cells[i].set_text(nbb_formatted_code);\n",
       "                        }\n",
       "                        break;\n",
       "                    }\n",
       "                }\n",
       "            }, 500);\n",
       "            "
      ],
      "text/plain": [
       "<IPython.core.display.Javascript object>"
      ]
     },
     "metadata": {},
     "output_type": "display_data"
    }
   ],
   "source": [
    "contacts = []\n",
    "for f in tqdman.tqdm(all_errors):\n",
    "    if \"GFDL-CM4\" not in f:\n",
    "        continue\n",
    "\n",
    "    source = netcdf_scm.io.load_scmrun(f)\n",
    "    parent_replacements = netcdf_scm.stitching.get_parent_replacements(source)\n",
    "    try:\n",
    "        parent_file = netcdf_scm.stitching.get_parent_file_path(\n",
    "            f, parent_replacements, \"CMIP6Output\"\n",
    "        )\n",
    "    except OSError as exc:\n",
    "        print(exc)\n",
    "        print()\n",
    "        print(\"---\")\n",
    "        continue\n",
    "\n",
    "    parent = netcdf_scm.io.load_scmrun(parent_file)\n",
    "\n",
    "    picontrol_replacements = netcdf_scm.stitching.get_parent_replacements(parent)\n",
    "    try:\n",
    "        picontrol_file = netcdf_scm.stitching.get_parent_file_path(\n",
    "            parent_file, picontrol_replacements, \"CMIP6Output\"\n",
    "        )\n",
    "    except OSError as exc:\n",
    "        #         print(exc)\n",
    "        #         print()\n",
    "        #         print(\"---\")\n",
    "        continue\n",
    "\n",
    "    try:\n",
    "        contact = xr.load_dataset(parent_file).attrs[\"contact\"]\n",
    "    except KeyError:\n",
    "        #         print(\"No contact for {}\".format(parent_file))\n",
    "        #         print()\n",
    "        #         print(\"---\")\n",
    "        continue\n",
    "\n",
    "    if contact in contacts:\n",
    "        continue\n",
    "    else:\n",
    "        contacts.append(contact)\n",
    "\n",
    "    print(\"dataset id: {}\".format(\".\".join(parent_file.split(os.sep)[3:-1])))\n",
    "    !ncdump -h {parent_file} | grep :contact\n",
    "    !ncdump -h {parent_file} | grep branch_time_in_parent\n",
    "    !ncdump -h {parent_file} | grep parent_time_units\n",
    "    print(\n",
    "        \"\t\t:branch time in human readable form = {}\".format(\n",
    "            netcdf_scm.stitching.get_branch_time(parent)\n",
    "        )\n",
    "    )\n",
    "\n",
    "    print()\n",
    "    print(\n",
    "        \"piControl dataset id: {}\".format(\".\".join(picontrol_file.split(os.sep)[3:-1]))\n",
    "    )\n",
    "    picontrol_start = os.path.basename(picontrol_file).split(\"_\")[-1].split(\"-\")[0]\n",
    "    picontrol_end = (\n",
    "        os.path.basename(picontrol_file)\n",
    "        .split(\"_\")[-1]\n",
    "        .split(\"-\")[-1]\n",
    "        .replace(\".nc\", \"\")\n",
    "    )\n",
    "    print(\n",
    "        \"\t\t:piControl start time: {}-{}\".format(\n",
    "            picontrol_start[:4], picontrol_start[4:]\n",
    "        )\n",
    "    )\n",
    "    print(\"\t\t:piControl end time: {}-{}\".format(picontrol_end[:4], picontrol_end[4:]))\n",
    "    print(\"---\")\n",
    "    print()\n",
    "#     break"
   ]
  },
  {
   "cell_type": "code",
   "execution_count": null,
   "id": "ruled-technical",
   "metadata": {},
   "outputs": [],
   "source": []
  }
 ],
 "metadata": {
  "kernelspec": {
   "display_name": "Python 3",
   "language": "python",
   "name": "python3"
  },
  "language_info": {
   "codemirror_mode": {
    "name": "ipython",
    "version": 3
   },
   "file_extension": ".py",
   "mimetype": "text/x-python",
   "name": "python",
   "nbconvert_exporter": "python",
   "pygments_lexer": "ipython3",
   "version": "3.8.8"
  }
 },
 "nbformat": 4,
 "nbformat_minor": 5
}
