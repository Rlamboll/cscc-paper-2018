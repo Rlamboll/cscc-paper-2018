{
 "cells": [
  {
   "cell_type": "markdown",
   "id": "governmental-detail",
   "metadata": {},
   "source": [
    "# Crunch raw CMIP6 data\n",
    "\n",
    "Here we calculate the country-means."
   ]
  },
  {
   "cell_type": "code",
   "execution_count": 1,
   "id": "vertical-demographic",
   "metadata": {
    "execution": {
     "iopub.execute_input": "2021-03-31T04:24:08.905458Z",
     "iopub.status.busy": "2021-03-31T04:24:08.904981Z",
     "iopub.status.idle": "2021-03-31T04:24:09.781410Z",
     "shell.execute_reply": "2021-03-31T04:24:09.781789Z"
    }
   },
   "outputs": [],
   "source": [
    "import netcdf_scm\n",
    "import regionmask"
   ]
  },
  {
   "cell_type": "code",
   "execution_count": 2,
   "id": "peaceful-gauge",
   "metadata": {
    "execution": {
     "iopub.execute_input": "2021-03-31T04:24:09.790130Z",
     "iopub.status.busy": "2021-03-31T04:24:09.789575Z",
     "iopub.status.idle": "2021-03-31T04:24:09.791566Z",
     "shell.execute_reply": "2021-03-31T04:24:09.791941Z"
    }
   },
   "outputs": [
    {
     "data": {
      "text/plain": [
       "'2.1.0'"
      ]
     },
     "execution_count": 1,
     "metadata": {},
     "output_type": "execute_result"
    }
   ],
   "source": [
    "netcdf_scm.__version__"
   ]
  },
  {
   "cell_type": "code",
   "execution_count": 3,
   "id": "average-george",
   "metadata": {
    "execution": {
     "iopub.execute_input": "2021-03-31T04:24:09.795503Z",
     "iopub.status.busy": "2021-03-31T04:24:09.795116Z",
     "iopub.status.idle": "2021-03-31T04:24:10.040354Z",
     "shell.execute_reply": "2021-03-31T04:24:10.039864Z"
    }
   },
   "outputs": [
    {
     "name": "stdout",
     "output_type": "stream",
     "text": [
      "ACCESS-CM2\r\n",
      "ACCESS-ESM1-5\r\n",
      "AWI-CM-1-1-MR\r\n",
      "BCC-CSM2-MR\r\n",
      "CAMS-CSM1-0\r\n",
      "CanESM5\r\n",
      "CanESM5-CanOE\r\n",
      "CAS-ESM2-0\r\n",
      "CESM2\r\n",
      "CESM2-WACCM\r\n",
      "CIESM\r\n",
      "CMCC-CM2-SR5\r\n",
      "CMCC-ESM2\r\n",
      "CNRM-CM6-1\r\n",
      "CNRM-CM6-1-HR\r\n",
      "CNRM-ESM2-1\r\n",
      "E3SM-1-1\r\n",
      "EC-Earth3\r\n",
      "EC-Earth3-AerChem\r\n",
      "EC-Earth3-CC\r\n",
      "EC-Earth3-Veg\r\n",
      "EC-Earth3-Veg-LR\r\n",
      "FGOALS-f3-L\r\n",
      "FGOALS-g3\r\n",
      "FIO-ESM-2-0\r\n",
      "GFDL-CM4\r\n",
      "GFDL-ESM4\r\n",
      "GISS-E2-1-G\r\n",
      "HadGEM3-GC31-LL\r\n",
      "HadGEM3-GC31-MM\r\n",
      "IITM-ESM\r\n",
      "INM-CM4-8\r\n",
      "INM-CM5-0\r\n",
      "IPSL-CM6A-LR\r\n",
      "KACE-1-0-G\r\n",
      "KIOST-ESM\r\n",
      "MCM-UA-1-0\r\n",
      "MIROC6\r\n",
      "MIROC-ES2L\r\n",
      "MPI-ESM-1-2-HAM\r\n",
      "MPI-ESM1-2-HR\r\n",
      "MPI-ESM1-2-HR\r\n",
      "MPI-ESM1-2-LR\r\n",
      "MRI-ESM2-0\r\n",
      "NESM3\r\n",
      "NorESM2-LM\r\n",
      "NorESM2-MM\r\n",
      "TaiESM1\r\n",
      "UKESM1-0-LL\r\n",
      "UKESM1-0-LL\r\n"
     ]
    }
   ],
   "source": [
    "!find /data/cmip6/CMIP6/ScenarioMIP -mindepth 2 -maxdepth 2 -type d -exec sh -c 'x={};echo $(basename ${x})' \\; | sort"
   ]
  },
  {
   "cell_type": "code",
   "execution_count": 4,
   "id": "ultimate-poetry",
   "metadata": {
    "execution": {
     "iopub.execute_input": "2021-03-31T04:24:10.044574Z",
     "iopub.status.busy": "2021-03-31T04:24:10.044206Z",
     "iopub.status.idle": "2021-03-31T04:24:10.046221Z",
     "shell.execute_reply": "2021-03-31T04:24:10.045823Z"
    }
   },
   "outputs": [],
   "source": [
    "CRUNCH_DIR = \"./country-crunch\""
   ]
  },
  {
   "cell_type": "code",
   "execution_count": 5,
   "id": "extreme-mechanism",
   "metadata": {
    "execution": {
     "iopub.execute_input": "2021-03-31T04:24:10.049909Z",
     "iopub.status.busy": "2021-03-31T04:24:10.049534Z",
     "iopub.status.idle": "2021-03-31T04:24:10.177317Z",
     "shell.execute_reply": "2021-03-31T04:24:10.176899Z"
    }
   },
   "outputs": [],
   "source": [
    "!mkdir -p {CRUNCH_DIR}"
   ]
  },
  {
   "cell_type": "code",
   "execution_count": 6,
   "id": "liable-humor",
   "metadata": {
    "execution": {
     "iopub.execute_input": "2021-03-31T04:24:10.184028Z",
     "iopub.status.busy": "2021-03-31T04:24:10.183593Z",
     "iopub.status.idle": "2021-03-31T04:24:10.185367Z",
     "shell.execute_reply": "2021-03-31T04:24:10.185747Z"
    }
   },
   "outputs": [],
   "source": [
    "too_small_regions = {\n",
    "    \"World|Natural Earth 50m|San Marino\",\n",
    "    \"World|Natural Earth 50m|Turks and Caicos Is.\",\n",
    "    \"World|Natural Earth 50m|Indian Ocean Ter.\",\n",
    "    \"World|Natural Earth 50m|Falkland Is.\",\n",
    "    \"World|Natural Earth 50m|Israel\",\n",
    "    \"World|Natural Earth 50m|Kiribati\",\n",
    "    \"World|Natural Earth 50m|Jamaica\",\n",
    "    \"World|Natural Earth 50m|Fr. S. Antarctic Lands\",\n",
    "    \"World|Natural Earth 50m|Vanuatu\",\n",
    "    \"World|Natural Earth 50m|N. Mariana Is.\",\n",
    "    \"World|Natural Earth 50m|Palau\",\n",
    "    \"World|Natural Earth 50m|Liechtenstein\",\n",
    "    \"World|Natural Earth 50m|St-Barthélemy\",\n",
    "    \"World|Natural Earth 50m|Monaco\",\n",
    "    \"World|Natural Earth 50m|Wallis and Futuna Is.\",\n",
    "    \"World|Natural Earth 50m|Puerto Rico\",\n",
    "    \"World|Natural Earth 50m|Bermuda\",\n",
    "    \"World|Natural Earth 50m|Dominica\",\n",
    "    \"World|Natural Earth 50m|Nauru\",\n",
    "    \"World|Natural Earth 50m|Isle of Man\",\n",
    "    \"World|Natural Earth 50m|Rwanda\",\n",
    "    \"World|Natural Earth 50m|Grenada\",\n",
    "    \"World|Natural Earth 50m|Seychelles\",\n",
    "    \"World|Natural Earth 50m|S. Geo. and the Is.\",\n",
    "    \"World|Natural Earth 50m|Cayman Is.\",\n",
    "    \"World|Natural Earth 50m|Sint Maarten\",\n",
    "    \"World|Natural Earth 50m|Maldives\",\n",
    "    \"World|Natural Earth 50m|Norfolk Island\",\n",
    "    \"World|Natural Earth 50m|St-Martin\",\n",
    "    \"World|Natural Earth 50m|Bahamas\",\n",
    "    \"World|Natural Earth 50m|British Virgin Is.\",\n",
    "    \"World|Natural Earth 50m|Comoros\",\n",
    "    \"World|Natural Earth 50m|St. Kitts and Nevis\",\n",
    "    \"World|Natural Earth 50m|Barbados\",\n",
    "    \"World|Natural Earth 50m|Palestine\",\n",
    "    \"World|Natural Earth 50m|American Samoa\",\n",
    "    \"World|Natural Earth 50m|St. Vin. and Gren.\",\n",
    "    \"World|Natural Earth 50m|Brunei\",\n",
    "    \"World|Natural Earth 50m|Curaçao\",\n",
    "    \"World|Natural Earth 50m|Guam\",\n",
    "    \"World|Natural Earth 50m|St. Pierre and Miquelon\",\n",
    "    \"World|Natural Earth 50m|Jersey\",\n",
    "    \"World|Natural Earth 50m|Macao\",\n",
    "    \"World|Natural Earth 50m|Saint Lucia\",\n",
    "    \"World|Natural Earth 50m|Cook Is.\",\n",
    "    \"World|Natural Earth 50m|Fr. Polynesia\",\n",
    "    \"World|Natural Earth 50m|Faeroe Is.\",\n",
    "    \"World|Natural Earth 50m|Luxembourg\",\n",
    "    \"World|Natural Earth 50m|Saint Helena\",\n",
    "    \"World|Natural Earth 50m|Åland\",\n",
    "    \"World|Natural Earth 50m|Niue\",\n",
    "    \"World|Natural Earth 50m|Pitcairn Is.\",\n",
    "    \"World|Natural Earth 50m|Br. Indian Ocean Ter.\",\n",
    "    \"World|Natural Earth 50m|Vatican\",\n",
    "    \"World|Natural Earth 50m|Heard I. and McDonald Is.\",\n",
    "    \"World|Natural Earth 50m|Albania\",\n",
    "    \"World|Natural Earth 50m|Malta\",\n",
    "    \"World|Natural Earth 50m|N. Cyprus\",\n",
    "    \"World|Natural Earth 50m|Ashmore and Cartier Is.\",\n",
    "    \"World|Natural Earth 50m|Trinidad and Tobago\",\n",
    "    \"World|Natural Earth 50m|Marshall Is.\",\n",
    "    \"World|Natural Earth 50m|Belize\",\n",
    "    \"World|Natural Earth 50m|U.S. Virgin Is.\",\n",
    "    \"World|Natural Earth 50m|Antigua and Barb.\",\n",
    "    \"World|Natural Earth 50m|Kuwait\",\n",
    "    \"World|Natural Earth 50m|Siachen Glacier\",\n",
    "    \"World|Natural Earth 50m|Andorra\",\n",
    "    \"World|Natural Earth 50m|Singapore\",\n",
    "    \"World|Natural Earth 50m|Micronesia\",\n",
    "    \"World|Natural Earth 50m|Bahrain\",\n",
    "    \"World|Natural Earth 50m|Togo\",\n",
    "    \"World|Natural Earth 50m|Hong Kong\",\n",
    "    \"World|Natural Earth 50m|Anguilla\",\n",
    "    \"World|Natural Earth 50m|Mauritius\",\n",
    "    \"World|Natural Earth 50m|Aruba\",\n",
    "    \"World|Natural Earth 50m|São Tomé and Principe\",\n",
    "    \"World|Natural Earth 50m|Solomon Is.\",\n",
    "    \"World|Natural Earth 50m|Qatar\",\n",
    "    \"World|Natural Earth 50m|Tonga\",\n",
    "    \"World|Natural Earth 50m|Guernsey\",\n",
    "    \"World|Natural Earth 50m|Montserrat\",\n",
    "    \"World|Natural Earth 50m|Haiti\",\n",
    "}"
   ]
  },
  {
   "cell_type": "code",
   "execution_count": 7,
   "id": "conventional-offering",
   "metadata": {
    "execution": {
     "iopub.execute_input": "2021-03-31T04:24:10.189868Z",
     "iopub.status.busy": "2021-03-31T04:24:10.189487Z",
     "iopub.status.idle": "2021-03-31T04:24:10.395270Z",
     "shell.execute_reply": "2021-03-31T04:24:10.394875Z"
    }
   },
   "outputs": [
    {
     "data": {
      "text/plain": [
       "160"
      ]
     },
     "metadata": {},
     "output_type": "display_data"
    }
   ],
   "source": [
    "regions = (\n",
    "    set(\n",
    "        [\n",
    "            \"World|Natural Earth 50m|{}\".format(c)\n",
    "            for c in regionmask.defined_regions.natural_earth.countries_50.names\n",
    "        ]\n",
    "        + [\"World\"]\n",
    "    )\n",
    "    - too_small_regions\n",
    ")\n",
    "display(len(regions))\n",
    "regions = \",\".join(regions)\n",
    "# regions"
   ]
  },
  {
   "cell_type": "code",
   "execution_count": 8,
   "id": "developmental-surface",
   "metadata": {
    "execution": {
     "iopub.execute_input": "2021-03-31T04:24:10.662479Z",
     "iopub.status.busy": "2021-03-31T04:24:10.648793Z",
     "iopub.status.idle": "2021-03-31T10:08:23.322757Z",
     "shell.execute_reply": "2021-03-31T10:08:23.322340Z"
    }
   },
   "outputs": [],
   "source": [
    "!netcdf-scm crunch \\\n",
    "    /data/cmip6/CMIP6 \\\n",
    "    {CRUNCH_DIR} \\\n",
    "    \"Zebedee Nicholls <zebedee.nicholls@climate-energy-college.org>\" \\\n",
    "    --drs \"CMIP6Output\" \\\n",
    "    --regexp \".*(CMIP|ScenarioMIP).*(/ssp|/historical/|/piControl/).*(r1i1p1f1|r2i1p1f1|r3i1p1f1|r1i1p1f2|r1i1p2f1|r1i1p1f3|r4i1p1f1|r10i1p1f1|r11i1p1f1).*Amon.*/tas/.*\" \\\n",
    "    --regions \"World|Natural Earth 50m|Angola,World|Natural Earth 50m|Bulgaria,World|Natural Earth 50m|Mongolia,World|Natural Earth 50m|Lebanon,World|Natural Earth 50m|Turkey,World|Natural Earth 50m|Burundi,World|Natural Earth 50m|Mozambique,World|Natural Earth 50m|Uzbekistan,World|Natural Earth 50m|Zimbabwe,World|Natural Earth 50m|Belarus,World|Natural Earth 50m|Bolivia,World|Natural Earth 50m|Philippines,World|Natural Earth 50m|China,World|Natural Earth 50m|Argentina,World|Natural Earth 50m|Paraguay,World|Natural Earth 50m|Ireland,World|Natural Earth 50m|Switzerland,World|Natural Earth 50m|Croatia,World|Natural Earth 50m|Cameroon,World,World|Natural Earth 50m|Romania,World|Natural Earth 50m|United States of America,World|Natural Earth 50m|Kenya,World|Natural Earth 50m|Tanzania,World|Natural Earth 50m|Namibia,World|Natural Earth 50m|Georgia,World|Natural Earth 50m|Burkina Faso,World|Natural Earth 50m|Oman,World|Natural Earth 50m|Egypt,World|Natural Earth 50m|Costa Rica,World|Natural Earth 50m|Panama,World|Natural Earth 50m|Uruguay,World|Natural Earth 50m|Nepal,World|Natural Earth 50m|Suriname,World|Natural Earth 50m|Saudi Arabia,World|Natural Earth 50m|Lithuania,World|Natural Earth 50m|Macedonia,World|Natural Earth 50m|Dominican Rep.,World|Natural Earth 50m|Dem. Rep. Congo,World|Natural Earth 50m|S. Sudan,World|Natural Earth 50m|Kyrgyzstan,World|Natural Earth 50m|Niger,World|Natural Earth 50m|Eritrea,World|Natural Earth 50m|Djibouti,World|Natural Earth 50m|France,World|Natural Earth 50m|Greenland,World|Natural Earth 50m|Spain,World|Natural Earth 50m|Montenegro,World|Natural Earth 50m|Venezuela,World|Natural Earth 50m|Ethiopia,World|Natural Earth 50m|Iceland,World|Natural Earth 50m|Finland,World|Natural Earth 50m|Libya,World|Natural Earth 50m|Uganda,World|Natural Earth 50m|Algeria,World|Natural Earth 50m|Malaysia,World|Natural Earth 50m|United Arab Emirates,World|Natural Earth 50m|Sweden,World|Natural Earth 50m|Malawi,World|Natural Earth 50m|Iran,World|Natural Earth 50m|Indonesia,World|Natural Earth 50m|Cabo Verde,World|Natural Earth 50m|Slovenia,World|Natural Earth 50m|Guinea-Bissau,World|Natural Earth 50m|Armenia,World|Natural Earth 50m|Kosovo,World|Natural Earth 50m|Laos,World|Natural Earth 50m|South Africa,World|Natural Earth 50m|Sudan,World|Natural Earth 50m|Thailand,World|Natural Earth 50m|Tunisia,World|Natural Earth 50m|India,World|Natural Earth 50m|Estonia,World|Natural Earth 50m|Vietnam,World|Natural Earth 50m|Russia,World|Natural Earth 50m|Madagascar,World|Natural Earth 50m|Syria,World|Natural Earth 50m|Norway,World|Natural Earth 50m|W. Sahara,World|Natural Earth 50m|Mexico,World|Natural Earth 50m|Greece,World|Natural Earth 50m|Côte d'Ivoire,World|Natural Earth 50m|Germany,World|Natural Earth 50m|Japan,World|Natural Earth 50m|Somaliland,World|Natural Earth 50m|Italy,World|Natural Earth 50m|Australia,World|Natural Earth 50m|Zambia,World|Natural Earth 50m|Honduras,World|Natural Earth 50m|Jordan,World|Natural Earth 50m|Cyprus,World|Natural Earth 50m|Guinea,World|Natural Earth 50m|Antarctica,World|Natural Earth 50m|Tajikistan,World|Natural Earth 50m|Nigeria,World|Natural Earth 50m|Senegal,World|Natural Earth 50m|Sri Lanka,World|Natural Earth 50m|Congo,World|Natural Earth 50m|North Korea,World|Natural Earth 50m|Austria,World|Natural Earth 50m|Chile,World|Natural Earth 50m|Netherlands,World|Natural Earth 50m|Taiwan,World|Natural Earth 50m|Samoa,World|Natural Earth 50m|Denmark,World|Natural Earth 50m|Portugal,World|Natural Earth 50m|Bosnia and Herz.,World|Natural Earth 50m|Chad,World|Natural Earth 50m|eSwatini,World|Natural Earth 50m|Benin,World|Natural Earth 50m|Timor-Leste,World|Natural Earth 50m|Turkmenistan,World|Natural Earth 50m|Slovakia,World|Natural Earth 50m|Peru,World|Natural Earth 50m|Ecuador,World|Natural Earth 50m|Ukraine,World|Natural Earth 50m|Fiji,World|Natural Earth 50m|United Kingdom,World|Natural Earth 50m|New Zealand,World|Natural Earth 50m|Hungary,World|Natural Earth 50m|Gambia,World|Natural Earth 50m|New Caledonia,World|Natural Earth 50m|Ghana,World|Natural Earth 50m|Serbia,World|Natural Earth 50m|Central African Rep.,World|Natural Earth 50m|Nicaragua,World|Natural Earth 50m|Canada,World|Natural Earth 50m|Lesotho,World|Natural Earth 50m|Colombia,World|Natural Earth 50m|South Korea,World|Natural Earth 50m|Myanmar,World|Natural Earth 50m|Guatemala,World|Natural Earth 50m|Cuba,World|Natural Earth 50m|Yemen,World|Natural Earth 50m|Mali,World|Natural Earth 50m|Papua New Guinea,World|Natural Earth 50m|Somalia,World|Natural Earth 50m|Czechia,World|Natural Earth 50m|Moldova,World|Natural Earth 50m|Morocco,World|Natural Earth 50m|Poland,World|Natural Earth 50m|Bhutan,World|Natural Earth 50m|Pakistan,World|Natural Earth 50m|Sierra Leone,World|Natural Earth 50m|Guyana,World|Natural Earth 50m|Afghanistan,World|Natural Earth 50m|Liberia,World|Natural Earth 50m|Kazakhstan,World|Natural Earth 50m|Eq. Guinea,World|Natural Earth 50m|Brazil,World|Natural Earth 50m|El Salvador,World|Natural Earth 50m|Mauritania,World|Natural Earth 50m|Gabon,World|Natural Earth 50m|Botswana,World|Natural Earth 50m|Bangladesh,World|Natural Earth 50m|Cambodia,World|Natural Earth 50m|Azerbaijan,World|Natural Earth 50m|Iraq,World|Natural Earth 50m|Belgium,World|Natural Earth 50m|Latvia\" \\\n",
    "    --small-number-workers 60 \\\n",
    "    --small-threshold 100 \\\n",
    "    --medium-number-workers 20 \\\n",
    "    --medium-threshold 400 \\\n",
    "    --force-lazy-threshold 1000 \\\n",
    "    > crunch-log.txt 2>&1"
   ]
  },
  {
   "cell_type": "code",
   "execution_count": 9,
   "id": "matched-conducting",
   "metadata": {
    "execution": {
     "iopub.execute_input": "2021-03-31T10:08:23.341878Z",
     "iopub.status.busy": "2021-03-31T10:08:23.329066Z",
     "iopub.status.idle": "2021-03-31T10:09:57.217063Z",
     "shell.execute_reply": "2021-03-31T10:09:57.216338Z"
    }
   },
   "outputs": [
    {
     "name": "stdout",
     "output_type": "stream",
     "text": [
      "/data/cmip6/CMIP6/CMIP/KIOST/KIOST-ESM\r\n"
     ]
    }
   ],
   "source": [
    "!find /data/cmip6/CMIP6/CMIP -name 'KIOST-ESM' -type d"
   ]
  },
  {
   "cell_type": "code",
   "execution_count": 10,
   "id": "finite-manhattan",
   "metadata": {
    "execution": {
     "iopub.execute_input": "2021-03-31T10:09:57.233450Z",
     "iopub.status.busy": "2021-03-31T10:09:57.233082Z",
     "iopub.status.idle": "2021-03-31T10:09:57.354078Z",
     "shell.execute_reply": "2021-03-31T10:09:57.353648Z"
    }
   },
   "outputs": [
    {
     "name": "stdout",
     "output_type": "stream",
     "text": [
      "ssp126\tssp245\tssp370\tssp585\r\n"
     ]
    }
   ],
   "source": [
    "!ls /data/cmip6/CMIP6/ScenarioMIP/NCAR/CESM2"
   ]
  },
  {
   "cell_type": "code",
   "execution_count": 11,
   "id": "played-pontiac",
   "metadata": {
    "execution": {
     "iopub.execute_input": "2021-03-31T10:09:57.359234Z",
     "iopub.status.busy": "2021-03-31T10:09:57.358866Z",
     "iopub.status.idle": "2021-03-31T10:09:57.486765Z",
     "shell.execute_reply": "2021-03-31T10:09:57.487068Z"
    }
   },
   "outputs": [
    {
     "name": "stdout",
     "output_type": "stream",
     "text": [
      "/data/cmip6/CMIP6/CMIP/KIOST/KIOST-ESM/piControl/r1i1p1f1/Amon/tas/gr1/v20191106/tas_Amon_KIOST-ESM_piControl_r1i1p1f1_gr1_268901-318812.nc\r\n",
      "/data/cmip6/CMIP6/CMIP/KIOST/KIOST-ESM/abrupt-4xCO2/r1i1p1f1/Amon/tas/gr1/v20191106/tas_Amon_KIOST-ESM_abrupt-4xCO2_r1i1p1f1_gr1_185001-200012.nc\r\n",
      "/data/cmip6/CMIP6/CMIP/KIOST/KIOST-ESM/historical/r1i1p1f1/Amon/tas/gr1/v20191106/tas_Amon_KIOST-ESM_historical_r1i1p1f1_gr1_185001-201412.nc\r\n"
     ]
    }
   ],
   "source": [
    "!find /data/cmip6/CMIP6/CMIP/KIOST/KIOST-ESM -type f -name 'tas_Amon*'"
   ]
  },
  {
   "cell_type": "code",
   "execution_count": 12,
   "id": "married-cholesterol",
   "metadata": {
    "execution": {
     "iopub.execute_input": "2021-03-31T10:09:57.491068Z",
     "iopub.status.busy": "2021-03-31T10:09:57.489270Z",
     "iopub.status.idle": "2021-03-31T10:12:24.195245Z",
     "shell.execute_reply": "2021-03-31T10:12:24.195581Z"
    }
   },
   "outputs": [
    {
     "name": "stdout",
     "output_type": "stream",
     "text": [
      "/data/cmip6/CMIP6/ScenarioMIP/KIOST/KIOST-ESM\r\n"
     ]
    }
   ],
   "source": [
    "!find /data/cmip6/CMIP6/ScenarioMIP -name 'KIOST-ESM' -type d"
   ]
  },
  {
   "cell_type": "code",
   "execution_count": 13,
   "id": "surprised-plain",
   "metadata": {
    "execution": {
     "iopub.execute_input": "2021-03-31T10:12:24.211356Z",
     "iopub.status.busy": "2021-03-31T10:12:24.210993Z",
     "iopub.status.idle": "2021-03-31T10:12:24.332144Z",
     "shell.execute_reply": "2021-03-31T10:12:24.332440Z"
    }
   },
   "outputs": [
    {
     "name": "stdout",
     "output_type": "stream",
     "text": [
      "/data/cmip6/CMIP6/ScenarioMIP/KIOST/KIOST-ESM/ssp245/r1i1p1f1/Amon/tas/gr1/v20191106/tas_Amon_KIOST-ESM_ssp245_r1i1p1f1_gr1_201501-210012.nc\r\n"
     ]
    }
   ],
   "source": [
    "!find /data/cmip6/CMIP6/ScenarioMIP/KIOST/KIOST-ESM -type f -name 'tas_Amon*_ssp245_*'"
   ]
  },
  {
   "cell_type": "code",
   "execution_count": 14,
   "id": "innovative-mining",
   "metadata": {
    "execution": {
     "iopub.execute_input": "2021-03-31T10:12:24.348154Z",
     "iopub.status.busy": "2021-03-31T10:12:24.336852Z",
     "iopub.status.idle": "2021-03-31T10:12:24.464618Z",
     "shell.execute_reply": "2021-03-31T10:12:24.464192Z"
    }
   },
   "outputs": [
    {
     "name": "stdout",
     "output_type": "stream",
     "text": [
      "/data/cmip6/CMIP6/ScenarioMIP/CCCR-IITM/IITM-ESM/ssp245/r1i1p1f1/Amon/tas/gn/v20200915/tas_Amon_IITM-ESM_ssp245_r1i1p1f1_gn_204501-205412.nc\r\n",
      "/data/cmip6/CMIP6/ScenarioMIP/CCCR-IITM/IITM-ESM/ssp245/r1i1p1f1/Amon/tas/gn/v20200915/tas_Amon_IITM-ESM_ssp245_r1i1p1f1_gn_201501-202412.nc\r\n",
      "/data/cmip6/CMIP6/ScenarioMIP/CCCR-IITM/IITM-ESM/ssp245/r1i1p1f1/Amon/tas/gn/v20200915/tas_Amon_IITM-ESM_ssp245_r1i1p1f1_gn_202501-203412.nc\r\n",
      "/data/cmip6/CMIP6/ScenarioMIP/CCCR-IITM/IITM-ESM/ssp245/r1i1p1f1/Amon/tas/gn/v20200915/tas_Amon_IITM-ESM_ssp245_r1i1p1f1_gn_205501-206412.nc\r\n",
      "/data/cmip6/CMIP6/ScenarioMIP/CCCR-IITM/IITM-ESM/ssp245/r1i1p1f1/Amon/tas/gn/v20200915/tas_Amon_IITM-ESM_ssp245_r1i1p1f1_gn_206501-207412.nc\r\n",
      "/data/cmip6/CMIP6/ScenarioMIP/CCCR-IITM/IITM-ESM/ssp245/r1i1p1f1/Amon/tas/gn/v20200915/tas_Amon_IITM-ESM_ssp245_r1i1p1f1_gn_203501-204412.nc\r\n",
      "/data/cmip6/CMIP6/ScenarioMIP/CCCR-IITM/IITM-ESM/ssp245/r1i1p1f1/Amon/tas/gn/v20200915/tas_Amon_IITM-ESM_ssp245_r1i1p1f1_gn_207501-208412.nc\r\n",
      "/data/cmip6/CMIP6/ScenarioMIP/CCCR-IITM/IITM-ESM/ssp245/r1i1p1f1/Amon/tas/gn/v20200915/tas_Amon_IITM-ESM_ssp245_r1i1p1f1_gn_208501-209412.nc\r\n",
      "/data/cmip6/CMIP6/ScenarioMIP/CCCR-IITM/IITM-ESM/ssp245/r1i1p1f1/Amon/tas/gn/v20200915/tas_Amon_IITM-ESM_ssp245_r1i1p1f1_gn_209501-209912.nc\r\n",
      "/data/cmip6/CMIP6/ScenarioMIP/CCCR-IITM/IITM-ESM/ssp245/r1i1p1f1/day/tas/gn/v20200915/tas_day_IITM-ESM_ssp245_r1i1p1f1_gn_20250101-20291231.nc\r\n",
      "/data/cmip6/CMIP6/ScenarioMIP/CCCR-IITM/IITM-ESM/ssp245/r1i1p1f1/day/tas/gn/v20200915/tas_day_IITM-ESM_ssp245_r1i1p1f1_gn_20500101-20541231.nc\r\n",
      "/data/cmip6/CMIP6/ScenarioMIP/CCCR-IITM/IITM-ESM/ssp245/r1i1p1f1/day/tas/gn/v20200915/tas_day_IITM-ESM_ssp245_r1i1p1f1_gn_20300101-20341231.nc\r\n",
      "/data/cmip6/CMIP6/ScenarioMIP/CCCR-IITM/IITM-ESM/ssp245/r1i1p1f1/day/tas/gn/v20200915/tas_day_IITM-ESM_ssp245_r1i1p1f1_gn_20450101-20491231.nc\r\n",
      "/data/cmip6/CMIP6/ScenarioMIP/CCCR-IITM/IITM-ESM/ssp245/r1i1p1f1/day/tas/gn/v20200915/tas_day_IITM-ESM_ssp245_r1i1p1f1_gn_20900101-20941231.nc\r\n",
      "/data/cmip6/CMIP6/ScenarioMIP/CCCR-IITM/IITM-ESM/ssp245/r1i1p1f1/day/tas/gn/v20200915/tas_day_IITM-ESM_ssp245_r1i1p1f1_gn_20850101-20891231.nc\r\n",
      "/data/cmip6/CMIP6/ScenarioMIP/CCCR-IITM/IITM-ESM/ssp245/r1i1p1f1/day/tas/gn/v20200915/tas_day_IITM-ESM_ssp245_r1i1p1f1_gn_20650101-20691231.nc\r\n",
      "/data/cmip6/CMIP6/ScenarioMIP/CCCR-IITM/IITM-ESM/ssp245/r1i1p1f1/day/tas/gn/v20200915/tas_day_IITM-ESM_ssp245_r1i1p1f1_gn_20800101-20841231.nc\r\n",
      "/data/cmip6/CMIP6/ScenarioMIP/CCCR-IITM/IITM-ESM/ssp245/r1i1p1f1/day/tas/gn/v20200915/tas_day_IITM-ESM_ssp245_r1i1p1f1_gn_20400101-20441231.nc\r\n",
      "/data/cmip6/CMIP6/ScenarioMIP/CCCR-IITM/IITM-ESM/ssp245/r1i1p1f1/day/tas/gn/v20200915/tas_day_IITM-ESM_ssp245_r1i1p1f1_gn_20750101-20791231.nc\r\n",
      "/data/cmip6/CMIP6/ScenarioMIP/CCCR-IITM/IITM-ESM/ssp245/r1i1p1f1/day/tas/gn/v20200915/tas_day_IITM-ESM_ssp245_r1i1p1f1_gn_20700101-20741231.nc\r\n",
      "/data/cmip6/CMIP6/ScenarioMIP/CCCR-IITM/IITM-ESM/ssp245/r1i1p1f1/day/tas/gn/v20200915/tas_day_IITM-ESM_ssp245_r1i1p1f1_gn_20200101-20241231.nc\r\n",
      "/data/cmip6/CMIP6/ScenarioMIP/CCCR-IITM/IITM-ESM/ssp245/r1i1p1f1/day/tas/gn/v20200915/tas_day_IITM-ESM_ssp245_r1i1p1f1_gn_20600101-20641231.nc\r\n",
      "/data/cmip6/CMIP6/ScenarioMIP/CCCR-IITM/IITM-ESM/ssp245/r1i1p1f1/day/tas/gn/v20200915/tas_day_IITM-ESM_ssp245_r1i1p1f1_gn_20150101-20191231.nc\r\n",
      "/data/cmip6/CMIP6/ScenarioMIP/CCCR-IITM/IITM-ESM/ssp245/r1i1p1f1/day/tas/gn/v20200915/tas_day_IITM-ESM_ssp245_r1i1p1f1_gn_20350101-20391231.nc\r\n",
      "/data/cmip6/CMIP6/ScenarioMIP/CCCR-IITM/IITM-ESM/ssp245/r1i1p1f1/day/tas/gn/v20200915/tas_day_IITM-ESM_ssp245_r1i1p1f1_gn_20950101-20991231.nc\r\n",
      "/data/cmip6/CMIP6/ScenarioMIP/CCCR-IITM/IITM-ESM/ssp245/r1i1p1f1/day/tas/gn/v20200915/tas_day_IITM-ESM_ssp245_r1i1p1f1_gn_20550101-20591231.nc\r\n"
     ]
    }
   ],
   "source": [
    "!find /data/cmip6/CMIP6/ScenarioMIP/CCCR-IITM/IITM-ESM -type f -name '*_ssp245_*'"
   ]
  },
  {
   "cell_type": "code",
   "execution_count": 15,
   "id": "minimal-flavor",
   "metadata": {
    "execution": {
     "iopub.execute_input": "2021-03-31T10:12:24.469418Z",
     "iopub.status.busy": "2021-03-31T10:12:24.469006Z",
     "iopub.status.idle": "2021-03-31T10:12:24.661965Z",
     "shell.execute_reply": "2021-03-31T10:12:24.662263Z"
    },
    "scrolled": false
   },
   "outputs": [
    {
     "name": "stdout",
     "output_type": "stream",
     "text": [
      "./country-crunch/netcdf-scm-crunched/CMIP6/ScenarioMIP/BCC/BCC-CSM2-MR/ssp245/r1i1p1f1/Amon/tas/gn/v20190314/netcdf-scm_tas_Amon_BCC-CSM2-MR_ssp245_r1i1p1f1_gn_201501-210012.nc\r\n",
      "./country-crunch/netcdf-scm-crunched/CMIP6/ScenarioMIP/CCCR-IITM/IITM-ESM/ssp245/r1i1p1f1/Amon/tas/gn/v20200915/netcdf-scm_tas_Amon_IITM-ESM_ssp245_r1i1p1f1_gn_201501-209912.nc\r\n",
      "./country-crunch/netcdf-scm-crunched/CMIP6/ScenarioMIP/E3SM-Project/E3SM-1-1/ssp245/r2i1p1f1/Amon/tas/gr/v20201110/netcdf-scm_tas_Amon_E3SM-1-1_ssp245_r2i1p1f1_gr_202001-202412.nc\r\n",
      "./country-crunch/netcdf-scm-crunched/CMIP6/ScenarioMIP/E3SM-Project/E3SM-1-1/ssp245/r1i1p1f1/Amon/tas/gr/v20201109/netcdf-scm_tas_Amon_E3SM-1-1_ssp245_r1i1p1f1_gr_202001-202412.nc\r\n",
      "./country-crunch/netcdf-scm-crunched/CMIP6/ScenarioMIP/E3SM-Project/E3SM-1-1/ssp245/r10i1p1f1/Amon/tas/gr/v20201110/netcdf-scm_tas_Amon_E3SM-1-1_ssp245_r10i1p1f1_gr_202001-202412.nc\r\n",
      "./country-crunch/netcdf-scm-crunched/CMIP6/ScenarioMIP/E3SM-Project/E3SM-1-1/ssp245/r4i1p1f1/Amon/tas/gr/v20201110/netcdf-scm_tas_Amon_E3SM-1-1_ssp245_r4i1p1f1_gr_202001-202412.nc\r\n",
      "./country-crunch/netcdf-scm-crunched/CMIP6/ScenarioMIP/E3SM-Project/E3SM-1-1/ssp245/r3i1p1f1/Amon/tas/gr/v20201110/netcdf-scm_tas_Amon_E3SM-1-1_ssp245_r3i1p1f1_gr_202001-202412.nc\r\n",
      "./country-crunch/netcdf-scm-crunched/CMIP6/ScenarioMIP/CSIRO-ARCCSS/ACCESS-CM2/ssp245/r2i1p1f1/Amon/tas/gn/v20200303/netcdf-scm_tas_Amon_ACCESS-CM2_ssp245_r2i1p1f1_gn_201501-210012.nc\r\n",
      "./country-crunch/netcdf-scm-crunched/CMIP6/ScenarioMIP/CSIRO-ARCCSS/ACCESS-CM2/ssp245/r1i1p1f1/Amon/tas/gn/v20191108/netcdf-scm_tas_Amon_ACCESS-CM2_ssp245_r1i1p1f1_gn_201501-210012.nc\r\n",
      "./country-crunch/netcdf-scm-crunched/CMIP6/ScenarioMIP/CSIRO-ARCCSS/ACCESS-CM2/ssp245/r3i1p1f1/Amon/tas/gn/v20200428/netcdf-scm_tas_Amon_ACCESS-CM2_ssp245_r3i1p1f1_gn_201501-210012.nc\r\n",
      "./country-crunch/netcdf-scm-crunched/CMIP6/ScenarioMIP/NUIST/NESM3/ssp245/r2i1p1f1/Amon/tas/gn/v20190731/netcdf-scm_tas_Amon_NESM3_ssp245_r2i1p1f1_gn_201501-210012.nc\r\n",
      "./country-crunch/netcdf-scm-crunched/CMIP6/ScenarioMIP/NUIST/NESM3/ssp245/r1i1p1f1/Amon/tas/gn/v20190731/netcdf-scm_tas_Amon_NESM3_ssp245_r1i1p1f1_gn_201501-210012.nc\r\n",
      "./country-crunch/netcdf-scm-crunched/CMIP6/ScenarioMIP/MOHC/UKESM1-0-LL/ssp245/r1i1p1f2/Amon/tas/gn/v20190507/netcdf-scm_tas_Amon_UKESM1-0-LL_ssp245_r1i1p1f2_gn_201501-210012.nc\r\n",
      "./country-crunch/netcdf-scm-crunched/CMIP6/ScenarioMIP/MOHC/HadGEM3-GC31-LL/ssp245/r1i1p1f3/Amon/tas/gn/v20190908/netcdf-scm_tas_Amon_HadGEM3-GC31-LL_ssp245_r1i1p1f3_gn_201501-210012.nc\r\n",
      "./country-crunch/netcdf-scm-crunched/CMIP6/ScenarioMIP/KIOST/KIOST-ESM/ssp245/r1i1p1f1/Amon/tas/gr1/v20191106/netcdf-scm_tas_Amon_KIOST-ESM_ssp245_r1i1p1f1_gr1_201501-210012.nc\r\n",
      "./country-crunch/netcdf-scm-crunched/CMIP6/ScenarioMIP/EC-Earth-Consortium/EC-Earth3/ssp245/r11i1p1f1/Amon/tas/gr/v20200201/netcdf-scm_tas_Amon_EC-Earth3_ssp245_r11i1p1f1_gr_201501-210012.nc\r\n",
      "./country-crunch/netcdf-scm-crunched/CMIP6/ScenarioMIP/EC-Earth-Consortium/EC-Earth3/ssp245/r2i1p1f1/Amon/tas/gr/v20200311/netcdf-scm_tas_Amon_EC-Earth3_ssp245_r2i1p1f1_gr_201501-210012.nc\r\n",
      "./country-crunch/netcdf-scm-crunched/CMIP6/ScenarioMIP/EC-Earth-Consortium/EC-Earth3/ssp245/r1i1p1f1/Amon/tas/gr/v20190927/netcdf-scm_tas_Amon_EC-Earth3_ssp245_r1i1p1f1_gr_201501-210012.nc\r\n",
      "./country-crunch/netcdf-scm-crunched/CMIP6/ScenarioMIP/EC-Earth-Consortium/EC-Earth3/ssp245/r1i1p1f1/Amon/tas/gr/v20200310/netcdf-scm_tas_Amon_EC-Earth3_ssp245_r1i1p1f1_gr_201501-210012.nc\r\n",
      "./country-crunch/netcdf-scm-crunched/CMIP6/ScenarioMIP/EC-Earth-Consortium/EC-Earth3/ssp245/r10i1p1f1/Amon/tas/gr/v20200215/netcdf-scm_tas_Amon_EC-Earth3_ssp245_r10i1p1f1_gr_201501-210012.nc\r\n",
      "./country-crunch/netcdf-scm-crunched/CMIP6/ScenarioMIP/EC-Earth-Consortium/EC-Earth3/ssp245/r4i1p1f1/Amon/tas/gr/v20200425/netcdf-scm_tas_Amon_EC-Earth3_ssp245_r4i1p1f1_gr_201501-210012.nc\r\n",
      "./country-crunch/netcdf-scm-crunched/CMIP6/ScenarioMIP/EC-Earth-Consortium/EC-Earth3-Veg/ssp245/r2i1p1f1/Amon/tas/gr/v20190925/netcdf-scm_tas_Amon_EC-Earth3-Veg_ssp245_r2i1p1f1_gr_201501-210012.nc\r\n",
      "./country-crunch/netcdf-scm-crunched/CMIP6/ScenarioMIP/EC-Earth-Consortium/EC-Earth3-Veg/ssp245/r2i1p1f1/Amon/tas/gr/v20200226/netcdf-scm_tas_Amon_EC-Earth3-Veg_ssp245_r2i1p1f1_gr_201501-210012.nc\r\n",
      "./country-crunch/netcdf-scm-crunched/CMIP6/ScenarioMIP/EC-Earth-Consortium/EC-Earth3-Veg/ssp245/r1i1p1f1/Amon/tas/gr/v20200225/netcdf-scm_tas_Amon_EC-Earth3-Veg_ssp245_r1i1p1f1_gr_201501-210012.nc\r\n",
      "./country-crunch/netcdf-scm-crunched/CMIP6/ScenarioMIP/EC-Earth-Consortium/EC-Earth3-Veg/ssp245/r1i1p1f1/Amon/tas/gr/v20190629/netcdf-scm_tas_Amon_EC-Earth3-Veg_ssp245_r1i1p1f1_gr_201501-210012.nc\r\n",
      "./country-crunch/netcdf-scm-crunched/CMIP6/ScenarioMIP/EC-Earth-Consortium/EC-Earth3-Veg/ssp245/r4i1p1f1/Amon/tas/gr/v20200425/netcdf-scm_tas_Amon_EC-Earth3-Veg_ssp245_r4i1p1f1_gr_201501-210012.nc\r\n",
      "./country-crunch/netcdf-scm-crunched/CMIP6/ScenarioMIP/EC-Earth-Consortium/EC-Earth3-Veg/ssp245/r4i1p1f1/Amon/tas/gr/v20190915/netcdf-scm_tas_Amon_EC-Earth3-Veg_ssp245_r4i1p1f1_gr_201501-210012.nc\r\n",
      "./country-crunch/netcdf-scm-crunched/CMIP6/ScenarioMIP/EC-Earth-Consortium/EC-Earth3-Veg/ssp245/r3i1p1f1/Amon/tas/gr/v20200515/netcdf-scm_tas_Amon_EC-Earth3-Veg_ssp245_r3i1p1f1_gr_201501-210012.nc\r\n",
      "./country-crunch/netcdf-scm-crunched/CMIP6/ScenarioMIP/EC-Earth-Consortium/EC-Earth3-CC/ssp245/r1i1p1f1/Amon/tas/gr/v20210113/netcdf-scm_tas_Amon_EC-Earth3-CC_ssp245_r1i1p1f1_gr_201501-210012.nc\r\n",
      "./country-crunch/netcdf-scm-crunched/CMIP6/ScenarioMIP/EC-Earth-Consortium/EC-Earth3-Veg-LR/ssp245/r2i1p1f1/Amon/tas/gr/v20201123/netcdf-scm_tas_Amon_EC-Earth3-Veg-LR_ssp245_r2i1p1f1_gr_201501-210012.nc\r\n",
      "./country-crunch/netcdf-scm-crunched/CMIP6/ScenarioMIP/EC-Earth-Consortium/EC-Earth3-Veg-LR/ssp245/r1i1p1f1/Amon/tas/gr/v20201123/netcdf-scm_tas_Amon_EC-Earth3-Veg-LR_ssp245_r1i1p1f1_gr_201501-210012.nc\r\n",
      "./country-crunch/netcdf-scm-crunched/CMIP6/ScenarioMIP/EC-Earth-Consortium/EC-Earth3-Veg-LR/ssp245/r3i1p1f1/Amon/tas/gr/v20201123/netcdf-scm_tas_Amon_EC-Earth3-Veg-LR_ssp245_r3i1p1f1_gr_201501-210012.nc\r\n",
      "./country-crunch/netcdf-scm-crunched/CMIP6/ScenarioMIP/CMCC/CMCC-ESM2/ssp245/r1i1p1f1/Amon/tas/gn/v20210129/netcdf-scm_tas_Amon_CMCC-ESM2_ssp245_r1i1p1f1_gn_201501-210012.nc\r\n",
      "./country-crunch/netcdf-scm-crunched/CMIP6/ScenarioMIP/CMCC/CMCC-CM2-SR5/ssp245/r1i1p1f1/Amon/tas/gn/v20200617/netcdf-scm_tas_Amon_CMCC-CM2-SR5_ssp245_r1i1p1f1_gn_201501-210012.nc\r\n",
      "./country-crunch/netcdf-scm-crunched/CMIP6/ScenarioMIP/INM/INM-CM4-8/ssp245/r1i1p1f1/Amon/tas/gr1/v20190603/netcdf-scm_tas_Amon_INM-CM4-8_ssp245_r1i1p1f1_gr1_201501-210012.nc\r\n",
      "./country-crunch/netcdf-scm-crunched/CMIP6/ScenarioMIP/INM/INM-CM5-0/ssp245/r1i1p1f1/Amon/tas/gr1/v20190619/netcdf-scm_tas_Amon_INM-CM5-0_ssp245_r1i1p1f1_gr1_201501-210012.nc\r\n",
      "./country-crunch/netcdf-scm-crunched/CMIP6/ScenarioMIP/IPSL/IPSL-CM6A-LR/ssp245/r11i1p1f1/Amon/tas/gr/v20191003/netcdf-scm_tas_Amon_IPSL-CM6A-LR_ssp245_r11i1p1f1_gr_201501-210012.nc\r\n",
      "./country-crunch/netcdf-scm-crunched/CMIP6/ScenarioMIP/IPSL/IPSL-CM6A-LR/ssp245/r2i1p1f1/Amon/tas/gr/v20190516/netcdf-scm_tas_Amon_IPSL-CM6A-LR_ssp245_r2i1p1f1_gr_201501-210012.nc\r\n",
      "./country-crunch/netcdf-scm-crunched/CMIP6/ScenarioMIP/IPSL/IPSL-CM6A-LR/ssp245/r1i1p1f1/Amon/tas/gr/v20190119/netcdf-scm_tas_Amon_IPSL-CM6A-LR_ssp245_r1i1p1f1_gr_201501-210012.nc\r\n",
      "./country-crunch/netcdf-scm-crunched/CMIP6/ScenarioMIP/IPSL/IPSL-CM6A-LR/ssp245/r10i1p1f1/Amon/tas/gr/v20191003/netcdf-scm_tas_Amon_IPSL-CM6A-LR_ssp245_r10i1p1f1_gr_201501-210012.nc\r\n",
      "./country-crunch/netcdf-scm-crunched/CMIP6/ScenarioMIP/IPSL/IPSL-CM6A-LR/ssp245/r4i1p1f1/Amon/tas/gr/v20191121/netcdf-scm_tas_Amon_IPSL-CM6A-LR_ssp245_r4i1p1f1_gr_201501-210012.nc\r\n",
      "./country-crunch/netcdf-scm-crunched/CMIP6/ScenarioMIP/IPSL/IPSL-CM6A-LR/ssp245/r3i1p1f1/Amon/tas/gr/v20191121/netcdf-scm_tas_Amon_IPSL-CM6A-LR_ssp245_r3i1p1f1_gr_201501-210012.nc\r\n",
      "./country-crunch/netcdf-scm-crunched/CMIP6/ScenarioMIP/AWI/AWI-CM-1-1-MR/ssp245/r1i1p1f1/Amon/tas/gn/v20190529/netcdf-scm_tas_Amon_AWI-CM-1-1-MR_ssp245_r1i1p1f1_gn_201501-210012.nc\r\n",
      "./country-crunch/netcdf-scm-crunched/CMIP6/ScenarioMIP/NIMS-KMA/KACE-1-0-G/ssp245/r2i1p1f1/Amon/tas/gr/v20191217/netcdf-scm_tas_Amon_KACE-1-0-G_ssp245_r2i1p1f1_gr_201501-210012.nc\r\n",
      "./country-crunch/netcdf-scm-crunched/CMIP6/ScenarioMIP/NIMS-KMA/KACE-1-0-G/ssp245/r1i1p1f1/Amon/tas/gr/v20191217/netcdf-scm_tas_Amon_KACE-1-0-G_ssp245_r1i1p1f1_gr_201501-210012.nc\r\n",
      "./country-crunch/netcdf-scm-crunched/CMIP6/ScenarioMIP/NIMS-KMA/KACE-1-0-G/ssp245/r3i1p1f1/Amon/tas/gr/v20191217/netcdf-scm_tas_Amon_KACE-1-0-G_ssp245_r3i1p1f1_gr_201501-210012.nc\r\n",
      "./country-crunch/netcdf-scm-crunched/CMIP6/ScenarioMIP/MPI-M/MPI-ESM1-2-LR/ssp245/r2i1p1f1/Amon/tas/gn/v20190710/netcdf-scm_tas_Amon_MPI-ESM1-2-LR_ssp245_r2i1p1f1_gn_201501-210012.nc\r\n",
      "./country-crunch/netcdf-scm-crunched/CMIP6/ScenarioMIP/MPI-M/MPI-ESM1-2-LR/ssp245/r1i1p1f1/Amon/tas/gn/v20190710/netcdf-scm_tas_Amon_MPI-ESM1-2-LR_ssp245_r1i1p1f1_gn_201501-210012.nc\r\n",
      "./country-crunch/netcdf-scm-crunched/CMIP6/ScenarioMIP/MPI-M/MPI-ESM1-2-LR/ssp245/r10i1p1f1/Amon/tas/gn/v20190710/netcdf-scm_tas_Amon_MPI-ESM1-2-LR_ssp245_r10i1p1f1_gn_201501-210012.nc\r\n",
      "./country-crunch/netcdf-scm-crunched/CMIP6/ScenarioMIP/MPI-M/MPI-ESM1-2-LR/ssp245/r4i1p1f1/Amon/tas/gn/v20190710/netcdf-scm_tas_Amon_MPI-ESM1-2-LR_ssp245_r4i1p1f1_gn_201501-210012.nc\r\n",
      "./country-crunch/netcdf-scm-crunched/CMIP6/ScenarioMIP/MPI-M/MPI-ESM1-2-LR/ssp245/r3i1p1f1/Amon/tas/gn/v20190710/netcdf-scm_tas_Amon_MPI-ESM1-2-LR_ssp245_r3i1p1f1_gn_201501-210012.nc\r\n",
      "./country-crunch/netcdf-scm-crunched/CMIP6/ScenarioMIP/CSIRO/ACCESS-ESM1-5/ssp245/r2i1p1f1/Amon/tas/gn/v20191129/netcdf-scm_tas_Amon_ACCESS-ESM1-5_ssp245_r2i1p1f1_gn_201501-210012.nc\r\n",
      "./country-crunch/netcdf-scm-crunched/CMIP6/ScenarioMIP/CSIRO/ACCESS-ESM1-5/ssp245/r1i1p1f1/Amon/tas/gn/v20191115/netcdf-scm_tas_Amon_ACCESS-ESM1-5_ssp245_r1i1p1f1_gn_201501-210012.nc\r\n",
      "./country-crunch/netcdf-scm-crunched/CMIP6/ScenarioMIP/CSIRO/ACCESS-ESM1-5/ssp245/r3i1p1f1/Amon/tas/gn/v20191203/netcdf-scm_tas_Amon_ACCESS-ESM1-5_ssp245_r3i1p1f1_gn_201501-210012.nc\r\n",
      "./country-crunch/netcdf-scm-crunched/CMIP6/ScenarioMIP/DKRZ/MPI-ESM1-2-HR/ssp245/r2i1p1f1/Amon/tas/gn/v20190710/netcdf-scm_tas_Amon_MPI-ESM1-2-HR_ssp245_r2i1p1f1_gn_201501-210012.nc\r\n",
      "./country-crunch/netcdf-scm-crunched/CMIP6/ScenarioMIP/DKRZ/MPI-ESM1-2-HR/ssp245/r1i1p1f1/Amon/tas/gn/v20190710/netcdf-scm_tas_Amon_MPI-ESM1-2-HR_ssp245_r1i1p1f1_gn_201501-210012.nc\r\n",
      "./country-crunch/netcdf-scm-crunched/CMIP6/ScenarioMIP/CNRM-CERFACS/CNRM-CM6-1/ssp245/r1i1p1f2/Amon/tas/gr/v20190219/netcdf-scm_tas_Amon_CNRM-CM6-1_ssp245_r1i1p1f2_gr_201501-210012.nc\r\n",
      "./country-crunch/netcdf-scm-crunched/CMIP6/ScenarioMIP/CNRM-CERFACS/CNRM-CM6-1-HR/ssp245/r1i1p1f2/Amon/tas/gr/v20191202/netcdf-scm_tas_Amon_CNRM-CM6-1-HR_ssp245_r1i1p1f2_gr_201501-210012.nc\r\n",
      "./country-crunch/netcdf-scm-crunched/CMIP6/ScenarioMIP/CNRM-CERFACS/CNRM-ESM2-1/ssp245/r1i1p1f2/Amon/tas/gr/v20190328/netcdf-scm_tas_Amon_CNRM-ESM2-1_ssp245_r1i1p1f2_gr_201501-210012.nc\r\n",
      "./country-crunch/netcdf-scm-crunched/CMIP6/ScenarioMIP/NCAR/CESM2/ssp245/r11i1p1f1/Amon/tas/gn/v20200528/netcdf-scm_tas_Amon_CESM2_ssp245_r11i1p1f1_gn_201501-210012.nc\r\n",
      "./country-crunch/netcdf-scm-crunched/CMIP6/ScenarioMIP/NCAR/CESM2/ssp245/r2i1p1f1/Amon/tas/gn/v20191106/netcdf-scm_tas_Amon_CESM2_ssp245_r2i1p1f1_gn_201501-210012.nc\r\n",
      "./country-crunch/netcdf-scm-crunched/CMIP6/ScenarioMIP/NCAR/CESM2/ssp245/r1i1p1f1/Amon/tas/gn/v20190730/netcdf-scm_tas_Amon_CESM2_ssp245_r1i1p1f1_gn_201501-210012.nc\r\n",
      "./country-crunch/netcdf-scm-crunched/CMIP6/ScenarioMIP/NCAR/CESM2/ssp245/r10i1p1f1/Amon/tas/gn/v20200528/netcdf-scm_tas_Amon_CESM2_ssp245_r10i1p1f1_gn_201501-210012.nc\r\n",
      "./country-crunch/netcdf-scm-crunched/CMIP6/ScenarioMIP/NCAR/CESM2/ssp245/r4i1p1f1/Amon/tas/gn/v20200528/netcdf-scm_tas_Amon_CESM2_ssp245_r4i1p1f1_gn_201501-210012.nc\r\n",
      "./country-crunch/netcdf-scm-crunched/CMIP6/ScenarioMIP/NCAR/CESM2/ssp245/r3i1p1f1/Amon/tas/gn/v20191106/netcdf-scm_tas_Amon_CESM2_ssp245_r3i1p1f1_gn_201501-210012.nc\r\n",
      "./country-crunch/netcdf-scm-crunched/CMIP6/ScenarioMIP/NCAR/CESM2-WACCM/ssp245/r2i1p1f1/Amon/tas/gn/v20200224/netcdf-scm_tas_Amon_CESM2-WACCM_ssp245_r2i1p1f1_gn_201501-210012.nc\r\n",
      "./country-crunch/netcdf-scm-crunched/CMIP6/ScenarioMIP/NCAR/CESM2-WACCM/ssp245/r1i1p1f1/Amon/tas/gn/v20190815/netcdf-scm_tas_Amon_CESM2-WACCM_ssp245_r1i1p1f1_gn_201501-210012.nc\r\n",
      "./country-crunch/netcdf-scm-crunched/CMIP6/ScenarioMIP/NCAR/CESM2-WACCM/ssp245/r4i1p1f1/Amon/tas/gn/v20200206/netcdf-scm_tas_Amon_CESM2-WACCM_ssp245_r4i1p1f1_gn_201501-210012.nc\r\n",
      "./country-crunch/netcdf-scm-crunched/CMIP6/ScenarioMIP/NCAR/CESM2-WACCM/ssp245/r3i1p1f1/Amon/tas/gn/v20200206/netcdf-scm_tas_Amon_CESM2-WACCM_ssp245_r3i1p1f1_gn_201501-210012.nc\r\n",
      "./country-crunch/netcdf-scm-crunched/CMIP6/ScenarioMIP/MRI/MRI-ESM2-0/ssp245/r2i1p1f1/Amon/tas/gn/v20190308/netcdf-scm_tas_Amon_MRI-ESM2-0_ssp245_r2i1p1f1_gn_201501-203012.nc\r\n",
      "./country-crunch/netcdf-scm-crunched/CMIP6/ScenarioMIP/MRI/MRI-ESM2-0/ssp245/r1i1p1f1/Amon/tas/gn/v20190222/netcdf-scm_tas_Amon_MRI-ESM2-0_ssp245_r1i1p1f1_gn_201501-210012.nc\r\n",
      "./country-crunch/netcdf-scm-crunched/CMIP6/ScenarioMIP/MRI/MRI-ESM2-0/ssp245/r4i1p1f1/Amon/tas/gn/v20190308/netcdf-scm_tas_Amon_MRI-ESM2-0_ssp245_r4i1p1f1_gn_201501-203012.nc\r\n",
      "./country-crunch/netcdf-scm-crunched/CMIP6/ScenarioMIP/MRI/MRI-ESM2-0/ssp245/r3i1p1f1/Amon/tas/gn/v20190308/netcdf-scm_tas_Amon_MRI-ESM2-0_ssp245_r3i1p1f1_gn_201501-203012.nc\r\n",
      "./country-crunch/netcdf-scm-crunched/CMIP6/ScenarioMIP/THU/CIESM/ssp245/r1i1p1f1/Amon/tas/gr/v20200417/netcdf-scm_tas_Amon_CIESM_ssp245_r1i1p1f1_gr_201501-210012.nc\r\n",
      "./country-crunch/netcdf-scm-crunched/CMIP6/ScenarioMIP/CCCma/CanESM5/ssp245/r11i1p1f1/Amon/tas/gn/v20190429/netcdf-scm_tas_Amon_CanESM5_ssp245_r11i1p1f1_gn_201501-210012.nc\r\n",
      "./country-crunch/netcdf-scm-crunched/CMIP6/ScenarioMIP/CCCma/CanESM5/ssp245/r2i1p1f1/Amon/tas/gn/v20190429/netcdf-scm_tas_Amon_CanESM5_ssp245_r2i1p1f1_gn_201501-210012.nc\r\n",
      "./country-crunch/netcdf-scm-crunched/CMIP6/ScenarioMIP/CCCma/CanESM5/ssp245/r1i1p1f1/Amon/tas/gn/v20190429/netcdf-scm_tas_Amon_CanESM5_ssp245_r1i1p1f1_gn_201501-210012.nc\r\n",
      "./country-crunch/netcdf-scm-crunched/CMIP6/ScenarioMIP/CCCma/CanESM5/ssp245/r1i1p2f1/Amon/tas/gn/v20190429/netcdf-scm_tas_Amon_CanESM5_ssp245_r1i1p2f1_gn_201501-210012.nc\r\n",
      "./country-crunch/netcdf-scm-crunched/CMIP6/ScenarioMIP/CCCma/CanESM5/ssp245/r10i1p1f1/Amon/tas/gn/v20190429/netcdf-scm_tas_Amon_CanESM5_ssp245_r10i1p1f1_gn_201501-210012.nc\r\n",
      "./country-crunch/netcdf-scm-crunched/CMIP6/ScenarioMIP/CCCma/CanESM5/ssp245/r4i1p1f1/Amon/tas/gn/v20190429/netcdf-scm_tas_Amon_CanESM5_ssp245_r4i1p1f1_gn_201501-210012.nc\r\n",
      "./country-crunch/netcdf-scm-crunched/CMIP6/ScenarioMIP/CCCma/CanESM5/ssp245/r3i1p1f1/Amon/tas/gn/v20190429/netcdf-scm_tas_Amon_CanESM5_ssp245_r3i1p1f1_gn_201501-210012.nc\r\n",
      "./country-crunch/netcdf-scm-crunched/CMIP6/ScenarioMIP/CCCma/CanESM5-CanOE/ssp245/r1i1p2f1/Amon/tas/gn/v20190429/netcdf-scm_tas_Amon_CanESM5-CanOE_ssp245_r1i1p2f1_gn_201501-210012.nc\r\n",
      "./country-crunch/netcdf-scm-crunched/CMIP6/ScenarioMIP/NASA-GISS/GISS-E2-1-G/ssp245/r1i1p1f2/Amon/tas/gn/v20200115/netcdf-scm_tas_Amon_GISS-E2-1-G_ssp245_r1i1p1f2_gn_201501-210012.nc\r\n",
      "./country-crunch/netcdf-scm-crunched/CMIP6/ScenarioMIP/NOAA-GFDL/GFDL-CM4/ssp245/r1i1p1f1/Amon/tas/gr1/v20180701/netcdf-scm_tas_Amon_GFDL-CM4_ssp245_r1i1p1f1_gr1_201501-210012.nc\r\n",
      "./country-crunch/netcdf-scm-crunched/CMIP6/ScenarioMIP/NOAA-GFDL/GFDL-ESM4/ssp245/r3i1p1f1/Amon/tas/gr1/v20180701/netcdf-scm_tas_Amon_GFDL-ESM4_ssp245_r3i1p1f1_gr1_201501-210012.nc\r\n",
      "./country-crunch/netcdf-scm-crunched/CMIP6/ScenarioMIP/CAS/CAS-ESM2-0/ssp245/r1i1p1f1/Amon/tas/gn/v20201228/netcdf-scm_tas_Amon_CAS-ESM2-0_ssp245_r1i1p1f1_gn_201501-210012.nc\r\n",
      "./country-crunch/netcdf-scm-crunched/CMIP6/ScenarioMIP/CAS/CAS-ESM2-0/ssp245/r3i1p1f1/Amon/tas/gn/v20201228/netcdf-scm_tas_Amon_CAS-ESM2-0_ssp245_r3i1p1f1_gn_201501-210012.nc\r\n",
      "./country-crunch/netcdf-scm-crunched/CMIP6/ScenarioMIP/CAS/FGOALS-g3/ssp245/r2i1p1f1/Amon/tas/gn/v20191211/netcdf-scm_tas_Amon_FGOALS-g3_ssp245_r2i1p1f1_gn_201501-210012.nc\r\n",
      "./country-crunch/netcdf-scm-crunched/CMIP6/ScenarioMIP/CAS/FGOALS-g3/ssp245/r1i1p1f1/Amon/tas/gn/v20190818/netcdf-scm_tas_Amon_FGOALS-g3_ssp245_r1i1p1f1_gn_201501-210012.nc\r\n",
      "./country-crunch/netcdf-scm-crunched/CMIP6/ScenarioMIP/CAS/FGOALS-g3/ssp245/r4i1p1f1/Amon/tas/gn/v20191211/netcdf-scm_tas_Amon_FGOALS-g3_ssp245_r4i1p1f1_gn_201501-210012.nc\r\n",
      "./country-crunch/netcdf-scm-crunched/CMIP6/ScenarioMIP/CAS/FGOALS-g3/ssp245/r3i1p1f1/Amon/tas/gn/v20191211/netcdf-scm_tas_Amon_FGOALS-g3_ssp245_r3i1p1f1_gn_201501-210012.nc\r\n",
      "./country-crunch/netcdf-scm-crunched/CMIP6/ScenarioMIP/CAS/FGOALS-f3-L/ssp245/r1i1p1f1/Amon/tas/gr/v20191013/netcdf-scm_tas_Amon_FGOALS-f3-L_ssp245_r1i1p1f1_gr_201501-210012.nc\r\n",
      "./country-crunch/netcdf-scm-crunched/CMIP6/ScenarioMIP/CAMS/CAMS-CSM1-0/ssp245/r2i1p1f1/Amon/tas/gn/v20190924/netcdf-scm_tas_Amon_CAMS-CSM1-0_ssp245_r2i1p1f1_gn_201501-209912.nc\r\n",
      "./country-crunch/netcdf-scm-crunched/CMIP6/ScenarioMIP/CAMS/CAMS-CSM1-0/ssp245/r1i1p1f1/Amon/tas/gn/v20190708/netcdf-scm_tas_Amon_CAMS-CSM1-0_ssp245_r1i1p1f1_gn_201501-209912.nc\r\n",
      "./country-crunch/netcdf-scm-crunched/CMIP6/ScenarioMIP/AS-RCEC/TaiESM1/ssp245/r1i1p1f1/Amon/tas/gn/v20201124/netcdf-scm_tas_Amon_TaiESM1_ssp245_r1i1p1f1_gn_201501-210012.nc\r\n",
      "./country-crunch/netcdf-scm-crunched/CMIP6/ScenarioMIP/NCC/NorESM2-LM/ssp245/r2i1p1f1/Amon/tas/gn/v20191108/netcdf-scm_tas_Amon_NorESM2-LM_ssp245_r2i1p1f1_gn_201501-210012.nc\r\n",
      "./country-crunch/netcdf-scm-crunched/CMIP6/ScenarioMIP/NCC/NorESM2-LM/ssp245/r1i1p1f1/Amon/tas/gn/v20191108/netcdf-scm_tas_Amon_NorESM2-LM_ssp245_r1i1p1f1_gn_201501-210012.nc\r\n",
      "./country-crunch/netcdf-scm-crunched/CMIP6/ScenarioMIP/NCC/NorESM2-LM/ssp245/r3i1p1f1/Amon/tas/gn/v20191108/netcdf-scm_tas_Amon_NorESM2-LM_ssp245_r3i1p1f1_gn_201501-210012.nc\r\n",
      "./country-crunch/netcdf-scm-crunched/CMIP6/ScenarioMIP/NCC/NorESM2-MM/ssp245/r2i1p1f1/Amon/tas/gn/v20200702/netcdf-scm_tas_Amon_NorESM2-MM_ssp245_r2i1p1f1_gn_201501-210012.nc\r\n",
      "./country-crunch/netcdf-scm-crunched/CMIP6/ScenarioMIP/NCC/NorESM2-MM/ssp245/r1i1p1f1/Amon/tas/gn/v20191108/netcdf-scm_tas_Amon_NorESM2-MM_ssp245_r1i1p1f1_gn_201501-210012.nc\r\n",
      "./country-crunch/netcdf-scm-crunched/CMIP6/ScenarioMIP/MIROC/MIROC6/ssp245/r11i1p1f1/Amon/tas/gn/v20200623/netcdf-scm_tas_Amon_MIROC6_ssp245_r11i1p1f1_gn_201501-203912.nc\r\n",
      "./country-crunch/netcdf-scm-crunched/CMIP6/ScenarioMIP/MIROC/MIROC6/ssp245/r2i1p1f1/Amon/tas/gn/v20190627/netcdf-scm_tas_Amon_MIROC6_ssp245_r2i1p1f1_gn_201501-210012.nc\r\n",
      "./country-crunch/netcdf-scm-crunched/CMIP6/ScenarioMIP/MIROC/MIROC6/ssp245/r1i1p1f1/Amon/tas/gn/v20190627/netcdf-scm_tas_Amon_MIROC6_ssp245_r1i1p1f1_gn_201501-210012.nc\r\n",
      "./country-crunch/netcdf-scm-crunched/CMIP6/ScenarioMIP/MIROC/MIROC6/ssp245/r10i1p1f1/Amon/tas/gn/v20200623/netcdf-scm_tas_Amon_MIROC6_ssp245_r10i1p1f1_gn_201501-203912.nc\r\n",
      "./country-crunch/netcdf-scm-crunched/CMIP6/ScenarioMIP/MIROC/MIROC6/ssp245/r4i1p1f1/Amon/tas/gn/v20200623/netcdf-scm_tas_Amon_MIROC6_ssp245_r4i1p1f1_gn_201501-203912.nc\r\n",
      "./country-crunch/netcdf-scm-crunched/CMIP6/ScenarioMIP/MIROC/MIROC6/ssp245/r3i1p1f1/Amon/tas/gn/v20190627/netcdf-scm_tas_Amon_MIROC6_ssp245_r3i1p1f1_gn_201501-210012.nc\r\n",
      "./country-crunch/netcdf-scm-crunched/CMIP6/ScenarioMIP/MIROC/MIROC-ES2L/ssp245/r1i1p1f2/Amon/tas/gn/v20190823/netcdf-scm_tas_Amon_MIROC-ES2L_ssp245_r1i1p1f2_gn_201501-210012.nc\r\n"
     ]
    }
   ],
   "source": [
    "!find {CRUNCH_DIR} -name '*_ssp245_*' -type f  #| wc -l"
   ]
  }
 ],
 "metadata": {
  "kernelspec": {
   "display_name": "Python 3",
   "language": "python",
   "name": "python3"
  },
  "language_info": {
   "codemirror_mode": {
    "name": "ipython",
    "version": 3
   },
   "file_extension": ".py",
   "mimetype": "text/x-python",
   "name": "python",
   "nbconvert_exporter": "python",
   "pygments_lexer": "ipython3",
   "version": "3.8.8"
  }
 },
 "nbformat": 4,
 "nbformat_minor": 5
}
