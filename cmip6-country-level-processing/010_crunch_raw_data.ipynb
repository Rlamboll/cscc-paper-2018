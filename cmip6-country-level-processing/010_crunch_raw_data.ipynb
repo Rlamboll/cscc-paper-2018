{
 "cells": [
  {
   "cell_type": "markdown",
   "id": "governmental-detail",
   "metadata": {},
   "source": [
    "# Crunch raw CMIP6 data\n",
    "\n",
    "Here we calculate the country-means."
   ]
  },
  {
   "cell_type": "code",
   "execution_count": 1,
   "id": "vertical-demographic",
   "metadata": {
    "execution": {
     "iopub.execute_input": "2021-03-29T00:31:19.927417Z",
     "iopub.status.busy": "2021-03-29T00:31:19.926829Z",
     "iopub.status.idle": "2021-03-29T00:31:21.103845Z",
     "shell.execute_reply": "2021-03-29T00:31:21.102798Z"
    }
   },
   "outputs": [],
   "source": [
    "import netcdf_scm\n",
    "import regionmask"
   ]
  },
  {
   "cell_type": "code",
   "execution_count": 2,
   "id": "peaceful-gauge",
   "metadata": {
    "execution": {
     "iopub.execute_input": "2021-03-29T00:31:21.114368Z",
     "iopub.status.busy": "2021-03-29T00:31:21.113405Z",
     "iopub.status.idle": "2021-03-29T00:31:21.117569Z",
     "shell.execute_reply": "2021-03-29T00:31:21.118382Z"
    }
   },
   "outputs": [
    {
     "data": {
      "text/plain": [
       "'2.0.2+55.g3f073536'"
      ]
     },
     "execution_count": 2,
     "metadata": {},
     "output_type": "execute_result"
    }
   ],
   "source": [
    "netcdf_scm.__version__"
   ]
  },
  {
   "cell_type": "code",
   "execution_count": 3,
   "id": "ultimate-poetry",
   "metadata": {
    "execution": {
     "iopub.execute_input": "2021-03-29T00:31:21.122957Z",
     "iopub.status.busy": "2021-03-29T00:31:21.122168Z",
     "iopub.status.idle": "2021-03-29T00:31:21.124980Z",
     "shell.execute_reply": "2021-03-29T00:31:21.124222Z"
    }
   },
   "outputs": [],
   "source": [
    "CRUNCH_DIR = \"./country-crunch\""
   ]
  },
  {
   "cell_type": "code",
   "execution_count": 4,
   "id": "extreme-mechanism",
   "metadata": {
    "execution": {
     "iopub.execute_input": "2021-03-29T00:31:21.129534Z",
     "iopub.status.busy": "2021-03-29T00:31:21.128710Z",
     "iopub.status.idle": "2021-03-29T00:31:21.251168Z",
     "shell.execute_reply": "2021-03-29T00:31:21.251913Z"
    }
   },
   "outputs": [],
   "source": [
    "!mkdir -p {CRUNCH_DIR}"
   ]
  },
  {
   "cell_type": "code",
   "execution_count": 5,
   "id": "liable-humor",
   "metadata": {
    "execution": {
     "iopub.execute_input": "2021-03-29T00:31:21.261760Z",
     "iopub.status.busy": "2021-03-29T00:31:21.260716Z",
     "iopub.status.idle": "2021-03-29T00:31:21.264203Z",
     "shell.execute_reply": "2021-03-29T00:31:21.263350Z"
    }
   },
   "outputs": [],
   "source": [
    "too_small_regions = {\n",
    "    \"World|Natural Earth 50m|San Marino\",\n",
    "    \"World|Natural Earth 50m|Turks and Caicos Is.\",\n",
    "    \"World|Natural Earth 50m|Indian Ocean Ter.\",\n",
    "    \"World|Natural Earth 50m|Falkland Is.\",\n",
    "    \"World|Natural Earth 50m|Israel\",\n",
    "    \"World|Natural Earth 50m|Kiribati\",\n",
    "    \"World|Natural Earth 50m|Jamaica\",\n",
    "    \"World|Natural Earth 50m|Fr. S. Antarctic Lands\",\n",
    "    \"World|Natural Earth 50m|Vanuatu\",\n",
    "    \"World|Natural Earth 50m|N. Mariana Is.\",\n",
    "    \"World|Natural Earth 50m|Palau\",\n",
    "    \"World|Natural Earth 50m|Liechtenstein\",\n",
    "    \"World|Natural Earth 50m|St-Barthélemy\",\n",
    "    \"World|Natural Earth 50m|Monaco\",\n",
    "    \"World|Natural Earth 50m|Wallis and Futuna Is.\",\n",
    "    \"World|Natural Earth 50m|Puerto Rico\",\n",
    "    \"World|Natural Earth 50m|Bermuda\",\n",
    "    \"World|Natural Earth 50m|Dominica\",\n",
    "    \"World|Natural Earth 50m|Nauru\",\n",
    "    \"World|Natural Earth 50m|Isle of Man\",\n",
    "    \"World|Natural Earth 50m|Rwanda\",\n",
    "    \"World|Natural Earth 50m|Grenada\",\n",
    "    \"World|Natural Earth 50m|Seychelles\",\n",
    "    \"World|Natural Earth 50m|S. Geo. and the Is.\",\n",
    "    \"World|Natural Earth 50m|Cayman Is.\",\n",
    "    \"World|Natural Earth 50m|Sint Maarten\",\n",
    "    \"World|Natural Earth 50m|Maldives\",\n",
    "    \"World|Natural Earth 50m|Norfolk Island\",\n",
    "    \"World|Natural Earth 50m|St-Martin\",\n",
    "    \"World|Natural Earth 50m|Bahamas\",\n",
    "    \"World|Natural Earth 50m|British Virgin Is.\",\n",
    "    \"World|Natural Earth 50m|Comoros\",\n",
    "    \"World|Natural Earth 50m|St. Kitts and Nevis\",\n",
    "    \"World|Natural Earth 50m|Barbados\",\n",
    "    \"World|Natural Earth 50m|Palestine\",\n",
    "    \"World|Natural Earth 50m|American Samoa\",\n",
    "    \"World|Natural Earth 50m|St. Vin. and Gren.\",\n",
    "    \"World|Natural Earth 50m|Brunei\",\n",
    "    \"World|Natural Earth 50m|Curaçao\",\n",
    "    \"World|Natural Earth 50m|Guam\",\n",
    "    \"World|Natural Earth 50m|St. Pierre and Miquelon\",\n",
    "    \"World|Natural Earth 50m|Jersey\",\n",
    "    \"World|Natural Earth 50m|Macao\",\n",
    "    \"World|Natural Earth 50m|Saint Lucia\",\n",
    "    \"World|Natural Earth 50m|Cook Is.\",\n",
    "    \"World|Natural Earth 50m|Fr. Polynesia\",\n",
    "    \"World|Natural Earth 50m|Faeroe Is.\",\n",
    "    \"World|Natural Earth 50m|Luxembourg\",\n",
    "    \"World|Natural Earth 50m|Saint Helena\",\n",
    "    \"World|Natural Earth 50m|Åland\",\n",
    "    \"World|Natural Earth 50m|Niue\",\n",
    "    \"World|Natural Earth 50m|Pitcairn Is.\",\n",
    "    \"World|Natural Earth 50m|Br. Indian Ocean Ter.\",\n",
    "    \"World|Natural Earth 50m|Vatican\",\n",
    "    \"World|Natural Earth 50m|Heard I. and McDonald Is.\",\n",
    "    \"World|Natural Earth 50m|Albania\",\n",
    "    \"World|Natural Earth 50m|Malta\",\n",
    "    \"World|Natural Earth 50m|N. Cyprus\",\n",
    "    \"World|Natural Earth 50m|Ashmore and Cartier Is.\",\n",
    "    \"World|Natural Earth 50m|Trinidad and Tobago\",\n",
    "    \"World|Natural Earth 50m|Marshall Is.\",\n",
    "    \"World|Natural Earth 50m|Belize\",\n",
    "    \"World|Natural Earth 50m|U.S. Virgin Is.\",\n",
    "    \"World|Natural Earth 50m|Antigua and Barb.\",\n",
    "    \"World|Natural Earth 50m|Kuwait\",\n",
    "    \"World|Natural Earth 50m|Siachen Glacier\",\n",
    "    \"World|Natural Earth 50m|Andorra\",\n",
    "    \"World|Natural Earth 50m|Singapore\",\n",
    "    \"World|Natural Earth 50m|Micronesia\",\n",
    "    \"World|Natural Earth 50m|Bahrain\",\n",
    "    \"World|Natural Earth 50m|Togo\",\n",
    "    \"World|Natural Earth 50m|Hong Kong\",\n",
    "    \"World|Natural Earth 50m|Anguilla\",\n",
    "    \"World|Natural Earth 50m|Mauritius\",\n",
    "    \"World|Natural Earth 50m|Aruba\",\n",
    "    \"World|Natural Earth 50m|São Tomé and Principe\",\n",
    "    \"World|Natural Earth 50m|Solomon Is.\",\n",
    "    \"World|Natural Earth 50m|Qatar\",\n",
    "    \"World|Natural Earth 50m|Tonga\",\n",
    "    \"World|Natural Earth 50m|Guernsey\",\n",
    "    \"World|Natural Earth 50m|Montserrat\",\n",
    "    \"World|Natural Earth 50m|Haiti\",\n",
    "}"
   ]
  },
  {
   "cell_type": "code",
   "execution_count": 6,
   "id": "conventional-offering",
   "metadata": {
    "execution": {
     "iopub.execute_input": "2021-03-29T00:31:21.269983Z",
     "iopub.status.busy": "2021-03-29T00:31:21.269182Z",
     "iopub.status.idle": "2021-03-29T00:31:21.501576Z",
     "shell.execute_reply": "2021-03-29T00:31:21.501049Z"
    }
   },
   "outputs": [
    {
     "data": {
      "text/plain": [
       "160"
      ]
     },
     "metadata": {},
     "output_type": "display_data"
    }
   ],
   "source": [
    "regions = (\n",
    "    set(\n",
    "        [\n",
    "            \"World|Natural Earth 50m|{}\".format(c)\n",
    "            for c in regionmask.defined_regions.natural_earth.countries_50.names\n",
    "        ]\n",
    "        + [\"World\"]\n",
    "    )\n",
    "    - too_small_regions\n",
    ")\n",
    "display(len(regions))\n",
    "regions = \",\".join(regions)\n",
    "# regions"
   ]
  },
  {
   "cell_type": "code",
   "execution_count": 11,
   "id": "developmental-surface",
   "metadata": {
    "execution": {
     "iopub.execute_input": "2021-03-29T00:31:21.828486Z",
     "iopub.status.busy": "2021-03-29T00:31:21.821600Z",
     "iopub.status.idle": "2021-03-29T01:12:55.128212Z",
     "shell.execute_reply": "2021-03-29T01:12:55.127435Z"
    }
   },
   "outputs": [
    {
     "name": "stdout",
     "output_type": "stream",
     "text": [
      "68509 2021-03-29 07:04:05,354 \u001b[32mINFO\u001b[0m:netcdf_scm:netcdf-scm: 2.0.2+55.g3f073536\n",
      "68509 2021-03-29 07:04:05,355 \u001b[32mINFO\u001b[0m:netcdf_scm:crunch-contact: Zebedee Nicholls <zebedee.nicholls@climate-energy-college.org>\n",
      "68509 2021-03-29 07:04:05,355 \u001b[32mINFO\u001b[0m:netcdf_scm:source: /data/cmip6/CMIP6\n",
      "68509 2021-03-29 07:04:05,355 \u001b[32mINFO\u001b[0m:netcdf_scm:destination: /data/ubuntu-znicholls/cscc-paper-2018/cmip6-country-level-processing/country-crunch/netcdf-scm-crunched\n",
      "68509 2021-03-29 07:04:05,355 \u001b[32mINFO\u001b[0m:netcdf_scm:drs: CMIP6Output\n",
      "68509 2021-03-29 07:04:05,355 \u001b[32mINFO\u001b[0m:netcdf_scm:regexp: .*(CMIP|ScenarioMIP).*TaiESM1.*(/ssp|/historical/|/piControl/).*(r1i1p1f1|r2i1p1f1|r1i1p1f2|r1i1p2f1|r1i1p1f3).*Amon.*/tas/.*\n",
      "68509 2021-03-29 07:04:05,355 \u001b[32mINFO\u001b[0m:netcdf_scm:regions: World|Natural Earth 50m|Angola,World|Natural Earth 50m|Bulgaria,World|Natural Earth 50m|Mongolia,World|Natural Earth 50m|Lebanon,World|Natural Earth 50m|Turkey,World|Natural Earth 50m|Burundi,World|Natural Earth 50m|Mozambique,World|Natural Earth 50m|Uzbekistan,World|Natural Earth 50m|Zimbabwe,World|Natural Earth 50m|Belarus,World|Natural Earth 50m|Bolivia,World|Natural Earth 50m|Philippines,World|Natural Earth 50m|China,World|Natural Earth 50m|Argentina,World|Natural Earth 50m|Paraguay,World|Natural Earth 50m|Ireland,World|Natural Earth 50m|Switzerland,World|Natural Earth 50m|Croatia,World|Natural Earth 50m|Cameroon,World,World|Natural Earth 50m|Romania,World|Natural Earth 50m|United States of America,World|Natural Earth 50m|Kenya,World|Natural Earth 50m|Tanzania,World|Natural Earth 50m|Namibia,World|Natural Earth 50m|Georgia,World|Natural Earth 50m|Burkina Faso,World|Natural Earth 50m|Oman,World|Natural Earth 50m|Egypt,World|Natural Earth 50m|Costa Rica,World|Natural Earth 50m|Panama,World|Natural Earth 50m|Uruguay,World|Natural Earth 50m|Nepal,World|Natural Earth 50m|Suriname,World|Natural Earth 50m|Saudi Arabia,World|Natural Earth 50m|Lithuania,World|Natural Earth 50m|Macedonia,World|Natural Earth 50m|Dominican Rep.,World|Natural Earth 50m|Dem. Rep. Congo,World|Natural Earth 50m|S. Sudan,World|Natural Earth 50m|Kyrgyzstan,World|Natural Earth 50m|Niger,World|Natural Earth 50m|Eritrea,World|Natural Earth 50m|Djibouti,World|Natural Earth 50m|France,World|Natural Earth 50m|Greenland,World|Natural Earth 50m|Spain,World|Natural Earth 50m|Montenegro,World|Natural Earth 50m|Venezuela,World|Natural Earth 50m|Ethiopia,World|Natural Earth 50m|Iceland,World|Natural Earth 50m|Finland,World|Natural Earth 50m|Libya,World|Natural Earth 50m|Uganda,World|Natural Earth 50m|Algeria,World|Natural Earth 50m|Malaysia,World|Natural Earth 50m|United Arab Emirates,World|Natural Earth 50m|Sweden,World|Natural Earth 50m|Malawi,World|Natural Earth 50m|Iran,World|Natural Earth 50m|Indonesia,World|Natural Earth 50m|Cabo Verde,World|Natural Earth 50m|Slovenia,World|Natural Earth 50m|Guinea-Bissau,World|Natural Earth 50m|Armenia,World|Natural Earth 50m|Kosovo,World|Natural Earth 50m|Laos,World|Natural Earth 50m|South Africa,World|Natural Earth 50m|Sudan,World|Natural Earth 50m|Thailand,World|Natural Earth 50m|Tunisia,World|Natural Earth 50m|India,World|Natural Earth 50m|Estonia,World|Natural Earth 50m|Vietnam,World|Natural Earth 50m|Russia,World|Natural Earth 50m|Madagascar,World|Natural Earth 50m|Syria,World|Natural Earth 50m|Norway,World|Natural Earth 50m|W. Sahara,World|Natural Earth 50m|Mexico,World|Natural Earth 50m|Greece,World|Natural Earth 50m|Côte d'Ivoire,World|Natural Earth 50m|Germany,World|Natural Earth 50m|Japan,World|Natural Earth 50m|Somaliland,World|Natural Earth 50m|Italy,World|Natural Earth 50m|Australia,World|Natural Earth 50m|Zambia,World|Natural Earth 50m|Honduras,World|Natural Earth 50m|Jordan,World|Natural Earth 50m|Cyprus,World|Natural Earth 50m|Guinea,World|Natural Earth 50m|Antarctica,World|Natural Earth 50m|Tajikistan,World|Natural Earth 50m|Nigeria,World|Natural Earth 50m|Senegal,World|Natural Earth 50m|Sri Lanka,World|Natural Earth 50m|Congo,World|Natural Earth 50m|North Korea,World|Natural Earth 50m|Austria,World|Natural Earth 50m|Chile,World|Natural Earth 50m|Netherlands,World|Natural Earth 50m|Taiwan,World|Natural Earth 50m|Samoa,World|Natural Earth 50m|Denmark,World|Natural Earth 50m|Portugal,World|Natural Earth 50m|Bosnia and Herz.,World|Natural Earth 50m|Chad,World|Natural Earth 50m|eSwatini,World|Natural Earth 50m|Benin,World|Natural Earth 50m|Timor-Leste,World|Natural Earth 50m|Turkmenistan,World|Natural Earth 50m|Slovakia,World|Natural Earth 50m|Peru,World|Natural Earth 50m|Ecuador,World|Natural Earth 50m|Ukraine,World|Natural Earth 50m|Fiji,World|Natural Earth 50m|United Kingdom,World|Natural Earth 50m|New Zealand,World|Natural Earth 50m|Hungary,World|Natural Earth 50m|Gambia,World|Natural Earth 50m|New Caledonia,World|Natural Earth 50m|Ghana,World|Natural Earth 50m|Serbia,World|Natural Earth 50m|Central African Rep.,World|Natural Earth 50m|Nicaragua,World|Natural Earth 50m|Canada,World|Natural Earth 50m|Lesotho,World|Natural Earth 50m|Colombia,World|Natural Earth 50m|South Korea,World|Natural Earth 50m|Myanmar,World|Natural Earth 50m|Guatemala,World|Natural Earth 50m|Cuba,World|Natural Earth 50m|Yemen,World|Natural Earth 50m|Mali,World|Natural Earth 50m|Papua New Guinea,World|Natural Earth 50m|Somalia,World|Natural Earth 50m|Czechia,World|Natural Earth 50m|Moldova,World|Natural Earth 50m|Morocco,World|Natural Earth 50m|Poland,World|Natural Earth 50m|Bhutan,World|Natural Earth 50m|Pakistan,World|Natural Earth 50m|Sierra Leone,World|Natural Earth 50m|Guyana,World|Natural Earth 50m|Afghanistan,World|Natural Earth 50m|Liberia,World|Natural Earth 50m|Kazakhstan,World|Natural Earth 50m|Eq. Guinea,World|Natural Earth 50m|Brazil,World|Natural Earth 50m|El Salvador,World|Natural Earth 50m|Mauritania,World|Natural Earth 50m|Gabon,World|Natural Earth 50m|Botswana,World|Natural Earth 50m|Bangladesh,World|Natural Earth 50m|Cambodia,World|Natural Earth 50m|Azerbaijan,World|Natural Earth 50m|Iraq,World|Natural Earth 50m|Belgium,World|Natural Earth 50m|Latvia\n",
      "68509 2021-03-29 07:04:05,355 \u001b[32mINFO\u001b[0m:netcdf_scm:force: False\n",
      "68509 2021-03-29 07:04:05,355 \u001b[32mINFO\u001b[0m:netcdf_scm:small_number_workers: 60\n",
      "68509 2021-03-29 07:04:05,355 \u001b[32mINFO\u001b[0m:netcdf_scm:small_threshold: 100.0\n",
      "68509 2021-03-29 07:04:05,355 \u001b[32mINFO\u001b[0m:netcdf_scm:medium_number_workers: 20\n",
      "68509 2021-03-29 07:04:05,355 \u001b[32mINFO\u001b[0m:netcdf_scm:medium_threshold: 400.0\n",
      "68509 2021-03-29 07:04:05,355 \u001b[32mINFO\u001b[0m:netcdf_scm:force_lazy_threshold: 1000.0\n",
      "68509 2021-03-29 07:04:05,355 \u001b[32mINFO\u001b[0m:netcdf_scm:cell_weights: None\n",
      "68509 2021-03-29 07:04:05,365 \u001b[32mINFO\u001b[0m:netcdf_scm.output:Read in 495 items from database netcdf-scm_crunched.jsonl\n",
      "68509 2021-03-29 07:04:05,366 \u001b[32mINFO\u001b[0m:netcdf_scm:Finding directories with files\n",
      "Walking through directories and applying `check_func`: 0.00it [00:00, ?it/s]68509 2021-03-29 07:04:07,199 \u001b[32mINFO\u001b[0m:netcdf_scm.crunching:Adding directory to queue /data/cmip6/CMIP6/CMIP/AS-RCEC/TaiESM1/piControl/r1i1p1f1/Amon/tas/gn/v20200211\n",
      "68509 2021-03-29 07:04:07,203 \u001b[32mINFO\u001b[0m:netcdf_scm.crunching:Adding directory to queue /data/cmip6/CMIP6/CMIP/AS-RCEC/TaiESM1/historical/r1i1p1f1/Amon/tas/gn/v20200623\n",
      "68509 2021-03-29 07:04:07,203 \u001b[32mINFO\u001b[0m:netcdf_scm.crunching:Adding directory to queue /data/cmip6/CMIP6/CMIP/AS-RCEC/TaiESM1/historical/r1i1p1f1/Amon/tas/gn/v20200218\n",
      "68509 2021-03-29 07:04:09,816 \u001b[32mINFO\u001b[0m:netcdf_scm.crunching:Adding directory to queue /data/cmip6/CMIP6/ScenarioMIP/AS-RCEC/TaiESM1/ssp370/r1i1p1f1/Amon/tas/gn/v20201014\n",
      "68509 2021-03-29 07:04:09,818 \u001b[32mINFO\u001b[0m:netcdf_scm.crunching:Adding directory to queue /data/cmip6/CMIP6/ScenarioMIP/AS-RCEC/TaiESM1/ssp585/r1i1p1f1/Amon/tas/gn/v20200901\n",
      "68509 2021-03-29 07:04:09,819 \u001b[32mINFO\u001b[0m:netcdf_scm.crunching:Adding directory to queue /data/cmip6/CMIP6/ScenarioMIP/AS-RCEC/TaiESM1/ssp126/r1i1p1f1/Amon/tas/gn/v20201124\n",
      "68509 2021-03-29 07:04:09,819 \u001b[32mINFO\u001b[0m:netcdf_scm.crunching:Adding directory to queue /data/cmip6/CMIP6/ScenarioMIP/AS-RCEC/TaiESM1/ssp245/r1i1p1f1/Amon/tas/gn/v20201124\n",
      "Walking through directories and applying `check_func`: 202kit [00:05, 34.6kit/s]\n",
      "68509 2021-03-29 07:04:11,201 \u001b[32mINFO\u001b[0m:netcdf_scm:Found 7 directories with files\n",
      "68509 2021-03-29 07:04:11,202 \u001b[32mINFO\u001b[0m:netcdf_scm.crunching:Calculating number of points in each directory\n",
      "68509 2021-03-29 07:04:11,202 \u001b[32mINFO\u001b[0m:netcdf_scm.cli_parallel:Processing in parallel with 60 workers\n",
      "68509 2021-03-29 07:04:11,202 \u001b[32mINFO\u001b[0m:netcdf_scm.cli_parallel:Forcing dask to use a single thread when reading\n"
     ]
    },
    {
     "name": "stdout",
     "output_type": "stream",
     "text": [
      "100%|████████████████████████████████████████| 7.00/7.00 [00:00<00:00, 33.0it/s]\n",
      "Sorting directories: 100%|████████████████████| 7/7 [00:00<00:00, 114241.74it/s]\n",
      "68509 2021-03-29 07:04:11,852 \u001b[32mINFO\u001b[0m:netcdf_scm.crunching:Crunching 4 directories with less than 100.0 million data points\n",
      "68509 2021-03-29 07:04:11,852 \u001b[32mINFO\u001b[0m:netcdf_scm.cli_parallel:Processing in parallel with 60 workers\n",
      "68509 2021-03-29 07:04:11,852 \u001b[32mINFO\u001b[0m:netcdf_scm.cli_parallel:Forcing dask to use a single thread when reading\n",
      "  0%|                                               | 0.00/4.00 [00:00<?, ?it/s]68658 2021-03-29 07:04:12,229 \u001b[32mINFO\u001b[0m:netcdf_scm.crunching:Attempting to process: ['tas_Amon_TaiESM1_ssp370_r1i1p1f1_gn_201501-210012.nc']\n",
      "68659 2021-03-29 07:04:12,239 \u001b[32mINFO\u001b[0m:netcdf_scm.crunching:Attempting to process: ['tas_Amon_TaiESM1_ssp585_r1i1p1f1_gn_201501-210012.nc']\n",
      "68660 2021-03-29 07:04:12,246 \u001b[32mINFO\u001b[0m:netcdf_scm.crunching:Attempting to process: ['tas_Amon_TaiESM1_ssp245_r1i1p1f1_gn_201501-210012.nc']\n",
      "68661 2021-03-29 07:04:12,264 \u001b[32mINFO\u001b[0m:netcdf_scm.crunching:Attempting to process: ['tas_Amon_TaiESM1_ssp126_r1i1p1f1_gn_201501-210012.nc']\n",
      "68658 2021-03-29 07:04:12,300 \u001b[32mINFO\u001b[0m:netcdf_scm:Making output directory: /data/ubuntu-znicholls/cscc-paper-2018/cmip6-country-level-processing/country-crunch/netcdf-scm-crunched/CMIP6/ScenarioMIP/AS-RCEC/TaiESM1/ssp370/r1i1p1f1/Amon/tas/gn/v20201014\n",
      "68658 2021-03-29 07:04:12,302 \u001b[32mINFO\u001b[0m:netcdf_scm.crunching:Determining valid regions\n",
      "68660 2021-03-29 07:04:12,305 \u001b[32mINFO\u001b[0m:netcdf_scm:Making output directory: /data/ubuntu-znicholls/cscc-paper-2018/cmip6-country-level-processing/country-crunch/netcdf-scm-crunched/CMIP6/ScenarioMIP/AS-RCEC/TaiESM1/ssp245/r1i1p1f1/Amon/tas/gn/v20201124\n",
      "68660 2021-03-29 07:04:12,306 \u001b[32mINFO\u001b[0m:netcdf_scm.crunching:Determining valid regions\n",
      "68659 2021-03-29 07:04:12,312 \u001b[32mINFO\u001b[0m:netcdf_scm.crunching:Skipped (already exists, not overwriting) /data/ubuntu-znicholls/cscc-paper-2018/cmip6-country-level-processing/country-crunch/netcdf-scm-crunched/CMIP6/ScenarioMIP/AS-RCEC/TaiESM1/ssp585/r1i1p1f1/Amon/tas/gn/v20200901/netcdf-scm_tas_Amon_TaiESM1_ssp585_r1i1p1f1_gn_201501-210012.nc\n",
      " 25%|██████████                              | 1.00/4.00 [00:00<00:00, 8.63it/s]68661 2021-03-29 07:04:12,335 \u001b[32mINFO\u001b[0m:netcdf_scm:Making output directory: /data/ubuntu-znicholls/cscc-paper-2018/cmip6-country-level-processing/country-crunch/netcdf-scm-crunched/CMIP6/ScenarioMIP/AS-RCEC/TaiESM1/ssp126/r1i1p1f1/Amon/tas/gn/v20201124\n",
      "68661 2021-03-29 07:04:12,335 \u001b[32mINFO\u001b[0m:netcdf_scm.crunching:Determining valid regions\n",
      "68658 2021-03-29 07:04:12,412 \u001b[33mWARNING\u001b[0m:netcdf_scm.iris_cube_wrappers:Couldn't find/use areacell_cube, falling back to iris.analysis.cartography.area_weights\n",
      "68660 2021-03-29 07:04:12,413 \u001b[33mWARNING\u001b[0m:netcdf_scm.iris_cube_wrappers:Couldn't find/use areacell_cube, falling back to iris.analysis.cartography.area_weights\n",
      "68661 2021-03-29 07:04:12,440 \u001b[33mWARNING\u001b[0m:netcdf_scm.iris_cube_wrappers:Couldn't find/use areacell_cube, falling back to iris.analysis.cartography.area_weights\n",
      "68658 2021-03-29 07:04:15,653 \u001b[33mWARNING\u001b[0m:netcdf_scm.weights:Failed to create 'World|Natural Earth 50m|Cabo Verde' weights: All weights are zero for region: `World|Natural Earth 50m|Cabo Verde`\n",
      "68661 2021-03-29 07:04:15,712 \u001b[33mWARNING\u001b[0m:netcdf_scm.weights:Failed to create 'World|Natural Earth 50m|Cabo Verde' weights: All weights are zero for region: `World|Natural Earth 50m|Cabo Verde`\n",
      "68660 2021-03-29 07:04:15,780 \u001b[33mWARNING\u001b[0m:netcdf_scm.weights:Failed to create 'World|Natural Earth 50m|Cabo Verde' weights: All weights are zero for region: `World|Natural Earth 50m|Cabo Verde`\n",
      "68658 2021-03-29 07:04:17,230 \u001b[33mWARNING\u001b[0m:netcdf_scm.weights:Failed to create 'World|Natural Earth 50m|Cyprus' weights: All weights are zero for region: `World|Natural Earth 50m|Cyprus`\n",
      "68661 2021-03-29 07:04:17,289 \u001b[33mWARNING\u001b[0m:netcdf_scm.weights:Failed to create 'World|Natural Earth 50m|Cyprus' weights: All weights are zero for region: `World|Natural Earth 50m|Cyprus`\n",
      "68660 2021-03-29 07:04:17,392 \u001b[33mWARNING\u001b[0m:netcdf_scm.weights:Failed to create 'World|Natural Earth 50m|Cyprus' weights: All weights are zero for region: `World|Natural Earth 50m|Cyprus`\n",
      "68660 2021-03-29 07:04:21,022 \u001b[33mWARNING\u001b[0m:netcdf_scm.crunching:Weights could not be calculated for some regions, they will not appear in the output. Invalid regions: {'World|Natural Earth 50m|Cabo Verde', 'World|Natural Earth 50m|Cyprus'}\n",
      "68658 2021-03-29 07:04:21,082 \u001b[33mWARNING\u001b[0m:netcdf_scm.crunching:Weights could not be calculated for some regions, they will not appear in the output. Invalid regions: {'World|Natural Earth 50m|Cabo Verde', 'World|Natural Earth 50m|Cyprus'}\n",
      "68661 2021-03-29 07:04:21,176 \u001b[33mWARNING\u001b[0m:netcdf_scm.crunching:Weights could not be calculated for some regions, they will not appear in the output. Invalid regions: {'World|Natural Earth 50m|Cabo Verde', 'World|Natural Earth 50m|Cyprus'}\n",
      "68660 2021-03-29 07:05:37,131 \u001b[33mWARNING\u001b[0m:netcdf_scm.iris_cube_wrappers:Not calculating land fractions as all required cubes are not available\n",
      "68509 2021-03-29 07:05:37,913 \u001b[32mINFO\u001b[0m:netcdf_scm.crunching:Registering /data/ubuntu-znicholls/cscc-paper-2018/cmip6-country-level-processing/country-crunch/netcdf-scm-crunched/CMIP6/ScenarioMIP/AS-RCEC/TaiESM1/ssp245/r1i1p1f1/Amon/tas/gn/v20201124/netcdf-scm_tas_Amon_TaiESM1_ssp245_r1i1p1f1_gn_201501-210012.nc\n",
      "68509 2021-03-29 07:05:37,914 \u001b[32mINFO\u001b[0m:netcdf_scm.crunching:Writing file to /data/ubuntu-znicholls/cscc-paper-2018/cmip6-country-level-processing/country-crunch/netcdf-scm-crunched/CMIP6/ScenarioMIP/AS-RCEC/TaiESM1/ssp245/r1i1p1f1/Amon/tas/gn/v20201124/netcdf-scm_tas_Amon_TaiESM1_ssp245_r1i1p1f1_gn_201501-210012.nc\n",
      "68658 2021-03-29 07:05:38,363 \u001b[33mWARNING\u001b[0m:netcdf_scm.iris_cube_wrappers:Not calculating land fractions as all required cubes are not available\n",
      "68661 2021-03-29 07:05:42,219 \u001b[33mWARNING\u001b[0m:netcdf_scm.iris_cube_wrappers:Not calculating land fractions as all required cubes are not available\n",
      " 50%|████████████████████                    | 2.00/4.00 [01:36<01:53, 56.9s/it]68509 2021-03-29 07:05:48,936 \u001b[32mINFO\u001b[0m:netcdf_scm.crunching:Registering /data/ubuntu-znicholls/cscc-paper-2018/cmip6-country-level-processing/country-crunch/netcdf-scm-crunched/CMIP6/ScenarioMIP/AS-RCEC/TaiESM1/ssp370/r1i1p1f1/Amon/tas/gn/v20201014/netcdf-scm_tas_Amon_TaiESM1_ssp370_r1i1p1f1_gn_201501-210012.nc\n",
      "68509 2021-03-29 07:05:48,936 \u001b[32mINFO\u001b[0m:netcdf_scm.crunching:Writing file to /data/ubuntu-znicholls/cscc-paper-2018/cmip6-country-level-processing/country-crunch/netcdf-scm-crunched/CMIP6/ScenarioMIP/AS-RCEC/TaiESM1/ssp370/r1i1p1f1/Amon/tas/gn/v20201014/netcdf-scm_tas_Amon_TaiESM1_ssp370_r1i1p1f1_gn_201501-210012.nc\n",
      " 75%|██████████████████████████████          | 3.00/4.00 [01:46<00:35, 35.4s/it]68509 2021-03-29 07:05:58,730 \u001b[32mINFO\u001b[0m:netcdf_scm.crunching:Registering /data/ubuntu-znicholls/cscc-paper-2018/cmip6-country-level-processing/country-crunch/netcdf-scm-crunched/CMIP6/ScenarioMIP/AS-RCEC/TaiESM1/ssp126/r1i1p1f1/Amon/tas/gn/v20201124/netcdf-scm_tas_Amon_TaiESM1_ssp126_r1i1p1f1_gn_201501-210012.nc\n",
      "68509 2021-03-29 07:05:58,731 \u001b[32mINFO\u001b[0m:netcdf_scm.crunching:Writing file to /data/ubuntu-znicholls/cscc-paper-2018/cmip6-country-level-processing/country-crunch/netcdf-scm-crunched/CMIP6/ScenarioMIP/AS-RCEC/TaiESM1/ssp126/r1i1p1f1/Amon/tas/gn/v20201124/netcdf-scm_tas_Amon_TaiESM1_ssp126_r1i1p1f1_gn_201501-210012.nc\n",
      "100%|████████████████████████████████████████| 4.00/4.00 [01:56<00:00, 29.1s/it]\n",
      "68509 2021-03-29 07:06:08,769 \u001b[32mINFO\u001b[0m:netcdf_scm.crunching:Crunching 3 directories with greater than or equal to 100.0 and less than 400.0 million data points\n",
      "68509 2021-03-29 07:06:08,769 \u001b[32mINFO\u001b[0m:netcdf_scm.cli_parallel:Processing in parallel with 20 workers\n",
      "68509 2021-03-29 07:06:08,769 \u001b[32mINFO\u001b[0m:netcdf_scm.cli_parallel:Forcing dask to use a single thread when reading\n",
      "  0%|                                               | 0.00/3.00 [00:00<?, ?it/s]68747 2021-03-29 07:06:08,941 \u001b[32mINFO\u001b[0m:netcdf_scm.crunching:Attempting to process: ['tas_Amon_TaiESM1_historical_r1i1p1f1_gn_185001-201412.nc']\n",
      "68748 2021-03-29 07:06:08,953 \u001b[32mINFO\u001b[0m:netcdf_scm.crunching:Attempting to process: ['tas_Amon_TaiESM1_historical_r1i1p1f1_gn_185001-201412.nc']\n"
     ]
    },
    {
     "name": "stdout",
     "output_type": "stream",
     "text": [
      "68749 2021-03-29 07:06:08,962 \u001b[32mINFO\u001b[0m:netcdf_scm.crunching:Attempting to process: ['tas_Amon_TaiESM1_piControl_r1i1p1f1_gn_030101-040012.nc', 'tas_Amon_TaiESM1_piControl_r1i1p1f1_gn_060101-070012.nc', 'tas_Amon_TaiESM1_piControl_r1i1p1f1_gn_050101-060012.nc', 'tas_Amon_TaiESM1_piControl_r1i1p1f1_gn_040101-050012.nc', 'tas_Amon_TaiESM1_piControl_r1i1p1f1_gn_020101-030012.nc']\n",
      "68747 2021-03-29 07:06:09,041 \u001b[32mINFO\u001b[0m:netcdf_scm.crunching:Skipped (already exists, not overwriting) /data/ubuntu-znicholls/cscc-paper-2018/cmip6-country-level-processing/country-crunch/netcdf-scm-crunched/CMIP6/CMIP/AS-RCEC/TaiESM1/historical/r1i1p1f1/Amon/tas/gn/v20200218/netcdf-scm_tas_Amon_TaiESM1_historical_r1i1p1f1_gn_185001-201412.nc\n",
      " 33%|█████████████▎                          | 1.00/3.00 [00:00<00:00, 7.54it/s]68748 2021-03-29 07:06:09,053 \u001b[32mINFO\u001b[0m:netcdf_scm.crunching:Skipped (already exists, not overwriting) /data/ubuntu-znicholls/cscc-paper-2018/cmip6-country-level-processing/country-crunch/netcdf-scm-crunched/CMIP6/CMIP/AS-RCEC/TaiESM1/historical/r1i1p1f1/Amon/tas/gn/v20200623/netcdf-scm_tas_Amon_TaiESM1_historical_r1i1p1f1_gn_185001-201412.nc\n",
      "68749 2021-03-29 07:06:09,173 \u001b[32mINFO\u001b[0m:netcdf_scm.crunching:Skipped (already exists, not overwriting) /data/ubuntu-znicholls/cscc-paper-2018/cmip6-country-level-processing/country-crunch/netcdf-scm-crunched/CMIP6/CMIP/AS-RCEC/TaiESM1/piControl/r1i1p1f1/Amon/tas/gn/v20200211/netcdf-scm_tas_Amon_TaiESM1_piControl_r1i1p1f1_gn_020101-070012.nc\n",
      "100%|████████████████████████████████████████| 3.00/3.00 [00:00<00:00, 11.3it/s]\n",
      "68509 2021-03-29 07:06:09,208 \u001b[32mINFO\u001b[0m:netcdf_scm.crunching:Crunching 0 directories with greater than or equal to 400.0 million data points\n"
     ]
    }
   ],
   "source": [
    "!netcdf-scm crunch \\\n",
    "    /data/cmip6/CMIP6 \\\n",
    "    {CRUNCH_DIR} \\\n",
    "    \"Zebedee Nicholls <zebedee.nicholls@climate-energy-college.org>\" \\\n",
    "    --drs \"CMIP6Output\" \\\n",
    "    --regexp \".*(CMIP|ScenarioMIP).*TaiESM1.*(/ssp|/historical/|/piControl/).*(r1i1p1f1|r2i1p1f1|r1i1p1f2|r1i1p2f1|r1i1p1f3).*Amon.*/tas/.*\" \\\n",
    "    --regions \"World|Natural Earth 50m|Angola,World|Natural Earth 50m|Bulgaria,World|Natural Earth 50m|Mongolia,World|Natural Earth 50m|Lebanon,World|Natural Earth 50m|Turkey,World|Natural Earth 50m|Burundi,World|Natural Earth 50m|Mozambique,World|Natural Earth 50m|Uzbekistan,World|Natural Earth 50m|Zimbabwe,World|Natural Earth 50m|Belarus,World|Natural Earth 50m|Bolivia,World|Natural Earth 50m|Philippines,World|Natural Earth 50m|China,World|Natural Earth 50m|Argentina,World|Natural Earth 50m|Paraguay,World|Natural Earth 50m|Ireland,World|Natural Earth 50m|Switzerland,World|Natural Earth 50m|Croatia,World|Natural Earth 50m|Cameroon,World,World|Natural Earth 50m|Romania,World|Natural Earth 50m|United States of America,World|Natural Earth 50m|Kenya,World|Natural Earth 50m|Tanzania,World|Natural Earth 50m|Namibia,World|Natural Earth 50m|Georgia,World|Natural Earth 50m|Burkina Faso,World|Natural Earth 50m|Oman,World|Natural Earth 50m|Egypt,World|Natural Earth 50m|Costa Rica,World|Natural Earth 50m|Panama,World|Natural Earth 50m|Uruguay,World|Natural Earth 50m|Nepal,World|Natural Earth 50m|Suriname,World|Natural Earth 50m|Saudi Arabia,World|Natural Earth 50m|Lithuania,World|Natural Earth 50m|Macedonia,World|Natural Earth 50m|Dominican Rep.,World|Natural Earth 50m|Dem. Rep. Congo,World|Natural Earth 50m|S. Sudan,World|Natural Earth 50m|Kyrgyzstan,World|Natural Earth 50m|Niger,World|Natural Earth 50m|Eritrea,World|Natural Earth 50m|Djibouti,World|Natural Earth 50m|France,World|Natural Earth 50m|Greenland,World|Natural Earth 50m|Spain,World|Natural Earth 50m|Montenegro,World|Natural Earth 50m|Venezuela,World|Natural Earth 50m|Ethiopia,World|Natural Earth 50m|Iceland,World|Natural Earth 50m|Finland,World|Natural Earth 50m|Libya,World|Natural Earth 50m|Uganda,World|Natural Earth 50m|Algeria,World|Natural Earth 50m|Malaysia,World|Natural Earth 50m|United Arab Emirates,World|Natural Earth 50m|Sweden,World|Natural Earth 50m|Malawi,World|Natural Earth 50m|Iran,World|Natural Earth 50m|Indonesia,World|Natural Earth 50m|Cabo Verde,World|Natural Earth 50m|Slovenia,World|Natural Earth 50m|Guinea-Bissau,World|Natural Earth 50m|Armenia,World|Natural Earth 50m|Kosovo,World|Natural Earth 50m|Laos,World|Natural Earth 50m|South Africa,World|Natural Earth 50m|Sudan,World|Natural Earth 50m|Thailand,World|Natural Earth 50m|Tunisia,World|Natural Earth 50m|India,World|Natural Earth 50m|Estonia,World|Natural Earth 50m|Vietnam,World|Natural Earth 50m|Russia,World|Natural Earth 50m|Madagascar,World|Natural Earth 50m|Syria,World|Natural Earth 50m|Norway,World|Natural Earth 50m|W. Sahara,World|Natural Earth 50m|Mexico,World|Natural Earth 50m|Greece,World|Natural Earth 50m|Côte d'Ivoire,World|Natural Earth 50m|Germany,World|Natural Earth 50m|Japan,World|Natural Earth 50m|Somaliland,World|Natural Earth 50m|Italy,World|Natural Earth 50m|Australia,World|Natural Earth 50m|Zambia,World|Natural Earth 50m|Honduras,World|Natural Earth 50m|Jordan,World|Natural Earth 50m|Cyprus,World|Natural Earth 50m|Guinea,World|Natural Earth 50m|Antarctica,World|Natural Earth 50m|Tajikistan,World|Natural Earth 50m|Nigeria,World|Natural Earth 50m|Senegal,World|Natural Earth 50m|Sri Lanka,World|Natural Earth 50m|Congo,World|Natural Earth 50m|North Korea,World|Natural Earth 50m|Austria,World|Natural Earth 50m|Chile,World|Natural Earth 50m|Netherlands,World|Natural Earth 50m|Taiwan,World|Natural Earth 50m|Samoa,World|Natural Earth 50m|Denmark,World|Natural Earth 50m|Portugal,World|Natural Earth 50m|Bosnia and Herz.,World|Natural Earth 50m|Chad,World|Natural Earth 50m|eSwatini,World|Natural Earth 50m|Benin,World|Natural Earth 50m|Timor-Leste,World|Natural Earth 50m|Turkmenistan,World|Natural Earth 50m|Slovakia,World|Natural Earth 50m|Peru,World|Natural Earth 50m|Ecuador,World|Natural Earth 50m|Ukraine,World|Natural Earth 50m|Fiji,World|Natural Earth 50m|United Kingdom,World|Natural Earth 50m|New Zealand,World|Natural Earth 50m|Hungary,World|Natural Earth 50m|Gambia,World|Natural Earth 50m|New Caledonia,World|Natural Earth 50m|Ghana,World|Natural Earth 50m|Serbia,World|Natural Earth 50m|Central African Rep.,World|Natural Earth 50m|Nicaragua,World|Natural Earth 50m|Canada,World|Natural Earth 50m|Lesotho,World|Natural Earth 50m|Colombia,World|Natural Earth 50m|South Korea,World|Natural Earth 50m|Myanmar,World|Natural Earth 50m|Guatemala,World|Natural Earth 50m|Cuba,World|Natural Earth 50m|Yemen,World|Natural Earth 50m|Mali,World|Natural Earth 50m|Papua New Guinea,World|Natural Earth 50m|Somalia,World|Natural Earth 50m|Czechia,World|Natural Earth 50m|Moldova,World|Natural Earth 50m|Morocco,World|Natural Earth 50m|Poland,World|Natural Earth 50m|Bhutan,World|Natural Earth 50m|Pakistan,World|Natural Earth 50m|Sierra Leone,World|Natural Earth 50m|Guyana,World|Natural Earth 50m|Afghanistan,World|Natural Earth 50m|Liberia,World|Natural Earth 50m|Kazakhstan,World|Natural Earth 50m|Eq. Guinea,World|Natural Earth 50m|Brazil,World|Natural Earth 50m|El Salvador,World|Natural Earth 50m|Mauritania,World|Natural Earth 50m|Gabon,World|Natural Earth 50m|Botswana,World|Natural Earth 50m|Bangladesh,World|Natural Earth 50m|Cambodia,World|Natural Earth 50m|Azerbaijan,World|Natural Earth 50m|Iraq,World|Natural Earth 50m|Belgium,World|Natural Earth 50m|Latvia\" \\\n",
    "    --small-number-workers 60 \\\n",
    "    --small-threshold 100 \\\n",
    "    --medium-number-workers 20 \\\n",
    "    --medium-threshold 400 \\\n",
    "    --force-lazy-threshold 1000 \n",
    "# \\\n",
    "#     > crunch-log.txt 2>&1"
   ]
  },
  {
   "cell_type": "code",
   "execution_count": 13,
   "id": "matched-conducting",
   "metadata": {},
   "outputs": [
    {
     "name": "stdout",
     "output_type": "stream",
     "text": [
      "/data/cmip6/CMIP6/CMIP/EC-Earth-Consortium/EC-Earth3-CC\r\n"
     ]
    }
   ],
   "source": [
    "!find /data/cmip6/CMIP6/CMIP -name 'EC-Earth3-CC' -type d"
   ]
  },
  {
   "cell_type": "code",
   "execution_count": 14,
   "id": "played-pontiac",
   "metadata": {},
   "outputs": [
    {
     "name": "stdout",
     "output_type": "stream",
     "text": [
      "/data/cmip6/CMIP6/CMIP/EC-Earth-Consortium/EC-Earth3-CC/historical/r1i1p1f1/Amon/tas/gr/v20210113/tas_Amon_EC-Earth3-CC_historical_r1i1p1f1_gr_185201-185212.nc\r\n",
      "/data/cmip6/CMIP6/CMIP/EC-Earth-Consortium/EC-Earth3-CC/historical/r1i1p1f1/Amon/tas/gr/v20210113/tas_Amon_EC-Earth3-CC_historical_r1i1p1f1_gr_189201-189212.nc\r\n",
      "/data/cmip6/CMIP6/CMIP/EC-Earth-Consortium/EC-Earth3-CC/historical/r1i1p1f1/Amon/tas/gr/v20210113/tas_Amon_EC-Earth3-CC_historical_r1i1p1f1_gr_194601-194612.nc\r\n",
      "/data/cmip6/CMIP6/CMIP/EC-Earth-Consortium/EC-Earth3-CC/historical/r1i1p1f1/Amon/tas/gr/v20210113/tas_Amon_EC-Earth3-CC_historical_r1i1p1f1_gr_188601-188612.nc\r\n",
      "/data/cmip6/CMIP6/CMIP/EC-Earth-Consortium/EC-Earth3-CC/historical/r1i1p1f1/Amon/tas/gr/v20210113/tas_Amon_EC-Earth3-CC_historical_r1i1p1f1_gr_197901-197912.nc\r\n",
      "/data/cmip6/CMIP6/CMIP/EC-Earth-Consortium/EC-Earth3-CC/historical/r1i1p1f1/Amon/tas/gr/v20210113/tas_Amon_EC-Earth3-CC_historical_r1i1p1f1_gr_200901-200912.nc\r\n",
      "/data/cmip6/CMIP6/CMIP/EC-Earth-Consortium/EC-Earth3-CC/historical/r1i1p1f1/Amon/tas/gr/v20210113/tas_Amon_EC-Earth3-CC_historical_r1i1p1f1_gr_199501-199512.nc\r\n",
      "/data/cmip6/CMIP6/CMIP/EC-Earth-Consortium/EC-Earth3-CC/historical/r1i1p1f1/Amon/tas/gr/v20210113/tas_Amon_EC-Earth3-CC_historical_r1i1p1f1_gr_193901-193912.nc\r\n",
      "/data/cmip6/CMIP6/CMIP/EC-Earth-Consortium/EC-Earth3-CC/historical/r1i1p1f1/Amon/tas/gr/v20210113/tas_Amon_EC-Earth3-CC_historical_r1i1p1f1_gr_190101-190112.nc\r\n",
      "/data/cmip6/CMIP6/CMIP/EC-Earth-Consortium/EC-Earth3-CC/historical/r1i1p1f1/Amon/tas/gr/v20210113/tas_Amon_EC-Earth3-CC_historical_r1i1p1f1_gr_195401-195412.nc\r\n",
      "/data/cmip6/CMIP6/CMIP/EC-Earth-Consortium/EC-Earth3-CC/historical/r1i1p1f1/Amon/tas/gr/v20210113/tas_Amon_EC-Earth3-CC_historical_r1i1p1f1_gr_201201-201212.nc\r\n",
      "/data/cmip6/CMIP6/CMIP/EC-Earth-Consortium/EC-Earth3-CC/historical/r1i1p1f1/Amon/tas/gr/v20210113/tas_Amon_EC-Earth3-CC_historical_r1i1p1f1_gr_197701-197712.nc\r\n",
      "/data/cmip6/CMIP6/CMIP/EC-Earth-Consortium/EC-Earth3-CC/historical/r1i1p1f1/Amon/tas/gr/v20210113/tas_Amon_EC-Earth3-CC_historical_r1i1p1f1_gr_189101-189112.nc\r\n",
      "/data/cmip6/CMIP6/CMIP/EC-Earth-Consortium/EC-Earth3-CC/historical/r1i1p1f1/Amon/tas/gr/v20210113/tas_Amon_EC-Earth3-CC_historical_r1i1p1f1_gr_197001-197012.nc\r\n",
      "/data/cmip6/CMIP6/CMIP/EC-Earth-Consortium/EC-Earth3-CC/historical/r1i1p1f1/Amon/tas/gr/v20210113/tas_Amon_EC-Earth3-CC_historical_r1i1p1f1_gr_189301-189312.nc\r\n",
      "/data/cmip6/CMIP6/CMIP/EC-Earth-Consortium/EC-Earth3-CC/historical/r1i1p1f1/Amon/tas/gr/v20210113/tas_Amon_EC-Earth3-CC_historical_r1i1p1f1_gr_197401-197412.nc\r\n",
      "/data/cmip6/CMIP6/CMIP/EC-Earth-Consortium/EC-Earth3-CC/historical/r1i1p1f1/Amon/tas/gr/v20210113/tas_Amon_EC-Earth3-CC_historical_r1i1p1f1_gr_195201-195212.nc\r\n",
      "/data/cmip6/CMIP6/CMIP/EC-Earth-Consortium/EC-Earth3-CC/historical/r1i1p1f1/Amon/tas/gr/v20210113/tas_Amon_EC-Earth3-CC_historical_r1i1p1f1_gr_189601-189612.nc\r\n",
      "/data/cmip6/CMIP6/CMIP/EC-Earth-Consortium/EC-Earth3-CC/historical/r1i1p1f1/Amon/tas/gr/v20210113/tas_Amon_EC-Earth3-CC_historical_r1i1p1f1_gr_194901-194912.nc\r\n",
      "/data/cmip6/CMIP6/CMIP/EC-Earth-Consortium/EC-Earth3-CC/historical/r1i1p1f1/Amon/tas/gr/v20210113/tas_Amon_EC-Earth3-CC_historical_r1i1p1f1_gr_196501-196512.nc\r\n",
      "/data/cmip6/CMIP6/CMIP/EC-Earth-Consortium/EC-Earth3-CC/historical/r1i1p1f1/Amon/tas/gr/v20210113/tas_Amon_EC-Earth3-CC_historical_r1i1p1f1_gr_191001-191012.nc\r\n",
      "/data/cmip6/CMIP6/CMIP/EC-Earth-Consortium/EC-Earth3-CC/historical/r1i1p1f1/Amon/tas/gr/v20210113/tas_Amon_EC-Earth3-CC_historical_r1i1p1f1_gr_187001-187012.nc\r\n",
      "/data/cmip6/CMIP6/CMIP/EC-Earth-Consortium/EC-Earth3-CC/historical/r1i1p1f1/Amon/tas/gr/v20210113/tas_Amon_EC-Earth3-CC_historical_r1i1p1f1_gr_198401-198412.nc\r\n",
      "/data/cmip6/CMIP6/CMIP/EC-Earth-Consortium/EC-Earth3-CC/historical/r1i1p1f1/Amon/tas/gr/v20210113/tas_Amon_EC-Earth3-CC_historical_r1i1p1f1_gr_196701-196712.nc\r\n",
      "/data/cmip6/CMIP6/CMIP/EC-Earth-Consortium/EC-Earth3-CC/historical/r1i1p1f1/Amon/tas/gr/v20210113/tas_Amon_EC-Earth3-CC_historical_r1i1p1f1_gr_197301-197312.nc\r\n",
      "/data/cmip6/CMIP6/CMIP/EC-Earth-Consortium/EC-Earth3-CC/historical/r1i1p1f1/Amon/tas/gr/v20210113/tas_Amon_EC-Earth3-CC_historical_r1i1p1f1_gr_199201-199212.nc\r\n",
      "/data/cmip6/CMIP6/CMIP/EC-Earth-Consortium/EC-Earth3-CC/historical/r1i1p1f1/Amon/tas/gr/v20210113/tas_Amon_EC-Earth3-CC_historical_r1i1p1f1_gr_187901-187912.nc\r\n",
      "/data/cmip6/CMIP6/CMIP/EC-Earth-Consortium/EC-Earth3-CC/historical/r1i1p1f1/Amon/tas/gr/v20210113/tas_Amon_EC-Earth3-CC_historical_r1i1p1f1_gr_200101-200112.nc\r\n",
      "/data/cmip6/CMIP6/CMIP/EC-Earth-Consortium/EC-Earth3-CC/historical/r1i1p1f1/Amon/tas/gr/v20210113/tas_Amon_EC-Earth3-CC_historical_r1i1p1f1_gr_194801-194812.nc\r\n",
      "/data/cmip6/CMIP6/CMIP/EC-Earth-Consortium/EC-Earth3-CC/historical/r1i1p1f1/Amon/tas/gr/v20210113/tas_Amon_EC-Earth3-CC_historical_r1i1p1f1_gr_189901-189912.nc\r\n",
      "/data/cmip6/CMIP6/CMIP/EC-Earth-Consortium/EC-Earth3-CC/historical/r1i1p1f1/Amon/tas/gr/v20210113/tas_Amon_EC-Earth3-CC_historical_r1i1p1f1_gr_189701-189712.nc\r\n",
      "/data/cmip6/CMIP6/CMIP/EC-Earth-Consortium/EC-Earth3-CC/historical/r1i1p1f1/Amon/tas/gr/v20210113/tas_Amon_EC-Earth3-CC_historical_r1i1p1f1_gr_191601-191612.nc\r\n",
      "/data/cmip6/CMIP6/CMIP/EC-Earth-Consortium/EC-Earth3-CC/historical/r1i1p1f1/Amon/tas/gr/v20210113/tas_Amon_EC-Earth3-CC_historical_r1i1p1f1_gr_193001-193012.nc\r\n",
      "/data/cmip6/CMIP6/CMIP/EC-Earth-Consortium/EC-Earth3-CC/historical/r1i1p1f1/Amon/tas/gr/v20210113/tas_Amon_EC-Earth3-CC_historical_r1i1p1f1_gr_200001-200012.nc\r\n",
      "/data/cmip6/CMIP6/CMIP/EC-Earth-Consortium/EC-Earth3-CC/historical/r1i1p1f1/Amon/tas/gr/v20210113/tas_Amon_EC-Earth3-CC_historical_r1i1p1f1_gr_191301-191312.nc\r\n",
      "/data/cmip6/CMIP6/CMIP/EC-Earth-Consortium/EC-Earth3-CC/historical/r1i1p1f1/Amon/tas/gr/v20210113/tas_Amon_EC-Earth3-CC_historical_r1i1p1f1_gr_198801-198812.nc\r\n",
      "/data/cmip6/CMIP6/CMIP/EC-Earth-Consortium/EC-Earth3-CC/historical/r1i1p1f1/Amon/tas/gr/v20210113/tas_Amon_EC-Earth3-CC_historical_r1i1p1f1_gr_185801-185812.nc\r\n",
      "/data/cmip6/CMIP6/CMIP/EC-Earth-Consortium/EC-Earth3-CC/historical/r1i1p1f1/Amon/tas/gr/v20210113/tas_Amon_EC-Earth3-CC_historical_r1i1p1f1_gr_201401-201412.nc\r\n",
      "/data/cmip6/CMIP6/CMIP/EC-Earth-Consortium/EC-Earth3-CC/historical/r1i1p1f1/Amon/tas/gr/v20210113/tas_Amon_EC-Earth3-CC_historical_r1i1p1f1_gr_194501-194512.nc\r\n",
      "/data/cmip6/CMIP6/CMIP/EC-Earth-Consortium/EC-Earth3-CC/historical/r1i1p1f1/Amon/tas/gr/v20210113/tas_Amon_EC-Earth3-CC_historical_r1i1p1f1_gr_189001-189012.nc\r\n",
      "/data/cmip6/CMIP6/CMIP/EC-Earth-Consortium/EC-Earth3-CC/historical/r1i1p1f1/Amon/tas/gr/v20210113/tas_Amon_EC-Earth3-CC_historical_r1i1p1f1_gr_187501-187512.nc\r\n",
      "/data/cmip6/CMIP6/CMIP/EC-Earth-Consortium/EC-Earth3-CC/historical/r1i1p1f1/Amon/tas/gr/v20210113/tas_Amon_EC-Earth3-CC_historical_r1i1p1f1_gr_193601-193612.nc\r\n",
      "/data/cmip6/CMIP6/CMIP/EC-Earth-Consortium/EC-Earth3-CC/historical/r1i1p1f1/Amon/tas/gr/v20210113/tas_Amon_EC-Earth3-CC_historical_r1i1p1f1_gr_192301-192312.nc\r\n",
      "/data/cmip6/CMIP6/CMIP/EC-Earth-Consortium/EC-Earth3-CC/historical/r1i1p1f1/Amon/tas/gr/v20210113/tas_Amon_EC-Earth3-CC_historical_r1i1p1f1_gr_188701-188712.nc\r\n",
      "/data/cmip6/CMIP6/CMIP/EC-Earth-Consortium/EC-Earth3-CC/historical/r1i1p1f1/Amon/tas/gr/v20210113/tas_Amon_EC-Earth3-CC_historical_r1i1p1f1_gr_198001-198012.nc\r\n",
      "/data/cmip6/CMIP6/CMIP/EC-Earth-Consortium/EC-Earth3-CC/historical/r1i1p1f1/Amon/tas/gr/v20210113/tas_Amon_EC-Earth3-CC_historical_r1i1p1f1_gr_192101-192112.nc\r\n",
      "/data/cmip6/CMIP6/CMIP/EC-Earth-Consortium/EC-Earth3-CC/historical/r1i1p1f1/Amon/tas/gr/v20210113/tas_Amon_EC-Earth3-CC_historical_r1i1p1f1_gr_185901-185912.nc\r\n",
      "/data/cmip6/CMIP6/CMIP/EC-Earth-Consortium/EC-Earth3-CC/historical/r1i1p1f1/Amon/tas/gr/v20210113/tas_Amon_EC-Earth3-CC_historical_r1i1p1f1_gr_191801-191812.nc\r\n",
      "/data/cmip6/CMIP6/CMIP/EC-Earth-Consortium/EC-Earth3-CC/historical/r1i1p1f1/Amon/tas/gr/v20210113/tas_Amon_EC-Earth3-CC_historical_r1i1p1f1_gr_187101-187112.nc\r\n",
      "/data/cmip6/CMIP6/CMIP/EC-Earth-Consortium/EC-Earth3-CC/historical/r1i1p1f1/Amon/tas/gr/v20210113/tas_Amon_EC-Earth3-CC_historical_r1i1p1f1_gr_195001-195012.nc\r\n",
      "/data/cmip6/CMIP6/CMIP/EC-Earth-Consortium/EC-Earth3-CC/historical/r1i1p1f1/Amon/tas/gr/v20210113/tas_Amon_EC-Earth3-CC_historical_r1i1p1f1_gr_187801-187812.nc\r\n",
      "/data/cmip6/CMIP6/CMIP/EC-Earth-Consortium/EC-Earth3-CC/historical/r1i1p1f1/Amon/tas/gr/v20210113/tas_Amon_EC-Earth3-CC_historical_r1i1p1f1_gr_201001-201012.nc\r\n",
      "/data/cmip6/CMIP6/CMIP/EC-Earth-Consortium/EC-Earth3-CC/historical/r1i1p1f1/Amon/tas/gr/v20210113/tas_Amon_EC-Earth3-CC_historical_r1i1p1f1_gr_189401-189412.nc\r\n",
      "/data/cmip6/CMIP6/CMIP/EC-Earth-Consortium/EC-Earth3-CC/historical/r1i1p1f1/Amon/tas/gr/v20210113/tas_Amon_EC-Earth3-CC_historical_r1i1p1f1_gr_198701-198712.nc\r\n",
      "/data/cmip6/CMIP6/CMIP/EC-Earth-Consortium/EC-Earth3-CC/historical/r1i1p1f1/Amon/tas/gr/v20210113/tas_Amon_EC-Earth3-CC_historical_r1i1p1f1_gr_199601-199612.nc\r\n",
      "/data/cmip6/CMIP6/CMIP/EC-Earth-Consortium/EC-Earth3-CC/historical/r1i1p1f1/Amon/tas/gr/v20210113/tas_Amon_EC-Earth3-CC_historical_r1i1p1f1_gr_191101-191112.nc\r\n",
      "/data/cmip6/CMIP6/CMIP/EC-Earth-Consortium/EC-Earth3-CC/historical/r1i1p1f1/Amon/tas/gr/v20210113/tas_Amon_EC-Earth3-CC_historical_r1i1p1f1_gr_197501-197512.nc\r\n",
      "/data/cmip6/CMIP6/CMIP/EC-Earth-Consortium/EC-Earth3-CC/historical/r1i1p1f1/Amon/tas/gr/v20210113/tas_Amon_EC-Earth3-CC_historical_r1i1p1f1_gr_194301-194312.nc\r\n",
      "/data/cmip6/CMIP6/CMIP/EC-Earth-Consortium/EC-Earth3-CC/historical/r1i1p1f1/Amon/tas/gr/v20210113/tas_Amon_EC-Earth3-CC_historical_r1i1p1f1_gr_198501-198512.nc\r\n",
      "/data/cmip6/CMIP6/CMIP/EC-Earth-Consortium/EC-Earth3-CC/historical/r1i1p1f1/Amon/tas/gr/v20210113/tas_Amon_EC-Earth3-CC_historical_r1i1p1f1_gr_188301-188312.nc\r\n",
      "/data/cmip6/CMIP6/CMIP/EC-Earth-Consortium/EC-Earth3-CC/historical/r1i1p1f1/Amon/tas/gr/v20210113/tas_Amon_EC-Earth3-CC_historical_r1i1p1f1_gr_188101-188112.nc\r\n",
      "/data/cmip6/CMIP6/CMIP/EC-Earth-Consortium/EC-Earth3-CC/historical/r1i1p1f1/Amon/tas/gr/v20210113/tas_Amon_EC-Earth3-CC_historical_r1i1p1f1_gr_194201-194212.nc\r\n",
      "/data/cmip6/CMIP6/CMIP/EC-Earth-Consortium/EC-Earth3-CC/historical/r1i1p1f1/Amon/tas/gr/v20210113/tas_Amon_EC-Earth3-CC_historical_r1i1p1f1_gr_186401-186412.nc\r\n",
      "/data/cmip6/CMIP6/CMIP/EC-Earth-Consortium/EC-Earth3-CC/historical/r1i1p1f1/Amon/tas/gr/v20210113/tas_Amon_EC-Earth3-CC_historical_r1i1p1f1_gr_198901-198912.nc\r\n",
      "/data/cmip6/CMIP6/CMIP/EC-Earth-Consortium/EC-Earth3-CC/historical/r1i1p1f1/Amon/tas/gr/v20210113/tas_Amon_EC-Earth3-CC_historical_r1i1p1f1_gr_200701-200712.nc\r\n",
      "/data/cmip6/CMIP6/CMIP/EC-Earth-Consortium/EC-Earth3-CC/historical/r1i1p1f1/Amon/tas/gr/v20210113/tas_Amon_EC-Earth3-CC_historical_r1i1p1f1_gr_187401-187412.nc\r\n",
      "/data/cmip6/CMIP6/CMIP/EC-Earth-Consortium/EC-Earth3-CC/historical/r1i1p1f1/Amon/tas/gr/v20210113/tas_Amon_EC-Earth3-CC_historical_r1i1p1f1_gr_199001-199012.nc\r\n",
      "/data/cmip6/CMIP6/CMIP/EC-Earth-Consortium/EC-Earth3-CC/historical/r1i1p1f1/Amon/tas/gr/v20210113/tas_Amon_EC-Earth3-CC_historical_r1i1p1f1_gr_195701-195712.nc\r\n",
      "/data/cmip6/CMIP6/CMIP/EC-Earth-Consortium/EC-Earth3-CC/historical/r1i1p1f1/Amon/tas/gr/v20210113/tas_Amon_EC-Earth3-CC_historical_r1i1p1f1_gr_196601-196612.nc\r\n",
      "/data/cmip6/CMIP6/CMIP/EC-Earth-Consortium/EC-Earth3-CC/historical/r1i1p1f1/Amon/tas/gr/v20210113/tas_Amon_EC-Earth3-CC_historical_r1i1p1f1_gr_192601-192612.nc\r\n",
      "/data/cmip6/CMIP6/CMIP/EC-Earth-Consortium/EC-Earth3-CC/historical/r1i1p1f1/Amon/tas/gr/v20210113/tas_Amon_EC-Earth3-CC_historical_r1i1p1f1_gr_186601-186612.nc\r\n",
      "/data/cmip6/CMIP6/CMIP/EC-Earth-Consortium/EC-Earth3-CC/historical/r1i1p1f1/Amon/tas/gr/v20210113/tas_Amon_EC-Earth3-CC_historical_r1i1p1f1_gr_198601-198612.nc\r\n",
      "/data/cmip6/CMIP6/CMIP/EC-Earth-Consortium/EC-Earth3-CC/historical/r1i1p1f1/Amon/tas/gr/v20210113/tas_Amon_EC-Earth3-CC_historical_r1i1p1f1_gr_185701-185712.nc\r\n",
      "/data/cmip6/CMIP6/CMIP/EC-Earth-Consortium/EC-Earth3-CC/historical/r1i1p1f1/Amon/tas/gr/v20210113/tas_Amon_EC-Earth3-CC_historical_r1i1p1f1_gr_195101-195112.nc\r\n",
      "/data/cmip6/CMIP6/CMIP/EC-Earth-Consortium/EC-Earth3-CC/historical/r1i1p1f1/Amon/tas/gr/v20210113/tas_Amon_EC-Earth3-CC_historical_r1i1p1f1_gr_188401-188412.nc\r\n",
      "/data/cmip6/CMIP6/CMIP/EC-Earth-Consortium/EC-Earth3-CC/historical/r1i1p1f1/Amon/tas/gr/v20210113/tas_Amon_EC-Earth3-CC_historical_r1i1p1f1_gr_194001-194012.nc\r\n",
      "/data/cmip6/CMIP6/CMIP/EC-Earth-Consortium/EC-Earth3-CC/historical/r1i1p1f1/Amon/tas/gr/v20210113/tas_Amon_EC-Earth3-CC_historical_r1i1p1f1_gr_195501-195512.nc\r\n",
      "/data/cmip6/CMIP6/CMIP/EC-Earth-Consortium/EC-Earth3-CC/historical/r1i1p1f1/Amon/tas/gr/v20210113/tas_Amon_EC-Earth3-CC_historical_r1i1p1f1_gr_197201-197212.nc\r\n",
      "/data/cmip6/CMIP6/CMIP/EC-Earth-Consortium/EC-Earth3-CC/historical/r1i1p1f1/Amon/tas/gr/v20210113/tas_Amon_EC-Earth3-CC_historical_r1i1p1f1_gr_199301-199312.nc\r\n",
      "/data/cmip6/CMIP6/CMIP/EC-Earth-Consortium/EC-Earth3-CC/historical/r1i1p1f1/Amon/tas/gr/v20210113/tas_Amon_EC-Earth3-CC_historical_r1i1p1f1_gr_197801-197812.nc\r\n",
      "/data/cmip6/CMIP6/CMIP/EC-Earth-Consortium/EC-Earth3-CC/historical/r1i1p1f1/Amon/tas/gr/v20210113/tas_Amon_EC-Earth3-CC_historical_r1i1p1f1_gr_193301-193312.nc\r\n",
      "/data/cmip6/CMIP6/CMIP/EC-Earth-Consortium/EC-Earth3-CC/historical/r1i1p1f1/Amon/tas/gr/v20210113/tas_Amon_EC-Earth3-CC_historical_r1i1p1f1_gr_187601-187612.nc\r\n",
      "/data/cmip6/CMIP6/CMIP/EC-Earth-Consortium/EC-Earth3-CC/historical/r1i1p1f1/Amon/tas/gr/v20210113/tas_Amon_EC-Earth3-CC_historical_r1i1p1f1_gr_199901-199912.nc\r\n",
      "/data/cmip6/CMIP6/CMIP/EC-Earth-Consortium/EC-Earth3-CC/historical/r1i1p1f1/Amon/tas/gr/v20210113/tas_Amon_EC-Earth3-CC_historical_r1i1p1f1_gr_188201-188212.nc\r\n",
      "/data/cmip6/CMIP6/CMIP/EC-Earth-Consortium/EC-Earth3-CC/historical/r1i1p1f1/Amon/tas/gr/v20210113/tas_Amon_EC-Earth3-CC_historical_r1i1p1f1_gr_186301-186312.nc\r\n",
      "/data/cmip6/CMIP6/CMIP/EC-Earth-Consortium/EC-Earth3-CC/historical/r1i1p1f1/Amon/tas/gr/v20210113/tas_Amon_EC-Earth3-CC_historical_r1i1p1f1_gr_191401-191412.nc\r\n",
      "/data/cmip6/CMIP6/CMIP/EC-Earth-Consortium/EC-Earth3-CC/historical/r1i1p1f1/Amon/tas/gr/v20210113/tas_Amon_EC-Earth3-CC_historical_r1i1p1f1_gr_191901-191912.nc\r\n",
      "/data/cmip6/CMIP6/CMIP/EC-Earth-Consortium/EC-Earth3-CC/historical/r1i1p1f1/Amon/tas/gr/v20210113/tas_Amon_EC-Earth3-CC_historical_r1i1p1f1_gr_190701-190712.nc\r\n",
      "/data/cmip6/CMIP6/CMIP/EC-Earth-Consortium/EC-Earth3-CC/historical/r1i1p1f1/Amon/tas/gr/v20210113/tas_Amon_EC-Earth3-CC_historical_r1i1p1f1_gr_200401-200412.nc\r\n",
      "/data/cmip6/CMIP6/CMIP/EC-Earth-Consortium/EC-Earth3-CC/historical/r1i1p1f1/Amon/tas/gr/v20210113/tas_Amon_EC-Earth3-CC_historical_r1i1p1f1_gr_192201-192212.nc\r\n",
      "/data/cmip6/CMIP6/CMIP/EC-Earth-Consortium/EC-Earth3-CC/historical/r1i1p1f1/Amon/tas/gr/v20210113/tas_Amon_EC-Earth3-CC_historical_r1i1p1f1_gr_196401-196412.nc\r\n",
      "/data/cmip6/CMIP6/CMIP/EC-Earth-Consortium/EC-Earth3-CC/historical/r1i1p1f1/Amon/tas/gr/v20210113/tas_Amon_EC-Earth3-CC_historical_r1i1p1f1_gr_190801-190812.nc\r\n",
      "/data/cmip6/CMIP6/CMIP/EC-Earth-Consortium/EC-Earth3-CC/historical/r1i1p1f1/Amon/tas/gr/v20210113/tas_Amon_EC-Earth3-CC_historical_r1i1p1f1_gr_200201-200212.nc\r\n",
      "/data/cmip6/CMIP6/CMIP/EC-Earth-Consortium/EC-Earth3-CC/historical/r1i1p1f1/Amon/tas/gr/v20210113/tas_Amon_EC-Earth3-CC_historical_r1i1p1f1_gr_195601-195612.nc\r\n",
      "/data/cmip6/CMIP6/CMIP/EC-Earth-Consortium/EC-Earth3-CC/historical/r1i1p1f1/Amon/tas/gr/v20210113/tas_Amon_EC-Earth3-CC_historical_r1i1p1f1_gr_186501-186512.nc\r\n",
      "/data/cmip6/CMIP6/CMIP/EC-Earth-Consortium/EC-Earth3-CC/historical/r1i1p1f1/Amon/tas/gr/v20210113/tas_Amon_EC-Earth3-CC_historical_r1i1p1f1_gr_190401-190412.nc\r\n",
      "/data/cmip6/CMIP6/CMIP/EC-Earth-Consortium/EC-Earth3-CC/historical/r1i1p1f1/Amon/tas/gr/v20210113/tas_Amon_EC-Earth3-CC_historical_r1i1p1f1_gr_189801-189812.nc\r\n",
      "/data/cmip6/CMIP6/CMIP/EC-Earth-Consortium/EC-Earth3-CC/historical/r1i1p1f1/Amon/tas/gr/v20210113/tas_Amon_EC-Earth3-CC_historical_r1i1p1f1_gr_190601-190612.nc\r\n",
      "/data/cmip6/CMIP6/CMIP/EC-Earth-Consortium/EC-Earth3-CC/historical/r1i1p1f1/Amon/tas/gr/v20210113/tas_Amon_EC-Earth3-CC_historical_r1i1p1f1_gr_193401-193412.nc\r\n",
      "/data/cmip6/CMIP6/CMIP/EC-Earth-Consortium/EC-Earth3-CC/historical/r1i1p1f1/Amon/tas/gr/v20210113/tas_Amon_EC-Earth3-CC_historical_r1i1p1f1_gr_192901-192912.nc\r\n",
      "/data/cmip6/CMIP6/CMIP/EC-Earth-Consortium/EC-Earth3-CC/historical/r1i1p1f1/Amon/tas/gr/v20210113/tas_Amon_EC-Earth3-CC_historical_r1i1p1f1_gr_196201-196212.nc\r\n",
      "/data/cmip6/CMIP6/CMIP/EC-Earth-Consortium/EC-Earth3-CC/historical/r1i1p1f1/Amon/tas/gr/v20210113/tas_Amon_EC-Earth3-CC_historical_r1i1p1f1_gr_198301-198312.nc\r\n",
      "/data/cmip6/CMIP6/CMIP/EC-Earth-Consortium/EC-Earth3-CC/historical/r1i1p1f1/Amon/tas/gr/v20210113/tas_Amon_EC-Earth3-CC_historical_r1i1p1f1_gr_186001-186012.nc\r\n",
      "/data/cmip6/CMIP6/CMIP/EC-Earth-Consortium/EC-Earth3-CC/historical/r1i1p1f1/Amon/tas/gr/v20210113/tas_Amon_EC-Earth3-CC_historical_r1i1p1f1_gr_192501-192512.nc\r\n",
      "/data/cmip6/CMIP6/CMIP/EC-Earth-Consortium/EC-Earth3-CC/historical/r1i1p1f1/Amon/tas/gr/v20210113/tas_Amon_EC-Earth3-CC_historical_r1i1p1f1_gr_192701-192712.nc\r\n",
      "/data/cmip6/CMIP6/CMIP/EC-Earth-Consortium/EC-Earth3-CC/historical/r1i1p1f1/Amon/tas/gr/v20210113/tas_Amon_EC-Earth3-CC_historical_r1i1p1f1_gr_189501-189512.nc\r\n",
      "/data/cmip6/CMIP6/CMIP/EC-Earth-Consortium/EC-Earth3-CC/historical/r1i1p1f1/Amon/tas/gr/v20210113/tas_Amon_EC-Earth3-CC_historical_r1i1p1f1_gr_196901-196912.nc\r\n",
      "/data/cmip6/CMIP6/CMIP/EC-Earth-Consortium/EC-Earth3-CC/historical/r1i1p1f1/Amon/tas/gr/v20210113/tas_Amon_EC-Earth3-CC_historical_r1i1p1f1_gr_200301-200312.nc\r\n",
      "/data/cmip6/CMIP6/CMIP/EC-Earth-Consortium/EC-Earth3-CC/historical/r1i1p1f1/Amon/tas/gr/v20210113/tas_Amon_EC-Earth3-CC_historical_r1i1p1f1_gr_186201-186212.nc\r\n",
      "/data/cmip6/CMIP6/CMIP/EC-Earth-Consortium/EC-Earth3-CC/historical/r1i1p1f1/Amon/tas/gr/v20210113/tas_Amon_EC-Earth3-CC_historical_r1i1p1f1_gr_188501-188512.nc\r\n",
      "/data/cmip6/CMIP6/CMIP/EC-Earth-Consortium/EC-Earth3-CC/historical/r1i1p1f1/Amon/tas/gr/v20210113/tas_Amon_EC-Earth3-CC_historical_r1i1p1f1_gr_200501-200512.nc\r\n",
      "/data/cmip6/CMIP6/CMIP/EC-Earth-Consortium/EC-Earth3-CC/historical/r1i1p1f1/Amon/tas/gr/v20210113/tas_Amon_EC-Earth3-CC_historical_r1i1p1f1_gr_194101-194112.nc\r\n",
      "/data/cmip6/CMIP6/CMIP/EC-Earth-Consortium/EC-Earth3-CC/historical/r1i1p1f1/Amon/tas/gr/v20210113/tas_Amon_EC-Earth3-CC_historical_r1i1p1f1_gr_191701-191712.nc\r\n",
      "/data/cmip6/CMIP6/CMIP/EC-Earth-Consortium/EC-Earth3-CC/historical/r1i1p1f1/Amon/tas/gr/v20210113/tas_Amon_EC-Earth3-CC_historical_r1i1p1f1_gr_193501-193512.nc\r\n",
      "/data/cmip6/CMIP6/CMIP/EC-Earth-Consortium/EC-Earth3-CC/historical/r1i1p1f1/Amon/tas/gr/v20210113/tas_Amon_EC-Earth3-CC_historical_r1i1p1f1_gr_185301-185312.nc\r\n",
      "/data/cmip6/CMIP6/CMIP/EC-Earth-Consortium/EC-Earth3-CC/historical/r1i1p1f1/Amon/tas/gr/v20210113/tas_Amon_EC-Earth3-CC_historical_r1i1p1f1_gr_197601-197612.nc\r\n",
      "/data/cmip6/CMIP6/CMIP/EC-Earth-Consortium/EC-Earth3-CC/historical/r1i1p1f1/Amon/tas/gr/v20210113/tas_Amon_EC-Earth3-CC_historical_r1i1p1f1_gr_201101-201112.nc\r\n",
      "/data/cmip6/CMIP6/CMIP/EC-Earth-Consortium/EC-Earth3-CC/historical/r1i1p1f1/Amon/tas/gr/v20210113/tas_Amon_EC-Earth3-CC_historical_r1i1p1f1_gr_196101-196112.nc\r\n",
      "/data/cmip6/CMIP6/CMIP/EC-Earth-Consortium/EC-Earth3-CC/historical/r1i1p1f1/Amon/tas/gr/v20210113/tas_Amon_EC-Earth3-CC_historical_r1i1p1f1_gr_185401-185412.nc\r\n",
      "/data/cmip6/CMIP6/CMIP/EC-Earth-Consortium/EC-Earth3-CC/historical/r1i1p1f1/Amon/tas/gr/v20210113/tas_Amon_EC-Earth3-CC_historical_r1i1p1f1_gr_193101-193112.nc\r\n",
      "/data/cmip6/CMIP6/CMIP/EC-Earth-Consortium/EC-Earth3-CC/historical/r1i1p1f1/Amon/tas/gr/v20210113/tas_Amon_EC-Earth3-CC_historical_r1i1p1f1_gr_196001-196012.nc\r\n",
      "/data/cmip6/CMIP6/CMIP/EC-Earth-Consortium/EC-Earth3-CC/historical/r1i1p1f1/Amon/tas/gr/v20210113/tas_Amon_EC-Earth3-CC_historical_r1i1p1f1_gr_199401-199412.nc\r\n",
      "/data/cmip6/CMIP6/CMIP/EC-Earth-Consortium/EC-Earth3-CC/historical/r1i1p1f1/Amon/tas/gr/v20210113/tas_Amon_EC-Earth3-CC_historical_r1i1p1f1_gr_190001-190012.nc\r\n",
      "/data/cmip6/CMIP6/CMIP/EC-Earth-Consortium/EC-Earth3-CC/historical/r1i1p1f1/Amon/tas/gr/v20210113/tas_Amon_EC-Earth3-CC_historical_r1i1p1f1_gr_192801-192812.nc\r\n",
      "/data/cmip6/CMIP6/CMIP/EC-Earth-Consortium/EC-Earth3-CC/historical/r1i1p1f1/Amon/tas/gr/v20210113/tas_Amon_EC-Earth3-CC_historical_r1i1p1f1_gr_186801-186812.nc\r\n",
      "/data/cmip6/CMIP6/CMIP/EC-Earth-Consortium/EC-Earth3-CC/historical/r1i1p1f1/Amon/tas/gr/v20210113/tas_Amon_EC-Earth3-CC_historical_r1i1p1f1_gr_196301-196312.nc\r\n",
      "/data/cmip6/CMIP6/CMIP/EC-Earth-Consortium/EC-Earth3-CC/historical/r1i1p1f1/Amon/tas/gr/v20210113/tas_Amon_EC-Earth3-CC_historical_r1i1p1f1_gr_199801-199812.nc\r\n",
      "/data/cmip6/CMIP6/CMIP/EC-Earth-Consortium/EC-Earth3-CC/historical/r1i1p1f1/Amon/tas/gr/v20210113/tas_Amon_EC-Earth3-CC_historical_r1i1p1f1_gr_199701-199712.nc\r\n",
      "/data/cmip6/CMIP6/CMIP/EC-Earth-Consortium/EC-Earth3-CC/historical/r1i1p1f1/Amon/tas/gr/v20210113/tas_Amon_EC-Earth3-CC_historical_r1i1p1f1_gr_195801-195812.nc\r\n",
      "/data/cmip6/CMIP6/CMIP/EC-Earth-Consortium/EC-Earth3-CC/historical/r1i1p1f1/Amon/tas/gr/v20210113/tas_Amon_EC-Earth3-CC_historical_r1i1p1f1_gr_190901-190912.nc\r\n",
      "/data/cmip6/CMIP6/CMIP/EC-Earth-Consortium/EC-Earth3-CC/historical/r1i1p1f1/Amon/tas/gr/v20210113/tas_Amon_EC-Earth3-CC_historical_r1i1p1f1_gr_193201-193212.nc\r\n",
      "/data/cmip6/CMIP6/CMIP/EC-Earth-Consortium/EC-Earth3-CC/historical/r1i1p1f1/Amon/tas/gr/v20210113/tas_Amon_EC-Earth3-CC_historical_r1i1p1f1_gr_188901-188912.nc\r\n",
      "/data/cmip6/CMIP6/CMIP/EC-Earth-Consortium/EC-Earth3-CC/historical/r1i1p1f1/Amon/tas/gr/v20210113/tas_Amon_EC-Earth3-CC_historical_r1i1p1f1_gr_196801-196812.nc\r\n",
      "/data/cmip6/CMIP6/CMIP/EC-Earth-Consortium/EC-Earth3-CC/historical/r1i1p1f1/Amon/tas/gr/v20210113/tas_Amon_EC-Earth3-CC_historical_r1i1p1f1_gr_195901-195912.nc\r\n",
      "/data/cmip6/CMIP6/CMIP/EC-Earth-Consortium/EC-Earth3-CC/historical/r1i1p1f1/Amon/tas/gr/v20210113/tas_Amon_EC-Earth3-CC_historical_r1i1p1f1_gr_192001-192012.nc\r\n",
      "/data/cmip6/CMIP6/CMIP/EC-Earth-Consortium/EC-Earth3-CC/historical/r1i1p1f1/Amon/tas/gr/v20210113/tas_Amon_EC-Earth3-CC_historical_r1i1p1f1_gr_186701-186712.nc\r\n",
      "/data/cmip6/CMIP6/CMIP/EC-Earth-Consortium/EC-Earth3-CC/historical/r1i1p1f1/Amon/tas/gr/v20210113/tas_Amon_EC-Earth3-CC_historical_r1i1p1f1_gr_188001-188012.nc\r\n",
      "/data/cmip6/CMIP6/CMIP/EC-Earth-Consortium/EC-Earth3-CC/historical/r1i1p1f1/Amon/tas/gr/v20210113/tas_Amon_EC-Earth3-CC_historical_r1i1p1f1_gr_185001-185012.nc\r\n",
      "/data/cmip6/CMIP6/CMIP/EC-Earth-Consortium/EC-Earth3-CC/historical/r1i1p1f1/Amon/tas/gr/v20210113/tas_Amon_EC-Earth3-CC_historical_r1i1p1f1_gr_193801-193812.nc\r\n",
      "/data/cmip6/CMIP6/CMIP/EC-Earth-Consortium/EC-Earth3-CC/historical/r1i1p1f1/Amon/tas/gr/v20210113/tas_Amon_EC-Earth3-CC_historical_r1i1p1f1_gr_200801-200812.nc\r\n",
      "/data/cmip6/CMIP6/CMIP/EC-Earth-Consortium/EC-Earth3-CC/historical/r1i1p1f1/Amon/tas/gr/v20210113/tas_Amon_EC-Earth3-CC_historical_r1i1p1f1_gr_191501-191512.nc\r\n",
      "/data/cmip6/CMIP6/CMIP/EC-Earth-Consortium/EC-Earth3-CC/historical/r1i1p1f1/Amon/tas/gr/v20210113/tas_Amon_EC-Earth3-CC_historical_r1i1p1f1_gr_193701-193712.nc\r\n",
      "/data/cmip6/CMIP6/CMIP/EC-Earth-Consortium/EC-Earth3-CC/historical/r1i1p1f1/Amon/tas/gr/v20210113/tas_Amon_EC-Earth3-CC_historical_r1i1p1f1_gr_185101-185112.nc\r\n",
      "/data/cmip6/CMIP6/CMIP/EC-Earth-Consortium/EC-Earth3-CC/historical/r1i1p1f1/Amon/tas/gr/v20210113/tas_Amon_EC-Earth3-CC_historical_r1i1p1f1_gr_187701-187712.nc\r\n",
      "/data/cmip6/CMIP6/CMIP/EC-Earth-Consortium/EC-Earth3-CC/historical/r1i1p1f1/Amon/tas/gr/v20210113/tas_Amon_EC-Earth3-CC_historical_r1i1p1f1_gr_201301-201312.nc\r\n",
      "/data/cmip6/CMIP6/CMIP/EC-Earth-Consortium/EC-Earth3-CC/historical/r1i1p1f1/Amon/tas/gr/v20210113/tas_Amon_EC-Earth3-CC_historical_r1i1p1f1_gr_190501-190512.nc\r\n",
      "/data/cmip6/CMIP6/CMIP/EC-Earth-Consortium/EC-Earth3-CC/historical/r1i1p1f1/Amon/tas/gr/v20210113/tas_Amon_EC-Earth3-CC_historical_r1i1p1f1_gr_195301-195312.nc\r\n",
      "/data/cmip6/CMIP6/CMIP/EC-Earth-Consortium/EC-Earth3-CC/historical/r1i1p1f1/Amon/tas/gr/v20210113/tas_Amon_EC-Earth3-CC_historical_r1i1p1f1_gr_192401-192412.nc\r\n",
      "/data/cmip6/CMIP6/CMIP/EC-Earth-Consortium/EC-Earth3-CC/historical/r1i1p1f1/Amon/tas/gr/v20210113/tas_Amon_EC-Earth3-CC_historical_r1i1p1f1_gr_198101-198112.nc\r\n",
      "/data/cmip6/CMIP6/CMIP/EC-Earth-Consortium/EC-Earth3-CC/historical/r1i1p1f1/Amon/tas/gr/v20210113/tas_Amon_EC-Earth3-CC_historical_r1i1p1f1_gr_188801-188812.nc\r\n",
      "/data/cmip6/CMIP6/CMIP/EC-Earth-Consortium/EC-Earth3-CC/historical/r1i1p1f1/Amon/tas/gr/v20210113/tas_Amon_EC-Earth3-CC_historical_r1i1p1f1_gr_194701-194712.nc\r\n",
      "/data/cmip6/CMIP6/CMIP/EC-Earth-Consortium/EC-Earth3-CC/historical/r1i1p1f1/Amon/tas/gr/v20210113/tas_Amon_EC-Earth3-CC_historical_r1i1p1f1_gr_190201-190212.nc\r\n",
      "/data/cmip6/CMIP6/CMIP/EC-Earth-Consortium/EC-Earth3-CC/historical/r1i1p1f1/Amon/tas/gr/v20210113/tas_Amon_EC-Earth3-CC_historical_r1i1p1f1_gr_200601-200612.nc\r\n",
      "/data/cmip6/CMIP6/CMIP/EC-Earth-Consortium/EC-Earth3-CC/historical/r1i1p1f1/Amon/tas/gr/v20210113/tas_Amon_EC-Earth3-CC_historical_r1i1p1f1_gr_186101-186112.nc\r\n",
      "/data/cmip6/CMIP6/CMIP/EC-Earth-Consortium/EC-Earth3-CC/historical/r1i1p1f1/Amon/tas/gr/v20210113/tas_Amon_EC-Earth3-CC_historical_r1i1p1f1_gr_185601-185612.nc\r\n",
      "/data/cmip6/CMIP6/CMIP/EC-Earth-Consortium/EC-Earth3-CC/historical/r1i1p1f1/Amon/tas/gr/v20210113/tas_Amon_EC-Earth3-CC_historical_r1i1p1f1_gr_187301-187312.nc\r\n",
      "/data/cmip6/CMIP6/CMIP/EC-Earth-Consortium/EC-Earth3-CC/historical/r1i1p1f1/Amon/tas/gr/v20210113/tas_Amon_EC-Earth3-CC_historical_r1i1p1f1_gr_194401-194412.nc\r\n",
      "/data/cmip6/CMIP6/CMIP/EC-Earth-Consortium/EC-Earth3-CC/historical/r1i1p1f1/Amon/tas/gr/v20210113/tas_Amon_EC-Earth3-CC_historical_r1i1p1f1_gr_197101-197112.nc\r\n",
      "/data/cmip6/CMIP6/CMIP/EC-Earth-Consortium/EC-Earth3-CC/historical/r1i1p1f1/Amon/tas/gr/v20210113/tas_Amon_EC-Earth3-CC_historical_r1i1p1f1_gr_190301-190312.nc\r\n",
      "/data/cmip6/CMIP6/CMIP/EC-Earth-Consortium/EC-Earth3-CC/historical/r1i1p1f1/Amon/tas/gr/v20210113/tas_Amon_EC-Earth3-CC_historical_r1i1p1f1_gr_199101-199112.nc\r\n",
      "/data/cmip6/CMIP6/CMIP/EC-Earth-Consortium/EC-Earth3-CC/historical/r1i1p1f1/Amon/tas/gr/v20210113/tas_Amon_EC-Earth3-CC_historical_r1i1p1f1_gr_185501-185512.nc\r\n",
      "/data/cmip6/CMIP6/CMIP/EC-Earth-Consortium/EC-Earth3-CC/historical/r1i1p1f1/Amon/tas/gr/v20210113/tas_Amon_EC-Earth3-CC_historical_r1i1p1f1_gr_186901-186912.nc\r\n",
      "/data/cmip6/CMIP6/CMIP/EC-Earth-Consortium/EC-Earth3-CC/historical/r1i1p1f1/Amon/tas/gr/v20210113/tas_Amon_EC-Earth3-CC_historical_r1i1p1f1_gr_187201-187212.nc\r\n",
      "/data/cmip6/CMIP6/CMIP/EC-Earth-Consortium/EC-Earth3-CC/historical/r1i1p1f1/Amon/tas/gr/v20210113/tas_Amon_EC-Earth3-CC_historical_r1i1p1f1_gr_198201-198212.nc\r\n",
      "/data/cmip6/CMIP6/CMIP/EC-Earth-Consortium/EC-Earth3-CC/historical/r1i1p1f1/Amon/tas/gr/v20210113/tas_Amon_EC-Earth3-CC_historical_r1i1p1f1_gr_191201-191212.nc\r\n"
     ]
    }
   ],
   "source": [
    "!find /data/cmip6/CMIP6/CMIP/EC-Earth-Consortium/EC-Earth3-CC -type f"
   ]
  },
  {
   "cell_type": "code",
   "execution_count": 8,
   "id": "married-cholesterol",
   "metadata": {
    "execution": {
     "iopub.execute_input": "2021-03-29T01:12:55.140824Z",
     "iopub.status.busy": "2021-03-29T01:12:55.140312Z",
     "iopub.status.idle": "2021-03-29T01:12:57.409321Z",
     "shell.execute_reply": "2021-03-29T01:12:57.408574Z"
    }
   },
   "outputs": [
    {
     "name": "stdout",
     "output_type": "stream",
     "text": [
      "/data/cmip6/CMIP6/ScenarioMIP/KIOST/KIOST-ESM\r\n"
     ]
    }
   ],
   "source": [
    "!find /data/cmip6/CMIP6/ScenarioMIP -name 'KIOST-ESM' -type d"
   ]
  },
  {
   "cell_type": "code",
   "execution_count": 9,
   "id": "surprised-plain",
   "metadata": {
    "execution": {
     "iopub.execute_input": "2021-03-29T01:12:57.421150Z",
     "iopub.status.busy": "2021-03-29T01:12:57.414423Z",
     "iopub.status.idle": "2021-03-29T01:12:57.538622Z",
     "shell.execute_reply": "2021-03-29T01:12:57.537973Z"
    }
   },
   "outputs": [],
   "source": [
    "!find /data/cmip6/CMIP6/ScenarioMIP/KIOST/KIOST-ESM -type f -name 'tas_Amon*_ssp245_*'"
   ]
  },
  {
   "cell_type": "code",
   "execution_count": 10,
   "id": "innovative-mining",
   "metadata": {
    "execution": {
     "iopub.execute_input": "2021-03-29T01:12:57.550042Z",
     "iopub.status.busy": "2021-03-29T01:12:57.549619Z",
     "iopub.status.idle": "2021-03-29T01:12:57.665488Z",
     "shell.execute_reply": "2021-03-29T01:12:57.666014Z"
    }
   },
   "outputs": [
    {
     "name": "stdout",
     "output_type": "stream",
     "text": [
      "/data/cmip6/CMIP6/ScenarioMIP/CCCR-IITM/IITM-ESM/ssp245/r1i1p1f1/Amon/tas/gn/v20200915/tas_Amon_IITM-ESM_ssp245_r1i1p1f1_gn_204501-205412.nc\r\n",
      "/data/cmip6/CMIP6/ScenarioMIP/CCCR-IITM/IITM-ESM/ssp245/r1i1p1f1/Amon/tas/gn/v20200915/tas_Amon_IITM-ESM_ssp245_r1i1p1f1_gn_201501-202412.nc\r\n",
      "/data/cmip6/CMIP6/ScenarioMIP/CCCR-IITM/IITM-ESM/ssp245/r1i1p1f1/Amon/tas/gn/v20200915/tas_Amon_IITM-ESM_ssp245_r1i1p1f1_gn_202501-203412.nc\r\n",
      "/data/cmip6/CMIP6/ScenarioMIP/CCCR-IITM/IITM-ESM/ssp245/r1i1p1f1/Amon/tas/gn/v20200915/tas_Amon_IITM-ESM_ssp245_r1i1p1f1_gn_205501-206412.nc\r\n",
      "/data/cmip6/CMIP6/ScenarioMIP/CCCR-IITM/IITM-ESM/ssp245/r1i1p1f1/Amon/tas/gn/v20200915/tas_Amon_IITM-ESM_ssp245_r1i1p1f1_gn_206501-207412.nc\r\n",
      "/data/cmip6/CMIP6/ScenarioMIP/CCCR-IITM/IITM-ESM/ssp245/r1i1p1f1/Amon/tas/gn/v20200915/tas_Amon_IITM-ESM_ssp245_r1i1p1f1_gn_203501-204412.nc\r\n",
      "/data/cmip6/CMIP6/ScenarioMIP/CCCR-IITM/IITM-ESM/ssp245/r1i1p1f1/Amon/tas/gn/v20200915/tas_Amon_IITM-ESM_ssp245_r1i1p1f1_gn_207501-208412.nc\r\n",
      "/data/cmip6/CMIP6/ScenarioMIP/CCCR-IITM/IITM-ESM/ssp245/r1i1p1f1/Amon/tas/gn/v20200915/tas_Amon_IITM-ESM_ssp245_r1i1p1f1_gn_208501-209412.nc\r\n",
      "/data/cmip6/CMIP6/ScenarioMIP/CCCR-IITM/IITM-ESM/ssp245/r1i1p1f1/Amon/tas/gn/v20200915/tas_Amon_IITM-ESM_ssp245_r1i1p1f1_gn_209501-209912.nc\r\n",
      "/data/cmip6/CMIP6/ScenarioMIP/CCCR-IITM/IITM-ESM/ssp245/r1i1p1f1/day/tas/gn/v20200915/tas_day_IITM-ESM_ssp245_r1i1p1f1_gn_20250101-20291231.nc\r\n",
      "/data/cmip6/CMIP6/ScenarioMIP/CCCR-IITM/IITM-ESM/ssp245/r1i1p1f1/day/tas/gn/v20200915/tas_day_IITM-ESM_ssp245_r1i1p1f1_gn_20500101-20541231.nc\r\n",
      "/data/cmip6/CMIP6/ScenarioMIP/CCCR-IITM/IITM-ESM/ssp245/r1i1p1f1/day/tas/gn/v20200915/tas_day_IITM-ESM_ssp245_r1i1p1f1_gn_20300101-20341231.nc\r\n",
      "/data/cmip6/CMIP6/ScenarioMIP/CCCR-IITM/IITM-ESM/ssp245/r1i1p1f1/day/tas/gn/v20200915/tas_day_IITM-ESM_ssp245_r1i1p1f1_gn_20450101-20491231.nc\r\n",
      "/data/cmip6/CMIP6/ScenarioMIP/CCCR-IITM/IITM-ESM/ssp245/r1i1p1f1/day/tas/gn/v20200915/tas_day_IITM-ESM_ssp245_r1i1p1f1_gn_20900101-20941231.nc\r\n",
      "/data/cmip6/CMIP6/ScenarioMIP/CCCR-IITM/IITM-ESM/ssp245/r1i1p1f1/day/tas/gn/v20200915/tas_day_IITM-ESM_ssp245_r1i1p1f1_gn_20850101-20891231.nc\r\n",
      "/data/cmip6/CMIP6/ScenarioMIP/CCCR-IITM/IITM-ESM/ssp245/r1i1p1f1/day/tas/gn/v20200915/tas_day_IITM-ESM_ssp245_r1i1p1f1_gn_20650101-20691231.nc\r\n",
      "/data/cmip6/CMIP6/ScenarioMIP/CCCR-IITM/IITM-ESM/ssp245/r1i1p1f1/day/tas/gn/v20200915/tas_day_IITM-ESM_ssp245_r1i1p1f1_gn_20800101-20841231.nc\r\n",
      "/data/cmip6/CMIP6/ScenarioMIP/CCCR-IITM/IITM-ESM/ssp245/r1i1p1f1/day/tas/gn/v20200915/tas_day_IITM-ESM_ssp245_r1i1p1f1_gn_20400101-20441231.nc\r\n",
      "/data/cmip6/CMIP6/ScenarioMIP/CCCR-IITM/IITM-ESM/ssp245/r1i1p1f1/day/tas/gn/v20200915/tas_day_IITM-ESM_ssp245_r1i1p1f1_gn_20750101-20791231.nc\r\n",
      "/data/cmip6/CMIP6/ScenarioMIP/CCCR-IITM/IITM-ESM/ssp245/r1i1p1f1/day/tas/gn/v20200915/tas_day_IITM-ESM_ssp245_r1i1p1f1_gn_20700101-20741231.nc\r\n",
      "/data/cmip6/CMIP6/ScenarioMIP/CCCR-IITM/IITM-ESM/ssp245/r1i1p1f1/day/tas/gn/v20200915/tas_day_IITM-ESM_ssp245_r1i1p1f1_gn_20200101-20241231.nc\r\n",
      "/data/cmip6/CMIP6/ScenarioMIP/CCCR-IITM/IITM-ESM/ssp245/r1i1p1f1/day/tas/gn/v20200915/tas_day_IITM-ESM_ssp245_r1i1p1f1_gn_20600101-20641231.nc\r\n",
      "/data/cmip6/CMIP6/ScenarioMIP/CCCR-IITM/IITM-ESM/ssp245/r1i1p1f1/day/tas/gn/v20200915/tas_day_IITM-ESM_ssp245_r1i1p1f1_gn_20150101-20191231.nc\r\n",
      "/data/cmip6/CMIP6/ScenarioMIP/CCCR-IITM/IITM-ESM/ssp245/r1i1p1f1/day/tas/gn/v20200915/tas_day_IITM-ESM_ssp245_r1i1p1f1_gn_20350101-20391231.nc\r\n",
      "/data/cmip6/CMIP6/ScenarioMIP/CCCR-IITM/IITM-ESM/ssp245/r1i1p1f1/day/tas/gn/v20200915/tas_day_IITM-ESM_ssp245_r1i1p1f1_gn_20950101-20991231.nc\r\n",
      "/data/cmip6/CMIP6/ScenarioMIP/CCCR-IITM/IITM-ESM/ssp245/r1i1p1f1/day/tas/gn/v20200915/tas_day_IITM-ESM_ssp245_r1i1p1f1_gn_20550101-20591231.nc\r\n"
     ]
    }
   ],
   "source": [
    "!find /data/cmip6/CMIP6/ScenarioMIP/CCCR-IITM/IITM-ESM -type f -name '*_ssp245_*'"
   ]
  },
  {
   "cell_type": "code",
   "execution_count": 11,
   "id": "minimal-flavor",
   "metadata": {
    "execution": {
     "iopub.execute_input": "2021-03-29T01:12:57.676915Z",
     "iopub.status.busy": "2021-03-29T01:12:57.676421Z",
     "iopub.status.idle": "2021-03-29T01:12:57.845761Z",
     "shell.execute_reply": "2021-03-29T01:12:57.846223Z"
    },
    "scrolled": false
   },
   "outputs": [
    {
     "name": "stdout",
     "output_type": "stream",
     "text": [
      "./country-crunch/netcdf-scm-crunched/CMIP6/ScenarioMIP/BCC/BCC-CSM2-MR/ssp245/r1i1p1f1/Amon/tas/gn/v20190314/netcdf-scm_tas_Amon_BCC-CSM2-MR_ssp245_r1i1p1f1_gn_201501-210012.nc\r\n",
      "./country-crunch/netcdf-scm-crunched/CMIP6/ScenarioMIP/CSIRO-ARCCSS/ACCESS-CM2/ssp245/r2i1p1f1/Amon/tas/gn/v20200303/netcdf-scm_tas_Amon_ACCESS-CM2_ssp245_r2i1p1f1_gn_201501-210012.nc\r\n",
      "./country-crunch/netcdf-scm-crunched/CMIP6/ScenarioMIP/CSIRO-ARCCSS/ACCESS-CM2/ssp245/r1i1p1f1/Amon/tas/gn/v20191108/netcdf-scm_tas_Amon_ACCESS-CM2_ssp245_r1i1p1f1_gn_201501-210012.nc\r\n",
      "./country-crunch/netcdf-scm-crunched/CMIP6/ScenarioMIP/NUIST/NESM3/ssp245/r2i1p1f1/Amon/tas/gn/v20190731/netcdf-scm_tas_Amon_NESM3_ssp245_r2i1p1f1_gn_201501-210012.nc\r\n",
      "./country-crunch/netcdf-scm-crunched/CMIP6/ScenarioMIP/NUIST/NESM3/ssp245/r1i1p1f1/Amon/tas/gn/v20190731/netcdf-scm_tas_Amon_NESM3_ssp245_r1i1p1f1_gn_201501-210012.nc\r\n",
      "./country-crunch/netcdf-scm-crunched/CMIP6/ScenarioMIP/MOHC/UKESM1-0-LL/ssp245/r1i1p1f2/Amon/tas/gn/v20190507/netcdf-scm_tas_Amon_UKESM1-0-LL_ssp245_r1i1p1f2_gn_201501-210012.nc\r\n",
      "./country-crunch/netcdf-scm-crunched/CMIP6/ScenarioMIP/MOHC/HadGEM3-GC31-LL/ssp245/r1i1p1f3/Amon/tas/gn/v20190908/netcdf-scm_tas_Amon_HadGEM3-GC31-LL_ssp245_r1i1p1f3_gn_201501-210012.nc\r\n",
      "./country-crunch/netcdf-scm-crunched/CMIP6/ScenarioMIP/EC-Earth-Consortium/EC-Earth3/ssp245/r2i1p1f1/Amon/tas/gr/v20200311/netcdf-scm_tas_Amon_EC-Earth3_ssp245_r2i1p1f1_gr_201501-210012.nc\r\n",
      "./country-crunch/netcdf-scm-crunched/CMIP6/ScenarioMIP/EC-Earth-Consortium/EC-Earth3/ssp245/r1i1p1f1/Amon/tas/gr/v20190927/netcdf-scm_tas_Amon_EC-Earth3_ssp245_r1i1p1f1_gr_201501-210012.nc\r\n",
      "./country-crunch/netcdf-scm-crunched/CMIP6/ScenarioMIP/EC-Earth-Consortium/EC-Earth3/ssp245/r1i1p1f1/Amon/tas/gr/v20200310/netcdf-scm_tas_Amon_EC-Earth3_ssp245_r1i1p1f1_gr_201501-210012.nc\r\n",
      "./country-crunch/netcdf-scm-crunched/CMIP6/ScenarioMIP/EC-Earth-Consortium/EC-Earth3-Veg/ssp245/r2i1p1f1/Amon/tas/gr/v20190925/netcdf-scm_tas_Amon_EC-Earth3-Veg_ssp245_r2i1p1f1_gr_201501-210012.nc\r\n",
      "./country-crunch/netcdf-scm-crunched/CMIP6/ScenarioMIP/EC-Earth-Consortium/EC-Earth3-Veg/ssp245/r2i1p1f1/Amon/tas/gr/v20200226/netcdf-scm_tas_Amon_EC-Earth3-Veg_ssp245_r2i1p1f1_gr_201501-210012.nc\r\n",
      "./country-crunch/netcdf-scm-crunched/CMIP6/ScenarioMIP/EC-Earth-Consortium/EC-Earth3-Veg/ssp245/r1i1p1f1/Amon/tas/gr/v20200225/netcdf-scm_tas_Amon_EC-Earth3-Veg_ssp245_r1i1p1f1_gr_201501-210012.nc\r\n",
      "./country-crunch/netcdf-scm-crunched/CMIP6/ScenarioMIP/EC-Earth-Consortium/EC-Earth3-Veg/ssp245/r1i1p1f1/Amon/tas/gr/v20190629/netcdf-scm_tas_Amon_EC-Earth3-Veg_ssp245_r1i1p1f1_gr_201501-210012.nc\r\n",
      "./country-crunch/netcdf-scm-crunched/CMIP6/ScenarioMIP/EC-Earth-Consortium/EC-Earth3-Veg-LR/ssp245/r2i1p1f1/Amon/tas/gr/v20201123/netcdf-scm_tas_Amon_EC-Earth3-Veg-LR_ssp245_r2i1p1f1_gr_206701-210012.nc\r\n",
      "./country-crunch/netcdf-scm-crunched/CMIP6/ScenarioMIP/EC-Earth-Consortium/EC-Earth3-Veg-LR/ssp245/r1i1p1f1/Amon/tas/gr/v20201123/netcdf-scm_tas_Amon_EC-Earth3-Veg-LR_ssp245_r1i1p1f1_gr_206801-210012.nc\r\n",
      "./country-crunch/netcdf-scm-crunched/CMIP6/ScenarioMIP/CMCC/CMCC-ESM2/ssp245/r1i1p1f1/Amon/tas/gn/v20210129/netcdf-scm_tas_Amon_CMCC-ESM2_ssp245_r1i1p1f1_gn_201501-210012.nc\r\n",
      "./country-crunch/netcdf-scm-crunched/CMIP6/ScenarioMIP/CMCC/CMCC-CM2-SR5/ssp245/r1i1p1f1/Amon/tas/gn/v20200617/netcdf-scm_tas_Amon_CMCC-CM2-SR5_ssp245_r1i1p1f1_gn_201501-210012.nc\r\n",
      "./country-crunch/netcdf-scm-crunched/CMIP6/ScenarioMIP/INM/INM-CM4-8/ssp245/r1i1p1f1/Amon/tas/gr1/v20190603/netcdf-scm_tas_Amon_INM-CM4-8_ssp245_r1i1p1f1_gr1_201501-210012.nc\r\n",
      "./country-crunch/netcdf-scm-crunched/CMIP6/ScenarioMIP/INM/INM-CM5-0/ssp245/r1i1p1f1/Amon/tas/gr1/v20190619/netcdf-scm_tas_Amon_INM-CM5-0_ssp245_r1i1p1f1_gr1_201501-210012.nc\r\n",
      "./country-crunch/netcdf-scm-crunched/CMIP6/ScenarioMIP/IPSL/IPSL-CM6A-LR/ssp245/r2i1p1f1/Amon/tas/gr/v20190516/netcdf-scm_tas_Amon_IPSL-CM6A-LR_ssp245_r2i1p1f1_gr_201501-210012.nc\r\n",
      "./country-crunch/netcdf-scm-crunched/CMIP6/ScenarioMIP/IPSL/IPSL-CM6A-LR/ssp245/r1i1p1f1/Amon/tas/gr/v20190119/netcdf-scm_tas_Amon_IPSL-CM6A-LR_ssp245_r1i1p1f1_gr_201501-210012.nc\r\n",
      "./country-crunch/netcdf-scm-crunched/CMIP6/ScenarioMIP/AWI/AWI-CM-1-1-MR/ssp245/r1i1p1f1/Amon/tas/gn/v20190529/netcdf-scm_tas_Amon_AWI-CM-1-1-MR_ssp245_r1i1p1f1_gn_201501-210012.nc\r\n",
      "./country-crunch/netcdf-scm-crunched/CMIP6/ScenarioMIP/NIMS-KMA/KACE-1-0-G/ssp245/r2i1p1f1/Amon/tas/gr/v20191217/netcdf-scm_tas_Amon_KACE-1-0-G_ssp245_r2i1p1f1_gr_201501-210012.nc\r\n",
      "./country-crunch/netcdf-scm-crunched/CMIP6/ScenarioMIP/NIMS-KMA/KACE-1-0-G/ssp245/r1i1p1f1/Amon/tas/gr/v20191217/netcdf-scm_tas_Amon_KACE-1-0-G_ssp245_r1i1p1f1_gr_201501-210012.nc\r\n",
      "./country-crunch/netcdf-scm-crunched/CMIP6/ScenarioMIP/MPI-M/MPI-ESM1-2-LR/ssp245/r2i1p1f1/Amon/tas/gn/v20190710/netcdf-scm_tas_Amon_MPI-ESM1-2-LR_ssp245_r2i1p1f1_gn_201501-210012.nc\r\n",
      "./country-crunch/netcdf-scm-crunched/CMIP6/ScenarioMIP/MPI-M/MPI-ESM1-2-LR/ssp245/r1i1p1f1/Amon/tas/gn/v20190710/netcdf-scm_tas_Amon_MPI-ESM1-2-LR_ssp245_r1i1p1f1_gn_201501-210012.nc\r\n",
      "./country-crunch/netcdf-scm-crunched/CMIP6/ScenarioMIP/CSIRO/ACCESS-ESM1-5/ssp245/r2i1p1f1/Amon/tas/gn/v20191129/netcdf-scm_tas_Amon_ACCESS-ESM1-5_ssp245_r2i1p1f1_gn_201501-210012.nc\r\n",
      "./country-crunch/netcdf-scm-crunched/CMIP6/ScenarioMIP/CSIRO/ACCESS-ESM1-5/ssp245/r1i1p1f1/Amon/tas/gn/v20191115/netcdf-scm_tas_Amon_ACCESS-ESM1-5_ssp245_r1i1p1f1_gn_201501-210012.nc\r\n",
      "./country-crunch/netcdf-scm-crunched/CMIP6/ScenarioMIP/DKRZ/MPI-ESM1-2-HR/ssp245/r2i1p1f1/Amon/tas/gn/v20190710/netcdf-scm_tas_Amon_MPI-ESM1-2-HR_ssp245_r2i1p1f1_gn_201501-210012.nc\r\n",
      "./country-crunch/netcdf-scm-crunched/CMIP6/ScenarioMIP/DKRZ/MPI-ESM1-2-HR/ssp245/r1i1p1f1/Amon/tas/gn/v20190710/netcdf-scm_tas_Amon_MPI-ESM1-2-HR_ssp245_r1i1p1f1_gn_201501-210012.nc\r\n",
      "./country-crunch/netcdf-scm-crunched/CMIP6/ScenarioMIP/CNRM-CERFACS/CNRM-CM6-1/ssp245/r1i1p1f2/Amon/tas/gr/v20190219/netcdf-scm_tas_Amon_CNRM-CM6-1_ssp245_r1i1p1f2_gr_201501-210012.nc\r\n",
      "./country-crunch/netcdf-scm-crunched/CMIP6/ScenarioMIP/CNRM-CERFACS/CNRM-CM6-1-HR/ssp245/r1i1p1f2/Amon/tas/gr/v20191202/netcdf-scm_tas_Amon_CNRM-CM6-1-HR_ssp245_r1i1p1f2_gr_201501-210012.nc\r\n",
      "./country-crunch/netcdf-scm-crunched/CMIP6/ScenarioMIP/CNRM-CERFACS/CNRM-ESM2-1/ssp245/r1i1p1f2/Amon/tas/gr/v20190328/netcdf-scm_tas_Amon_CNRM-ESM2-1_ssp245_r1i1p1f2_gr_201501-210012.nc\r\n",
      "./country-crunch/netcdf-scm-crunched/CMIP6/ScenarioMIP/NCAR/CESM2/ssp245/r2i1p1f1/Amon/tas/gn/v20191106/netcdf-scm_tas_Amon_CESM2_ssp245_r2i1p1f1_gn_201501-210012.nc\r\n",
      "./country-crunch/netcdf-scm-crunched/CMIP6/ScenarioMIP/NCAR/CESM2/ssp245/r1i1p1f1/Amon/tas/gn/v20190730/netcdf-scm_tas_Amon_CESM2_ssp245_r1i1p1f1_gn_201501-210012.nc\r\n",
      "./country-crunch/netcdf-scm-crunched/CMIP6/ScenarioMIP/NCAR/CESM2-WACCM/ssp245/r2i1p1f1/Amon/tas/gn/v20200224/netcdf-scm_tas_Amon_CESM2-WACCM_ssp245_r2i1p1f1_gn_201501-210012.nc\r\n",
      "./country-crunch/netcdf-scm-crunched/CMIP6/ScenarioMIP/NCAR/CESM2-WACCM/ssp245/r1i1p1f1/Amon/tas/gn/v20190815/netcdf-scm_tas_Amon_CESM2-WACCM_ssp245_r1i1p1f1_gn_201501-210012.nc\r\n",
      "./country-crunch/netcdf-scm-crunched/CMIP6/ScenarioMIP/MRI/MRI-ESM2-0/ssp245/r2i1p1f1/Amon/tas/gn/v20190308/netcdf-scm_tas_Amon_MRI-ESM2-0_ssp245_r2i1p1f1_gn_201501-203012.nc\r\n",
      "./country-crunch/netcdf-scm-crunched/CMIP6/ScenarioMIP/MRI/MRI-ESM2-0/ssp245/r1i1p1f1/Amon/tas/gn/v20190222/netcdf-scm_tas_Amon_MRI-ESM2-0_ssp245_r1i1p1f1_gn_201501-210012.nc\r\n",
      "./country-crunch/netcdf-scm-crunched/CMIP6/ScenarioMIP/THU/CIESM/ssp245/r1i1p1f1/Amon/tas/gr/v20200417/netcdf-scm_tas_Amon_CIESM_ssp245_r1i1p1f1_gr_201501-210012.nc\r\n",
      "./country-crunch/netcdf-scm-crunched/CMIP6/ScenarioMIP/CCCma/CanESM5/ssp245/r2i1p1f1/Amon/tas/gn/v20190429/netcdf-scm_tas_Amon_CanESM5_ssp245_r2i1p1f1_gn_201501-210012.nc\r\n",
      "./country-crunch/netcdf-scm-crunched/CMIP6/ScenarioMIP/CCCma/CanESM5/ssp245/r1i1p1f1/Amon/tas/gn/v20190429/netcdf-scm_tas_Amon_CanESM5_ssp245_r1i1p1f1_gn_201501-210012.nc\r\n",
      "./country-crunch/netcdf-scm-crunched/CMIP6/ScenarioMIP/CCCma/CanESM5/ssp245/r1i1p2f1/Amon/tas/gn/v20190429/netcdf-scm_tas_Amon_CanESM5_ssp245_r1i1p2f1_gn_201501-210012.nc\r\n",
      "./country-crunch/netcdf-scm-crunched/CMIP6/ScenarioMIP/CCCma/CanESM5-CanOE/ssp245/r1i1p2f1/Amon/tas/gn/v20190429/netcdf-scm_tas_Amon_CanESM5-CanOE_ssp245_r1i1p2f1_gn_201501-210012.nc\r\n",
      "./country-crunch/netcdf-scm-crunched/CMIP6/ScenarioMIP/NASA-GISS/GISS-E2-1-G/ssp245/r1i1p1f2/Amon/tas/gn/v20200115/netcdf-scm_tas_Amon_GISS-E2-1-G_ssp245_r1i1p1f2_gn_201501-210012.nc\r\n",
      "./country-crunch/netcdf-scm-crunched/CMIP6/ScenarioMIP/CAS/FGOALS-g3/ssp245/r2i1p1f1/Amon/tas/gn/v20191211/netcdf-scm_tas_Amon_FGOALS-g3_ssp245_r2i1p1f1_gn_201501-210012.nc\r\n",
      "./country-crunch/netcdf-scm-crunched/CMIP6/ScenarioMIP/CAS/FGOALS-g3/ssp245/r1i1p1f1/Amon/tas/gn/v20190818/netcdf-scm_tas_Amon_FGOALS-g3_ssp245_r1i1p1f1_gn_201501-210012.nc\r\n",
      "./country-crunch/netcdf-scm-crunched/CMIP6/ScenarioMIP/CAS/FGOALS-f3-L/ssp245/r1i1p1f1/Amon/tas/gr/v20191013/netcdf-scm_tas_Amon_FGOALS-f3-L_ssp245_r1i1p1f1_gr_201501-210012.nc\r\n",
      "./country-crunch/netcdf-scm-crunched/CMIP6/ScenarioMIP/CAMS/CAMS-CSM1-0/ssp245/r2i1p1f1/Amon/tas/gn/v20190924/netcdf-scm_tas_Amon_CAMS-CSM1-0_ssp245_r2i1p1f1_gn_201501-209912.nc\r\n",
      "./country-crunch/netcdf-scm-crunched/CMIP6/ScenarioMIP/CAMS/CAMS-CSM1-0/ssp245/r1i1p1f1/Amon/tas/gn/v20190708/netcdf-scm_tas_Amon_CAMS-CSM1-0_ssp245_r1i1p1f1_gn_201501-209912.nc\r\n",
      "./country-crunch/netcdf-scm-crunched/CMIP6/ScenarioMIP/NCC/NorESM2-LM/ssp245/r2i1p1f1/Amon/tas/gn/v20191108/netcdf-scm_tas_Amon_NorESM2-LM_ssp245_r2i1p1f1_gn_201501-210012.nc\r\n",
      "./country-crunch/netcdf-scm-crunched/CMIP6/ScenarioMIP/NCC/NorESM2-LM/ssp245/r1i1p1f1/Amon/tas/gn/v20191108/netcdf-scm_tas_Amon_NorESM2-LM_ssp245_r1i1p1f1_gn_201501-210012.nc\r\n",
      "./country-crunch/netcdf-scm-crunched/CMIP6/ScenarioMIP/NCC/NorESM2-MM/ssp245/r2i1p1f1/Amon/tas/gn/v20200702/netcdf-scm_tas_Amon_NorESM2-MM_ssp245_r2i1p1f1_gn_201501-210012.nc\r\n",
      "./country-crunch/netcdf-scm-crunched/CMIP6/ScenarioMIP/NCC/NorESM2-MM/ssp245/r1i1p1f1/Amon/tas/gn/v20191108/netcdf-scm_tas_Amon_NorESM2-MM_ssp245_r1i1p1f1_gn_201501-210012.nc\r\n",
      "./country-crunch/netcdf-scm-crunched/CMIP6/ScenarioMIP/MIROC/MIROC6/ssp245/r2i1p1f1/Amon/tas/gn/v20190627/netcdf-scm_tas_Amon_MIROC6_ssp245_r2i1p1f1_gn_201501-210012.nc\r\n",
      "./country-crunch/netcdf-scm-crunched/CMIP6/ScenarioMIP/MIROC/MIROC6/ssp245/r1i1p1f1/Amon/tas/gn/v20190627/netcdf-scm_tas_Amon_MIROC6_ssp245_r1i1p1f1_gn_201501-210012.nc\r\n",
      "./country-crunch/netcdf-scm-crunched/CMIP6/ScenarioMIP/MIROC/MIROC-ES2L/ssp245/r1i1p1f2/Amon/tas/gn/v20190823/netcdf-scm_tas_Amon_MIROC-ES2L_ssp245_r1i1p1f2_gn_201501-210012.nc\r\n"
     ]
    }
   ],
   "source": [
    "!find {CRUNCH_DIR} -name '*_ssp245_*' -type f  #| wc -l"
   ]
  }
 ],
 "metadata": {
  "kernelspec": {
   "display_name": "Python 3",
   "language": "python",
   "name": "python3"
  },
  "language_info": {
   "codemirror_mode": {
    "name": "ipython",
    "version": 3
   },
   "file_extension": ".py",
   "mimetype": "text/x-python",
   "name": "python",
   "nbconvert_exporter": "python",
   "pygments_lexer": "ipython3",
   "version": "3.8.8"
  }
 },
 "nbformat": 4,
 "nbformat_minor": 5
}
