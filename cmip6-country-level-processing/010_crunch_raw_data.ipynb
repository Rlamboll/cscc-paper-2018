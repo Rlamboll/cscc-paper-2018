{
 "cells": [
  {
   "cell_type": "markdown",
   "id": "governmental-detail",
   "metadata": {},
   "source": [
    "# Crunch raw CMIP6 data\n",
    "\n",
    "Here we calculate the country-means."
   ]
  },
  {
   "cell_type": "code",
   "execution_count": 1,
   "id": "vertical-demographic",
   "metadata": {
    "execution": {
     "iopub.execute_input": "2021-03-29T00:31:19.927417Z",
     "iopub.status.busy": "2021-03-29T00:31:19.926829Z",
     "iopub.status.idle": "2021-03-29T00:31:21.103845Z",
     "shell.execute_reply": "2021-03-29T00:31:21.102798Z"
    }
   },
   "outputs": [],
   "source": [
    "import netcdf_scm\n",
    "import regionmask"
   ]
  },
  {
   "cell_type": "code",
   "execution_count": 2,
   "id": "peaceful-gauge",
   "metadata": {
    "execution": {
     "iopub.execute_input": "2021-03-29T00:31:21.114368Z",
     "iopub.status.busy": "2021-03-29T00:31:21.113405Z",
     "iopub.status.idle": "2021-03-29T00:31:21.117569Z",
     "shell.execute_reply": "2021-03-29T00:31:21.118382Z"
    }
   },
   "outputs": [
    {
     "data": {
      "text/plain": [
       "'2.0.2+60.g40ae4f12'"
      ]
     },
     "execution_count": 2,
     "metadata": {},
     "output_type": "execute_result"
    }
   ],
   "source": [
    "netcdf_scm.__version__"
   ]
  },
  {
   "cell_type": "code",
   "execution_count": 3,
   "id": "ultimate-poetry",
   "metadata": {
    "execution": {
     "iopub.execute_input": "2021-03-29T00:31:21.122957Z",
     "iopub.status.busy": "2021-03-29T00:31:21.122168Z",
     "iopub.status.idle": "2021-03-29T00:31:21.124980Z",
     "shell.execute_reply": "2021-03-29T00:31:21.124222Z"
    }
   },
   "outputs": [],
   "source": [
    "CRUNCH_DIR = \"./country-crunch\""
   ]
  },
  {
   "cell_type": "code",
   "execution_count": 4,
   "id": "extreme-mechanism",
   "metadata": {
    "execution": {
     "iopub.execute_input": "2021-03-29T00:31:21.129534Z",
     "iopub.status.busy": "2021-03-29T00:31:21.128710Z",
     "iopub.status.idle": "2021-03-29T00:31:21.251168Z",
     "shell.execute_reply": "2021-03-29T00:31:21.251913Z"
    }
   },
   "outputs": [],
   "source": [
    "!mkdir -p {CRUNCH_DIR}"
   ]
  },
  {
   "cell_type": "code",
   "execution_count": 5,
   "id": "liable-humor",
   "metadata": {
    "execution": {
     "iopub.execute_input": "2021-03-29T00:31:21.261760Z",
     "iopub.status.busy": "2021-03-29T00:31:21.260716Z",
     "iopub.status.idle": "2021-03-29T00:31:21.264203Z",
     "shell.execute_reply": "2021-03-29T00:31:21.263350Z"
    }
   },
   "outputs": [],
   "source": [
    "too_small_regions = {\n",
    "    \"World|Natural Earth 50m|San Marino\",\n",
    "    \"World|Natural Earth 50m|Turks and Caicos Is.\",\n",
    "    \"World|Natural Earth 50m|Indian Ocean Ter.\",\n",
    "    \"World|Natural Earth 50m|Falkland Is.\",\n",
    "    \"World|Natural Earth 50m|Israel\",\n",
    "    \"World|Natural Earth 50m|Kiribati\",\n",
    "    \"World|Natural Earth 50m|Jamaica\",\n",
    "    \"World|Natural Earth 50m|Fr. S. Antarctic Lands\",\n",
    "    \"World|Natural Earth 50m|Vanuatu\",\n",
    "    \"World|Natural Earth 50m|N. Mariana Is.\",\n",
    "    \"World|Natural Earth 50m|Palau\",\n",
    "    \"World|Natural Earth 50m|Liechtenstein\",\n",
    "    \"World|Natural Earth 50m|St-Barthélemy\",\n",
    "    \"World|Natural Earth 50m|Monaco\",\n",
    "    \"World|Natural Earth 50m|Wallis and Futuna Is.\",\n",
    "    \"World|Natural Earth 50m|Puerto Rico\",\n",
    "    \"World|Natural Earth 50m|Bermuda\",\n",
    "    \"World|Natural Earth 50m|Dominica\",\n",
    "    \"World|Natural Earth 50m|Nauru\",\n",
    "    \"World|Natural Earth 50m|Isle of Man\",\n",
    "    \"World|Natural Earth 50m|Rwanda\",\n",
    "    \"World|Natural Earth 50m|Grenada\",\n",
    "    \"World|Natural Earth 50m|Seychelles\",\n",
    "    \"World|Natural Earth 50m|S. Geo. and the Is.\",\n",
    "    \"World|Natural Earth 50m|Cayman Is.\",\n",
    "    \"World|Natural Earth 50m|Sint Maarten\",\n",
    "    \"World|Natural Earth 50m|Maldives\",\n",
    "    \"World|Natural Earth 50m|Norfolk Island\",\n",
    "    \"World|Natural Earth 50m|St-Martin\",\n",
    "    \"World|Natural Earth 50m|Bahamas\",\n",
    "    \"World|Natural Earth 50m|British Virgin Is.\",\n",
    "    \"World|Natural Earth 50m|Comoros\",\n",
    "    \"World|Natural Earth 50m|St. Kitts and Nevis\",\n",
    "    \"World|Natural Earth 50m|Barbados\",\n",
    "    \"World|Natural Earth 50m|Palestine\",\n",
    "    \"World|Natural Earth 50m|American Samoa\",\n",
    "    \"World|Natural Earth 50m|St. Vin. and Gren.\",\n",
    "    \"World|Natural Earth 50m|Brunei\",\n",
    "    \"World|Natural Earth 50m|Curaçao\",\n",
    "    \"World|Natural Earth 50m|Guam\",\n",
    "    \"World|Natural Earth 50m|St. Pierre and Miquelon\",\n",
    "    \"World|Natural Earth 50m|Jersey\",\n",
    "    \"World|Natural Earth 50m|Macao\",\n",
    "    \"World|Natural Earth 50m|Saint Lucia\",\n",
    "    \"World|Natural Earth 50m|Cook Is.\",\n",
    "    \"World|Natural Earth 50m|Fr. Polynesia\",\n",
    "    \"World|Natural Earth 50m|Faeroe Is.\",\n",
    "    \"World|Natural Earth 50m|Luxembourg\",\n",
    "    \"World|Natural Earth 50m|Saint Helena\",\n",
    "    \"World|Natural Earth 50m|Åland\",\n",
    "    \"World|Natural Earth 50m|Niue\",\n",
    "    \"World|Natural Earth 50m|Pitcairn Is.\",\n",
    "    \"World|Natural Earth 50m|Br. Indian Ocean Ter.\",\n",
    "    \"World|Natural Earth 50m|Vatican\",\n",
    "    \"World|Natural Earth 50m|Heard I. and McDonald Is.\",\n",
    "    \"World|Natural Earth 50m|Albania\",\n",
    "    \"World|Natural Earth 50m|Malta\",\n",
    "    \"World|Natural Earth 50m|N. Cyprus\",\n",
    "    \"World|Natural Earth 50m|Ashmore and Cartier Is.\",\n",
    "    \"World|Natural Earth 50m|Trinidad and Tobago\",\n",
    "    \"World|Natural Earth 50m|Marshall Is.\",\n",
    "    \"World|Natural Earth 50m|Belize\",\n",
    "    \"World|Natural Earth 50m|U.S. Virgin Is.\",\n",
    "    \"World|Natural Earth 50m|Antigua and Barb.\",\n",
    "    \"World|Natural Earth 50m|Kuwait\",\n",
    "    \"World|Natural Earth 50m|Siachen Glacier\",\n",
    "    \"World|Natural Earth 50m|Andorra\",\n",
    "    \"World|Natural Earth 50m|Singapore\",\n",
    "    \"World|Natural Earth 50m|Micronesia\",\n",
    "    \"World|Natural Earth 50m|Bahrain\",\n",
    "    \"World|Natural Earth 50m|Togo\",\n",
    "    \"World|Natural Earth 50m|Hong Kong\",\n",
    "    \"World|Natural Earth 50m|Anguilla\",\n",
    "    \"World|Natural Earth 50m|Mauritius\",\n",
    "    \"World|Natural Earth 50m|Aruba\",\n",
    "    \"World|Natural Earth 50m|São Tomé and Principe\",\n",
    "    \"World|Natural Earth 50m|Solomon Is.\",\n",
    "    \"World|Natural Earth 50m|Qatar\",\n",
    "    \"World|Natural Earth 50m|Tonga\",\n",
    "    \"World|Natural Earth 50m|Guernsey\",\n",
    "    \"World|Natural Earth 50m|Montserrat\",\n",
    "    \"World|Natural Earth 50m|Haiti\",\n",
    "}"
   ]
  },
  {
   "cell_type": "code",
   "execution_count": 6,
   "id": "conventional-offering",
   "metadata": {
    "execution": {
     "iopub.execute_input": "2021-03-29T00:31:21.269983Z",
     "iopub.status.busy": "2021-03-29T00:31:21.269182Z",
     "iopub.status.idle": "2021-03-29T00:31:21.501576Z",
     "shell.execute_reply": "2021-03-29T00:31:21.501049Z"
    }
   },
   "outputs": [
    {
     "data": {
      "text/plain": [
       "160"
      ]
     },
     "metadata": {},
     "output_type": "display_data"
    }
   ],
   "source": [
    "regions = (\n",
    "    set(\n",
    "        [\n",
    "            \"World|Natural Earth 50m|{}\".format(c)\n",
    "            for c in regionmask.defined_regions.natural_earth.countries_50.names\n",
    "        ]\n",
    "        + [\"World\"]\n",
    "    )\n",
    "    - too_small_regions\n",
    ")\n",
    "display(len(regions))\n",
    "regions = \",\".join(regions)\n",
    "# regions"
   ]
  },
  {
   "cell_type": "code",
   "execution_count": 14,
   "id": "developmental-surface",
   "metadata": {
    "execution": {
     "iopub.execute_input": "2021-03-29T00:31:21.828486Z",
     "iopub.status.busy": "2021-03-29T00:31:21.821600Z",
     "iopub.status.idle": "2021-03-29T01:12:55.128212Z",
     "shell.execute_reply": "2021-03-29T01:12:55.127435Z"
    }
   },
   "outputs": [
    {
     "name": "stdout",
     "output_type": "stream",
     "text": [
      "34505 2021-03-30 06:56:56,864 \u001b[32mINFO\u001b[0m:netcdf_scm:netcdf-scm: 2.0.2+60.g40ae4f12\n",
      "34505 2021-03-30 06:56:56,865 \u001b[32mINFO\u001b[0m:netcdf_scm:crunch-contact: Zebedee Nicholls <zebedee.nicholls@climate-energy-college.org>\n",
      "34505 2021-03-30 06:56:56,865 \u001b[32mINFO\u001b[0m:netcdf_scm:source: /data/cmip6-manual-download/CMIP6\n",
      "34505 2021-03-30 06:56:56,865 \u001b[32mINFO\u001b[0m:netcdf_scm:destination: /data/ubuntu-znicholls/cscc-paper-2018/cmip6-country-level-processing/country-crunch/netcdf-scm-crunched\n",
      "34505 2021-03-30 06:56:56,865 \u001b[32mINFO\u001b[0m:netcdf_scm:drs: CMIP6Output\n",
      "34505 2021-03-30 06:56:56,865 \u001b[32mINFO\u001b[0m:netcdf_scm:regexp: .*(CMIP|ScenarioMIP).*FIO.*(/ssp|/historical/|/piControl/).*(r1i1p1f1|r2i1p1f1|r3i1p1f1|r1i1p1f2|r1i1p2f1|r1i1p1f3|r4i1p1f1|r10i1p1f1|r11i1p1f1).*Amon.*/tas/.*\n",
      "34505 2021-03-30 06:56:56,865 \u001b[32mINFO\u001b[0m:netcdf_scm:regions: World|Natural Earth 50m|Angola,World|Natural Earth 50m|Bulgaria,World|Natural Earth 50m|Mongolia,World|Natural Earth 50m|Lebanon,World|Natural Earth 50m|Turkey,World|Natural Earth 50m|Burundi,World|Natural Earth 50m|Mozambique,World|Natural Earth 50m|Uzbekistan,World|Natural Earth 50m|Zimbabwe,World|Natural Earth 50m|Belarus,World|Natural Earth 50m|Bolivia,World|Natural Earth 50m|Philippines,World|Natural Earth 50m|China,World|Natural Earth 50m|Argentina,World|Natural Earth 50m|Paraguay,World|Natural Earth 50m|Ireland,World|Natural Earth 50m|Switzerland,World|Natural Earth 50m|Croatia,World|Natural Earth 50m|Cameroon,World,World|Natural Earth 50m|Romania,World|Natural Earth 50m|United States of America,World|Natural Earth 50m|Kenya,World|Natural Earth 50m|Tanzania,World|Natural Earth 50m|Namibia,World|Natural Earth 50m|Georgia,World|Natural Earth 50m|Burkina Faso,World|Natural Earth 50m|Oman,World|Natural Earth 50m|Egypt,World|Natural Earth 50m|Costa Rica,World|Natural Earth 50m|Panama,World|Natural Earth 50m|Uruguay,World|Natural Earth 50m|Nepal,World|Natural Earth 50m|Suriname,World|Natural Earth 50m|Saudi Arabia,World|Natural Earth 50m|Lithuania,World|Natural Earth 50m|Macedonia,World|Natural Earth 50m|Dominican Rep.,World|Natural Earth 50m|Dem. Rep. Congo,World|Natural Earth 50m|S. Sudan,World|Natural Earth 50m|Kyrgyzstan,World|Natural Earth 50m|Niger,World|Natural Earth 50m|Eritrea,World|Natural Earth 50m|Djibouti,World|Natural Earth 50m|France,World|Natural Earth 50m|Greenland,World|Natural Earth 50m|Spain,World|Natural Earth 50m|Montenegro,World|Natural Earth 50m|Venezuela,World|Natural Earth 50m|Ethiopia,World|Natural Earth 50m|Iceland,World|Natural Earth 50m|Finland,World|Natural Earth 50m|Libya,World|Natural Earth 50m|Uganda,World|Natural Earth 50m|Algeria,World|Natural Earth 50m|Malaysia,World|Natural Earth 50m|United Arab Emirates,World|Natural Earth 50m|Sweden,World|Natural Earth 50m|Malawi,World|Natural Earth 50m|Iran,World|Natural Earth 50m|Indonesia,World|Natural Earth 50m|Cabo Verde,World|Natural Earth 50m|Slovenia,World|Natural Earth 50m|Guinea-Bissau,World|Natural Earth 50m|Armenia,World|Natural Earth 50m|Kosovo,World|Natural Earth 50m|Laos,World|Natural Earth 50m|South Africa,World|Natural Earth 50m|Sudan,World|Natural Earth 50m|Thailand,World|Natural Earth 50m|Tunisia,World|Natural Earth 50m|India,World|Natural Earth 50m|Estonia,World|Natural Earth 50m|Vietnam,World|Natural Earth 50m|Russia,World|Natural Earth 50m|Madagascar,World|Natural Earth 50m|Syria,World|Natural Earth 50m|Norway,World|Natural Earth 50m|W. Sahara,World|Natural Earth 50m|Mexico,World|Natural Earth 50m|Greece,World|Natural Earth 50m|Côte d'Ivoire,World|Natural Earth 50m|Germany,World|Natural Earth 50m|Japan,World|Natural Earth 50m|Somaliland,World|Natural Earth 50m|Italy,World|Natural Earth 50m|Australia,World|Natural Earth 50m|Zambia,World|Natural Earth 50m|Honduras,World|Natural Earth 50m|Jordan,World|Natural Earth 50m|Cyprus,World|Natural Earth 50m|Guinea,World|Natural Earth 50m|Antarctica,World|Natural Earth 50m|Tajikistan,World|Natural Earth 50m|Nigeria,World|Natural Earth 50m|Senegal,World|Natural Earth 50m|Sri Lanka,World|Natural Earth 50m|Congo,World|Natural Earth 50m|North Korea,World|Natural Earth 50m|Austria,World|Natural Earth 50m|Chile,World|Natural Earth 50m|Netherlands,World|Natural Earth 50m|Taiwan,World|Natural Earth 50m|Samoa,World|Natural Earth 50m|Denmark,World|Natural Earth 50m|Portugal,World|Natural Earth 50m|Bosnia and Herz.,World|Natural Earth 50m|Chad,World|Natural Earth 50m|eSwatini,World|Natural Earth 50m|Benin,World|Natural Earth 50m|Timor-Leste,World|Natural Earth 50m|Turkmenistan,World|Natural Earth 50m|Slovakia,World|Natural Earth 50m|Peru,World|Natural Earth 50m|Ecuador,World|Natural Earth 50m|Ukraine,World|Natural Earth 50m|Fiji,World|Natural Earth 50m|United Kingdom,World|Natural Earth 50m|New Zealand,World|Natural Earth 50m|Hungary,World|Natural Earth 50m|Gambia,World|Natural Earth 50m|New Caledonia,World|Natural Earth 50m|Ghana,World|Natural Earth 50m|Serbia,World|Natural Earth 50m|Central African Rep.,World|Natural Earth 50m|Nicaragua,World|Natural Earth 50m|Canada,World|Natural Earth 50m|Lesotho,World|Natural Earth 50m|Colombia,World|Natural Earth 50m|South Korea,World|Natural Earth 50m|Myanmar,World|Natural Earth 50m|Guatemala,World|Natural Earth 50m|Cuba,World|Natural Earth 50m|Yemen,World|Natural Earth 50m|Mali,World|Natural Earth 50m|Papua New Guinea,World|Natural Earth 50m|Somalia,World|Natural Earth 50m|Czechia,World|Natural Earth 50m|Moldova,World|Natural Earth 50m|Morocco,World|Natural Earth 50m|Poland,World|Natural Earth 50m|Bhutan,World|Natural Earth 50m|Pakistan,World|Natural Earth 50m|Sierra Leone,World|Natural Earth 50m|Guyana,World|Natural Earth 50m|Afghanistan,World|Natural Earth 50m|Liberia,World|Natural Earth 50m|Kazakhstan,World|Natural Earth 50m|Eq. Guinea,World|Natural Earth 50m|Brazil,World|Natural Earth 50m|El Salvador,World|Natural Earth 50m|Mauritania,World|Natural Earth 50m|Gabon,World|Natural Earth 50m|Botswana,World|Natural Earth 50m|Bangladesh,World|Natural Earth 50m|Cambodia,World|Natural Earth 50m|Azerbaijan,World|Natural Earth 50m|Iraq,World|Natural Earth 50m|Belgium,World|Natural Earth 50m|Latvia\n",
      "34505 2021-03-30 06:56:56,865 \u001b[32mINFO\u001b[0m:netcdf_scm:force: False\n",
      "34505 2021-03-30 06:56:56,865 \u001b[32mINFO\u001b[0m:netcdf_scm:small_number_workers: 60\n",
      "34505 2021-03-30 06:56:56,865 \u001b[32mINFO\u001b[0m:netcdf_scm:small_threshold: 100.0\n",
      "34505 2021-03-30 06:56:56,865 \u001b[32mINFO\u001b[0m:netcdf_scm:medium_number_workers: 20\n",
      "34505 2021-03-30 06:56:56,866 \u001b[32mINFO\u001b[0m:netcdf_scm:medium_threshold: 400.0\n",
      "34505 2021-03-30 06:56:56,866 \u001b[32mINFO\u001b[0m:netcdf_scm:force_lazy_threshold: 1000.0\n",
      "34505 2021-03-30 06:56:56,866 \u001b[32mINFO\u001b[0m:netcdf_scm:cell_weights: None\n",
      "34505 2021-03-30 06:56:56,876 \u001b[32mINFO\u001b[0m:netcdf_scm.output:Read in 528 items from database netcdf-scm_crunched.jsonl\n",
      "34505 2021-03-30 06:56:56,877 \u001b[32mINFO\u001b[0m:netcdf_scm:Finding directories with files\n",
      "Walking through directories and applying `check_func`: 0.00it [00:00, ?it/s]34505 2021-03-30 06:56:56,879 \u001b[32mINFO\u001b[0m:netcdf_scm.crunching:Adding directory to queue /data/cmip6-manual-download/CMIP6/CMIP/FIO-QLNM/FIO-ESM-2-0/piControl/r1i1p1f1/Amon/tas/gn/v20191010\n",
      "34505 2021-03-30 06:56:56,880 \u001b[32mINFO\u001b[0m:netcdf_scm.crunching:Adding directory to queue /data/cmip6-manual-download/CMIP6/CMIP/FIO-QLNM/FIO-ESM-2-0/historical/r1i1p1f1/Amon/tas/gn/v20191115\n",
      "34505 2021-03-30 06:56:56,881 \u001b[32mINFO\u001b[0m:netcdf_scm.crunching:Adding directory to queue /data/cmip6-manual-download/CMIP6/ScenarioMIP/FIO-QLNM/FIO-ESM-2-0/ssp245/r1i1p1f1/Amon/tas/gn/v20191226\n",
      "Walking through directories and applying `check_func`: 97.0it [00:00, 39.0kit/s]\n",
      "34505 2021-03-30 06:56:56,881 \u001b[32mINFO\u001b[0m:netcdf_scm:Found 3 directories with files\n",
      "34505 2021-03-30 06:56:56,881 \u001b[32mINFO\u001b[0m:netcdf_scm.crunching:Calculating number of points in each directory\n",
      "34505 2021-03-30 06:56:56,881 \u001b[32mINFO\u001b[0m:netcdf_scm.cli_parallel:Processing in parallel with 60 workers\n",
      "34505 2021-03-30 06:56:56,881 \u001b[32mINFO\u001b[0m:netcdf_scm.cli_parallel:Forcing dask to use a single thread when reading\n",
      "100%|████████████████████████████████████████| 3.00/3.00 [00:00<00:00, 10.9it/s]\n",
      "Sorting directories: 100%|█████████████████████| 3/3 [00:00<00:00, 53092.46it/s]\n",
      "34505 2021-03-30 06:56:57,758 \u001b[32mINFO\u001b[0m:netcdf_scm.crunching:Crunching 1 directories with less than 100.0 million data points\n",
      "34505 2021-03-30 06:56:57,759 \u001b[32mINFO\u001b[0m:netcdf_scm.cli_parallel:Processing in parallel with 60 workers\n",
      "34505 2021-03-30 06:56:57,759 \u001b[32mINFO\u001b[0m:netcdf_scm.cli_parallel:Forcing dask to use a single thread when reading\n"
     ]
    },
    {
     "name": "stdout",
     "output_type": "stream",
     "text": [
      "  0%|                                               | 0.00/1.00 [00:00<?, ?it/s]34656 2021-03-30 06:56:58,213 \u001b[32mINFO\u001b[0m:netcdf_scm.crunching:Attempting to process: ['tas_Amon_FIO-ESM-2-0_ssp245_r1i1p1f1_gn_201501-210012.nc']\n",
      "34656 2021-03-30 06:56:58,275 \u001b[32mINFO\u001b[0m:netcdf_scm.crunching:Skipped (already exists, not overwriting) /data/ubuntu-znicholls/cscc-paper-2018/cmip6-country-level-processing/country-crunch/netcdf-scm-crunched/CMIP6/ScenarioMIP/FIO-QLNM/FIO-ESM-2-0/ssp245/r1i1p1f1/Amon/tas/gn/v20191226/netcdf-scm_tas_Amon_FIO-ESM-2-0_ssp245_r1i1p1f1_gn_201501-210012.nc\n",
      "100%|████████████████████████████████████████| 1.00/1.00 [00:00<00:00, 11.7it/s]\n",
      "34505 2021-03-30 06:56:58,330 \u001b[32mINFO\u001b[0m:netcdf_scm.crunching:Crunching 2 directories with greater than or equal to 100.0 and less than 400.0 million data points\n",
      "34505 2021-03-30 06:56:58,331 \u001b[32mINFO\u001b[0m:netcdf_scm.cli_parallel:Processing in parallel with 20 workers\n",
      "34505 2021-03-30 06:56:58,331 \u001b[32mINFO\u001b[0m:netcdf_scm.cli_parallel:Forcing dask to use a single thread when reading\n",
      "  0%|                                               | 0.00/2.00 [00:00<?, ?it/s]34718 2021-03-30 06:56:58,521 \u001b[32mINFO\u001b[0m:netcdf_scm.crunching:Attempting to process: ['tas_Amon_FIO-ESM-2-0_historical_r1i1p1f1_gn_185001-201412.nc']\n",
      "34719 2021-03-30 06:56:58,528 \u001b[32mINFO\u001b[0m:netcdf_scm.crunching:Attempting to process: ['tas_Amon_FIO-ESM-2-0_piControl_r1i1p1f1_gn_070101-080012.nc', 'tas_Amon_FIO-ESM-2-0_piControl_r1i1p1f1_gn_060101-070012.nc', 'tas_Amon_FIO-ESM-2-0_piControl_r1i1p1f1_gn_080101-087512.nc', 'tas_Amon_FIO-ESM-2-0_piControl_r1i1p1f1_gn_030101-040012.nc', 'tas_Amon_FIO-ESM-2-0_piControl_r1i1p1f1_gn_040101-050012.nc', 'tas_Amon_FIO-ESM-2-0_piControl_r1i1p1f1_gn_050101-060012.nc']\n",
      "34718 2021-03-30 06:56:58,601 \u001b[32mINFO\u001b[0m:netcdf_scm.crunching:Skipped (already exists, not overwriting) /data/ubuntu-znicholls/cscc-paper-2018/cmip6-country-level-processing/country-crunch/netcdf-scm-crunched/CMIP6/CMIP/FIO-QLNM/FIO-ESM-2-0/historical/r1i1p1f1/Amon/tas/gn/v20191115/netcdf-scm_tas_Amon_FIO-ESM-2-0_historical_r1i1p1f1_gn_185001-201412.nc\n",
      " 50%|████████████████████                    | 1.00/2.00 [00:00<00:00, 9.28it/s]34719 2021-03-30 06:56:58,739 \u001b[32mINFO\u001b[0m:netcdf_scm.crunching:Skipped (already exists, not overwriting) /data/ubuntu-znicholls/cscc-paper-2018/cmip6-country-level-processing/country-crunch/netcdf-scm-crunched/CMIP6/CMIP/FIO-QLNM/FIO-ESM-2-0/piControl/r1i1p1f1/Amon/tas/gn/v20191010/netcdf-scm_tas_Amon_FIO-ESM-2-0_piControl_r1i1p1f1_gn_030101-087512.nc\n",
      "100%|████████████████████████████████████████| 2.00/2.00 [00:00<00:00, 8.14it/s]\n",
      "34505 2021-03-30 06:56:58,771 \u001b[32mINFO\u001b[0m:netcdf_scm.crunching:Crunching 0 directories with greater than or equal to 400.0 million data points\n"
     ]
    }
   ],
   "source": [
    "!netcdf-scm crunch \\\n",
    "    /data/cmip6/CMIP6 \\    \n",
    "    {CRUNCH_DIR} \\\n",
    "    \"Zebedee Nicholls <zebedee.nicholls@climate-energy-college.org>\" \\\n",
    "    --drs \"CMIP6Output\" \\\n",
    "    --regexp \".*(CMIP|ScenarioMIP).*(/ssp|/historical/|/piControl/).*(r1i1p1f1|r2i1p1f1|r3i1p1f1|r1i1p1f2|r1i1p2f1|r1i1p1f3|r4i1p1f1|r10i1p1f1|r11i1p1f1).*Amon.*/tas/.*\" \\\n",
    "    --regions \"World|Natural Earth 50m|Angola,World|Natural Earth 50m|Bulgaria,World|Natural Earth 50m|Mongolia,World|Natural Earth 50m|Lebanon,World|Natural Earth 50m|Turkey,World|Natural Earth 50m|Burundi,World|Natural Earth 50m|Mozambique,World|Natural Earth 50m|Uzbekistan,World|Natural Earth 50m|Zimbabwe,World|Natural Earth 50m|Belarus,World|Natural Earth 50m|Bolivia,World|Natural Earth 50m|Philippines,World|Natural Earth 50m|China,World|Natural Earth 50m|Argentina,World|Natural Earth 50m|Paraguay,World|Natural Earth 50m|Ireland,World|Natural Earth 50m|Switzerland,World|Natural Earth 50m|Croatia,World|Natural Earth 50m|Cameroon,World,World|Natural Earth 50m|Romania,World|Natural Earth 50m|United States of America,World|Natural Earth 50m|Kenya,World|Natural Earth 50m|Tanzania,World|Natural Earth 50m|Namibia,World|Natural Earth 50m|Georgia,World|Natural Earth 50m|Burkina Faso,World|Natural Earth 50m|Oman,World|Natural Earth 50m|Egypt,World|Natural Earth 50m|Costa Rica,World|Natural Earth 50m|Panama,World|Natural Earth 50m|Uruguay,World|Natural Earth 50m|Nepal,World|Natural Earth 50m|Suriname,World|Natural Earth 50m|Saudi Arabia,World|Natural Earth 50m|Lithuania,World|Natural Earth 50m|Macedonia,World|Natural Earth 50m|Dominican Rep.,World|Natural Earth 50m|Dem. Rep. Congo,World|Natural Earth 50m|S. Sudan,World|Natural Earth 50m|Kyrgyzstan,World|Natural Earth 50m|Niger,World|Natural Earth 50m|Eritrea,World|Natural Earth 50m|Djibouti,World|Natural Earth 50m|France,World|Natural Earth 50m|Greenland,World|Natural Earth 50m|Spain,World|Natural Earth 50m|Montenegro,World|Natural Earth 50m|Venezuela,World|Natural Earth 50m|Ethiopia,World|Natural Earth 50m|Iceland,World|Natural Earth 50m|Finland,World|Natural Earth 50m|Libya,World|Natural Earth 50m|Uganda,World|Natural Earth 50m|Algeria,World|Natural Earth 50m|Malaysia,World|Natural Earth 50m|United Arab Emirates,World|Natural Earth 50m|Sweden,World|Natural Earth 50m|Malawi,World|Natural Earth 50m|Iran,World|Natural Earth 50m|Indonesia,World|Natural Earth 50m|Cabo Verde,World|Natural Earth 50m|Slovenia,World|Natural Earth 50m|Guinea-Bissau,World|Natural Earth 50m|Armenia,World|Natural Earth 50m|Kosovo,World|Natural Earth 50m|Laos,World|Natural Earth 50m|South Africa,World|Natural Earth 50m|Sudan,World|Natural Earth 50m|Thailand,World|Natural Earth 50m|Tunisia,World|Natural Earth 50m|India,World|Natural Earth 50m|Estonia,World|Natural Earth 50m|Vietnam,World|Natural Earth 50m|Russia,World|Natural Earth 50m|Madagascar,World|Natural Earth 50m|Syria,World|Natural Earth 50m|Norway,World|Natural Earth 50m|W. Sahara,World|Natural Earth 50m|Mexico,World|Natural Earth 50m|Greece,World|Natural Earth 50m|Côte d'Ivoire,World|Natural Earth 50m|Germany,World|Natural Earth 50m|Japan,World|Natural Earth 50m|Somaliland,World|Natural Earth 50m|Italy,World|Natural Earth 50m|Australia,World|Natural Earth 50m|Zambia,World|Natural Earth 50m|Honduras,World|Natural Earth 50m|Jordan,World|Natural Earth 50m|Cyprus,World|Natural Earth 50m|Guinea,World|Natural Earth 50m|Antarctica,World|Natural Earth 50m|Tajikistan,World|Natural Earth 50m|Nigeria,World|Natural Earth 50m|Senegal,World|Natural Earth 50m|Sri Lanka,World|Natural Earth 50m|Congo,World|Natural Earth 50m|North Korea,World|Natural Earth 50m|Austria,World|Natural Earth 50m|Chile,World|Natural Earth 50m|Netherlands,World|Natural Earth 50m|Taiwan,World|Natural Earth 50m|Samoa,World|Natural Earth 50m|Denmark,World|Natural Earth 50m|Portugal,World|Natural Earth 50m|Bosnia and Herz.,World|Natural Earth 50m|Chad,World|Natural Earth 50m|eSwatini,World|Natural Earth 50m|Benin,World|Natural Earth 50m|Timor-Leste,World|Natural Earth 50m|Turkmenistan,World|Natural Earth 50m|Slovakia,World|Natural Earth 50m|Peru,World|Natural Earth 50m|Ecuador,World|Natural Earth 50m|Ukraine,World|Natural Earth 50m|Fiji,World|Natural Earth 50m|United Kingdom,World|Natural Earth 50m|New Zealand,World|Natural Earth 50m|Hungary,World|Natural Earth 50m|Gambia,World|Natural Earth 50m|New Caledonia,World|Natural Earth 50m|Ghana,World|Natural Earth 50m|Serbia,World|Natural Earth 50m|Central African Rep.,World|Natural Earth 50m|Nicaragua,World|Natural Earth 50m|Canada,World|Natural Earth 50m|Lesotho,World|Natural Earth 50m|Colombia,World|Natural Earth 50m|South Korea,World|Natural Earth 50m|Myanmar,World|Natural Earth 50m|Guatemala,World|Natural Earth 50m|Cuba,World|Natural Earth 50m|Yemen,World|Natural Earth 50m|Mali,World|Natural Earth 50m|Papua New Guinea,World|Natural Earth 50m|Somalia,World|Natural Earth 50m|Czechia,World|Natural Earth 50m|Moldova,World|Natural Earth 50m|Morocco,World|Natural Earth 50m|Poland,World|Natural Earth 50m|Bhutan,World|Natural Earth 50m|Pakistan,World|Natural Earth 50m|Sierra Leone,World|Natural Earth 50m|Guyana,World|Natural Earth 50m|Afghanistan,World|Natural Earth 50m|Liberia,World|Natural Earth 50m|Kazakhstan,World|Natural Earth 50m|Eq. Guinea,World|Natural Earth 50m|Brazil,World|Natural Earth 50m|El Salvador,World|Natural Earth 50m|Mauritania,World|Natural Earth 50m|Gabon,World|Natural Earth 50m|Botswana,World|Natural Earth 50m|Bangladesh,World|Natural Earth 50m|Cambodia,World|Natural Earth 50m|Azerbaijan,World|Natural Earth 50m|Iraq,World|Natural Earth 50m|Belgium,World|Natural Earth 50m|Latvia\" \\\n",
    "    --small-number-workers 60 \\\n",
    "    --small-threshold 100 \\\n",
    "    --medium-number-workers 20 \\\n",
    "    --medium-threshold 400 \\\n",
    "    --force-lazy-threshold 1000 \n",
    "\n",
    "# /data/cmip6-manual-download/CMIP6 \\\n",
    "\n",
    "# # \\\n",
    "# #     > crunch-log.txt 2>&1"
   ]
  },
  {
   "cell_type": "code",
   "execution_count": null,
   "id": "matched-conducting",
   "metadata": {},
   "outputs": [],
   "source": [
    "!find /data/cmip6/CMIP6/CMIP -name 'KIOST-ESM' -type d"
   ]
  },
  {
   "cell_type": "code",
   "execution_count": null,
   "id": "finite-manhattan",
   "metadata": {},
   "outputs": [],
   "source": [
    "!ls /data/cmip6/CMIP6/ScenarioMIP/NCAR/CESM2"
   ]
  },
  {
   "cell_type": "code",
   "execution_count": null,
   "id": "played-pontiac",
   "metadata": {},
   "outputs": [],
   "source": [
    "!find /data/cmip6/CMIP6/CMIP/KIOST/KIOST-ESM -type f -name 'tas_Amon*'"
   ]
  },
  {
   "cell_type": "code",
   "execution_count": null,
   "id": "married-cholesterol",
   "metadata": {
    "execution": {
     "iopub.execute_input": "2021-03-29T01:12:55.140824Z",
     "iopub.status.busy": "2021-03-29T01:12:55.140312Z",
     "iopub.status.idle": "2021-03-29T01:12:57.409321Z",
     "shell.execute_reply": "2021-03-29T01:12:57.408574Z"
    }
   },
   "outputs": [],
   "source": [
    "!find /data/cmip6/CMIP6/ScenarioMIP -name 'KIOST-ESM' -type d"
   ]
  },
  {
   "cell_type": "code",
   "execution_count": null,
   "id": "surprised-plain",
   "metadata": {
    "execution": {
     "iopub.execute_input": "2021-03-29T01:12:57.421150Z",
     "iopub.status.busy": "2021-03-29T01:12:57.414423Z",
     "iopub.status.idle": "2021-03-29T01:12:57.538622Z",
     "shell.execute_reply": "2021-03-29T01:12:57.537973Z"
    }
   },
   "outputs": [],
   "source": [
    "!find /data/cmip6/CMIP6/ScenarioMIP/KIOST/KIOST-ESM -type f -name 'tas_Amon*_ssp245_*'"
   ]
  },
  {
   "cell_type": "code",
   "execution_count": null,
   "id": "innovative-mining",
   "metadata": {
    "execution": {
     "iopub.execute_input": "2021-03-29T01:12:57.550042Z",
     "iopub.status.busy": "2021-03-29T01:12:57.549619Z",
     "iopub.status.idle": "2021-03-29T01:12:57.665488Z",
     "shell.execute_reply": "2021-03-29T01:12:57.666014Z"
    }
   },
   "outputs": [],
   "source": [
    "!find /data/cmip6/CMIP6/ScenarioMIP/CCCR-IITM/IITM-ESM -type f -name '*_ssp245_*'"
   ]
  },
  {
   "cell_type": "code",
   "execution_count": null,
   "id": "minimal-flavor",
   "metadata": {
    "execution": {
     "iopub.execute_input": "2021-03-29T01:12:57.676915Z",
     "iopub.status.busy": "2021-03-29T01:12:57.676421Z",
     "iopub.status.idle": "2021-03-29T01:12:57.845761Z",
     "shell.execute_reply": "2021-03-29T01:12:57.846223Z"
    },
    "scrolled": false
   },
   "outputs": [],
   "source": [
    "!find {CRUNCH_DIR} -name '*_ssp245_*' -type f  #| wc -l"
   ]
  }
 ],
 "metadata": {
  "kernelspec": {
   "display_name": "Python 3",
   "language": "python",
   "name": "python3"
  },
  "language_info": {
   "codemirror_mode": {
    "name": "ipython",
    "version": 3
   },
   "file_extension": ".py",
   "mimetype": "text/x-python",
   "name": "python",
   "nbconvert_exporter": "python",
   "pygments_lexer": "ipython3",
   "version": "3.8.8"
  }
 },
 "nbformat": 4,
 "nbformat_minor": 5
}
