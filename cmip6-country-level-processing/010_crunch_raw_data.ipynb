{
 "cells": [
  {
   "cell_type": "markdown",
   "id": "governmental-detail",
   "metadata": {},
   "source": [
    "# Crunch raw CMIP6 data\n",
    "\n",
    "Here we calculate the country-means."
   ]
  },
  {
   "cell_type": "code",
   "execution_count": 1,
   "id": "working-hostel",
   "metadata": {},
   "outputs": [
    {
     "data": {
      "application/javascript": [
       "\n",
       "            setTimeout(function() {\n",
       "                var nbb_cell_id = 1;\n",
       "                var nbb_unformatted_code = \"%load_ext nb_black\";\n",
       "                var nbb_formatted_code = \"%load_ext nb_black\";\n",
       "                var nbb_cells = Jupyter.notebook.get_cells();\n",
       "                for (var i = 0; i < nbb_cells.length; ++i) {\n",
       "                    if (nbb_cells[i].input_prompt_number == nbb_cell_id) {\n",
       "                        if (nbb_cells[i].get_text() == nbb_unformatted_code) {\n",
       "                             nbb_cells[i].set_text(nbb_formatted_code);\n",
       "                        }\n",
       "                        break;\n",
       "                    }\n",
       "                }\n",
       "            }, 500);\n",
       "            "
      ],
      "text/plain": [
       "<IPython.core.display.Javascript object>"
      ]
     },
     "metadata": {},
     "output_type": "display_data"
    }
   ],
   "source": [
    "%load_ext nb_black"
   ]
  },
  {
   "cell_type": "code",
   "execution_count": 2,
   "id": "vertical-demographic",
   "metadata": {
    "execution": {
     "iopub.execute_input": "2021-03-31T04:24:08.905458Z",
     "iopub.status.busy": "2021-03-31T04:24:08.904981Z",
     "iopub.status.idle": "2021-03-31T04:24:09.781410Z",
     "shell.execute_reply": "2021-03-31T04:24:09.781789Z"
    }
   },
   "outputs": [
    {
     "data": {
      "application/javascript": [
       "\n",
       "            setTimeout(function() {\n",
       "                var nbb_cell_id = 2;\n",
       "                var nbb_unformatted_code = \"import glob\\nimport logging\\n\\nimport iris.analysis\\nimport iris.quickplot as qplt\\nimport matplotlib.pyplot as plt\\nimport netcdf_scm\\nimport netcdf_scm.crunching\\nimport netcdf_scm.weights\\nimport numpy as np\\nimport pandas as pd\\nimport regionmask\\nimport xarray as xr\\nfrom netcdf_scm.iris_cube_wrappers import CMIP6OutputCube\";\n",
       "                var nbb_formatted_code = \"import glob\\nimport logging\\n\\nimport iris.analysis\\nimport iris.quickplot as qplt\\nimport matplotlib.pyplot as plt\\nimport netcdf_scm\\nimport netcdf_scm.crunching\\nimport netcdf_scm.weights\\nimport numpy as np\\nimport pandas as pd\\nimport regionmask\\nimport xarray as xr\\nfrom netcdf_scm.iris_cube_wrappers import CMIP6OutputCube\";\n",
       "                var nbb_cells = Jupyter.notebook.get_cells();\n",
       "                for (var i = 0; i < nbb_cells.length; ++i) {\n",
       "                    if (nbb_cells[i].input_prompt_number == nbb_cell_id) {\n",
       "                        if (nbb_cells[i].get_text() == nbb_unformatted_code) {\n",
       "                             nbb_cells[i].set_text(nbb_formatted_code);\n",
       "                        }\n",
       "                        break;\n",
       "                    }\n",
       "                }\n",
       "            }, 500);\n",
       "            "
      ],
      "text/plain": [
       "<IPython.core.display.Javascript object>"
      ]
     },
     "metadata": {},
     "output_type": "display_data"
    }
   ],
   "source": [
    "import glob\n",
    "import logging\n",
    "\n",
    "import iris.analysis\n",
    "import iris.quickplot as qplt\n",
    "import matplotlib.pyplot as plt\n",
    "import netcdf_scm\n",
    "import netcdf_scm.crunching\n",
    "import netcdf_scm.weights\n",
    "import numpy as np\n",
    "import pandas as pd\n",
    "import regionmask\n",
    "import xarray as xr\n",
    "from netcdf_scm.iris_cube_wrappers import CMIP6OutputCube"
   ]
  },
  {
   "cell_type": "code",
   "execution_count": 3,
   "id": "serious-louis",
   "metadata": {},
   "outputs": [
    {
     "data": {
      "application/javascript": [
       "\n",
       "            setTimeout(function() {\n",
       "                var nbb_cell_id = 3;\n",
       "                var nbb_unformatted_code = \"NETCDF_SCM_LOGGER = logging.getLogger(\\\"netcdf_scm\\\")\";\n",
       "                var nbb_formatted_code = \"NETCDF_SCM_LOGGER = logging.getLogger(\\\"netcdf_scm\\\")\";\n",
       "                var nbb_cells = Jupyter.notebook.get_cells();\n",
       "                for (var i = 0; i < nbb_cells.length; ++i) {\n",
       "                    if (nbb_cells[i].input_prompt_number == nbb_cell_id) {\n",
       "                        if (nbb_cells[i].get_text() == nbb_unformatted_code) {\n",
       "                             nbb_cells[i].set_text(nbb_formatted_code);\n",
       "                        }\n",
       "                        break;\n",
       "                    }\n",
       "                }\n",
       "            }, 500);\n",
       "            "
      ],
      "text/plain": [
       "<IPython.core.display.Javascript object>"
      ]
     },
     "metadata": {},
     "output_type": "display_data"
    }
   ],
   "source": [
    "NETCDF_SCM_LOGGER = logging.getLogger(\"netcdf_scm\")"
   ]
  },
  {
   "cell_type": "code",
   "execution_count": 4,
   "id": "suffering-compound",
   "metadata": {},
   "outputs": [
    {
     "data": {
      "application/javascript": [
       "\n",
       "            setTimeout(function() {\n",
       "                var nbb_cell_id = 4;\n",
       "                var nbb_unformatted_code = \"STDERR_INFO_HANDLER = logging.StreamHandler()\\nFORMATTER = logging.Formatter(\\n    \\\"%(asctime)s %(name)s %(threadName)s - %(levelname)s:  %(message)s\\\",\\n    datefmt=\\\"%Y-%m-%d %H:%M:%S\\\",\\n)\\nSTDERR_INFO_HANDLER.setFormatter(FORMATTER)\\nSTDERR_INFO_HANDLER.setLevel(logging.INFO)\";\n",
       "                var nbb_formatted_code = \"STDERR_INFO_HANDLER = logging.StreamHandler()\\nFORMATTER = logging.Formatter(\\n    \\\"%(asctime)s %(name)s %(threadName)s - %(levelname)s:  %(message)s\\\",\\n    datefmt=\\\"%Y-%m-%d %H:%M:%S\\\",\\n)\\nSTDERR_INFO_HANDLER.setFormatter(FORMATTER)\\nSTDERR_INFO_HANDLER.setLevel(logging.INFO)\";\n",
       "                var nbb_cells = Jupyter.notebook.get_cells();\n",
       "                for (var i = 0; i < nbb_cells.length; ++i) {\n",
       "                    if (nbb_cells[i].input_prompt_number == nbb_cell_id) {\n",
       "                        if (nbb_cells[i].get_text() == nbb_unformatted_code) {\n",
       "                             nbb_cells[i].set_text(nbb_formatted_code);\n",
       "                        }\n",
       "                        break;\n",
       "                    }\n",
       "                }\n",
       "            }, 500);\n",
       "            "
      ],
      "text/plain": [
       "<IPython.core.display.Javascript object>"
      ]
     },
     "metadata": {},
     "output_type": "display_data"
    }
   ],
   "source": [
    "STDERR_INFO_HANDLER = logging.StreamHandler()\n",
    "FORMATTER = logging.Formatter(\n",
    "    \"%(asctime)s %(name)s %(threadName)s - %(levelname)s:  %(message)s\",\n",
    "    datefmt=\"%Y-%m-%d %H:%M:%S\",\n",
    ")\n",
    "STDERR_INFO_HANDLER.setFormatter(FORMATTER)\n",
    "STDERR_INFO_HANDLER.setLevel(logging.INFO)"
   ]
  },
  {
   "cell_type": "code",
   "execution_count": 5,
   "id": "similar-astronomy",
   "metadata": {},
   "outputs": [
    {
     "data": {
      "application/javascript": [
       "\n",
       "            setTimeout(function() {\n",
       "                var nbb_cell_id = 5;\n",
       "                var nbb_unformatted_code = \"NETCDF_SCM_LOGGER.setLevel(logging.DEBUG)\\nNETCDF_SCM_LOGGER.addHandler(STDERR_INFO_HANDLER)\";\n",
       "                var nbb_formatted_code = \"NETCDF_SCM_LOGGER.setLevel(logging.DEBUG)\\nNETCDF_SCM_LOGGER.addHandler(STDERR_INFO_HANDLER)\";\n",
       "                var nbb_cells = Jupyter.notebook.get_cells();\n",
       "                for (var i = 0; i < nbb_cells.length; ++i) {\n",
       "                    if (nbb_cells[i].input_prompt_number == nbb_cell_id) {\n",
       "                        if (nbb_cells[i].get_text() == nbb_unformatted_code) {\n",
       "                             nbb_cells[i].set_text(nbb_formatted_code);\n",
       "                        }\n",
       "                        break;\n",
       "                    }\n",
       "                }\n",
       "            }, 500);\n",
       "            "
      ],
      "text/plain": [
       "<IPython.core.display.Javascript object>"
      ]
     },
     "metadata": {},
     "output_type": "display_data"
    }
   ],
   "source": [
    "NETCDF_SCM_LOGGER.setLevel(logging.DEBUG)\n",
    "NETCDF_SCM_LOGGER.addHandler(STDERR_INFO_HANDLER)"
   ]
  },
  {
   "cell_type": "code",
   "execution_count": 6,
   "id": "peaceful-gauge",
   "metadata": {
    "execution": {
     "iopub.execute_input": "2021-03-31T04:24:09.790130Z",
     "iopub.status.busy": "2021-03-31T04:24:09.789575Z",
     "iopub.status.idle": "2021-03-31T04:24:09.791566Z",
     "shell.execute_reply": "2021-03-31T04:24:09.791941Z"
    }
   },
   "outputs": [
    {
     "data": {
      "text/plain": [
       "'2.1.0'"
      ]
     },
     "execution_count": 6,
     "metadata": {},
     "output_type": "execute_result"
    },
    {
     "data": {
      "application/javascript": [
       "\n",
       "            setTimeout(function() {\n",
       "                var nbb_cell_id = 6;\n",
       "                var nbb_unformatted_code = \"netcdf_scm.__version__\";\n",
       "                var nbb_formatted_code = \"netcdf_scm.__version__\";\n",
       "                var nbb_cells = Jupyter.notebook.get_cells();\n",
       "                for (var i = 0; i < nbb_cells.length; ++i) {\n",
       "                    if (nbb_cells[i].input_prompt_number == nbb_cell_id) {\n",
       "                        if (nbb_cells[i].get_text() == nbb_unformatted_code) {\n",
       "                             nbb_cells[i].set_text(nbb_formatted_code);\n",
       "                        }\n",
       "                        break;\n",
       "                    }\n",
       "                }\n",
       "            }, 500);\n",
       "            "
      ],
      "text/plain": [
       "<IPython.core.display.Javascript object>"
      ]
     },
     "metadata": {},
     "output_type": "display_data"
    }
   ],
   "source": [
    "netcdf_scm.__version__"
   ]
  },
  {
   "cell_type": "code",
   "execution_count": 7,
   "id": "average-george",
   "metadata": {
    "execution": {
     "iopub.execute_input": "2021-03-31T04:24:09.795503Z",
     "iopub.status.busy": "2021-03-31T04:24:09.795116Z",
     "iopub.status.idle": "2021-03-31T04:24:10.040354Z",
     "shell.execute_reply": "2021-03-31T04:24:10.039864Z"
    }
   },
   "outputs": [
    {
     "name": "stdout",
     "output_type": "stream",
     "text": [
      "ACCESS-CM2\r\n",
      "ACCESS-ESM1-5\r\n",
      "AWI-CM-1-1-MR\r\n",
      "BCC-CSM2-MR\r\n",
      "CAMS-CSM1-0\r\n",
      "CanESM5\r\n",
      "CanESM5-CanOE\r\n",
      "CAS-ESM2-0\r\n",
      "CESM2\r\n",
      "CESM2-WACCM\r\n",
      "CIESM\r\n",
      "CMCC-CM2-SR5\r\n",
      "CMCC-ESM2\r\n",
      "CNRM-CM6-1\r\n",
      "CNRM-CM6-1-HR\r\n",
      "CNRM-ESM2-1\r\n",
      "E3SM-1-1\r\n",
      "EC-Earth3\r\n",
      "EC-Earth3-AerChem\r\n",
      "EC-Earth3-CC\r\n",
      "EC-Earth3-Veg\r\n",
      "EC-Earth3-Veg-LR\r\n",
      "FGOALS-f3-L\r\n",
      "FGOALS-g3\r\n",
      "FIO-ESM-2-0\r\n",
      "GFDL-CM4\r\n",
      "GFDL-ESM4\r\n",
      "GISS-E2-1-G\r\n",
      "HadGEM3-GC31-LL\r\n",
      "HadGEM3-GC31-MM\r\n",
      "IITM-ESM\r\n",
      "INM-CM4-8\r\n",
      "INM-CM5-0\r\n",
      "IPSL-CM5A2-INCA\r\n",
      "IPSL-CM6A-LR\r\n",
      "KACE-1-0-G\r\n",
      "KIOST-ESM\r\n",
      "MCM-UA-1-0\r\n",
      "MIROC6\r\n",
      "MIROC-ES2L\r\n",
      "MPI-ESM-1-2-HAM\r\n",
      "MPI-ESM1-2-HR\r\n",
      "MPI-ESM1-2-HR\r\n",
      "MPI-ESM1-2-LR\r\n",
      "MRI-ESM2-0\r\n",
      "NESM3\r\n",
      "NorESM2-LM\r\n",
      "NorESM2-MM\r\n",
      "TaiESM1\r\n",
      "UKESM1-0-LL\r\n",
      "UKESM1-0-LL\r\n"
     ]
    },
    {
     "data": {
      "application/javascript": [
       "\n",
       "            setTimeout(function() {\n",
       "                var nbb_cell_id = 7;\n",
       "                var nbb_unformatted_code = \"!find /data/cmip6/CMIP6/ScenarioMIP -mindepth 2 -maxdepth 2 -type d -exec sh -c 'x={};echo $(basename ${x})' \\\\; | sort\";\n",
       "                var nbb_formatted_code = \"!find /data/cmip6/CMIP6/ScenarioMIP -mindepth 2 -maxdepth 2 -type d -exec sh -c 'x={};echo $(basename ${x})' \\\\; | sort\";\n",
       "                var nbb_cells = Jupyter.notebook.get_cells();\n",
       "                for (var i = 0; i < nbb_cells.length; ++i) {\n",
       "                    if (nbb_cells[i].input_prompt_number == nbb_cell_id) {\n",
       "                        if (nbb_cells[i].get_text() == nbb_unformatted_code) {\n",
       "                             nbb_cells[i].set_text(nbb_formatted_code);\n",
       "                        }\n",
       "                        break;\n",
       "                    }\n",
       "                }\n",
       "            }, 500);\n",
       "            "
      ],
      "text/plain": [
       "<IPython.core.display.Javascript object>"
      ]
     },
     "metadata": {},
     "output_type": "display_data"
    }
   ],
   "source": [
    "!find /data/cmip6/CMIP6/ScenarioMIP -mindepth 2 -maxdepth 2 -type d -exec sh -c 'x={};echo $(basename ${x})' \\; | sort"
   ]
  },
  {
   "cell_type": "markdown",
   "id": "based-classification",
   "metadata": {},
   "source": [
    "## Setup"
   ]
  },
  {
   "cell_type": "code",
   "execution_count": 8,
   "id": "ultimate-poetry",
   "metadata": {
    "execution": {
     "iopub.execute_input": "2021-03-31T04:24:10.044574Z",
     "iopub.status.busy": "2021-03-31T04:24:10.044206Z",
     "iopub.status.idle": "2021-03-31T04:24:10.046221Z",
     "shell.execute_reply": "2021-03-31T04:24:10.045823Z"
    }
   },
   "outputs": [
    {
     "data": {
      "application/javascript": [
       "\n",
       "            setTimeout(function() {\n",
       "                var nbb_cell_id = 8;\n",
       "                var nbb_unformatted_code = \"CRUNCH_DIR = \\\"./country-crunch-popn-weighted\\\"\";\n",
       "                var nbb_formatted_code = \"CRUNCH_DIR = \\\"./country-crunch-popn-weighted\\\"\";\n",
       "                var nbb_cells = Jupyter.notebook.get_cells();\n",
       "                for (var i = 0; i < nbb_cells.length; ++i) {\n",
       "                    if (nbb_cells[i].input_prompt_number == nbb_cell_id) {\n",
       "                        if (nbb_cells[i].get_text() == nbb_unformatted_code) {\n",
       "                             nbb_cells[i].set_text(nbb_formatted_code);\n",
       "                        }\n",
       "                        break;\n",
       "                    }\n",
       "                }\n",
       "            }, 500);\n",
       "            "
      ],
      "text/plain": [
       "<IPython.core.display.Javascript object>"
      ]
     },
     "metadata": {},
     "output_type": "display_data"
    }
   ],
   "source": [
    "CRUNCH_DIR = \"./country-crunch-popn-weighted\""
   ]
  },
  {
   "cell_type": "code",
   "execution_count": 9,
   "id": "extreme-mechanism",
   "metadata": {
    "execution": {
     "iopub.execute_input": "2021-03-31T04:24:10.049909Z",
     "iopub.status.busy": "2021-03-31T04:24:10.049534Z",
     "iopub.status.idle": "2021-03-31T04:24:10.177317Z",
     "shell.execute_reply": "2021-03-31T04:24:10.176899Z"
    }
   },
   "outputs": [
    {
     "data": {
      "application/javascript": [
       "\n",
       "            setTimeout(function() {\n",
       "                var nbb_cell_id = 9;\n",
       "                var nbb_unformatted_code = \"!mkdir -p {CRUNCH_DIR}\";\n",
       "                var nbb_formatted_code = \"!mkdir -p {CRUNCH_DIR}\";\n",
       "                var nbb_cells = Jupyter.notebook.get_cells();\n",
       "                for (var i = 0; i < nbb_cells.length; ++i) {\n",
       "                    if (nbb_cells[i].input_prompt_number == nbb_cell_id) {\n",
       "                        if (nbb_cells[i].get_text() == nbb_unformatted_code) {\n",
       "                             nbb_cells[i].set_text(nbb_formatted_code);\n",
       "                        }\n",
       "                        break;\n",
       "                    }\n",
       "                }\n",
       "            }, 500);\n",
       "            "
      ],
      "text/plain": [
       "<IPython.core.display.Javascript object>"
      ]
     },
     "metadata": {},
     "output_type": "display_data"
    }
   ],
   "source": [
    "!mkdir -p {CRUNCH_DIR}"
   ]
  },
  {
   "cell_type": "code",
   "execution_count": 10,
   "id": "liable-humor",
   "metadata": {
    "execution": {
     "iopub.execute_input": "2021-03-31T04:24:10.184028Z",
     "iopub.status.busy": "2021-03-31T04:24:10.183593Z",
     "iopub.status.idle": "2021-03-31T04:24:10.185367Z",
     "shell.execute_reply": "2021-03-31T04:24:10.185747Z"
    }
   },
   "outputs": [
    {
     "data": {
      "application/javascript": [
       "\n",
       "            setTimeout(function() {\n",
       "                var nbb_cell_id = 10;\n",
       "                var nbb_unformatted_code = \"too_small_regions = {\\n    \\\"World|Natural Earth 50m|San Marino\\\",\\n    \\\"World|Natural Earth 50m|Turks and Caicos Is.\\\",\\n    \\\"World|Natural Earth 50m|Indian Ocean Ter.\\\",\\n    \\\"World|Natural Earth 50m|Falkland Is.\\\",\\n    \\\"World|Natural Earth 50m|Israel\\\",\\n    \\\"World|Natural Earth 50m|Kiribati\\\",\\n    \\\"World|Natural Earth 50m|Jamaica\\\",\\n    \\\"World|Natural Earth 50m|Fr. S. Antarctic Lands\\\",\\n    \\\"World|Natural Earth 50m|Vanuatu\\\",\\n    \\\"World|Natural Earth 50m|N. Mariana Is.\\\",\\n    \\\"World|Natural Earth 50m|Palau\\\",\\n    \\\"World|Natural Earth 50m|Liechtenstein\\\",\\n    \\\"World|Natural Earth 50m|St-Barth\\u00e9lemy\\\",\\n    \\\"World|Natural Earth 50m|Monaco\\\",\\n    \\\"World|Natural Earth 50m|Wallis and Futuna Is.\\\",\\n    \\\"World|Natural Earth 50m|Puerto Rico\\\",\\n    \\\"World|Natural Earth 50m|Bermuda\\\",\\n    \\\"World|Natural Earth 50m|Dominica\\\",\\n    \\\"World|Natural Earth 50m|Nauru\\\",\\n    \\\"World|Natural Earth 50m|Isle of Man\\\",\\n    \\\"World|Natural Earth 50m|Rwanda\\\",\\n    \\\"World|Natural Earth 50m|Grenada\\\",\\n    \\\"World|Natural Earth 50m|Seychelles\\\",\\n    \\\"World|Natural Earth 50m|S. Geo. and the Is.\\\",\\n    \\\"World|Natural Earth 50m|Cayman Is.\\\",\\n    \\\"World|Natural Earth 50m|Sint Maarten\\\",\\n    \\\"World|Natural Earth 50m|Maldives\\\",\\n    \\\"World|Natural Earth 50m|Norfolk Island\\\",\\n    \\\"World|Natural Earth 50m|St-Martin\\\",\\n    \\\"World|Natural Earth 50m|Bahamas\\\",\\n    \\\"World|Natural Earth 50m|British Virgin Is.\\\",\\n    \\\"World|Natural Earth 50m|Comoros\\\",\\n    \\\"World|Natural Earth 50m|St. Kitts and Nevis\\\",\\n    \\\"World|Natural Earth 50m|Barbados\\\",\\n    \\\"World|Natural Earth 50m|Palestine\\\",\\n    \\\"World|Natural Earth 50m|American Samoa\\\",\\n    \\\"World|Natural Earth 50m|St. Vin. and Gren.\\\",\\n    \\\"World|Natural Earth 50m|Brunei\\\",\\n    \\\"World|Natural Earth 50m|Cura\\u00e7ao\\\",\\n    \\\"World|Natural Earth 50m|Guam\\\",\\n    \\\"World|Natural Earth 50m|St. Pierre and Miquelon\\\",\\n    \\\"World|Natural Earth 50m|Jersey\\\",\\n    \\\"World|Natural Earth 50m|Macao\\\",\\n    \\\"World|Natural Earth 50m|Saint Lucia\\\",\\n    \\\"World|Natural Earth 50m|Cook Is.\\\",\\n    \\\"World|Natural Earth 50m|Fr. Polynesia\\\",\\n    \\\"World|Natural Earth 50m|Faeroe Is.\\\",\\n    \\\"World|Natural Earth 50m|Luxembourg\\\",\\n    \\\"World|Natural Earth 50m|Saint Helena\\\",\\n    \\\"World|Natural Earth 50m|\\u00c5land\\\",\\n    \\\"World|Natural Earth 50m|Niue\\\",\\n    \\\"World|Natural Earth 50m|Pitcairn Is.\\\",\\n    \\\"World|Natural Earth 50m|Br. Indian Ocean Ter.\\\",\\n    \\\"World|Natural Earth 50m|Vatican\\\",\\n    \\\"World|Natural Earth 50m|Heard I. and McDonald Is.\\\",\\n    \\\"World|Natural Earth 50m|Albania\\\",\\n    \\\"World|Natural Earth 50m|Malta\\\",\\n    \\\"World|Natural Earth 50m|N. Cyprus\\\",\\n    \\\"World|Natural Earth 50m|Ashmore and Cartier Is.\\\",\\n    \\\"World|Natural Earth 50m|Trinidad and Tobago\\\",\\n    \\\"World|Natural Earth 50m|Marshall Is.\\\",\\n    \\\"World|Natural Earth 50m|Belize\\\",\\n    \\\"World|Natural Earth 50m|U.S. Virgin Is.\\\",\\n    \\\"World|Natural Earth 50m|Antigua and Barb.\\\",\\n    \\\"World|Natural Earth 50m|Kuwait\\\",\\n    \\\"World|Natural Earth 50m|Siachen Glacier\\\",\\n    \\\"World|Natural Earth 50m|Andorra\\\",\\n    \\\"World|Natural Earth 50m|Singapore\\\",\\n    \\\"World|Natural Earth 50m|Micronesia\\\",\\n    \\\"World|Natural Earth 50m|Bahrain\\\",\\n    \\\"World|Natural Earth 50m|Togo\\\",\\n    \\\"World|Natural Earth 50m|Hong Kong\\\",\\n    \\\"World|Natural Earth 50m|Anguilla\\\",\\n    \\\"World|Natural Earth 50m|Mauritius\\\",\\n    \\\"World|Natural Earth 50m|Aruba\\\",\\n    \\\"World|Natural Earth 50m|S\\u00e3o Tom\\u00e9 and Principe\\\",\\n    \\\"World|Natural Earth 50m|Solomon Is.\\\",\\n    \\\"World|Natural Earth 50m|Qatar\\\",\\n    \\\"World|Natural Earth 50m|Tonga\\\",\\n    \\\"World|Natural Earth 50m|Guernsey\\\",\\n    \\\"World|Natural Earth 50m|Montserrat\\\",\\n    \\\"World|Natural Earth 50m|Haiti\\\",\\n}\";\n",
       "                var nbb_formatted_code = \"too_small_regions = {\\n    \\\"World|Natural Earth 50m|San Marino\\\",\\n    \\\"World|Natural Earth 50m|Turks and Caicos Is.\\\",\\n    \\\"World|Natural Earth 50m|Indian Ocean Ter.\\\",\\n    \\\"World|Natural Earth 50m|Falkland Is.\\\",\\n    \\\"World|Natural Earth 50m|Israel\\\",\\n    \\\"World|Natural Earth 50m|Kiribati\\\",\\n    \\\"World|Natural Earth 50m|Jamaica\\\",\\n    \\\"World|Natural Earth 50m|Fr. S. Antarctic Lands\\\",\\n    \\\"World|Natural Earth 50m|Vanuatu\\\",\\n    \\\"World|Natural Earth 50m|N. Mariana Is.\\\",\\n    \\\"World|Natural Earth 50m|Palau\\\",\\n    \\\"World|Natural Earth 50m|Liechtenstein\\\",\\n    \\\"World|Natural Earth 50m|St-Barth\\u00e9lemy\\\",\\n    \\\"World|Natural Earth 50m|Monaco\\\",\\n    \\\"World|Natural Earth 50m|Wallis and Futuna Is.\\\",\\n    \\\"World|Natural Earth 50m|Puerto Rico\\\",\\n    \\\"World|Natural Earth 50m|Bermuda\\\",\\n    \\\"World|Natural Earth 50m|Dominica\\\",\\n    \\\"World|Natural Earth 50m|Nauru\\\",\\n    \\\"World|Natural Earth 50m|Isle of Man\\\",\\n    \\\"World|Natural Earth 50m|Rwanda\\\",\\n    \\\"World|Natural Earth 50m|Grenada\\\",\\n    \\\"World|Natural Earth 50m|Seychelles\\\",\\n    \\\"World|Natural Earth 50m|S. Geo. and the Is.\\\",\\n    \\\"World|Natural Earth 50m|Cayman Is.\\\",\\n    \\\"World|Natural Earth 50m|Sint Maarten\\\",\\n    \\\"World|Natural Earth 50m|Maldives\\\",\\n    \\\"World|Natural Earth 50m|Norfolk Island\\\",\\n    \\\"World|Natural Earth 50m|St-Martin\\\",\\n    \\\"World|Natural Earth 50m|Bahamas\\\",\\n    \\\"World|Natural Earth 50m|British Virgin Is.\\\",\\n    \\\"World|Natural Earth 50m|Comoros\\\",\\n    \\\"World|Natural Earth 50m|St. Kitts and Nevis\\\",\\n    \\\"World|Natural Earth 50m|Barbados\\\",\\n    \\\"World|Natural Earth 50m|Palestine\\\",\\n    \\\"World|Natural Earth 50m|American Samoa\\\",\\n    \\\"World|Natural Earth 50m|St. Vin. and Gren.\\\",\\n    \\\"World|Natural Earth 50m|Brunei\\\",\\n    \\\"World|Natural Earth 50m|Cura\\u00e7ao\\\",\\n    \\\"World|Natural Earth 50m|Guam\\\",\\n    \\\"World|Natural Earth 50m|St. Pierre and Miquelon\\\",\\n    \\\"World|Natural Earth 50m|Jersey\\\",\\n    \\\"World|Natural Earth 50m|Macao\\\",\\n    \\\"World|Natural Earth 50m|Saint Lucia\\\",\\n    \\\"World|Natural Earth 50m|Cook Is.\\\",\\n    \\\"World|Natural Earth 50m|Fr. Polynesia\\\",\\n    \\\"World|Natural Earth 50m|Faeroe Is.\\\",\\n    \\\"World|Natural Earth 50m|Luxembourg\\\",\\n    \\\"World|Natural Earth 50m|Saint Helena\\\",\\n    \\\"World|Natural Earth 50m|\\u00c5land\\\",\\n    \\\"World|Natural Earth 50m|Niue\\\",\\n    \\\"World|Natural Earth 50m|Pitcairn Is.\\\",\\n    \\\"World|Natural Earth 50m|Br. Indian Ocean Ter.\\\",\\n    \\\"World|Natural Earth 50m|Vatican\\\",\\n    \\\"World|Natural Earth 50m|Heard I. and McDonald Is.\\\",\\n    \\\"World|Natural Earth 50m|Albania\\\",\\n    \\\"World|Natural Earth 50m|Malta\\\",\\n    \\\"World|Natural Earth 50m|N. Cyprus\\\",\\n    \\\"World|Natural Earth 50m|Ashmore and Cartier Is.\\\",\\n    \\\"World|Natural Earth 50m|Trinidad and Tobago\\\",\\n    \\\"World|Natural Earth 50m|Marshall Is.\\\",\\n    \\\"World|Natural Earth 50m|Belize\\\",\\n    \\\"World|Natural Earth 50m|U.S. Virgin Is.\\\",\\n    \\\"World|Natural Earth 50m|Antigua and Barb.\\\",\\n    \\\"World|Natural Earth 50m|Kuwait\\\",\\n    \\\"World|Natural Earth 50m|Siachen Glacier\\\",\\n    \\\"World|Natural Earth 50m|Andorra\\\",\\n    \\\"World|Natural Earth 50m|Singapore\\\",\\n    \\\"World|Natural Earth 50m|Micronesia\\\",\\n    \\\"World|Natural Earth 50m|Bahrain\\\",\\n    \\\"World|Natural Earth 50m|Togo\\\",\\n    \\\"World|Natural Earth 50m|Hong Kong\\\",\\n    \\\"World|Natural Earth 50m|Anguilla\\\",\\n    \\\"World|Natural Earth 50m|Mauritius\\\",\\n    \\\"World|Natural Earth 50m|Aruba\\\",\\n    \\\"World|Natural Earth 50m|S\\u00e3o Tom\\u00e9 and Principe\\\",\\n    \\\"World|Natural Earth 50m|Solomon Is.\\\",\\n    \\\"World|Natural Earth 50m|Qatar\\\",\\n    \\\"World|Natural Earth 50m|Tonga\\\",\\n    \\\"World|Natural Earth 50m|Guernsey\\\",\\n    \\\"World|Natural Earth 50m|Montserrat\\\",\\n    \\\"World|Natural Earth 50m|Haiti\\\",\\n}\";\n",
       "                var nbb_cells = Jupyter.notebook.get_cells();\n",
       "                for (var i = 0; i < nbb_cells.length; ++i) {\n",
       "                    if (nbb_cells[i].input_prompt_number == nbb_cell_id) {\n",
       "                        if (nbb_cells[i].get_text() == nbb_unformatted_code) {\n",
       "                             nbb_cells[i].set_text(nbb_formatted_code);\n",
       "                        }\n",
       "                        break;\n",
       "                    }\n",
       "                }\n",
       "            }, 500);\n",
       "            "
      ],
      "text/plain": [
       "<IPython.core.display.Javascript object>"
      ]
     },
     "metadata": {},
     "output_type": "display_data"
    }
   ],
   "source": [
    "too_small_regions = {\n",
    "    \"World|Natural Earth 50m|San Marino\",\n",
    "    \"World|Natural Earth 50m|Turks and Caicos Is.\",\n",
    "    \"World|Natural Earth 50m|Indian Ocean Ter.\",\n",
    "    \"World|Natural Earth 50m|Falkland Is.\",\n",
    "    \"World|Natural Earth 50m|Israel\",\n",
    "    \"World|Natural Earth 50m|Kiribati\",\n",
    "    \"World|Natural Earth 50m|Jamaica\",\n",
    "    \"World|Natural Earth 50m|Fr. S. Antarctic Lands\",\n",
    "    \"World|Natural Earth 50m|Vanuatu\",\n",
    "    \"World|Natural Earth 50m|N. Mariana Is.\",\n",
    "    \"World|Natural Earth 50m|Palau\",\n",
    "    \"World|Natural Earth 50m|Liechtenstein\",\n",
    "    \"World|Natural Earth 50m|St-Barthélemy\",\n",
    "    \"World|Natural Earth 50m|Monaco\",\n",
    "    \"World|Natural Earth 50m|Wallis and Futuna Is.\",\n",
    "    \"World|Natural Earth 50m|Puerto Rico\",\n",
    "    \"World|Natural Earth 50m|Bermuda\",\n",
    "    \"World|Natural Earth 50m|Dominica\",\n",
    "    \"World|Natural Earth 50m|Nauru\",\n",
    "    \"World|Natural Earth 50m|Isle of Man\",\n",
    "    \"World|Natural Earth 50m|Rwanda\",\n",
    "    \"World|Natural Earth 50m|Grenada\",\n",
    "    \"World|Natural Earth 50m|Seychelles\",\n",
    "    \"World|Natural Earth 50m|S. Geo. and the Is.\",\n",
    "    \"World|Natural Earth 50m|Cayman Is.\",\n",
    "    \"World|Natural Earth 50m|Sint Maarten\",\n",
    "    \"World|Natural Earth 50m|Maldives\",\n",
    "    \"World|Natural Earth 50m|Norfolk Island\",\n",
    "    \"World|Natural Earth 50m|St-Martin\",\n",
    "    \"World|Natural Earth 50m|Bahamas\",\n",
    "    \"World|Natural Earth 50m|British Virgin Is.\",\n",
    "    \"World|Natural Earth 50m|Comoros\",\n",
    "    \"World|Natural Earth 50m|St. Kitts and Nevis\",\n",
    "    \"World|Natural Earth 50m|Barbados\",\n",
    "    \"World|Natural Earth 50m|Palestine\",\n",
    "    \"World|Natural Earth 50m|American Samoa\",\n",
    "    \"World|Natural Earth 50m|St. Vin. and Gren.\",\n",
    "    \"World|Natural Earth 50m|Brunei\",\n",
    "    \"World|Natural Earth 50m|Curaçao\",\n",
    "    \"World|Natural Earth 50m|Guam\",\n",
    "    \"World|Natural Earth 50m|St. Pierre and Miquelon\",\n",
    "    \"World|Natural Earth 50m|Jersey\",\n",
    "    \"World|Natural Earth 50m|Macao\",\n",
    "    \"World|Natural Earth 50m|Saint Lucia\",\n",
    "    \"World|Natural Earth 50m|Cook Is.\",\n",
    "    \"World|Natural Earth 50m|Fr. Polynesia\",\n",
    "    \"World|Natural Earth 50m|Faeroe Is.\",\n",
    "    \"World|Natural Earth 50m|Luxembourg\",\n",
    "    \"World|Natural Earth 50m|Saint Helena\",\n",
    "    \"World|Natural Earth 50m|Åland\",\n",
    "    \"World|Natural Earth 50m|Niue\",\n",
    "    \"World|Natural Earth 50m|Pitcairn Is.\",\n",
    "    \"World|Natural Earth 50m|Br. Indian Ocean Ter.\",\n",
    "    \"World|Natural Earth 50m|Vatican\",\n",
    "    \"World|Natural Earth 50m|Heard I. and McDonald Is.\",\n",
    "    \"World|Natural Earth 50m|Albania\",\n",
    "    \"World|Natural Earth 50m|Malta\",\n",
    "    \"World|Natural Earth 50m|N. Cyprus\",\n",
    "    \"World|Natural Earth 50m|Ashmore and Cartier Is.\",\n",
    "    \"World|Natural Earth 50m|Trinidad and Tobago\",\n",
    "    \"World|Natural Earth 50m|Marshall Is.\",\n",
    "    \"World|Natural Earth 50m|Belize\",\n",
    "    \"World|Natural Earth 50m|U.S. Virgin Is.\",\n",
    "    \"World|Natural Earth 50m|Antigua and Barb.\",\n",
    "    \"World|Natural Earth 50m|Kuwait\",\n",
    "    \"World|Natural Earth 50m|Siachen Glacier\",\n",
    "    \"World|Natural Earth 50m|Andorra\",\n",
    "    \"World|Natural Earth 50m|Singapore\",\n",
    "    \"World|Natural Earth 50m|Micronesia\",\n",
    "    \"World|Natural Earth 50m|Bahrain\",\n",
    "    \"World|Natural Earth 50m|Togo\",\n",
    "    \"World|Natural Earth 50m|Hong Kong\",\n",
    "    \"World|Natural Earth 50m|Anguilla\",\n",
    "    \"World|Natural Earth 50m|Mauritius\",\n",
    "    \"World|Natural Earth 50m|Aruba\",\n",
    "    \"World|Natural Earth 50m|São Tomé and Principe\",\n",
    "    \"World|Natural Earth 50m|Solomon Is.\",\n",
    "    \"World|Natural Earth 50m|Qatar\",\n",
    "    \"World|Natural Earth 50m|Tonga\",\n",
    "    \"World|Natural Earth 50m|Guernsey\",\n",
    "    \"World|Natural Earth 50m|Montserrat\",\n",
    "    \"World|Natural Earth 50m|Haiti\",\n",
    "}"
   ]
  },
  {
   "cell_type": "code",
   "execution_count": 11,
   "id": "conventional-offering",
   "metadata": {
    "execution": {
     "iopub.execute_input": "2021-03-31T04:24:10.189868Z",
     "iopub.status.busy": "2021-03-31T04:24:10.189487Z",
     "iopub.status.idle": "2021-03-31T04:24:10.395270Z",
     "shell.execute_reply": "2021-03-31T04:24:10.394875Z"
    }
   },
   "outputs": [
    {
     "data": {
      "text/plain": [
       "6"
      ]
     },
     "metadata": {},
     "output_type": "display_data"
    },
    {
     "data": {
      "text/plain": [
       "'World|Natural Earth 50m|Zimbabwe,World,World|Natural Earth 50m|Norfolk Island,World|Natural Earth 50m|Israel,World|Natural Earth 50m|Jamaica,World|Natural Earth 50m|Maldives'"
      ]
     },
     "execution_count": 11,
     "metadata": {},
     "output_type": "execute_result"
    },
    {
     "data": {
      "application/javascript": [
       "\n",
       "            setTimeout(function() {\n",
       "                var nbb_cell_id = 11;\n",
       "                var nbb_unformatted_code = \"regions = (\\n    set(\\n        [\\n            \\\"World|Natural Earth 50m|{}\\\".format(c)\\n            #             for c in regionmask.defined_regions.natural_earth.countries_50.names\\n            for c in regionmask.defined_regions.natural_earth.countries_50.names[:1]\\n            + [\\n                \\\"Israel\\\",\\n                \\\"Jamaica\\\",\\n                \\\"Maldives\\\",\\n                \\\"Norfolk Island\\\",\\n            ]  # \\\"Australia\\\", \\\"Chile\\\", \\\"Russia\\\", \\\"Canada\\\", \\\"France\\\", \\\"United States of America\\\"]\\n        ]\\n        + [\\\"World\\\"]\\n    )\\n    #     - too_small_regions\\n)\\ndisplay(len(regions))\\nregions = \\\",\\\".join(regions)\\nregions\";\n",
       "                var nbb_formatted_code = \"regions = (\\n    set(\\n        [\\n            \\\"World|Natural Earth 50m|{}\\\".format(c)\\n            #             for c in regionmask.defined_regions.natural_earth.countries_50.names\\n            for c in regionmask.defined_regions.natural_earth.countries_50.names[:1]\\n            + [\\n                \\\"Israel\\\",\\n                \\\"Jamaica\\\",\\n                \\\"Maldives\\\",\\n                \\\"Norfolk Island\\\",\\n            ]  # \\\"Australia\\\", \\\"Chile\\\", \\\"Russia\\\", \\\"Canada\\\", \\\"France\\\", \\\"United States of America\\\"]\\n        ]\\n        + [\\\"World\\\"]\\n    )\\n    #     - too_small_regions\\n)\\ndisplay(len(regions))\\nregions = \\\",\\\".join(regions)\\nregions\";\n",
       "                var nbb_cells = Jupyter.notebook.get_cells();\n",
       "                for (var i = 0; i < nbb_cells.length; ++i) {\n",
       "                    if (nbb_cells[i].input_prompt_number == nbb_cell_id) {\n",
       "                        if (nbb_cells[i].get_text() == nbb_unformatted_code) {\n",
       "                             nbb_cells[i].set_text(nbb_formatted_code);\n",
       "                        }\n",
       "                        break;\n",
       "                    }\n",
       "                }\n",
       "            }, 500);\n",
       "            "
      ],
      "text/plain": [
       "<IPython.core.display.Javascript object>"
      ]
     },
     "metadata": {},
     "output_type": "display_data"
    }
   ],
   "source": [
    "regions = (\n",
    "    set(\n",
    "        [\n",
    "            \"World|Natural Earth 50m|{}\".format(c)\n",
    "            #             for c in regionmask.defined_regions.natural_earth.countries_50.names\n",
    "            for c in regionmask.defined_regions.natural_earth.countries_50.names[:1]\n",
    "            + [\n",
    "                \"Israel\",\n",
    "                \"Jamaica\",\n",
    "                \"Maldives\",\n",
    "                \"Norfolk Island\",\n",
    "            ]  # \"Australia\", \"Chile\", \"Russia\", \"Canada\", \"France\", \"United States of America\"]\n",
    "        ]\n",
    "        + [\"World\"]\n",
    "    )\n",
    "    #     - too_small_regions\n",
    ")\n",
    "display(len(regions))\n",
    "regions = \",\".join(regions)\n",
    "regions"
   ]
  },
  {
   "cell_type": "markdown",
   "id": "congressional-texas",
   "metadata": {},
   "source": [
    "## Define custom masks"
   ]
  },
  {
   "cell_type": "code",
   "execution_count": 12,
   "id": "cardiovascular-surgeon",
   "metadata": {},
   "outputs": [
    {
     "data": {
      "text/html": [
       "<div>\n",
       "<style scoped>\n",
       "    .dataframe tbody tr th:only-of-type {\n",
       "        vertical-align: middle;\n",
       "    }\n",
       "\n",
       "    .dataframe tbody tr th {\n",
       "        vertical-align: top;\n",
       "    }\n",
       "\n",
       "    .dataframe thead th {\n",
       "        text-align: right;\n",
       "    }\n",
       "</style>\n",
       "<table border=\"1\" class=\"dataframe\">\n",
       "  <thead>\n",
       "    <tr style=\"text-align: right;\">\n",
       "      <th></th>\n",
       "      <th>file_name</th>\n",
       "      <th>order</th>\n",
       "      <th>raster_name</th>\n",
       "      <th>raster_description</th>\n",
       "    </tr>\n",
       "  </thead>\n",
       "  <tbody>\n",
       "    <tr>\n",
       "      <th>0</th>\n",
       "      <td>gpw_v4_population_count_rev11</td>\n",
       "      <td>1</td>\n",
       "      <td>Population Count, v4.11 (2000)</td>\n",
       "      <td>Population count for the year 2000</td>\n",
       "    </tr>\n",
       "    <tr>\n",
       "      <th>1</th>\n",
       "      <td>gpw_v4_population_count_rev11</td>\n",
       "      <td>2</td>\n",
       "      <td>Population Count, v4.11 (2005)</td>\n",
       "      <td>Population count for the year 2005</td>\n",
       "    </tr>\n",
       "    <tr>\n",
       "      <th>2</th>\n",
       "      <td>gpw_v4_population_count_rev11</td>\n",
       "      <td>3</td>\n",
       "      <td>Population Count, v4.11 (2010)</td>\n",
       "      <td>Population count for the year 2010</td>\n",
       "    </tr>\n",
       "    <tr>\n",
       "      <th>3</th>\n",
       "      <td>gpw_v4_population_count_rev11</td>\n",
       "      <td>4</td>\n",
       "      <td>Population Count, v4.11 (2015)</td>\n",
       "      <td>Population count for the year 2015</td>\n",
       "    </tr>\n",
       "    <tr>\n",
       "      <th>4</th>\n",
       "      <td>gpw_v4_population_count_rev11</td>\n",
       "      <td>5</td>\n",
       "      <td>Population Count, v4.11 (2020)</td>\n",
       "      <td>Population count for the year 2020</td>\n",
       "    </tr>\n",
       "    <tr>\n",
       "      <th>...</th>\n",
       "      <td>...</td>\n",
       "      <td>...</td>\n",
       "      <td>...</td>\n",
       "      <td>...</td>\n",
       "    </tr>\n",
       "    <tr>\n",
       "      <th>255</th>\n",
       "      <td>gpw_v4_basic_demographic_characteristics_rev11...</td>\n",
       "      <td>26</td>\n",
       "      <td>National Identifier Grid, v4.11 (2010): Input ...</td>\n",
       "      <td>Administrative level of input age data used</td>\n",
       "    </tr>\n",
       "    <tr>\n",
       "      <th>256</th>\n",
       "      <td>gpw_v4_basic_demographic_characteristics_rev11...</td>\n",
       "      <td>27</td>\n",
       "      <td>National Identifier Grid, v4.11 (2010): Growth...</td>\n",
       "      <td>The earliest year used to calculate the annual...</td>\n",
       "    </tr>\n",
       "    <tr>\n",
       "      <th>257</th>\n",
       "      <td>gpw_v4_basic_demographic_characteristics_rev11...</td>\n",
       "      <td>28</td>\n",
       "      <td>National Identifier Grid, v4.11 (2010): Growth...</td>\n",
       "      <td>The latest year used to calculate the annual e...</td>\n",
       "    </tr>\n",
       "    <tr>\n",
       "      <th>258</th>\n",
       "      <td>gpw_v4_basic_demographic_characteristics_rev11...</td>\n",
       "      <td>29</td>\n",
       "      <td>National Identifier Grid, v4.11 (2010): Growth...</td>\n",
       "      <td>The dominant administrative level used to calc...</td>\n",
       "    </tr>\n",
       "    <tr>\n",
       "      <th>259</th>\n",
       "      <td>gpw_v4_basic_demographic_characteristics_rev11...</td>\n",
       "      <td>30</td>\n",
       "      <td>National Identifier Grid, v4.11 (2010): Year o...</td>\n",
       "      <td>Year of the most recent census conducted in th...</td>\n",
       "    </tr>\n",
       "  </tbody>\n",
       "</table>\n",
       "<p>260 rows × 4 columns</p>\n",
       "</div>"
      ],
      "text/plain": [
       "                                             file_name  order  \\\n",
       "0                        gpw_v4_population_count_rev11      1   \n",
       "1                        gpw_v4_population_count_rev11      2   \n",
       "2                        gpw_v4_population_count_rev11      3   \n",
       "3                        gpw_v4_population_count_rev11      4   \n",
       "4                        gpw_v4_population_count_rev11      5   \n",
       "..                                                 ...    ...   \n",
       "255  gpw_v4_basic_demographic_characteristics_rev11...     26   \n",
       "256  gpw_v4_basic_demographic_characteristics_rev11...     27   \n",
       "257  gpw_v4_basic_demographic_characteristics_rev11...     28   \n",
       "258  gpw_v4_basic_demographic_characteristics_rev11...     29   \n",
       "259  gpw_v4_basic_demographic_characteristics_rev11...     30   \n",
       "\n",
       "                                           raster_name  \\\n",
       "0                       Population Count, v4.11 (2000)   \n",
       "1                       Population Count, v4.11 (2005)   \n",
       "2                       Population Count, v4.11 (2010)   \n",
       "3                       Population Count, v4.11 (2015)   \n",
       "4                       Population Count, v4.11 (2020)   \n",
       "..                                                 ...   \n",
       "255  National Identifier Grid, v4.11 (2010): Input ...   \n",
       "256  National Identifier Grid, v4.11 (2010): Growth...   \n",
       "257  National Identifier Grid, v4.11 (2010): Growth...   \n",
       "258  National Identifier Grid, v4.11 (2010): Growth...   \n",
       "259  National Identifier Grid, v4.11 (2010): Year o...   \n",
       "\n",
       "                                    raster_description  \n",
       "0                   Population count for the year 2000  \n",
       "1                   Population count for the year 2005  \n",
       "2                   Population count for the year 2010  \n",
       "3                   Population count for the year 2015  \n",
       "4                   Population count for the year 2020  \n",
       "..                                                 ...  \n",
       "255        Administrative level of input age data used  \n",
       "256  The earliest year used to calculate the annual...  \n",
       "257  The latest year used to calculate the annual e...  \n",
       "258  The dominant administrative level used to calc...  \n",
       "259  Year of the most recent census conducted in th...  \n",
       "\n",
       "[260 rows x 4 columns]"
      ]
     },
     "execution_count": 12,
     "metadata": {},
     "output_type": "execute_result"
    },
    {
     "data": {
      "application/javascript": [
       "\n",
       "            setTimeout(function() {\n",
       "                var nbb_cell_id = 12;\n",
       "                var nbb_unformatted_code = \"gpw_v4_meta = pd.read_csv(\\\"gpw_v4_netcdf_contents_rev11.csv\\\")\\ngpw_v4_meta\";\n",
       "                var nbb_formatted_code = \"gpw_v4_meta = pd.read_csv(\\\"gpw_v4_netcdf_contents_rev11.csv\\\")\\ngpw_v4_meta\";\n",
       "                var nbb_cells = Jupyter.notebook.get_cells();\n",
       "                for (var i = 0; i < nbb_cells.length; ++i) {\n",
       "                    if (nbb_cells[i].input_prompt_number == nbb_cell_id) {\n",
       "                        if (nbb_cells[i].get_text() == nbb_unformatted_code) {\n",
       "                             nbb_cells[i].set_text(nbb_formatted_code);\n",
       "                        }\n",
       "                        break;\n",
       "                    }\n",
       "                }\n",
       "            }, 500);\n",
       "            "
      ],
      "text/plain": [
       "<IPython.core.display.Javascript object>"
      ]
     },
     "metadata": {},
     "output_type": "display_data"
    }
   ],
   "source": [
    "gpw_v4_meta = pd.read_csv(\"gpw_v4_netcdf_contents_rev11.csv\")\n",
    "gpw_v4_meta"
   ]
  },
  {
   "cell_type": "code",
   "execution_count": 13,
   "id": "atomic-judges",
   "metadata": {},
   "outputs": [
    {
     "data": {
      "text/plain": [
       "5"
      ]
     },
     "execution_count": 13,
     "metadata": {},
     "output_type": "execute_result"
    },
    {
     "data": {
      "application/javascript": [
       "\n",
       "            setTimeout(function() {\n",
       "                var nbb_cell_id = 13;\n",
       "                var nbb_unformatted_code = \"population_raster = gpw_v4_meta[\\n    (gpw_v4_meta[\\\"file_name\\\"] == \\\"gpw_v4_population_count_rev11\\\")\\n    & (gpw_v4_meta[\\\"raster_description\\\"] == \\\"Population count for the year 2020\\\")\\n].loc[:, \\\"order\\\"]\\npopulation_raster = int(population_raster)\\npopulation_raster\";\n",
       "                var nbb_formatted_code = \"population_raster = gpw_v4_meta[\\n    (gpw_v4_meta[\\\"file_name\\\"] == \\\"gpw_v4_population_count_rev11\\\")\\n    & (gpw_v4_meta[\\\"raster_description\\\"] == \\\"Population count for the year 2020\\\")\\n].loc[:, \\\"order\\\"]\\npopulation_raster = int(population_raster)\\npopulation_raster\";\n",
       "                var nbb_cells = Jupyter.notebook.get_cells();\n",
       "                for (var i = 0; i < nbb_cells.length; ++i) {\n",
       "                    if (nbb_cells[i].input_prompt_number == nbb_cell_id) {\n",
       "                        if (nbb_cells[i].get_text() == nbb_unformatted_code) {\n",
       "                             nbb_cells[i].set_text(nbb_formatted_code);\n",
       "                        }\n",
       "                        break;\n",
       "                    }\n",
       "                }\n",
       "            }, 500);\n",
       "            "
      ],
      "text/plain": [
       "<IPython.core.display.Javascript object>"
      ]
     },
     "metadata": {},
     "output_type": "display_data"
    }
   ],
   "source": [
    "population_raster = gpw_v4_meta[\n",
    "    (gpw_v4_meta[\"file_name\"] == \"gpw_v4_population_count_rev11\")\n",
    "    & (gpw_v4_meta[\"raster_description\"] == \"Population count for the year 2020\")\n",
    "].loc[:, \"order\"]\n",
    "population_raster = int(population_raster)\n",
    "population_raster"
   ]
  },
  {
   "cell_type": "code",
   "execution_count": 14,
   "id": "sunset-sudan",
   "metadata": {},
   "outputs": [
    {
     "data": {
      "text/html": [
       "<div><svg style=\"position: absolute; width: 0; height: 0; overflow: hidden\">\n",
       "<defs>\n",
       "<symbol id=\"icon-database\" viewBox=\"0 0 32 32\">\n",
       "<path d=\"M16 0c-8.837 0-16 2.239-16 5v4c0 2.761 7.163 5 16 5s16-2.239 16-5v-4c0-2.761-7.163-5-16-5z\"></path>\n",
       "<path d=\"M16 17c-8.837 0-16-2.239-16-5v6c0 2.761 7.163 5 16 5s16-2.239 16-5v-6c0 2.761-7.163 5-16 5z\"></path>\n",
       "<path d=\"M16 26c-8.837 0-16-2.239-16-5v6c0 2.761 7.163 5 16 5s16-2.239 16-5v-6c0 2.761-7.163 5-16 5z\"></path>\n",
       "</symbol>\n",
       "<symbol id=\"icon-file-text2\" viewBox=\"0 0 32 32\">\n",
       "<path d=\"M28.681 7.159c-0.694-0.947-1.662-2.053-2.724-3.116s-2.169-2.030-3.116-2.724c-1.612-1.182-2.393-1.319-2.841-1.319h-15.5c-1.378 0-2.5 1.121-2.5 2.5v27c0 1.378 1.122 2.5 2.5 2.5h23c1.378 0 2.5-1.122 2.5-2.5v-19.5c0-0.448-0.137-1.23-1.319-2.841zM24.543 5.457c0.959 0.959 1.712 1.825 2.268 2.543h-4.811v-4.811c0.718 0.556 1.584 1.309 2.543 2.268zM28 29.5c0 0.271-0.229 0.5-0.5 0.5h-23c-0.271 0-0.5-0.229-0.5-0.5v-27c0-0.271 0.229-0.5 0.5-0.5 0 0 15.499-0 15.5 0v7c0 0.552 0.448 1 1 1h7v19.5z\"></path>\n",
       "<path d=\"M23 26h-14c-0.552 0-1-0.448-1-1s0.448-1 1-1h14c0.552 0 1 0.448 1 1s-0.448 1-1 1z\"></path>\n",
       "<path d=\"M23 22h-14c-0.552 0-1-0.448-1-1s0.448-1 1-1h14c0.552 0 1 0.448 1 1s-0.448 1-1 1z\"></path>\n",
       "<path d=\"M23 18h-14c-0.552 0-1-0.448-1-1s0.448-1 1-1h14c0.552 0 1 0.448 1 1s-0.448 1-1 1z\"></path>\n",
       "</symbol>\n",
       "</defs>\n",
       "</svg>\n",
       "<style>/* CSS stylesheet for displaying xarray objects in jupyterlab.\n",
       " *\n",
       " */\n",
       "\n",
       ":root {\n",
       "  --xr-font-color0: var(--jp-content-font-color0, rgba(0, 0, 0, 1));\n",
       "  --xr-font-color2: var(--jp-content-font-color2, rgba(0, 0, 0, 0.54));\n",
       "  --xr-font-color3: var(--jp-content-font-color3, rgba(0, 0, 0, 0.38));\n",
       "  --xr-border-color: var(--jp-border-color2, #e0e0e0);\n",
       "  --xr-disabled-color: var(--jp-layout-color3, #bdbdbd);\n",
       "  --xr-background-color: var(--jp-layout-color0, white);\n",
       "  --xr-background-color-row-even: var(--jp-layout-color1, white);\n",
       "  --xr-background-color-row-odd: var(--jp-layout-color2, #eeeeee);\n",
       "}\n",
       "\n",
       "html[theme=dark],\n",
       "body.vscode-dark {\n",
       "  --xr-font-color0: rgba(255, 255, 255, 1);\n",
       "  --xr-font-color2: rgba(255, 255, 255, 0.54);\n",
       "  --xr-font-color3: rgba(255, 255, 255, 0.38);\n",
       "  --xr-border-color: #1F1F1F;\n",
       "  --xr-disabled-color: #515151;\n",
       "  --xr-background-color: #111111;\n",
       "  --xr-background-color-row-even: #111111;\n",
       "  --xr-background-color-row-odd: #313131;\n",
       "}\n",
       "\n",
       ".xr-wrap {\n",
       "  display: block;\n",
       "  min-width: 300px;\n",
       "  max-width: 700px;\n",
       "}\n",
       "\n",
       ".xr-text-repr-fallback {\n",
       "  /* fallback to plain text repr when CSS is not injected (untrusted notebook) */\n",
       "  display: none;\n",
       "}\n",
       "\n",
       ".xr-header {\n",
       "  padding-top: 6px;\n",
       "  padding-bottom: 6px;\n",
       "  margin-bottom: 4px;\n",
       "  border-bottom: solid 1px var(--xr-border-color);\n",
       "}\n",
       "\n",
       ".xr-header > div,\n",
       ".xr-header > ul {\n",
       "  display: inline;\n",
       "  margin-top: 0;\n",
       "  margin-bottom: 0;\n",
       "}\n",
       "\n",
       ".xr-obj-type,\n",
       ".xr-array-name {\n",
       "  margin-left: 2px;\n",
       "  margin-right: 10px;\n",
       "}\n",
       "\n",
       ".xr-obj-type {\n",
       "  color: var(--xr-font-color2);\n",
       "}\n",
       "\n",
       ".xr-sections {\n",
       "  padding-left: 0 !important;\n",
       "  display: grid;\n",
       "  grid-template-columns: 150px auto auto 1fr 20px 20px;\n",
       "}\n",
       "\n",
       ".xr-section-item {\n",
       "  display: contents;\n",
       "}\n",
       "\n",
       ".xr-section-item input {\n",
       "  display: none;\n",
       "}\n",
       "\n",
       ".xr-section-item input + label {\n",
       "  color: var(--xr-disabled-color);\n",
       "}\n",
       "\n",
       ".xr-section-item input:enabled + label {\n",
       "  cursor: pointer;\n",
       "  color: var(--xr-font-color2);\n",
       "}\n",
       "\n",
       ".xr-section-item input:enabled + label:hover {\n",
       "  color: var(--xr-font-color0);\n",
       "}\n",
       "\n",
       ".xr-section-summary {\n",
       "  grid-column: 1;\n",
       "  color: var(--xr-font-color2);\n",
       "  font-weight: 500;\n",
       "}\n",
       "\n",
       ".xr-section-summary > span {\n",
       "  display: inline-block;\n",
       "  padding-left: 0.5em;\n",
       "}\n",
       "\n",
       ".xr-section-summary-in:disabled + label {\n",
       "  color: var(--xr-font-color2);\n",
       "}\n",
       "\n",
       ".xr-section-summary-in + label:before {\n",
       "  display: inline-block;\n",
       "  content: '►';\n",
       "  font-size: 11px;\n",
       "  width: 15px;\n",
       "  text-align: center;\n",
       "}\n",
       "\n",
       ".xr-section-summary-in:disabled + label:before {\n",
       "  color: var(--xr-disabled-color);\n",
       "}\n",
       "\n",
       ".xr-section-summary-in:checked + label:before {\n",
       "  content: '▼';\n",
       "}\n",
       "\n",
       ".xr-section-summary-in:checked + label > span {\n",
       "  display: none;\n",
       "}\n",
       "\n",
       ".xr-section-summary,\n",
       ".xr-section-inline-details {\n",
       "  padding-top: 4px;\n",
       "  padding-bottom: 4px;\n",
       "}\n",
       "\n",
       ".xr-section-inline-details {\n",
       "  grid-column: 2 / -1;\n",
       "}\n",
       "\n",
       ".xr-section-details {\n",
       "  display: none;\n",
       "  grid-column: 1 / -1;\n",
       "  margin-bottom: 5px;\n",
       "}\n",
       "\n",
       ".xr-section-summary-in:checked ~ .xr-section-details {\n",
       "  display: contents;\n",
       "}\n",
       "\n",
       ".xr-array-wrap {\n",
       "  grid-column: 1 / -1;\n",
       "  display: grid;\n",
       "  grid-template-columns: 20px auto;\n",
       "}\n",
       "\n",
       ".xr-array-wrap > label {\n",
       "  grid-column: 1;\n",
       "  vertical-align: top;\n",
       "}\n",
       "\n",
       ".xr-preview {\n",
       "  color: var(--xr-font-color3);\n",
       "}\n",
       "\n",
       ".xr-array-preview,\n",
       ".xr-array-data {\n",
       "  padding: 0 5px !important;\n",
       "  grid-column: 2;\n",
       "}\n",
       "\n",
       ".xr-array-data,\n",
       ".xr-array-in:checked ~ .xr-array-preview {\n",
       "  display: none;\n",
       "}\n",
       "\n",
       ".xr-array-in:checked ~ .xr-array-data,\n",
       ".xr-array-preview {\n",
       "  display: inline-block;\n",
       "}\n",
       "\n",
       ".xr-dim-list {\n",
       "  display: inline-block !important;\n",
       "  list-style: none;\n",
       "  padding: 0 !important;\n",
       "  margin: 0;\n",
       "}\n",
       "\n",
       ".xr-dim-list li {\n",
       "  display: inline-block;\n",
       "  padding: 0;\n",
       "  margin: 0;\n",
       "}\n",
       "\n",
       ".xr-dim-list:before {\n",
       "  content: '(';\n",
       "}\n",
       "\n",
       ".xr-dim-list:after {\n",
       "  content: ')';\n",
       "}\n",
       "\n",
       ".xr-dim-list li:not(:last-child):after {\n",
       "  content: ',';\n",
       "  padding-right: 5px;\n",
       "}\n",
       "\n",
       ".xr-has-index {\n",
       "  font-weight: bold;\n",
       "}\n",
       "\n",
       ".xr-var-list,\n",
       ".xr-var-item {\n",
       "  display: contents;\n",
       "}\n",
       "\n",
       ".xr-var-item > div,\n",
       ".xr-var-item label,\n",
       ".xr-var-item > .xr-var-name span {\n",
       "  background-color: var(--xr-background-color-row-even);\n",
       "  margin-bottom: 0;\n",
       "}\n",
       "\n",
       ".xr-var-item > .xr-var-name:hover span {\n",
       "  padding-right: 5px;\n",
       "}\n",
       "\n",
       ".xr-var-list > li:nth-child(odd) > div,\n",
       ".xr-var-list > li:nth-child(odd) > label,\n",
       ".xr-var-list > li:nth-child(odd) > .xr-var-name span {\n",
       "  background-color: var(--xr-background-color-row-odd);\n",
       "}\n",
       "\n",
       ".xr-var-name {\n",
       "  grid-column: 1;\n",
       "}\n",
       "\n",
       ".xr-var-dims {\n",
       "  grid-column: 2;\n",
       "}\n",
       "\n",
       ".xr-var-dtype {\n",
       "  grid-column: 3;\n",
       "  text-align: right;\n",
       "  color: var(--xr-font-color2);\n",
       "}\n",
       "\n",
       ".xr-var-preview {\n",
       "  grid-column: 4;\n",
       "}\n",
       "\n",
       ".xr-var-name,\n",
       ".xr-var-dims,\n",
       ".xr-var-dtype,\n",
       ".xr-preview,\n",
       ".xr-attrs dt {\n",
       "  white-space: nowrap;\n",
       "  overflow: hidden;\n",
       "  text-overflow: ellipsis;\n",
       "  padding-right: 10px;\n",
       "}\n",
       "\n",
       ".xr-var-name:hover,\n",
       ".xr-var-dims:hover,\n",
       ".xr-var-dtype:hover,\n",
       ".xr-attrs dt:hover {\n",
       "  overflow: visible;\n",
       "  width: auto;\n",
       "  z-index: 1;\n",
       "}\n",
       "\n",
       ".xr-var-attrs,\n",
       ".xr-var-data {\n",
       "  display: none;\n",
       "  background-color: var(--xr-background-color) !important;\n",
       "  padding-bottom: 5px !important;\n",
       "}\n",
       "\n",
       ".xr-var-attrs-in:checked ~ .xr-var-attrs,\n",
       ".xr-var-data-in:checked ~ .xr-var-data {\n",
       "  display: block;\n",
       "}\n",
       "\n",
       ".xr-var-data > table {\n",
       "  float: right;\n",
       "}\n",
       "\n",
       ".xr-var-name span,\n",
       ".xr-var-data,\n",
       ".xr-attrs {\n",
       "  padding-left: 25px !important;\n",
       "}\n",
       "\n",
       ".xr-attrs,\n",
       ".xr-var-attrs,\n",
       ".xr-var-data {\n",
       "  grid-column: 1 / -1;\n",
       "}\n",
       "\n",
       "dl.xr-attrs {\n",
       "  padding: 0;\n",
       "  margin: 0;\n",
       "  display: grid;\n",
       "  grid-template-columns: 125px auto;\n",
       "}\n",
       "\n",
       ".xr-attrs dt,\n",
       ".xr-attrs dd {\n",
       "  padding: 0;\n",
       "  margin: 0;\n",
       "  float: left;\n",
       "  padding-right: 10px;\n",
       "  width: auto;\n",
       "}\n",
       "\n",
       ".xr-attrs dt {\n",
       "  font-weight: normal;\n",
       "  grid-column: 1;\n",
       "}\n",
       "\n",
       ".xr-attrs dt:hover span {\n",
       "  display: inline-block;\n",
       "  background: var(--xr-background-color);\n",
       "  padding-right: 10px;\n",
       "}\n",
       "\n",
       ".xr-attrs dd {\n",
       "  grid-column: 2;\n",
       "  white-space: pre-wrap;\n",
       "  word-break: break-all;\n",
       "}\n",
       "\n",
       ".xr-icon-database,\n",
       ".xr-icon-file-text2 {\n",
       "  display: inline-block;\n",
       "  vertical-align: middle;\n",
       "  width: 1em;\n",
       "  height: 1.5em !important;\n",
       "  stroke-width: 0;\n",
       "  stroke: currentColor;\n",
       "  fill: currentColor;\n",
       "}\n",
       "</style><pre class='xr-text-repr-fallback'>&lt;xarray.DataArray &#x27;Population Count, v4.11 (2000, 2005, 2010, 2015, 2020): 30 arc-minutes&#x27; (latitude: 360, longitude: 720)&gt;\n",
       "array([[nan, nan, nan, ..., nan, nan, nan],\n",
       "       [nan, nan, nan, ..., nan, nan, nan],\n",
       "       [nan, nan, nan, ..., nan, nan, nan],\n",
       "       ...,\n",
       "       [nan, nan, nan, ..., nan, nan, nan],\n",
       "       [nan, nan, nan, ..., nan, nan, nan],\n",
       "       [nan, nan, nan, ..., nan, nan, nan]], dtype=float32)\n",
       "Coordinates:\n",
       "  * longitude  (longitude) float64 -179.8 -179.2 -178.8 ... 178.8 179.2 179.8\n",
       "  * latitude   (latitude) float64 89.75 89.25 88.75 ... -88.75 -89.25 -89.75\n",
       "    raster     int32 5\n",
       "Attributes:\n",
       "    units:      Persons\n",
       "    long_name:  Population Count, v4.11 (2000, 2005, 2010, 2015, 2020): 30 ar...\n",
       "    min:        [ 0.000e+00  0.000e+00  0.000e+00  0.000e+00  0.000e+00  0.00...\n",
       "    max:        [1.73895720e+07 1.80117900e+07 1.86917240e+07 2.11928260e+07\\...</pre><div class='xr-wrap' hidden><div class='xr-header'><div class='xr-obj-type'>xarray.DataArray</div><div class='xr-array-name'>'Population Count, v4.11 (2000, 2005, 2010, 2015, 2020): 30 arc-minutes'</div><ul class='xr-dim-list'><li><span class='xr-has-index'>latitude</span>: 360</li><li><span class='xr-has-index'>longitude</span>: 720</li></ul></div><ul class='xr-sections'><li class='xr-section-item'><div class='xr-array-wrap'><input id='section-04c7d2ab-a0a7-44b9-a643-a711a5e5ca5e' class='xr-array-in' type='checkbox' checked><label for='section-04c7d2ab-a0a7-44b9-a643-a711a5e5ca5e' title='Show/hide data repr'><svg class='icon xr-icon-database'><use xlink:href='#icon-database'></use></svg></label><div class='xr-array-preview xr-preview'><span>nan nan nan nan nan nan nan nan ... nan nan nan nan nan nan nan nan</span></div><div class='xr-array-data'><pre>array([[nan, nan, nan, ..., nan, nan, nan],\n",
       "       [nan, nan, nan, ..., nan, nan, nan],\n",
       "       [nan, nan, nan, ..., nan, nan, nan],\n",
       "       ...,\n",
       "       [nan, nan, nan, ..., nan, nan, nan],\n",
       "       [nan, nan, nan, ..., nan, nan, nan],\n",
       "       [nan, nan, nan, ..., nan, nan, nan]], dtype=float32)</pre></div></div></li><li class='xr-section-item'><input id='section-05ea80f5-9508-4108-a489-6855e488de36' class='xr-section-summary-in' type='checkbox'  checked><label for='section-05ea80f5-9508-4108-a489-6855e488de36' class='xr-section-summary' >Coordinates: <span>(3)</span></label><div class='xr-section-inline-details'></div><div class='xr-section-details'><ul class='xr-var-list'><li class='xr-var-item'><div class='xr-var-name'><span class='xr-has-index'>longitude</span></div><div class='xr-var-dims'>(longitude)</div><div class='xr-var-dtype'>float64</div><div class='xr-var-preview xr-preview'>-179.8 -179.2 ... 179.2 179.8</div><input id='attrs-a2b4c95a-1495-4ecd-9df4-05d4c7b677aa' class='xr-var-attrs-in' type='checkbox' ><label for='attrs-a2b4c95a-1495-4ecd-9df4-05d4c7b677aa' title='Show/Hide attributes'><svg class='icon xr-icon-file-text2'><use xlink:href='#icon-file-text2'></use></svg></label><input id='data-0e4d839e-9699-4d6f-9d0e-29aedc5aad95' class='xr-var-data-in' type='checkbox'><label for='data-0e4d839e-9699-4d6f-9d0e-29aedc5aad95' title='Show/Hide data repr'><svg class='icon xr-icon-database'><use xlink:href='#icon-database'></use></svg></label><div class='xr-var-attrs'><dl class='xr-attrs'><dt><span>units :</span></dt><dd>degrees_east</dd><dt><span>long_name :</span></dt><dd>longitude</dd></dl></div><div class='xr-var-data'><pre>array([-179.75, -179.25, -178.75, ...,  178.75,  179.25,  179.75])</pre></div></li><li class='xr-var-item'><div class='xr-var-name'><span class='xr-has-index'>latitude</span></div><div class='xr-var-dims'>(latitude)</div><div class='xr-var-dtype'>float64</div><div class='xr-var-preview xr-preview'>89.75 89.25 88.75 ... -89.25 -89.75</div><input id='attrs-89cefef4-fe37-4471-9485-4abfb7fb0550' class='xr-var-attrs-in' type='checkbox' ><label for='attrs-89cefef4-fe37-4471-9485-4abfb7fb0550' title='Show/Hide attributes'><svg class='icon xr-icon-file-text2'><use xlink:href='#icon-file-text2'></use></svg></label><input id='data-c75c789b-14c3-49d4-ab59-26e2f3b9d015' class='xr-var-data-in' type='checkbox'><label for='data-c75c789b-14c3-49d4-ab59-26e2f3b9d015' title='Show/Hide data repr'><svg class='icon xr-icon-database'><use xlink:href='#icon-database'></use></svg></label><div class='xr-var-attrs'><dl class='xr-attrs'><dt><span>units :</span></dt><dd>degrees_north</dd><dt><span>long_name :</span></dt><dd>latitude</dd></dl></div><div class='xr-var-data'><pre>array([ 89.75,  89.25,  88.75, ..., -88.75, -89.25, -89.75])</pre></div></li><li class='xr-var-item'><div class='xr-var-name'><span>raster</span></div><div class='xr-var-dims'>()</div><div class='xr-var-dtype'>int32</div><div class='xr-var-preview xr-preview'>5</div><input id='attrs-1ec1f8b3-14f0-49fa-90b3-0757138b312d' class='xr-var-attrs-in' type='checkbox' ><label for='attrs-1ec1f8b3-14f0-49fa-90b3-0757138b312d' title='Show/Hide attributes'><svg class='icon xr-icon-file-text2'><use xlink:href='#icon-file-text2'></use></svg></label><input id='data-aa61091f-e858-41b9-aa89-08befbd1b058' class='xr-var-data-in' type='checkbox'><label for='data-aa61091f-e858-41b9-aa89-08befbd1b058' title='Show/Hide data repr'><svg class='icon xr-icon-database'><use xlink:href='#icon-database'></use></svg></label><div class='xr-var-attrs'><dl class='xr-attrs'><dt><span>units :</span></dt><dd>unknown</dd><dt><span>long_name :</span></dt><dd>raster</dd></dl></div><div class='xr-var-data'><pre>array(5, dtype=int32)</pre></div></li></ul></div></li><li class='xr-section-item'><input id='section-3c173ad8-93e9-481d-b365-ab466dc7431f' class='xr-section-summary-in' type='checkbox'  checked><label for='section-3c173ad8-93e9-481d-b365-ab466dc7431f' class='xr-section-summary' >Attributes: <span>(4)</span></label><div class='xr-section-inline-details'></div><div class='xr-section-details'><dl class='xr-attrs'><dt><span>units :</span></dt><dd>Persons</dd><dt><span>long_name :</span></dt><dd>Population Count, v4.11 (2000, 2005, 2010, 2015, 2020): 30 arc-minutes</dd><dt><span>min :</span></dt><dd>[ 0.000e+00  0.000e+00  0.000e+00  0.000e+00  0.000e+00  0.000e+00\n",
       "  0.000e+00  0.000e+00  0.000e+00  0.000e+00  4.000e+00  0.000e+00\n",
       "  0.000e+00  0.000e+00 -9.999e+03 -9.999e+03  0.000e+00  0.000e+00\n",
       "  0.000e+00  0.000e+00]</dd><dt><span>max :</span></dt><dd>[1.73895720e+07 1.80117900e+07 1.86917240e+07 2.11928260e+07\n",
       " 2.41139400e+07 2.07000000e+02 7.67642000e+05 3.00000000e+00\n",
       " 3.09796777e+03 3.09773193e+03 3.27670000e+04 6.00000000e+00\n",
       " 2.01500000e+03 6.00000000e+00 6.00000000e+00 6.00000000e+00\n",
       " 2.01100000e+03 2.01500000e+03 4.00000000e+00 2.01600000e+03]</dd></dl></div></li></ul></div></div>"
      ],
      "text/plain": [
       "<xarray.DataArray 'Population Count, v4.11 (2000, 2005, 2010, 2015, 2020): 30 arc-minutes' (latitude: 360, longitude: 720)>\n",
       "array([[nan, nan, nan, ..., nan, nan, nan],\n",
       "       [nan, nan, nan, ..., nan, nan, nan],\n",
       "       [nan, nan, nan, ..., nan, nan, nan],\n",
       "       ...,\n",
       "       [nan, nan, nan, ..., nan, nan, nan],\n",
       "       [nan, nan, nan, ..., nan, nan, nan],\n",
       "       [nan, nan, nan, ..., nan, nan, nan]], dtype=float32)\n",
       "Coordinates:\n",
       "  * longitude  (longitude) float64 -179.8 -179.2 -178.8 ... 178.8 179.2 179.8\n",
       "  * latitude   (latitude) float64 89.75 89.25 88.75 ... -88.75 -89.25 -89.75\n",
       "    raster     int32 5\n",
       "Attributes:\n",
       "    units:      Persons\n",
       "    long_name:  Population Count, v4.11 (2000, 2005, 2010, 2015, 2020): 30 ar...\n",
       "    min:        [ 0.000e+00  0.000e+00  0.000e+00  0.000e+00  0.000e+00  0.00...\n",
       "    max:        [1.73895720e+07 1.80117900e+07 1.86917240e+07 2.11928260e+07\\..."
      ]
     },
     "execution_count": 14,
     "metadata": {},
     "output_type": "execute_result"
    },
    {
     "data": {
      "application/javascript": [
       "\n",
       "            setTimeout(function() {\n",
       "                var nbb_cell_id = 14;\n",
       "                var nbb_unformatted_code = \"population_2020 = xr.load_dataset(\\\"gpw_v4_population_count_rev11_30_min.nc\\\")[\\n    \\\"Population Count, v4.11 (2000, 2005, 2010, 2015, 2020): 30 arc-minutes\\\"\\n].sel(raster=population_raster)\\npopulation_2020\";\n",
       "                var nbb_formatted_code = \"population_2020 = xr.load_dataset(\\\"gpw_v4_population_count_rev11_30_min.nc\\\")[\\n    \\\"Population Count, v4.11 (2000, 2005, 2010, 2015, 2020): 30 arc-minutes\\\"\\n].sel(raster=population_raster)\\npopulation_2020\";\n",
       "                var nbb_cells = Jupyter.notebook.get_cells();\n",
       "                for (var i = 0; i < nbb_cells.length; ++i) {\n",
       "                    if (nbb_cells[i].input_prompt_number == nbb_cell_id) {\n",
       "                        if (nbb_cells[i].get_text() == nbb_unformatted_code) {\n",
       "                             nbb_cells[i].set_text(nbb_formatted_code);\n",
       "                        }\n",
       "                        break;\n",
       "                    }\n",
       "                }\n",
       "            }, 500);\n",
       "            "
      ],
      "text/plain": [
       "<IPython.core.display.Javascript object>"
      ]
     },
     "metadata": {},
     "output_type": "display_data"
    }
   ],
   "source": [
    "population_2020 = xr.load_dataset(\"gpw_v4_population_count_rev11_30_min.nc\")[\n",
    "    \"Population Count, v4.11 (2000, 2005, 2010, 2015, 2020): 30 arc-minutes\"\n",
    "].sel(raster=population_raster)\n",
    "population_2020"
   ]
  },
  {
   "cell_type": "code",
   "execution_count": 15,
   "id": "mental-finder",
   "metadata": {},
   "outputs": [
    {
     "data": {
      "text/html": [
       "<div><svg style=\"position: absolute; width: 0; height: 0; overflow: hidden\">\n",
       "<defs>\n",
       "<symbol id=\"icon-database\" viewBox=\"0 0 32 32\">\n",
       "<path d=\"M16 0c-8.837 0-16 2.239-16 5v4c0 2.761 7.163 5 16 5s16-2.239 16-5v-4c0-2.761-7.163-5-16-5z\"></path>\n",
       "<path d=\"M16 17c-8.837 0-16-2.239-16-5v6c0 2.761 7.163 5 16 5s16-2.239 16-5v-6c0 2.761-7.163 5-16 5z\"></path>\n",
       "<path d=\"M16 26c-8.837 0-16-2.239-16-5v6c0 2.761 7.163 5 16 5s16-2.239 16-5v-6c0 2.761-7.163 5-16 5z\"></path>\n",
       "</symbol>\n",
       "<symbol id=\"icon-file-text2\" viewBox=\"0 0 32 32\">\n",
       "<path d=\"M28.681 7.159c-0.694-0.947-1.662-2.053-2.724-3.116s-2.169-2.030-3.116-2.724c-1.612-1.182-2.393-1.319-2.841-1.319h-15.5c-1.378 0-2.5 1.121-2.5 2.5v27c0 1.378 1.122 2.5 2.5 2.5h23c1.378 0 2.5-1.122 2.5-2.5v-19.5c0-0.448-0.137-1.23-1.319-2.841zM24.543 5.457c0.959 0.959 1.712 1.825 2.268 2.543h-4.811v-4.811c0.718 0.556 1.584 1.309 2.543 2.268zM28 29.5c0 0.271-0.229 0.5-0.5 0.5h-23c-0.271 0-0.5-0.229-0.5-0.5v-27c0-0.271 0.229-0.5 0.5-0.5 0 0 15.499-0 15.5 0v7c0 0.552 0.448 1 1 1h7v19.5z\"></path>\n",
       "<path d=\"M23 26h-14c-0.552 0-1-0.448-1-1s0.448-1 1-1h14c0.552 0 1 0.448 1 1s-0.448 1-1 1z\"></path>\n",
       "<path d=\"M23 22h-14c-0.552 0-1-0.448-1-1s0.448-1 1-1h14c0.552 0 1 0.448 1 1s-0.448 1-1 1z\"></path>\n",
       "<path d=\"M23 18h-14c-0.552 0-1-0.448-1-1s0.448-1 1-1h14c0.552 0 1 0.448 1 1s-0.448 1-1 1z\"></path>\n",
       "</symbol>\n",
       "</defs>\n",
       "</svg>\n",
       "<style>/* CSS stylesheet for displaying xarray objects in jupyterlab.\n",
       " *\n",
       " */\n",
       "\n",
       ":root {\n",
       "  --xr-font-color0: var(--jp-content-font-color0, rgba(0, 0, 0, 1));\n",
       "  --xr-font-color2: var(--jp-content-font-color2, rgba(0, 0, 0, 0.54));\n",
       "  --xr-font-color3: var(--jp-content-font-color3, rgba(0, 0, 0, 0.38));\n",
       "  --xr-border-color: var(--jp-border-color2, #e0e0e0);\n",
       "  --xr-disabled-color: var(--jp-layout-color3, #bdbdbd);\n",
       "  --xr-background-color: var(--jp-layout-color0, white);\n",
       "  --xr-background-color-row-even: var(--jp-layout-color1, white);\n",
       "  --xr-background-color-row-odd: var(--jp-layout-color2, #eeeeee);\n",
       "}\n",
       "\n",
       "html[theme=dark],\n",
       "body.vscode-dark {\n",
       "  --xr-font-color0: rgba(255, 255, 255, 1);\n",
       "  --xr-font-color2: rgba(255, 255, 255, 0.54);\n",
       "  --xr-font-color3: rgba(255, 255, 255, 0.38);\n",
       "  --xr-border-color: #1F1F1F;\n",
       "  --xr-disabled-color: #515151;\n",
       "  --xr-background-color: #111111;\n",
       "  --xr-background-color-row-even: #111111;\n",
       "  --xr-background-color-row-odd: #313131;\n",
       "}\n",
       "\n",
       ".xr-wrap {\n",
       "  display: block;\n",
       "  min-width: 300px;\n",
       "  max-width: 700px;\n",
       "}\n",
       "\n",
       ".xr-text-repr-fallback {\n",
       "  /* fallback to plain text repr when CSS is not injected (untrusted notebook) */\n",
       "  display: none;\n",
       "}\n",
       "\n",
       ".xr-header {\n",
       "  padding-top: 6px;\n",
       "  padding-bottom: 6px;\n",
       "  margin-bottom: 4px;\n",
       "  border-bottom: solid 1px var(--xr-border-color);\n",
       "}\n",
       "\n",
       ".xr-header > div,\n",
       ".xr-header > ul {\n",
       "  display: inline;\n",
       "  margin-top: 0;\n",
       "  margin-bottom: 0;\n",
       "}\n",
       "\n",
       ".xr-obj-type,\n",
       ".xr-array-name {\n",
       "  margin-left: 2px;\n",
       "  margin-right: 10px;\n",
       "}\n",
       "\n",
       ".xr-obj-type {\n",
       "  color: var(--xr-font-color2);\n",
       "}\n",
       "\n",
       ".xr-sections {\n",
       "  padding-left: 0 !important;\n",
       "  display: grid;\n",
       "  grid-template-columns: 150px auto auto 1fr 20px 20px;\n",
       "}\n",
       "\n",
       ".xr-section-item {\n",
       "  display: contents;\n",
       "}\n",
       "\n",
       ".xr-section-item input {\n",
       "  display: none;\n",
       "}\n",
       "\n",
       ".xr-section-item input + label {\n",
       "  color: var(--xr-disabled-color);\n",
       "}\n",
       "\n",
       ".xr-section-item input:enabled + label {\n",
       "  cursor: pointer;\n",
       "  color: var(--xr-font-color2);\n",
       "}\n",
       "\n",
       ".xr-section-item input:enabled + label:hover {\n",
       "  color: var(--xr-font-color0);\n",
       "}\n",
       "\n",
       ".xr-section-summary {\n",
       "  grid-column: 1;\n",
       "  color: var(--xr-font-color2);\n",
       "  font-weight: 500;\n",
       "}\n",
       "\n",
       ".xr-section-summary > span {\n",
       "  display: inline-block;\n",
       "  padding-left: 0.5em;\n",
       "}\n",
       "\n",
       ".xr-section-summary-in:disabled + label {\n",
       "  color: var(--xr-font-color2);\n",
       "}\n",
       "\n",
       ".xr-section-summary-in + label:before {\n",
       "  display: inline-block;\n",
       "  content: '►';\n",
       "  font-size: 11px;\n",
       "  width: 15px;\n",
       "  text-align: center;\n",
       "}\n",
       "\n",
       ".xr-section-summary-in:disabled + label:before {\n",
       "  color: var(--xr-disabled-color);\n",
       "}\n",
       "\n",
       ".xr-section-summary-in:checked + label:before {\n",
       "  content: '▼';\n",
       "}\n",
       "\n",
       ".xr-section-summary-in:checked + label > span {\n",
       "  display: none;\n",
       "}\n",
       "\n",
       ".xr-section-summary,\n",
       ".xr-section-inline-details {\n",
       "  padding-top: 4px;\n",
       "  padding-bottom: 4px;\n",
       "}\n",
       "\n",
       ".xr-section-inline-details {\n",
       "  grid-column: 2 / -1;\n",
       "}\n",
       "\n",
       ".xr-section-details {\n",
       "  display: none;\n",
       "  grid-column: 1 / -1;\n",
       "  margin-bottom: 5px;\n",
       "}\n",
       "\n",
       ".xr-section-summary-in:checked ~ .xr-section-details {\n",
       "  display: contents;\n",
       "}\n",
       "\n",
       ".xr-array-wrap {\n",
       "  grid-column: 1 / -1;\n",
       "  display: grid;\n",
       "  grid-template-columns: 20px auto;\n",
       "}\n",
       "\n",
       ".xr-array-wrap > label {\n",
       "  grid-column: 1;\n",
       "  vertical-align: top;\n",
       "}\n",
       "\n",
       ".xr-preview {\n",
       "  color: var(--xr-font-color3);\n",
       "}\n",
       "\n",
       ".xr-array-preview,\n",
       ".xr-array-data {\n",
       "  padding: 0 5px !important;\n",
       "  grid-column: 2;\n",
       "}\n",
       "\n",
       ".xr-array-data,\n",
       ".xr-array-in:checked ~ .xr-array-preview {\n",
       "  display: none;\n",
       "}\n",
       "\n",
       ".xr-array-in:checked ~ .xr-array-data,\n",
       ".xr-array-preview {\n",
       "  display: inline-block;\n",
       "}\n",
       "\n",
       ".xr-dim-list {\n",
       "  display: inline-block !important;\n",
       "  list-style: none;\n",
       "  padding: 0 !important;\n",
       "  margin: 0;\n",
       "}\n",
       "\n",
       ".xr-dim-list li {\n",
       "  display: inline-block;\n",
       "  padding: 0;\n",
       "  margin: 0;\n",
       "}\n",
       "\n",
       ".xr-dim-list:before {\n",
       "  content: '(';\n",
       "}\n",
       "\n",
       ".xr-dim-list:after {\n",
       "  content: ')';\n",
       "}\n",
       "\n",
       ".xr-dim-list li:not(:last-child):after {\n",
       "  content: ',';\n",
       "  padding-right: 5px;\n",
       "}\n",
       "\n",
       ".xr-has-index {\n",
       "  font-weight: bold;\n",
       "}\n",
       "\n",
       ".xr-var-list,\n",
       ".xr-var-item {\n",
       "  display: contents;\n",
       "}\n",
       "\n",
       ".xr-var-item > div,\n",
       ".xr-var-item label,\n",
       ".xr-var-item > .xr-var-name span {\n",
       "  background-color: var(--xr-background-color-row-even);\n",
       "  margin-bottom: 0;\n",
       "}\n",
       "\n",
       ".xr-var-item > .xr-var-name:hover span {\n",
       "  padding-right: 5px;\n",
       "}\n",
       "\n",
       ".xr-var-list > li:nth-child(odd) > div,\n",
       ".xr-var-list > li:nth-child(odd) > label,\n",
       ".xr-var-list > li:nth-child(odd) > .xr-var-name span {\n",
       "  background-color: var(--xr-background-color-row-odd);\n",
       "}\n",
       "\n",
       ".xr-var-name {\n",
       "  grid-column: 1;\n",
       "}\n",
       "\n",
       ".xr-var-dims {\n",
       "  grid-column: 2;\n",
       "}\n",
       "\n",
       ".xr-var-dtype {\n",
       "  grid-column: 3;\n",
       "  text-align: right;\n",
       "  color: var(--xr-font-color2);\n",
       "}\n",
       "\n",
       ".xr-var-preview {\n",
       "  grid-column: 4;\n",
       "}\n",
       "\n",
       ".xr-var-name,\n",
       ".xr-var-dims,\n",
       ".xr-var-dtype,\n",
       ".xr-preview,\n",
       ".xr-attrs dt {\n",
       "  white-space: nowrap;\n",
       "  overflow: hidden;\n",
       "  text-overflow: ellipsis;\n",
       "  padding-right: 10px;\n",
       "}\n",
       "\n",
       ".xr-var-name:hover,\n",
       ".xr-var-dims:hover,\n",
       ".xr-var-dtype:hover,\n",
       ".xr-attrs dt:hover {\n",
       "  overflow: visible;\n",
       "  width: auto;\n",
       "  z-index: 1;\n",
       "}\n",
       "\n",
       ".xr-var-attrs,\n",
       ".xr-var-data {\n",
       "  display: none;\n",
       "  background-color: var(--xr-background-color) !important;\n",
       "  padding-bottom: 5px !important;\n",
       "}\n",
       "\n",
       ".xr-var-attrs-in:checked ~ .xr-var-attrs,\n",
       ".xr-var-data-in:checked ~ .xr-var-data {\n",
       "  display: block;\n",
       "}\n",
       "\n",
       ".xr-var-data > table {\n",
       "  float: right;\n",
       "}\n",
       "\n",
       ".xr-var-name span,\n",
       ".xr-var-data,\n",
       ".xr-attrs {\n",
       "  padding-left: 25px !important;\n",
       "}\n",
       "\n",
       ".xr-attrs,\n",
       ".xr-var-attrs,\n",
       ".xr-var-data {\n",
       "  grid-column: 1 / -1;\n",
       "}\n",
       "\n",
       "dl.xr-attrs {\n",
       "  padding: 0;\n",
       "  margin: 0;\n",
       "  display: grid;\n",
       "  grid-template-columns: 125px auto;\n",
       "}\n",
       "\n",
       ".xr-attrs dt,\n",
       ".xr-attrs dd {\n",
       "  padding: 0;\n",
       "  margin: 0;\n",
       "  float: left;\n",
       "  padding-right: 10px;\n",
       "  width: auto;\n",
       "}\n",
       "\n",
       ".xr-attrs dt {\n",
       "  font-weight: normal;\n",
       "  grid-column: 1;\n",
       "}\n",
       "\n",
       ".xr-attrs dt:hover span {\n",
       "  display: inline-block;\n",
       "  background: var(--xr-background-color);\n",
       "  padding-right: 10px;\n",
       "}\n",
       "\n",
       ".xr-attrs dd {\n",
       "  grid-column: 2;\n",
       "  white-space: pre-wrap;\n",
       "  word-break: break-all;\n",
       "}\n",
       "\n",
       ".xr-icon-database,\n",
       ".xr-icon-file-text2 {\n",
       "  display: inline-block;\n",
       "  vertical-align: middle;\n",
       "  width: 1em;\n",
       "  height: 1.5em !important;\n",
       "  stroke-width: 0;\n",
       "  stroke: currentColor;\n",
       "  fill: currentColor;\n",
       "}\n",
       "</style><pre class='xr-text-repr-fallback'>&lt;xarray.DataArray &#x27;Population Count, v4.11 (2000, 2005, 2010, 2015, 2020): 30 arc-minutes&#x27; ()&gt;\n",
       "array(7.9694454e+09, dtype=float32)\n",
       "Coordinates:\n",
       "    raster   int32 5</pre><div class='xr-wrap' hidden><div class='xr-header'><div class='xr-obj-type'>xarray.DataArray</div><div class='xr-array-name'>'Population Count, v4.11 (2000, 2005, 2010, 2015, 2020): 30 arc-minutes'</div></div><ul class='xr-sections'><li class='xr-section-item'><div class='xr-array-wrap'><input id='section-48cc7518-ff37-4525-a449-4f37ce1a39c8' class='xr-array-in' type='checkbox' checked><label for='section-48cc7518-ff37-4525-a449-4f37ce1a39c8' title='Show/hide data repr'><svg class='icon xr-icon-database'><use xlink:href='#icon-database'></use></svg></label><div class='xr-array-preview xr-preview'><span>7.969e+09</span></div><div class='xr-array-data'><pre>array(7.9694454e+09, dtype=float32)</pre></div></div></li><li class='xr-section-item'><input id='section-284bbc9a-9e04-498a-aee9-e4bd4d248696' class='xr-section-summary-in' type='checkbox'  checked><label for='section-284bbc9a-9e04-498a-aee9-e4bd4d248696' class='xr-section-summary' >Coordinates: <span>(1)</span></label><div class='xr-section-inline-details'></div><div class='xr-section-details'><ul class='xr-var-list'><li class='xr-var-item'><div class='xr-var-name'><span>raster</span></div><div class='xr-var-dims'>()</div><div class='xr-var-dtype'>int32</div><div class='xr-var-preview xr-preview'>5</div><input id='attrs-78394a65-24be-42df-a638-ecaf887a0ca6' class='xr-var-attrs-in' type='checkbox' ><label for='attrs-78394a65-24be-42df-a638-ecaf887a0ca6' title='Show/Hide attributes'><svg class='icon xr-icon-file-text2'><use xlink:href='#icon-file-text2'></use></svg></label><input id='data-5ccb6f0d-a3ec-48c2-93c8-dd5320fcc95e' class='xr-var-data-in' type='checkbox'><label for='data-5ccb6f0d-a3ec-48c2-93c8-dd5320fcc95e' title='Show/Hide data repr'><svg class='icon xr-icon-database'><use xlink:href='#icon-database'></use></svg></label><div class='xr-var-attrs'><dl class='xr-attrs'><dt><span>units :</span></dt><dd>unknown</dd><dt><span>long_name :</span></dt><dd>raster</dd></dl></div><div class='xr-var-data'><pre>array(5, dtype=int32)</pre></div></li></ul></div></li><li class='xr-section-item'><input id='section-1760f45d-9c13-4df3-8949-7617346a6823' class='xr-section-summary-in' type='checkbox' disabled ><label for='section-1760f45d-9c13-4df3-8949-7617346a6823' class='xr-section-summary'  title='Expand/collapse section'>Attributes: <span>(0)</span></label><div class='xr-section-inline-details'></div><div class='xr-section-details'><dl class='xr-attrs'></dl></div></li></ul></div></div>"
      ],
      "text/plain": [
       "<xarray.DataArray 'Population Count, v4.11 (2000, 2005, 2010, 2015, 2020): 30 arc-minutes' ()>\n",
       "array(7.9694454e+09, dtype=float32)\n",
       "Coordinates:\n",
       "    raster   int32 5"
      ]
     },
     "execution_count": 15,
     "metadata": {},
     "output_type": "execute_result"
    },
    {
     "data": {
      "application/javascript": [
       "\n",
       "            setTimeout(function() {\n",
       "                var nbb_cell_id = 15;\n",
       "                var nbb_unformatted_code = \"population_2020.sum()\";\n",
       "                var nbb_formatted_code = \"population_2020.sum()\";\n",
       "                var nbb_cells = Jupyter.notebook.get_cells();\n",
       "                for (var i = 0; i < nbb_cells.length; ++i) {\n",
       "                    if (nbb_cells[i].input_prompt_number == nbb_cell_id) {\n",
       "                        if (nbb_cells[i].get_text() == nbb_unformatted_code) {\n",
       "                             nbb_cells[i].set_text(nbb_formatted_code);\n",
       "                        }\n",
       "                        break;\n",
       "                    }\n",
       "                }\n",
       "            }, 500);\n",
       "            "
      ],
      "text/plain": [
       "<IPython.core.display.Javascript object>"
      ]
     },
     "metadata": {},
     "output_type": "display_data"
    }
   ],
   "source": [
    "population_2020.sum()"
   ]
  },
  {
   "cell_type": "code",
   "execution_count": 16,
   "id": "opening-playlist",
   "metadata": {},
   "outputs": [
    {
     "data": {
      "text/plain": [
       "<matplotlib.collections.QuadMesh at 0x7f618500d520>"
      ]
     },
     "execution_count": 16,
     "metadata": {},
     "output_type": "execute_result"
    },
    {
     "data": {
      "image/png": "[encoded data removed]",
      "text/plain": [
       "<Figure size 432x288 with 2 Axes>"
      ]
     },
     "metadata": {
      "needs_background": "light"
     },
     "output_type": "display_data"
    },
    {
     "data": {
      "application/javascript": [
       "\n",
       "            setTimeout(function() {\n",
       "                var nbb_cell_id = 16;\n",
       "                var nbb_unformatted_code = \"population_2020.plot()\";\n",
       "                var nbb_formatted_code = \"population_2020.plot()\";\n",
       "                var nbb_cells = Jupyter.notebook.get_cells();\n",
       "                for (var i = 0; i < nbb_cells.length; ++i) {\n",
       "                    if (nbb_cells[i].input_prompt_number == nbb_cell_id) {\n",
       "                        if (nbb_cells[i].get_text() == nbb_unformatted_code) {\n",
       "                             nbb_cells[i].set_text(nbb_formatted_code);\n",
       "                        }\n",
       "                        break;\n",
       "                    }\n",
       "                }\n",
       "            }, 500);\n",
       "            "
      ],
      "text/plain": [
       "<IPython.core.display.Javascript object>"
      ]
     },
     "metadata": {},
     "output_type": "display_data"
    }
   ],
   "source": [
    "population_2020.plot()"
   ]
  },
  {
   "cell_type": "code",
   "execution_count": 17,
   "id": "binding-analyst",
   "metadata": {},
   "outputs": [
    {
     "data": {
      "text/plain": [
       "<matplotlib.collections.QuadMesh at 0x7f618506c700>"
      ]
     },
     "execution_count": 17,
     "metadata": {},
     "output_type": "execute_result"
    },
    {
     "data": {
      "image/png": "[encoded data removed]",
      "text/plain": [
       "<Figure size 432x288 with 2 Axes>"
      ]
     },
     "metadata": {
      "needs_background": "light"
     },
     "output_type": "display_data"
    },
    {
     "data": {
      "application/javascript": [
       "\n",
       "            setTimeout(function() {\n",
       "                var nbb_cell_id = 17;\n",
       "                var nbb_unformatted_code = \"population_2020.sel(\\n    latitude=range(20, 50 + 1), longitude=range(-130, -70 + 1), method=\\\"nearest\\\"\\n).plot()\";\n",
       "                var nbb_formatted_code = \"population_2020.sel(\\n    latitude=range(20, 50 + 1), longitude=range(-130, -70 + 1), method=\\\"nearest\\\"\\n).plot()\";\n",
       "                var nbb_cells = Jupyter.notebook.get_cells();\n",
       "                for (var i = 0; i < nbb_cells.length; ++i) {\n",
       "                    if (nbb_cells[i].input_prompt_number == nbb_cell_id) {\n",
       "                        if (nbb_cells[i].get_text() == nbb_unformatted_code) {\n",
       "                             nbb_cells[i].set_text(nbb_formatted_code);\n",
       "                        }\n",
       "                        break;\n",
       "                    }\n",
       "                }\n",
       "            }, 500);\n",
       "            "
      ],
      "text/plain": [
       "<IPython.core.display.Javascript object>"
      ]
     },
     "metadata": {},
     "output_type": "display_data"
    }
   ],
   "source": [
    "population_2020.sel(\n",
    "    latitude=range(20, 50 + 1), longitude=range(-130, -70 + 1), method=\"nearest\"\n",
    ").plot()"
   ]
  },
  {
   "cell_type": "code",
   "execution_count": 18,
   "id": "neural-opening",
   "metadata": {},
   "outputs": [
    {
     "data": {
      "text/html": [
       "\n",
       "<style>\n",
       "  a.iris {\n",
       "      text-decoration: none !important;\n",
       "  }\n",
       "  table.iris {\n",
       "      white-space: pre;\n",
       "      border: 1px solid;\n",
       "      border-color: #9c9c9c;\n",
       "      font-family: monaco, monospace;\n",
       "  }\n",
       "  th.iris {\n",
       "      background: #303f3f;\n",
       "      color: #e0e0e0;\n",
       "      border-left: 1px solid;\n",
       "      border-color: #9c9c9c;\n",
       "      font-size: 1.05em;\n",
       "      min-width: 50px;\n",
       "      max-width: 125px;\n",
       "  }\n",
       "  tr.iris :first-child {\n",
       "      border-right: 1px solid #9c9c9c !important;\n",
       "  }\n",
       "  td.iris-title {\n",
       "      background: #d5dcdf;\n",
       "      border-top: 1px solid #9c9c9c;\n",
       "      font-weight: bold;\n",
       "  }\n",
       "  .iris-word-cell {\n",
       "      text-align: left !important;\n",
       "      white-space: pre;\n",
       "  }\n",
       "  .iris-subheading-cell {\n",
       "      padding-left: 2em !important;\n",
       "  }\n",
       "  .iris-inclusion-cell {\n",
       "      padding-right: 1em !important;\n",
       "  }\n",
       "  .iris-panel-body {\n",
       "      padding-top: 0px;\n",
       "  }\n",
       "  .iris-panel-title {\n",
       "      padding-left: 3em;\n",
       "  }\n",
       "  .iris-panel-title {\n",
       "      margin-top: 7px;\n",
       "  }\n",
       "</style>\n",
       "<table class=\"iris\" id=\"140056812605296\">\n",
       "    <tr class=\"iris\">\n",
       "<th class=\"iris iris-word-cell\">Population Count, V4.11 (2000, 2005, 2010, 2015, 2020): 30 Arc-Minutes (1)</th>\n",
       "<th class=\"iris iris-word-cell\">latitude</th>\n",
       "<th class=\"iris iris-word-cell\">longitude</th>\n",
       "</tr>\n",
       "    <tr class=\"iris\">\n",
       "<td class=\"iris-word-cell iris-subheading-cell\">Shape</td>\n",
       "<td class=\"iris iris-inclusion-cell\">360</td>\n",
       "<td class=\"iris iris-inclusion-cell\">720</td>\n",
       "</tr>\n",
       "    <tr class=\"iris\">\n",
       "    <td class=\"iris-title iris-word-cell\">Dimension coordinates</td>\n",
       "    <td class=\"iris-title\"></td>\n",
       "    <td class=\"iris-title\"></td>\n",
       "</tr>\n",
       "<tr class=\"iris\">\n",
       "    <td class=\"iris-word-cell iris-subheading-cell\">\tlatitude</td>\n",
       "    <td class=\"iris-inclusion-cell\">x</td>\n",
       "    <td class=\"iris-inclusion-cell\">-</td>\n",
       "</tr>\n",
       "<tr class=\"iris\">\n",
       "    <td class=\"iris-word-cell iris-subheading-cell\">\tlongitude</td>\n",
       "    <td class=\"iris-inclusion-cell\">-</td>\n",
       "    <td class=\"iris-inclusion-cell\">x</td>\n",
       "</tr>\n",
       "<tr class=\"iris\">\n",
       "    <td class=\"iris-title iris-word-cell\">Attributes</td>\n",
       "    <td class=\"iris-title\"></td>\n",
       "    <td class=\"iris-title\"></td>\n",
       "</tr>\n",
       "<tr class=\"iris\">\n",
       "    <td class=\"iris-word-cell iris-subheading-cell\">\tmax</td>\n",
       "    <td class=\"iris-word-cell\" colspan=\"2\">[1.73895720e+07 1.80117900e+07 1.86917240e+07 2.11928260e+07<br>2.41139400e+07...</td>\n",
       "</tr>\n",
       "<tr class=\"iris\">\n",
       "    <td class=\"iris-word-cell iris-subheading-cell\">\tmin</td>\n",
       "    <td class=\"iris-word-cell\" colspan=\"2\">[ 0.000e+00  0.000e+00  0.000e+00  0.000e+00  0.000e+00  0.000e+00<br>0.000e+00...</td>\n",
       "</tr>\n",
       "</table>\n",
       "        "
      ],
      "text/plain": [
       "<iris 'Cube' of Population Count, v4.11 (2000, 2005, 2010, 2015, 2020): 30 arc-minutes / (1) (latitude: 360; longitude: 720)>"
      ]
     },
     "metadata": {},
     "output_type": "display_data"
    },
    {
     "data": {
      "text/plain": [
       "[DimCoord(array([ 89.75,  89.25,  88.75,  88.25,  87.75,  87.25,  86.75,  86.25,\n",
       "         85.75,  85.25,  84.75,  84.25,  83.75,  83.25,  82.75,  82.25,\n",
       "         81.75,  81.25,  80.75,  80.25,  79.75,  79.25,  78.75,  78.25,\n",
       "         77.75,  77.25,  76.75,  76.25,  75.75,  75.25,  74.75,  74.25,\n",
       "         73.75,  73.25,  72.75,  72.25,  71.75,  71.25,  70.75,  70.25,\n",
       "         69.75,  69.25,  68.75,  68.25,  67.75,  67.25,  66.75,  66.25,\n",
       "         65.75,  65.25,  64.75,  64.25,  63.75,  63.25,  62.75,  62.25,\n",
       "         61.75,  61.25,  60.75,  60.25,  59.75,  59.25,  58.75,  58.25,\n",
       "         57.75,  57.25,  56.75,  56.25,  55.75,  55.25,  54.75,  54.25,\n",
       "         53.75,  53.25,  52.75,  52.25,  51.75,  51.25,  50.75,  50.25,\n",
       "         49.75,  49.25,  48.75,  48.25,  47.75,  47.25,  46.75,  46.25,\n",
       "         45.75,  45.25,  44.75,  44.25,  43.75,  43.25,  42.75,  42.25,\n",
       "         41.75,  41.25,  40.75,  40.25,  39.75,  39.25,  38.75,  38.25,\n",
       "         37.75,  37.25,  36.75,  36.25,  35.75,  35.25,  34.75,  34.25,\n",
       "         33.75,  33.25,  32.75,  32.25,  31.75,  31.25,  30.75,  30.25,\n",
       "         29.75,  29.25,  28.75,  28.25,  27.75,  27.25,  26.75,  26.25,\n",
       "         25.75,  25.25,  24.75,  24.25,  23.75,  23.25,  22.75,  22.25,\n",
       "         21.75,  21.25,  20.75,  20.25,  19.75,  19.25,  18.75,  18.25,\n",
       "         17.75,  17.25,  16.75,  16.25,  15.75,  15.25,  14.75,  14.25,\n",
       "         13.75,  13.25,  12.75,  12.25,  11.75,  11.25,  10.75,  10.25,\n",
       "          9.75,   9.25,   8.75,   8.25,   7.75,   7.25,   6.75,   6.25,\n",
       "          5.75,   5.25,   4.75,   4.25,   3.75,   3.25,   2.75,   2.25,\n",
       "          1.75,   1.25,   0.75,   0.25,  -0.25,  -0.75,  -1.25,  -1.75,\n",
       "         -2.25,  -2.75,  -3.25,  -3.75,  -4.25,  -4.75,  -5.25,  -5.75,\n",
       "         -6.25,  -6.75,  -7.25,  -7.75,  -8.25,  -8.75,  -9.25,  -9.75,\n",
       "        -10.25, -10.75, -11.25, -11.75, -12.25, -12.75, -13.25, -13.75,\n",
       "        -14.25, -14.75, -15.25, -15.75, -16.25, -16.75, -17.25, -17.75,\n",
       "        -18.25, -18.75, -19.25, -19.75, -20.25, -20.75, -21.25, -21.75,\n",
       "        -22.25, -22.75, -23.25, -23.75, -24.25, -24.75, -25.25, -25.75,\n",
       "        -26.25, -26.75, -27.25, -27.75, -28.25, -28.75, -29.25, -29.75,\n",
       "        -30.25, -30.75, -31.25, -31.75, -32.25, -32.75, -33.25, -33.75,\n",
       "        -34.25, -34.75, -35.25, -35.75, -36.25, -36.75, -37.25, -37.75,\n",
       "        -38.25, -38.75, -39.25, -39.75, -40.25, -40.75, -41.25, -41.75,\n",
       "        -42.25, -42.75, -43.25, -43.75, -44.25, -44.75, -45.25, -45.75,\n",
       "        -46.25, -46.75, -47.25, -47.75, -48.25, -48.75, -49.25, -49.75,\n",
       "        -50.25, -50.75, -51.25, -51.75, -52.25, -52.75, -53.25, -53.75,\n",
       "        -54.25, -54.75, -55.25, -55.75, -56.25, -56.75, -57.25, -57.75,\n",
       "        -58.25, -58.75, -59.25, -59.75, -60.25, -60.75, -61.25, -61.75,\n",
       "        -62.25, -62.75, -63.25, -63.75, -64.25, -64.75, -65.25, -65.75,\n",
       "        -66.25, -66.75, -67.25, -67.75, -68.25, -68.75, -69.25, -69.75,\n",
       "        -70.25, -70.75, -71.25, -71.75, -72.25, -72.75, -73.25, -73.75,\n",
       "        -74.25, -74.75, -75.25, -75.75, -76.25, -76.75, -77.25, -77.75,\n",
       "        -78.25, -78.75, -79.25, -79.75, -80.25, -80.75, -81.25, -81.75,\n",
       "        -82.25, -82.75, -83.25, -83.75, -84.25, -84.75, -85.25, -85.75,\n",
       "        -86.25, -86.75, -87.25, -87.75, -88.25, -88.75, -89.25, -89.75]), standard_name='latitude', units=Unit('degrees_north'), long_name='latitude', var_name='latitude'),\n",
       " DimCoord(array([-179.75, -179.25, -178.75, -178.25, -177.75, -177.25, -176.75,\n",
       "        -176.25, -175.75, -175.25, -174.75, -174.25, -173.75, -173.25,\n",
       "        -172.75, -172.25, -171.75, -171.25, -170.75, -170.25, -169.75,\n",
       "        -169.25, -168.75, -168.25, -167.75, -167.25, -166.75, -166.25,\n",
       "        -165.75, -165.25, -164.75, -164.25, -163.75, -163.25, -162.75,\n",
       "        -162.25, -161.75, -161.25, -160.75, -160.25, -159.75, -159.25,\n",
       "        -158.75, -158.25, -157.75, -157.25, -156.75, -156.25, -155.75,\n",
       "        -155.25, -154.75, -154.25, -153.75, -153.25, -152.75, -152.25,\n",
       "        -151.75, -151.25, -150.75, -150.25, -149.75, -149.25, -148.75,\n",
       "        -148.25, -147.75, -147.25, -146.75, -146.25, -145.75, -145.25,\n",
       "        -144.75, -144.25, -143.75, -143.25, -142.75, -142.25, -141.75,\n",
       "        -141.25, -140.75, -140.25, -139.75, -139.25, -138.75, -138.25,\n",
       "        -137.75, -137.25, -136.75, -136.25, -135.75, -135.25, -134.75,\n",
       "        -134.25, -133.75, -133.25, -132.75, -132.25, -131.75, -131.25,\n",
       "        -130.75, -130.25, -129.75, -129.25, -128.75, -128.25, -127.75,\n",
       "        -127.25, -126.75, -126.25, -125.75, -125.25, -124.75, -124.25,\n",
       "        -123.75, -123.25, -122.75, -122.25, -121.75, -121.25, -120.75,\n",
       "        -120.25, -119.75, -119.25, -118.75, -118.25, -117.75, -117.25,\n",
       "        -116.75, -116.25, -115.75, -115.25, -114.75, -114.25, -113.75,\n",
       "        -113.25, -112.75, -112.25, -111.75, -111.25, -110.75, -110.25,\n",
       "        -109.75, -109.25, -108.75, -108.25, -107.75, -107.25, -106.75,\n",
       "        -106.25, -105.75, -105.25, -104.75, -104.25, -103.75, -103.25,\n",
       "        -102.75, -102.25, -101.75, -101.25, -100.75, -100.25,  -99.75,\n",
       "         -99.25,  -98.75,  -98.25,  -97.75,  -97.25,  -96.75,  -96.25,\n",
       "         -95.75,  -95.25,  -94.75,  -94.25,  -93.75,  -93.25,  -92.75,\n",
       "         -92.25,  -91.75,  -91.25,  -90.75,  -90.25,  -89.75,  -89.25,\n",
       "         -88.75,  -88.25,  -87.75,  -87.25,  -86.75,  -86.25,  -85.75,\n",
       "         -85.25,  -84.75,  -84.25,  -83.75,  -83.25,  -82.75,  -82.25,\n",
       "         -81.75,  -81.25,  -80.75,  -80.25,  -79.75,  -79.25,  -78.75,\n",
       "         -78.25,  -77.75,  -77.25,  -76.75,  -76.25,  -75.75,  -75.25,\n",
       "         -74.75,  -74.25,  -73.75,  -73.25,  -72.75,  -72.25,  -71.75,\n",
       "         -71.25,  -70.75,  -70.25,  -69.75,  -69.25,  -68.75,  -68.25,\n",
       "         -67.75,  -67.25,  -66.75,  -66.25,  -65.75,  -65.25,  -64.75,\n",
       "         -64.25,  -63.75,  -63.25,  -62.75,  -62.25,  -61.75,  -61.25,\n",
       "         -60.75,  -60.25,  -59.75,  -59.25,  -58.75,  -58.25,  -57.75,\n",
       "         -57.25,  -56.75,  -56.25,  -55.75,  -55.25,  -54.75,  -54.25,\n",
       "         -53.75,  -53.25,  -52.75,  -52.25,  -51.75,  -51.25,  -50.75,\n",
       "         -50.25,  -49.75,  -49.25,  -48.75,  -48.25,  -47.75,  -47.25,\n",
       "         -46.75,  -46.25,  -45.75,  -45.25,  -44.75,  -44.25,  -43.75,\n",
       "         -43.25,  -42.75,  -42.25,  -41.75,  -41.25,  -40.75,  -40.25,\n",
       "         -39.75,  -39.25,  -38.75,  -38.25,  -37.75,  -37.25,  -36.75,\n",
       "         -36.25,  -35.75,  -35.25,  -34.75,  -34.25,  -33.75,  -33.25,\n",
       "         -32.75,  -32.25,  -31.75,  -31.25,  -30.75,  -30.25,  -29.75,\n",
       "         -29.25,  -28.75,  -28.25,  -27.75,  -27.25,  -26.75,  -26.25,\n",
       "         -25.75,  -25.25,  -24.75,  -24.25,  -23.75,  -23.25,  -22.75,\n",
       "         -22.25,  -21.75,  -21.25,  -20.75,  -20.25,  -19.75,  -19.25,\n",
       "         -18.75,  -18.25,  -17.75,  -17.25,  -16.75,  -16.25,  -15.75,\n",
       "         -15.25,  -14.75,  -14.25,  -13.75,  -13.25,  -12.75,  -12.25,\n",
       "         -11.75,  -11.25,  -10.75,  -10.25,   -9.75,   -9.25,   -8.75,\n",
       "          -8.25,   -7.75,   -7.25,   -6.75,   -6.25,   -5.75,   -5.25,\n",
       "          -4.75,   -4.25,   -3.75,   -3.25,   -2.75,   -2.25,   -1.75,\n",
       "          -1.25,   -0.75,   -0.25,    0.25,    0.75,    1.25,    1.75,\n",
       "           2.25,    2.75,    3.25,    3.75,    4.25,    4.75,    5.25,\n",
       "           5.75,    6.25,    6.75,    7.25,    7.75,    8.25,    8.75,\n",
       "           9.25,    9.75,   10.25,   10.75,   11.25,   11.75,   12.25,\n",
       "          12.75,   13.25,   13.75,   14.25,   14.75,   15.25,   15.75,\n",
       "          16.25,   16.75,   17.25,   17.75,   18.25,   18.75,   19.25,\n",
       "          19.75,   20.25,   20.75,   21.25,   21.75,   22.25,   22.75,\n",
       "          23.25,   23.75,   24.25,   24.75,   25.25,   25.75,   26.25,\n",
       "          26.75,   27.25,   27.75,   28.25,   28.75,   29.25,   29.75,\n",
       "          30.25,   30.75,   31.25,   31.75,   32.25,   32.75,   33.25,\n",
       "          33.75,   34.25,   34.75,   35.25,   35.75,   36.25,   36.75,\n",
       "          37.25,   37.75,   38.25,   38.75,   39.25,   39.75,   40.25,\n",
       "          40.75,   41.25,   41.75,   42.25,   42.75,   43.25,   43.75,\n",
       "          44.25,   44.75,   45.25,   45.75,   46.25,   46.75,   47.25,\n",
       "          47.75,   48.25,   48.75,   49.25,   49.75,   50.25,   50.75,\n",
       "          51.25,   51.75,   52.25,   52.75,   53.25,   53.75,   54.25,\n",
       "          54.75,   55.25,   55.75,   56.25,   56.75,   57.25,   57.75,\n",
       "          58.25,   58.75,   59.25,   59.75,   60.25,   60.75,   61.25,\n",
       "          61.75,   62.25,   62.75,   63.25,   63.75,   64.25,   64.75,\n",
       "          65.25,   65.75,   66.25,   66.75,   67.25,   67.75,   68.25,\n",
       "          68.75,   69.25,   69.75,   70.25,   70.75,   71.25,   71.75,\n",
       "          72.25,   72.75,   73.25,   73.75,   74.25,   74.75,   75.25,\n",
       "          75.75,   76.25,   76.75,   77.25,   77.75,   78.25,   78.75,\n",
       "          79.25,   79.75,   80.25,   80.75,   81.25,   81.75,   82.25,\n",
       "          82.75,   83.25,   83.75,   84.25,   84.75,   85.25,   85.75,\n",
       "          86.25,   86.75,   87.25,   87.75,   88.25,   88.75,   89.25,\n",
       "          89.75,   90.25,   90.75,   91.25,   91.75,   92.25,   92.75,\n",
       "          93.25,   93.75,   94.25,   94.75,   95.25,   95.75,   96.25,\n",
       "          96.75,   97.25,   97.75,   98.25,   98.75,   99.25,   99.75,\n",
       "         100.25,  100.75,  101.25,  101.75,  102.25,  102.75,  103.25,\n",
       "         103.75,  104.25,  104.75,  105.25,  105.75,  106.25,  106.75,\n",
       "         107.25,  107.75,  108.25,  108.75,  109.25,  109.75,  110.25,\n",
       "         110.75,  111.25,  111.75,  112.25,  112.75,  113.25,  113.75,\n",
       "         114.25,  114.75,  115.25,  115.75,  116.25,  116.75,  117.25,\n",
       "         117.75,  118.25,  118.75,  119.25,  119.75,  120.25,  120.75,\n",
       "         121.25,  121.75,  122.25,  122.75,  123.25,  123.75,  124.25,\n",
       "         124.75,  125.25,  125.75,  126.25,  126.75,  127.25,  127.75,\n",
       "         128.25,  128.75,  129.25,  129.75,  130.25,  130.75,  131.25,\n",
       "         131.75,  132.25,  132.75,  133.25,  133.75,  134.25,  134.75,\n",
       "         135.25,  135.75,  136.25,  136.75,  137.25,  137.75,  138.25,\n",
       "         138.75,  139.25,  139.75,  140.25,  140.75,  141.25,  141.75,\n",
       "         142.25,  142.75,  143.25,  143.75,  144.25,  144.75,  145.25,\n",
       "         145.75,  146.25,  146.75,  147.25,  147.75,  148.25,  148.75,\n",
       "         149.25,  149.75,  150.25,  150.75,  151.25,  151.75,  152.25,\n",
       "         152.75,  153.25,  153.75,  154.25,  154.75,  155.25,  155.75,\n",
       "         156.25,  156.75,  157.25,  157.75,  158.25,  158.75,  159.25,\n",
       "         159.75,  160.25,  160.75,  161.25,  161.75,  162.25,  162.75,\n",
       "         163.25,  163.75,  164.25,  164.75,  165.25,  165.75,  166.25,\n",
       "         166.75,  167.25,  167.75,  168.25,  168.75,  169.25,  169.75,\n",
       "         170.25,  170.75,  171.25,  171.75,  172.25,  172.75,  173.25,\n",
       "         173.75,  174.25,  174.75,  175.25,  175.75,  176.25,  176.75,\n",
       "         177.25,  177.75,  178.25,  178.75,  179.25,  179.75]), standard_name='longitude', units=Unit('degrees_east'), long_name='longitude', var_name='longitude')]"
      ]
     },
     "execution_count": 18,
     "metadata": {},
     "output_type": "execute_result"
    },
    {
     "data": {
      "application/javascript": [
       "\n",
       "            setTimeout(function() {\n",
       "                var nbb_cell_id = 18;\n",
       "                var nbb_unformatted_code = \"population_2020_iris = population_2020.drop(\\\"raster\\\")\\npopulation_2020_iris.attrs[\\\"units\\\"] = \\\"1\\\"\\npopulation_2020_iris.name = \\\"Population\\\"\\npopulation_2020_iris[\\\"latitude\\\"].attrs[\\\"standard_name\\\"] = \\\"latitude\\\"\\npopulation_2020_iris[\\\"longitude\\\"].attrs[\\\"standard_name\\\"] = \\\"longitude\\\"\\npopulation_2020_iris = population_2020_iris.to_iris()\\ndisplay(population_2020_iris)\\npopulation_2020_iris.coords()\";\n",
       "                var nbb_formatted_code = \"population_2020_iris = population_2020.drop(\\\"raster\\\")\\npopulation_2020_iris.attrs[\\\"units\\\"] = \\\"1\\\"\\npopulation_2020_iris.name = \\\"Population\\\"\\npopulation_2020_iris[\\\"latitude\\\"].attrs[\\\"standard_name\\\"] = \\\"latitude\\\"\\npopulation_2020_iris[\\\"longitude\\\"].attrs[\\\"standard_name\\\"] = \\\"longitude\\\"\\npopulation_2020_iris = population_2020_iris.to_iris()\\ndisplay(population_2020_iris)\\npopulation_2020_iris.coords()\";\n",
       "                var nbb_cells = Jupyter.notebook.get_cells();\n",
       "                for (var i = 0; i < nbb_cells.length; ++i) {\n",
       "                    if (nbb_cells[i].input_prompt_number == nbb_cell_id) {\n",
       "                        if (nbb_cells[i].get_text() == nbb_unformatted_code) {\n",
       "                             nbb_cells[i].set_text(nbb_formatted_code);\n",
       "                        }\n",
       "                        break;\n",
       "                    }\n",
       "                }\n",
       "            }, 500);\n",
       "            "
      ],
      "text/plain": [
       "<IPython.core.display.Javascript object>"
      ]
     },
     "metadata": {},
     "output_type": "display_data"
    }
   ],
   "source": [
    "population_2020_iris = population_2020.drop(\"raster\")\n",
    "population_2020_iris.attrs[\"units\"] = \"1\"\n",
    "population_2020_iris.name = \"Population\"\n",
    "population_2020_iris[\"latitude\"].attrs[\"standard_name\"] = \"latitude\"\n",
    "population_2020_iris[\"longitude\"].attrs[\"standard_name\"] = \"longitude\"\n",
    "population_2020_iris = population_2020_iris.to_iris()\n",
    "display(population_2020_iris)\n",
    "population_2020_iris.coords()"
   ]
  },
  {
   "cell_type": "code",
   "execution_count": 19,
   "id": "strong-ownership",
   "metadata": {},
   "outputs": [
    {
     "data": {
      "application/javascript": [
       "\n",
       "            setTimeout(function() {\n",
       "                var nbb_cell_id = 19;\n",
       "                var nbb_unformatted_code = \"def get_natural_earth_50m_scale_nearest_last_resort_region_weights(region):\\n    def _calculate_region_weights(weight_calculator, cube, **kwargs):\\n        r_stripped = region.replace(\\\"Nearest \\\", \\\"\\\")\\n        weights_no_pop = weight_calculator.get_weights_array_without_area_weighting(\\n            r_stripped\\n        )\\n        if np.equal(np.sum(weights_no_pop), 0):\\n            region_mask = regionmask.defined_regions.natural_earth.countries_50[\\n                [region.split(\\\"|\\\")[-1]]\\n            ]\\n            assert len(region_mask.centroids) == 1\\n            centre = region_mask.centroids[0]\\n            weights_no_pop[\\n                cube.cube.coord(\\\"latitude\\\").nearest_neighbour_index(centre[1]),\\n                cube.cube.coord(\\\"longitude\\\").nearest_neighbour_index(centre[0]),\\n            ] = 1\\n\\n        return weights_no_pop\\n\\n    return _calculate_region_weights\\n\\n\\ndef get_natural_earth_50m_scale_popn_weighted_region_weights(region):\\n    def _calculate_region_weights(weight_calculator, cube, **kwargs):\\n        weights_no_pop = weight_calculator.get_weights_array_without_area_weighting(\\n            region.replace(\\\"Popn weighted \\\", \\\"\\\")\\n        )\\n        out = (\\n            population_2020_iris.regrid(cube.cube, iris.analysis.Linear())\\n            * weights_no_pop\\n        )\\n        out = out.data\\n        out[np.isnan(out)] = 0\\n\\n        return out\\n\\n    return _calculate_region_weights\";\n",
       "                var nbb_formatted_code = \"def get_natural_earth_50m_scale_nearest_last_resort_region_weights(region):\\n    def _calculate_region_weights(weight_calculator, cube, **kwargs):\\n        r_stripped = region.replace(\\\"Nearest \\\", \\\"\\\")\\n        weights_no_pop = weight_calculator.get_weights_array_without_area_weighting(\\n            r_stripped\\n        )\\n        if np.equal(np.sum(weights_no_pop), 0):\\n            region_mask = regionmask.defined_regions.natural_earth.countries_50[\\n                [region.split(\\\"|\\\")[-1]]\\n            ]\\n            assert len(region_mask.centroids) == 1\\n            centre = region_mask.centroids[0]\\n            weights_no_pop[\\n                cube.cube.coord(\\\"latitude\\\").nearest_neighbour_index(centre[1]),\\n                cube.cube.coord(\\\"longitude\\\").nearest_neighbour_index(centre[0]),\\n            ] = 1\\n\\n        return weights_no_pop\\n\\n    return _calculate_region_weights\\n\\n\\ndef get_natural_earth_50m_scale_popn_weighted_region_weights(region):\\n    def _calculate_region_weights(weight_calculator, cube, **kwargs):\\n        weights_no_pop = weight_calculator.get_weights_array_without_area_weighting(\\n            region.replace(\\\"Popn weighted \\\", \\\"\\\")\\n        )\\n        out = (\\n            population_2020_iris.regrid(cube.cube, iris.analysis.Linear())\\n            * weights_no_pop\\n        )\\n        out = out.data\\n        out[np.isnan(out)] = 0\\n\\n        return out\\n\\n    return _calculate_region_weights\";\n",
       "                var nbb_cells = Jupyter.notebook.get_cells();\n",
       "                for (var i = 0; i < nbb_cells.length; ++i) {\n",
       "                    if (nbb_cells[i].input_prompt_number == nbb_cell_id) {\n",
       "                        if (nbb_cells[i].get_text() == nbb_unformatted_code) {\n",
       "                             nbb_cells[i].set_text(nbb_formatted_code);\n",
       "                        }\n",
       "                        break;\n",
       "                    }\n",
       "                }\n",
       "            }, 500);\n",
       "            "
      ],
      "text/plain": [
       "<IPython.core.display.Javascript object>"
      ]
     },
     "metadata": {},
     "output_type": "display_data"
    }
   ],
   "source": [
    "def get_natural_earth_50m_scale_nearest_last_resort_region_weights(region):\n",
    "    def _calculate_region_weights(weight_calculator, cube, **kwargs):\n",
    "        r_stripped = region.replace(\"Nearest \", \"\")\n",
    "        weights_no_pop = weight_calculator.get_weights_array_without_area_weighting(\n",
    "            r_stripped\n",
    "        )\n",
    "        if np.equal(np.sum(weights_no_pop), 0):\n",
    "            region_mask = regionmask.defined_regions.natural_earth.countries_50[\n",
    "                [region.split(\"|\")[-1]]\n",
    "            ]\n",
    "            assert len(region_mask.centroids) == 1\n",
    "            centre = region_mask.centroids[0]\n",
    "            weights_no_pop[\n",
    "                cube.cube.coord(\"latitude\").nearest_neighbour_index(centre[1]),\n",
    "                cube.cube.coord(\"longitude\").nearest_neighbour_index(centre[0]),\n",
    "            ] = 1\n",
    "\n",
    "        return weights_no_pop\n",
    "\n",
    "    return _calculate_region_weights\n",
    "\n",
    "\n",
    "def get_natural_earth_50m_scale_popn_weighted_region_weights(region):\n",
    "    def _calculate_region_weights(weight_calculator, cube, **kwargs):\n",
    "        weights_no_pop = weight_calculator.get_weights_array_without_area_weighting(\n",
    "            region.replace(\"Popn weighted \", \"\")\n",
    "        )\n",
    "        out = (\n",
    "            population_2020_iris.regrid(cube.cube, iris.analysis.Linear())\n",
    "            * weights_no_pop\n",
    "        )\n",
    "        out = out.data\n",
    "        out[np.isnan(out)] = 0\n",
    "\n",
    "        return out\n",
    "\n",
    "    return _calculate_region_weights"
   ]
  },
  {
   "cell_type": "code",
   "execution_count": 20,
   "id": "accessible-lambda",
   "metadata": {},
   "outputs": [
    {
     "data": {
      "text/plain": [
       "'Nearest World|Natural Earth 50m|Zimbabwe,Nearest World,Nearest World|Natural Earth 50m|Norfolk Island,Nearest World|Natural Earth 50m|Israel,Nearest World|Natural Earth 50m|Jamaica,Nearest World|Natural Earth 50m|Maldives'"
      ]
     },
     "execution_count": 20,
     "metadata": {},
     "output_type": "execute_result"
    },
    {
     "data": {
      "application/javascript": [
       "\n",
       "            setTimeout(function() {\n",
       "                var nbb_cell_id = 20;\n",
       "                var nbb_unformatted_code = \"regions_incl_pop = []\\nfor region in regions.split(\\\",\\\"):\\n    region_nearest_resort = \\\"Nearest {}\\\".format(region)\\n    netcdf_scm.weights.WEIGHTS_FUNCTIONS_WITHOUT_AREA_WEIGHTING[\\n        region_nearest_resort\\n    ] = get_natural_earth_50m_scale_nearest_last_resort_region_weights(\\n        region_nearest_resort\\n    )\\n\\n    region_incl_pop = \\\"Popn weighted {}\\\".format(region)\\n    netcdf_scm.weights.WEIGHTS_FUNCTIONS_WITHOUT_AREA_WEIGHTING[\\n        region_incl_pop\\n    ] = get_natural_earth_50m_scale_popn_weighted_region_weights(region)\\n    #     regions_incl_pop.append(region)\\n    regions_incl_pop.append(region_nearest_resort)\\n#     regions_incl_pop.append(region_incl_pop)\\n\\nregions_incl_pop = \\\",\\\".join(regions_incl_pop)\\nregions_incl_pop\";\n",
       "                var nbb_formatted_code = \"regions_incl_pop = []\\nfor region in regions.split(\\\",\\\"):\\n    region_nearest_resort = \\\"Nearest {}\\\".format(region)\\n    netcdf_scm.weights.WEIGHTS_FUNCTIONS_WITHOUT_AREA_WEIGHTING[\\n        region_nearest_resort\\n    ] = get_natural_earth_50m_scale_nearest_last_resort_region_weights(\\n        region_nearest_resort\\n    )\\n\\n    region_incl_pop = \\\"Popn weighted {}\\\".format(region)\\n    netcdf_scm.weights.WEIGHTS_FUNCTIONS_WITHOUT_AREA_WEIGHTING[\\n        region_incl_pop\\n    ] = get_natural_earth_50m_scale_popn_weighted_region_weights(region)\\n    #     regions_incl_pop.append(region)\\n    regions_incl_pop.append(region_nearest_resort)\\n#     regions_incl_pop.append(region_incl_pop)\\n\\nregions_incl_pop = \\\",\\\".join(regions_incl_pop)\\nregions_incl_pop\";\n",
       "                var nbb_cells = Jupyter.notebook.get_cells();\n",
       "                for (var i = 0; i < nbb_cells.length; ++i) {\n",
       "                    if (nbb_cells[i].input_prompt_number == nbb_cell_id) {\n",
       "                        if (nbb_cells[i].get_text() == nbb_unformatted_code) {\n",
       "                             nbb_cells[i].set_text(nbb_formatted_code);\n",
       "                        }\n",
       "                        break;\n",
       "                    }\n",
       "                }\n",
       "            }, 500);\n",
       "            "
      ],
      "text/plain": [
       "<IPython.core.display.Javascript object>"
      ]
     },
     "metadata": {},
     "output_type": "display_data"
    }
   ],
   "source": [
    "regions_incl_pop = []\n",
    "for region in regions.split(\",\"):\n",
    "    region_nearest_resort = \"Nearest {}\".format(region)\n",
    "    netcdf_scm.weights.WEIGHTS_FUNCTIONS_WITHOUT_AREA_WEIGHTING[\n",
    "        region_nearest_resort\n",
    "    ] = get_natural_earth_50m_scale_nearest_last_resort_region_weights(\n",
    "        region_nearest_resort\n",
    "    )\n",
    "\n",
    "    region_incl_pop = \"Popn weighted {}\".format(region)\n",
    "    netcdf_scm.weights.WEIGHTS_FUNCTIONS_WITHOUT_AREA_WEIGHTING[\n",
    "        region_incl_pop\n",
    "    ] = get_natural_earth_50m_scale_popn_weighted_region_weights(region)\n",
    "    #     regions_incl_pop.append(region)\n",
    "    regions_incl_pop.append(region_nearest_resort)\n",
    "#     regions_incl_pop.append(region_incl_pop)\n",
    "\n",
    "regions_incl_pop = \",\".join(regions_incl_pop)\n",
    "regions_incl_pop"
   ]
  },
  {
   "cell_type": "code",
   "execution_count": 21,
   "id": "solid-athletics",
   "metadata": {},
   "outputs": [
    {
     "data": {
      "application/javascript": [
       "\n",
       "            setTimeout(function() {\n",
       "                var nbb_cell_id = 21;\n",
       "                var nbb_unformatted_code = \"def plot_weights(weights_to_plot, constraint=None, axes=None, **kwargs):\\n    for i, (label, weights) in enumerate(weights_to_plot.items()):\\n        if axes is None:\\n            ax = plt.figure().add_subplot(111)\\n        else:\\n            ax = axes[i]\\n\\n        weight_cube = example.cube.collapsed(\\\"time\\\", iris.analysis.MEAN)\\n        weight_cube.data = weights\\n        weight_cube.units = \\\"\\\"\\n        if constraint is not None:\\n            weight_cube = weight_cube.extract(constraint)\\n\\n        plt.sca(ax)\\n\\n        qplt.pcolormesh(\\n            weight_cube,\\n            **kwargs,\\n        )\\n\\n        plt.gca().set_title(label)\\n        plt.gca().coastlines(alpha=0.5)\";\n",
       "                var nbb_formatted_code = \"def plot_weights(weights_to_plot, constraint=None, axes=None, **kwargs):\\n    for i, (label, weights) in enumerate(weights_to_plot.items()):\\n        if axes is None:\\n            ax = plt.figure().add_subplot(111)\\n        else:\\n            ax = axes[i]\\n\\n        weight_cube = example.cube.collapsed(\\\"time\\\", iris.analysis.MEAN)\\n        weight_cube.data = weights\\n        weight_cube.units = \\\"\\\"\\n        if constraint is not None:\\n            weight_cube = weight_cube.extract(constraint)\\n\\n        plt.sca(ax)\\n\\n        qplt.pcolormesh(\\n            weight_cube,\\n            **kwargs,\\n        )\\n\\n        plt.gca().set_title(label)\\n        plt.gca().coastlines(alpha=0.5)\";\n",
       "                var nbb_cells = Jupyter.notebook.get_cells();\n",
       "                for (var i = 0; i < nbb_cells.length; ++i) {\n",
       "                    if (nbb_cells[i].input_prompt_number == nbb_cell_id) {\n",
       "                        if (nbb_cells[i].get_text() == nbb_unformatted_code) {\n",
       "                             nbb_cells[i].set_text(nbb_formatted_code);\n",
       "                        }\n",
       "                        break;\n",
       "                    }\n",
       "                }\n",
       "            }, 500);\n",
       "            "
      ],
      "text/plain": [
       "<IPython.core.display.Javascript object>"
      ]
     },
     "metadata": {},
     "output_type": "display_data"
    }
   ],
   "source": [
    "def plot_weights(weights_to_plot, constraint=None, axes=None, **kwargs):\n",
    "    for i, (label, weights) in enumerate(weights_to_plot.items()):\n",
    "        if axes is None:\n",
    "            ax = plt.figure().add_subplot(111)\n",
    "        else:\n",
    "            ax = axes[i]\n",
    "\n",
    "        weight_cube = example.cube.collapsed(\"time\", iris.analysis.MEAN)\n",
    "        weight_cube.data = weights\n",
    "        weight_cube.units = \"\"\n",
    "        if constraint is not None:\n",
    "            weight_cube = weight_cube.extract(constraint)\n",
    "\n",
    "        plt.sca(ax)\n",
    "\n",
    "        qplt.pcolormesh(\n",
    "            weight_cube,\n",
    "            **kwargs,\n",
    "        )\n",
    "\n",
    "        plt.gca().set_title(label)\n",
    "        plt.gca().coastlines(alpha=0.5)"
   ]
  },
  {
   "cell_type": "code",
   "execution_count": 22,
   "id": "unusual-factory",
   "metadata": {},
   "outputs": [
    {
     "data": {
      "application/javascript": [
       "\n",
       "            setTimeout(function() {\n",
       "                var nbb_cell_id = 22;\n",
       "                var nbb_unformatted_code = \"example = CMIP6OutputCube()\\nexample.load_data_in_directory(\\n    \\\"/data/cmip6/CMIP6/ScenarioMIP/CSIRO/ACCESS-ESM1-5/ssp245/r3i1p1f1/Amon/tas/gn/v20191203\\\"\\n)\";\n",
       "                var nbb_formatted_code = \"example = CMIP6OutputCube()\\nexample.load_data_in_directory(\\n    \\\"/data/cmip6/CMIP6/ScenarioMIP/CSIRO/ACCESS-ESM1-5/ssp245/r3i1p1f1/Amon/tas/gn/v20191203\\\"\\n)\";\n",
       "                var nbb_cells = Jupyter.notebook.get_cells();\n",
       "                for (var i = 0; i < nbb_cells.length; ++i) {\n",
       "                    if (nbb_cells[i].input_prompt_number == nbb_cell_id) {\n",
       "                        if (nbb_cells[i].get_text() == nbb_unformatted_code) {\n",
       "                             nbb_cells[i].set_text(nbb_formatted_code);\n",
       "                        }\n",
       "                        break;\n",
       "                    }\n",
       "                }\n",
       "            }, 500);\n",
       "            "
      ],
      "text/plain": [
       "<IPython.core.display.Javascript object>"
      ]
     },
     "metadata": {},
     "output_type": "display_data"
    }
   ],
   "source": [
    "example = CMIP6OutputCube()\n",
    "example.load_data_in_directory(\n",
    "    \"/data/cmip6/CMIP6/ScenarioMIP/CSIRO/ACCESS-ESM1-5/ssp245/r3i1p1f1/Amon/tas/gn/v20191203\"\n",
    ")"
   ]
  },
  {
   "cell_type": "code",
   "execution_count": 24,
   "id": "french-voice",
   "metadata": {},
   "outputs": [
    {
     "data": {
      "image/png": "[encoded data removed]",
      "text/plain": [
       "<Figure size 432x288 with 2 Axes>"
      ]
     },
     "metadata": {
      "needs_background": "light"
     },
     "output_type": "display_data"
    },
    {
     "data": {
      "image/png": "[encoded data removed]",
      "text/plain": [
       "<Figure size 432x288 with 2 Axes>"
      ]
     },
     "metadata": {
      "needs_background": "light"
     },
     "output_type": "display_data"
    },
    {
     "data": {
      "image/png": "[encoded data removed]",
      "text/plain": [
       "<Figure size 432x288 with 2 Axes>"
      ]
     },
     "metadata": {
      "needs_background": "light"
     },
     "output_type": "display_data"
    },
    {
     "data": {
      "image/png": "[encoded data removed]",
      "text/plain": [
       "<Figure size 432x288 with 2 Axes>"
      ]
     },
     "metadata": {
      "needs_background": "light"
     },
     "output_type": "display_data"
    },
    {
     "data": {
      "image/png": "[encoded data removed]",
      "text/plain": [
       "<Figure size 432x288 with 2 Axes>"
      ]
     },
     "metadata": {
      "needs_background": "light"
     },
     "output_type": "display_data"
    },
    {
     "data": {
      "image/png": "[encoded data removed]",
      "text/plain": [
       "<Figure size 432x288 with 2 Axes>"
      ]
     },
     "metadata": {
      "needs_background": "light"
     },
     "output_type": "display_data"
    },
    {
     "data": {
      "application/javascript": [
       "\n",
       "            setTimeout(function() {\n",
       "                var nbb_cell_id = 24;\n",
       "                var nbb_unformatted_code = \"custom_weights = example.get_scm_timeseries_weights(regions=regions_incl_pop.split(\\\",\\\"))\\nplot_weights(custom_weights)\";\n",
       "                var nbb_formatted_code = \"custom_weights = example.get_scm_timeseries_weights(regions=regions_incl_pop.split(\\\",\\\"))\\nplot_weights(custom_weights)\";\n",
       "                var nbb_cells = Jupyter.notebook.get_cells();\n",
       "                for (var i = 0; i < nbb_cells.length; ++i) {\n",
       "                    if (nbb_cells[i].input_prompt_number == nbb_cell_id) {\n",
       "                        if (nbb_cells[i].get_text() == nbb_unformatted_code) {\n",
       "                             nbb_cells[i].set_text(nbb_formatted_code);\n",
       "                        }\n",
       "                        break;\n",
       "                    }\n",
       "                }\n",
       "            }, 500);\n",
       "            "
      ],
      "text/plain": [
       "<IPython.core.display.Javascript object>"
      ]
     },
     "metadata": {},
     "output_type": "display_data"
    }
   ],
   "source": [
    "custom_weights = example.get_scm_timeseries_weights(regions=regions_incl_pop.split(\",\"))\n",
    "plot_weights(custom_weights)"
   ]
  },
  {
   "cell_type": "markdown",
   "id": "obvious-problem",
   "metadata": {},
   "source": [
    "## Run"
   ]
  },
  {
   "cell_type": "code",
   "execution_count": null,
   "id": "secure-malpractice",
   "metadata": {
    "scrolled": false
   },
   "outputs": [],
   "source": [
    "netcdf_scm.crunching._crunch_data(\n",
    "    \"/data/cmip6/CMIP6\",\n",
    "    CRUNCH_DIR,\n",
    "    \"Zebedee Nicholls <zebedee.nicholls@climate-energy-college.org>\",\n",
    "    drs=\"CMIP6Output\",\n",
    "    regexp=\".*(CMIP|ScenarioMIP).*(/ssp|/historical/|/piControl/).*(r1i1p1f1|r2i1p1f1|r3i1p1f1|r1i1p1f2|r1i1p2f1|r1i1p1f3|r4i1p1f1|r10i1p1f1|r11i1p1f1).*Amon.*/tas/.*\",\n",
    "    regions=regions_incl_pop,\n",
    "    data_sub_dir=\"netcdf-scm-crunched\",\n",
    "    force=False,\n",
    "    small_number_workers=60,\n",
    "    small_threshold=100,\n",
    "    medium_number_workers=20,\n",
    "    medium_threshold=400,\n",
    "    force_lazy_threshold=1000,\n",
    "    cell_weights=None,\n",
    ")"
   ]
  },
  {
   "cell_type": "code",
   "execution_count": null,
   "id": "rational-trailer",
   "metadata": {
    "scrolled": false
   },
   "outputs": [],
   "source": [
    "checker = \"./country-crunch-country-weighted/netcdf-scm-crunched/CMIP6/ScenarioMIP/CSIRO/ACCESS-ESM1-5/ssp245/r3i1p1f1/Amon/tas/gn/v20191203/netcdf-scm_tas_Amon_ACCESS-ESM1-5_ssp245_r3i1p1f1_gn_201501-210012.nc\"\n",
    "checker = netcdf_scm.io.load_scmrun(checker)\n",
    "checker[\"popn_weighted\"] = checker[\"region\"].str.contains(\"Popn\")\n",
    "checker[\"geographic_region\"] = checker[\"region\"].str.replace(\"Popn weighted \", \"\")\n",
    "\n",
    "ax = plt.figure(figsize=(12, 8)).add_subplot(111)\n",
    "checker.time_mean(\"AC\").lineplot(hue=\"geographic_region\", style=\"popn_weighted\", ax=ax)"
   ]
  },
  {
   "cell_type": "code",
   "execution_count": null,
   "id": "matched-conducting",
   "metadata": {
    "execution": {
     "iopub.execute_input": "2021-03-31T10:08:23.341878Z",
     "iopub.status.busy": "2021-03-31T10:08:23.329066Z",
     "iopub.status.idle": "2021-03-31T10:09:57.217063Z",
     "shell.execute_reply": "2021-03-31T10:09:57.216338Z"
    }
   },
   "outputs": [],
   "source": [
    "!find /data/cmip6/CMIP6/CMIP -name 'KIOST-ESM' -type d"
   ]
  },
  {
   "cell_type": "code",
   "execution_count": null,
   "id": "finite-manhattan",
   "metadata": {
    "execution": {
     "iopub.execute_input": "2021-03-31T10:09:57.233450Z",
     "iopub.status.busy": "2021-03-31T10:09:57.233082Z",
     "iopub.status.idle": "2021-03-31T10:09:57.354078Z",
     "shell.execute_reply": "2021-03-31T10:09:57.353648Z"
    }
   },
   "outputs": [],
   "source": [
    "!ls /data/cmip6/CMIP6/ScenarioMIP/NCAR/CESM2"
   ]
  },
  {
   "cell_type": "code",
   "execution_count": null,
   "id": "played-pontiac",
   "metadata": {
    "execution": {
     "iopub.execute_input": "2021-03-31T10:09:57.359234Z",
     "iopub.status.busy": "2021-03-31T10:09:57.358866Z",
     "iopub.status.idle": "2021-03-31T10:09:57.486765Z",
     "shell.execute_reply": "2021-03-31T10:09:57.487068Z"
    }
   },
   "outputs": [],
   "source": [
    "!find /data/cmip6/CMIP6/CMIP/KIOST/KIOST-ESM -type f -name 'tas_Amon*'"
   ]
  },
  {
   "cell_type": "code",
   "execution_count": null,
   "id": "married-cholesterol",
   "metadata": {
    "execution": {
     "iopub.execute_input": "2021-03-31T10:09:57.491068Z",
     "iopub.status.busy": "2021-03-31T10:09:57.489270Z",
     "iopub.status.idle": "2021-03-31T10:12:24.195245Z",
     "shell.execute_reply": "2021-03-31T10:12:24.195581Z"
    }
   },
   "outputs": [],
   "source": [
    "!find /data/cmip6/CMIP6/ScenarioMIP -name 'KIOST-ESM' -type d"
   ]
  },
  {
   "cell_type": "code",
   "execution_count": null,
   "id": "surprised-plain",
   "metadata": {
    "execution": {
     "iopub.execute_input": "2021-03-31T10:12:24.211356Z",
     "iopub.status.busy": "2021-03-31T10:12:24.210993Z",
     "iopub.status.idle": "2021-03-31T10:12:24.332144Z",
     "shell.execute_reply": "2021-03-31T10:12:24.332440Z"
    }
   },
   "outputs": [],
   "source": [
    "!find /data/cmip6/CMIP6/ScenarioMIP/KIOST/KIOST-ESM -type f -name 'tas_Amon*_ssp245_*'"
   ]
  },
  {
   "cell_type": "code",
   "execution_count": null,
   "id": "innovative-mining",
   "metadata": {
    "execution": {
     "iopub.execute_input": "2021-03-31T10:12:24.348154Z",
     "iopub.status.busy": "2021-03-31T10:12:24.336852Z",
     "iopub.status.idle": "2021-03-31T10:12:24.464618Z",
     "shell.execute_reply": "2021-03-31T10:12:24.464192Z"
    }
   },
   "outputs": [],
   "source": [
    "!find /data/cmip6/CMIP6/ScenarioMIP/CCCR-IITM/IITM-ESM -type f -name '*_ssp245_*'"
   ]
  },
  {
   "cell_type": "code",
   "execution_count": null,
   "id": "minimal-flavor",
   "metadata": {
    "execution": {
     "iopub.execute_input": "2021-03-31T10:12:24.469418Z",
     "iopub.status.busy": "2021-03-31T10:12:24.469006Z",
     "iopub.status.idle": "2021-03-31T10:12:24.661965Z",
     "shell.execute_reply": "2021-03-31T10:12:24.662263Z"
    },
    "scrolled": false
   },
   "outputs": [],
   "source": [
    "!find {CRUNCH_DIR} -name '*_ssp245_*' -type f  #| wc -l"
   ]
  }
 ],
 "metadata": {
  "kernelspec": {
   "display_name": "Python 3",
   "language": "python",
   "name": "python3"
  },
  "language_info": {
   "codemirror_mode": {
    "name": "ipython",
    "version": 3
   },
   "file_extension": ".py",
   "mimetype": "text/x-python",
   "name": "python",
   "nbconvert_exporter": "python",
   "pygments_lexer": "ipython3",
   "version": "3.8.8"
  }
 },
 "nbformat": 4,
 "nbformat_minor": 5
}
