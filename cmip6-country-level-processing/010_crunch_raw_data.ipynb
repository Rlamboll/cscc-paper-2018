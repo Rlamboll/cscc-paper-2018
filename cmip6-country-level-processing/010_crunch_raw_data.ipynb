{
 "cells": [
  {
   "cell_type": "markdown",
   "id": "governmental-detail",
   "metadata": {},
   "source": [
    "# Crunch raw CMIP6 data\n",
    "\n",
    "Here we calculate the country-means."
   ]
  },
  {
   "cell_type": "code",
   "execution_count": null,
   "id": "working-hostel",
   "metadata": {},
   "outputs": [],
   "source": [
    "%load_ext nb_black"
   ]
  },
  {
   "cell_type": "code",
   "execution_count": null,
   "id": "vertical-demographic",
   "metadata": {
    "execution": {
     "iopub.execute_input": "2021-03-31T04:24:08.905458Z",
     "iopub.status.busy": "2021-03-31T04:24:08.904981Z",
     "iopub.status.idle": "2021-03-31T04:24:09.781410Z",
     "shell.execute_reply": "2021-03-31T04:24:09.781789Z"
    }
   },
   "outputs": [],
   "source": [
    "import glob\n",
    "import logging\n",
    "import os\n",
    "\n",
    "import iris.analysis\n",
    "import iris.quickplot as qplt\n",
    "import matplotlib.pyplot as plt\n",
    "import netcdf_scm\n",
    "import netcdf_scm.crunching\n",
    "import netcdf_scm.weights\n",
    "import numpy as np\n",
    "import pandas as pd\n",
    "import regionmask\n",
    "import xarray as xr\n",
    "from netcdf_scm.iris_cube_wrappers import CMIP6OutputCube\n",
    "\n",
    "import config\n",
    "import utils"
   ]
  },
  {
   "cell_type": "code",
   "execution_count": null,
   "id": "organic-darkness",
   "metadata": {},
   "outputs": [],
   "source": [
    "ID = config.ID"
   ]
  },
  {
   "cell_type": "code",
   "execution_count": null,
   "id": "serious-louis",
   "metadata": {},
   "outputs": [],
   "source": [
    "NETCDF_SCM_LOGGER = logging.getLogger(\"netcdf_scm\")"
   ]
  },
  {
   "cell_type": "code",
   "execution_count": null,
   "id": "suffering-compound",
   "metadata": {},
   "outputs": [],
   "source": [
    "STDERR_INFO_HANDLER = logging.StreamHandler()\n",
    "FORMATTER = logging.Formatter(\n",
    "    \"%(asctime)s %(name)s %(threadName)s - %(levelname)s:  %(message)s\",\n",
    "    datefmt=\"%Y-%m-%d %H:%M:%S\",\n",
    ")\n",
    "STDERR_INFO_HANDLER.setFormatter(FORMATTER)\n",
    "STDERR_INFO_HANDLER.setLevel(logging.INFO)"
   ]
  },
  {
   "cell_type": "code",
   "execution_count": null,
   "id": "similar-astronomy",
   "metadata": {},
   "outputs": [],
   "source": [
    "NETCDF_SCM_LOGGER.setLevel(logging.DEBUG)\n",
    "NETCDF_SCM_LOGGER.addHandler(STDERR_INFO_HANDLER)"
   ]
  },
  {
   "cell_type": "code",
   "execution_count": null,
   "id": "specified-sudan",
   "metadata": {},
   "outputs": [],
   "source": [
    "SOURCE_FILTER = os.getenv(\"SOURCE_FILTER\", \".*ACCESS.*\")\n",
    "SOURCE_FILTER"
   ]
  },
  {
   "cell_type": "code",
   "execution_count": null,
   "id": "legislative-compatibility",
   "metadata": {},
   "outputs": [],
   "source": [
    "with open(\"source_filter.txt\", \"w\") as fh:\n",
    "    fh.write(SOURCE_FILTER)"
   ]
  },
  {
   "cell_type": "code",
   "execution_count": null,
   "id": "touched-insight",
   "metadata": {},
   "outputs": [],
   "source": [
    "NETCDF_SCM_LOGGER.info(\"SOURCE_FILTER: %s\", SOURCE_FILTER)"
   ]
  },
  {
   "cell_type": "code",
   "execution_count": null,
   "id": "peaceful-gauge",
   "metadata": {
    "execution": {
     "iopub.execute_input": "2021-03-31T04:24:09.790130Z",
     "iopub.status.busy": "2021-03-31T04:24:09.789575Z",
     "iopub.status.idle": "2021-03-31T04:24:09.791566Z",
     "shell.execute_reply": "2021-03-31T04:24:09.791941Z"
    }
   },
   "outputs": [],
   "source": [
    "netcdf_scm.__version__"
   ]
  },
  {
   "cell_type": "code",
   "execution_count": null,
   "id": "average-george",
   "metadata": {
    "execution": {
     "iopub.execute_input": "2021-03-31T04:24:09.795503Z",
     "iopub.status.busy": "2021-03-31T04:24:09.795116Z",
     "iopub.status.idle": "2021-03-31T04:24:10.040354Z",
     "shell.execute_reply": "2021-03-31T04:24:10.039864Z"
    }
   },
   "outputs": [],
   "source": [
    "!find /data/cmip6/CMIP6/ScenarioMIP -mindepth 2 -maxdepth 2 -type d -exec sh -c 'x={};echo $(basename ${x})' \\; | sort"
   ]
  },
  {
   "cell_type": "markdown",
   "id": "based-classification",
   "metadata": {},
   "source": [
    "## Setup"
   ]
  },
  {
   "cell_type": "code",
   "execution_count": null,
   "id": "ultimate-poetry",
   "metadata": {
    "execution": {
     "iopub.execute_input": "2021-03-31T04:24:10.044574Z",
     "iopub.status.busy": "2021-03-31T04:24:10.044206Z",
     "iopub.status.idle": "2021-03-31T04:24:10.046221Z",
     "shell.execute_reply": "2021-03-31T04:24:10.045823Z"
    }
   },
   "outputs": [],
   "source": [
    "CRUNCH_DIR = \"./{}-country-crunch-popn-weighted\".format(ID)\n",
    "CRUNCH_DIR"
   ]
  },
  {
   "cell_type": "code",
   "execution_count": null,
   "id": "extreme-mechanism",
   "metadata": {
    "execution": {
     "iopub.execute_input": "2021-03-31T04:24:10.049909Z",
     "iopub.status.busy": "2021-03-31T04:24:10.049534Z",
     "iopub.status.idle": "2021-03-31T04:24:10.177317Z",
     "shell.execute_reply": "2021-03-31T04:24:10.176899Z"
    }
   },
   "outputs": [],
   "source": [
    "!mkdir -p {CRUNCH_DIR}"
   ]
  },
  {
   "cell_type": "code",
   "execution_count": null,
   "id": "conventional-offering",
   "metadata": {
    "execution": {
     "iopub.execute_input": "2021-03-31T04:24:10.189868Z",
     "iopub.status.busy": "2021-03-31T04:24:10.189487Z",
     "iopub.status.idle": "2021-03-31T04:24:10.395270Z",
     "shell.execute_reply": "2021-03-31T04:24:10.394875Z"
    },
    "scrolled": true
   },
   "outputs": [],
   "source": [
    "regions = utils.get_regions()\n",
    "display(len(regions.split(\",\")))\n",
    "regions"
   ]
  },
  {
   "cell_type": "markdown",
   "id": "congressional-texas",
   "metadata": {},
   "source": [
    "## Define custom masks"
   ]
  },
  {
   "cell_type": "code",
   "execution_count": null,
   "id": "sunset-sudan",
   "metadata": {},
   "outputs": [],
   "source": [
    "population_2020 = utils.load_pop_2020()"
   ]
  },
  {
   "cell_type": "code",
   "execution_count": null,
   "id": "mental-finder",
   "metadata": {},
   "outputs": [],
   "source": [
    "population_2020.sum()"
   ]
  },
  {
   "cell_type": "code",
   "execution_count": null,
   "id": "opening-playlist",
   "metadata": {},
   "outputs": [],
   "source": [
    "population_2020.plot()"
   ]
  },
  {
   "cell_type": "code",
   "execution_count": null,
   "id": "binding-analyst",
   "metadata": {},
   "outputs": [],
   "source": [
    "population_2020.sel(\n",
    "    latitude=range(20, 50 + 1), longitude=range(-130, -70 + 1), method=\"nearest\"\n",
    ").plot()"
   ]
  },
  {
   "cell_type": "code",
   "execution_count": null,
   "id": "configured-spencer",
   "metadata": {},
   "outputs": [],
   "source": [
    "population_2020_iris = utils.get_pop_2020_iris(population_2020)"
   ]
  },
  {
   "cell_type": "code",
   "execution_count": null,
   "id": "accessible-lambda",
   "metadata": {},
   "outputs": [],
   "source": [
    "CRUNCH_NEAREST_REGION = True\n",
    "CRUNCH_POPULATION_WEIGHTED = True\n",
    "\n",
    "regions_incl_pop = []\n",
    "for region in regions.split(\",\"):\n",
    "    if CRUNCH_NEAREST_REGION:\n",
    "        region_nearest_resort = \"Nearest {}\".format(region)\n",
    "        netcdf_scm.weights.WEIGHTS_FUNCTIONS_WITHOUT_AREA_WEIGHTING[\n",
    "            region_nearest_resort\n",
    "        ] = utils.get_natural_earth_50m_scale_nearest_last_resort_region_weights(\n",
    "            region_nearest_resort, population_2020_iris\n",
    "        )\n",
    "        regions_incl_pop.append(region_nearest_resort)\n",
    "\n",
    "    if CRUNCH_POPULATION_WEIGHTED:\n",
    "        region_incl_pop = \"Popn weighted {}\".format(region)\n",
    "        netcdf_scm.weights.WEIGHTS_FUNCTIONS_WITHOUT_AREA_WEIGHTING[\n",
    "            region_incl_pop\n",
    "        ] = utils.get_natural_earth_50m_scale_popn_weighted_region_weights(\n",
    "            region, population_2020_iris\n",
    "        )\n",
    "        regions_incl_pop.append(region_incl_pop)\n",
    "\n",
    "regions_incl_pop = \",\".join(regions_incl_pop)\n",
    "regions_incl_pop"
   ]
  },
  {
   "cell_type": "code",
   "execution_count": null,
   "id": "unusual-factory",
   "metadata": {},
   "outputs": [],
   "source": [
    "example = CMIP6OutputCube()\n",
    "example.load_data_in_directory(\n",
    "    \"/data/cmip6/CMIP6/ScenarioMIP/CSIRO/ACCESS-ESM1-5/ssp245/r3i1p1f1/Amon/tas/gn/v20191203\"\n",
    ")"
   ]
  },
  {
   "cell_type": "code",
   "execution_count": null,
   "id": "french-voice",
   "metadata": {
    "scrolled": true
   },
   "outputs": [],
   "source": [
    "custom_weights = example.get_scm_timeseries_weights(\n",
    "    regions=regions_incl_pop.split(\",\")[:20]\n",
    ")\n",
    "utils.plot_weights(example, custom_weights)"
   ]
  },
  {
   "cell_type": "markdown",
   "id": "obvious-problem",
   "metadata": {},
   "source": [
    "## Run"
   ]
  },
  {
   "cell_type": "code",
   "execution_count": null,
   "id": "secure-malpractice",
   "metadata": {
    "scrolled": false
   },
   "outputs": [],
   "source": [
    "mips = [\"CMIP\", \"ScenarioMIP\"]\n",
    "# scenarios = [\"ssp\", \"historical\", \"piControl\"]\n",
    "scenarios = [\n",
    "    \"piControl\",\n",
    "    \"abrupt-4xCO2\",\n",
    "#     \"ssp119\",\n",
    "#     \"ssp126\",\n",
    "#     \"ssp245\",\n",
    "#     \"ssp370\",\n",
    "#     \"ssp370-lowNTCF\",\n",
    "#     \"ssp434\",\n",
    "#     \"ssp460\",\n",
    "#     \"ssp585\",\n",
    "#     \"ssp534-over\",\n",
    "#     \"historical\",\n",
    "]\n",
    "members = [\n",
    "    \"r1i1p1f1\",\n",
    "    \"r2i1p1f1\",\n",
    "    \"r3i1p1f1\",\n",
    "    \"r1i1p1f2\",\n",
    "    \"r1i1p2f1\",\n",
    "    \"r1i1p1f3\",\n",
    "    \"r4i1p1f1\",\n",
    "    \"r10i1p1f1\",\n",
    "    \"r11i1p1f1\",\n",
    "]\n",
    "variables = [\"tas\"]\n",
    "tables = [\"Amon\"]\n",
    "\n",
    "\n",
    "def get_regexp(inl, trail_slash=True):\n",
    "    if trail_slash:\n",
    "        return \"({})\".format(\n",
    "            \"|\".join([\"{}{}{}\".format(os.sep, s, os.sep) for s in inl])\n",
    "        )\n",
    "\n",
    "    return \"({})\".format(\"|\".join([\"{}{}\".format(os.sep, s) for s in inl]))\n",
    "\n",
    "\n",
    "mip_regexp = get_regexp(mips)\n",
    "scenarios_regexp = get_regexp(scenarios, trail_slash=False)\n",
    "members_regexp = get_regexp(members, trail_slash=False)\n",
    "variables_regexp = get_regexp(variables)\n",
    "tables_regexp = get_regexp(tables, trail_slash=False)\n",
    "\n",
    "regexp = \".*{}.*{}.*{}.*{}.*{}.*{}.*\".format(\n",
    "    mip_regexp,\n",
    "    SOURCE_FILTER,\n",
    "    scenarios_regexp,\n",
    "    members_regexp,\n",
    "    tables_regexp,\n",
    "    variables_regexp,\n",
    ")\n",
    "display(regexp)\n",
    "\n",
    "netcdf_scm.crunching._crunch_data(\n",
    "    \"/data/cmip6/CMIP6\",\n",
    "    CRUNCH_DIR,\n",
    "    \"Zebedee Nicholls <zebedee.nicholls@climate-energy-college.org>\",\n",
    "    drs=\"CMIP6Output\",\n",
    "    regexp=regexp,\n",
    "    regions=regions_incl_pop,\n",
    "    data_sub_dir=\"netcdf-scm-crunched\",\n",
    "    force=False,\n",
    "    small_number_workers=20,\n",
    "    small_threshold=100,\n",
    "    medium_number_workers=5,\n",
    "    medium_threshold=400,\n",
    "    force_lazy_threshold=600,\n",
    "    cell_weights=None,\n",
    ")"
   ]
  },
  {
   "cell_type": "code",
   "execution_count": null,
   "id": "rational-trailer",
   "metadata": {
    "scrolled": false
   },
   "outputs": [],
   "source": [
    "checker = \"./country-crunch-country-weighted/netcdf-scm-crunched/CMIP6/ScenarioMIP/CSIRO/ACCESS-ESM1-5/ssp245/r3i1p1f1/Amon/tas/gn/v20191203/netcdf-scm_tas_Amon_ACCESS-ESM1-5_ssp245_r3i1p1f1_gn_201501-210012.nc\"\n",
    "checker = netcdf_scm.io.load_scmrun(checker)\n",
    "checker[\"popn_weighted\"] = checker[\"region\"].str.contains(\"Popn\")\n",
    "checker[\"geographic_region\"] = checker[\"region\"].str.replace(\"Popn weighted \", \"\")\n",
    "\n",
    "ax = plt.figure(figsize=(12, 8)).add_subplot(111)\n",
    "checker.time_mean(\"AC\").lineplot(hue=\"geographic_region\", style=\"popn_weighted\", ax=ax)"
   ]
  },
  {
   "cell_type": "code",
   "execution_count": null,
   "id": "matched-conducting",
   "metadata": {
    "execution": {
     "iopub.execute_input": "2021-03-31T10:08:23.341878Z",
     "iopub.status.busy": "2021-03-31T10:08:23.329066Z",
     "iopub.status.idle": "2021-03-31T10:09:57.217063Z",
     "shell.execute_reply": "2021-03-31T10:09:57.216338Z"
    }
   },
   "outputs": [],
   "source": [
    "!find /data/cmip6/CMIP6/CMIP -name 'KIOST-ESM' -type d"
   ]
  },
  {
   "cell_type": "code",
   "execution_count": null,
   "id": "finite-manhattan",
   "metadata": {
    "execution": {
     "iopub.execute_input": "2021-03-31T10:09:57.233450Z",
     "iopub.status.busy": "2021-03-31T10:09:57.233082Z",
     "iopub.status.idle": "2021-03-31T10:09:57.354078Z",
     "shell.execute_reply": "2021-03-31T10:09:57.353648Z"
    }
   },
   "outputs": [],
   "source": [
    "!ls /data/cmip6/CMIP6/ScenarioMIP/NCAR/CESM2"
   ]
  },
  {
   "cell_type": "code",
   "execution_count": null,
   "id": "played-pontiac",
   "metadata": {
    "execution": {
     "iopub.execute_input": "2021-03-31T10:09:57.359234Z",
     "iopub.status.busy": "2021-03-31T10:09:57.358866Z",
     "iopub.status.idle": "2021-03-31T10:09:57.486765Z",
     "shell.execute_reply": "2021-03-31T10:09:57.487068Z"
    }
   },
   "outputs": [],
   "source": [
    "!find /data/cmip6/CMIP6/CMIP/KIOST/KIOST-ESM -type f -name 'tas_Amon*'"
   ]
  },
  {
   "cell_type": "code",
   "execution_count": null,
   "id": "married-cholesterol",
   "metadata": {
    "execution": {
     "iopub.execute_input": "2021-03-31T10:09:57.491068Z",
     "iopub.status.busy": "2021-03-31T10:09:57.489270Z",
     "iopub.status.idle": "2021-03-31T10:12:24.195245Z",
     "shell.execute_reply": "2021-03-31T10:12:24.195581Z"
    }
   },
   "outputs": [],
   "source": [
    "!find /data/cmip6/CMIP6/ScenarioMIP -name 'KIOST-ESM' -type d"
   ]
  },
  {
   "cell_type": "code",
   "execution_count": null,
   "id": "surprised-plain",
   "metadata": {
    "execution": {
     "iopub.execute_input": "2021-03-31T10:12:24.211356Z",
     "iopub.status.busy": "2021-03-31T10:12:24.210993Z",
     "iopub.status.idle": "2021-03-31T10:12:24.332144Z",
     "shell.execute_reply": "2021-03-31T10:12:24.332440Z"
    }
   },
   "outputs": [],
   "source": [
    "!find /data/cmip6/CMIP6/ScenarioMIP/KIOST/KIOST-ESM -type f -name 'tas_Amon*_ssp245_*'"
   ]
  },
  {
   "cell_type": "code",
   "execution_count": null,
   "id": "innovative-mining",
   "metadata": {
    "execution": {
     "iopub.execute_input": "2021-03-31T10:12:24.348154Z",
     "iopub.status.busy": "2021-03-31T10:12:24.336852Z",
     "iopub.status.idle": "2021-03-31T10:12:24.464618Z",
     "shell.execute_reply": "2021-03-31T10:12:24.464192Z"
    }
   },
   "outputs": [],
   "source": [
    "!find /data/cmip6/CMIP6/ScenarioMIP/CCCR-IITM/IITM-ESM -type f -name '*_ssp245_*'"
   ]
  },
  {
   "cell_type": "code",
   "execution_count": null,
   "id": "minimal-flavor",
   "metadata": {
    "execution": {
     "iopub.execute_input": "2021-03-31T10:12:24.469418Z",
     "iopub.status.busy": "2021-03-31T10:12:24.469006Z",
     "iopub.status.idle": "2021-03-31T10:12:24.661965Z",
     "shell.execute_reply": "2021-03-31T10:12:24.662263Z"
    },
    "scrolled": false
   },
   "outputs": [],
   "source": [
    "!find {CRUNCH_DIR} -name '*_ssp245_*' -type f  #| wc -l"
   ]
  }
 ],
 "metadata": {
  "kernelspec": {
   "display_name": "Python 3",
   "language": "python",
   "name": "python3"
  },
  "language_info": {
   "codemirror_mode": {
    "name": "ipython",
    "version": 3
   },
   "file_extension": ".py",
   "mimetype": "text/x-python",
   "name": "python",
   "nbconvert_exporter": "python",
   "pygments_lexer": "ipython3",
   "version": "3.8.8"
  }
 },
 "nbformat": 4,
 "nbformat_minor": 5
}
