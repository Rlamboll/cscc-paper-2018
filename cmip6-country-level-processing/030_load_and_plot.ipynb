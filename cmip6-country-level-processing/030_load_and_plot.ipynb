{
 "cells": [
  {
   "cell_type": "markdown",
   "id": "received-chemistry",
   "metadata": {},
   "source": [
    "# Load data and plot\n",
    "\n",
    "An example of how to load monthly data quickly so it can be transformed into other forms etc."
   ]
  },
  {
   "cell_type": "code",
   "execution_count": null,
   "id": "damaged-price",
   "metadata": {},
   "outputs": [],
   "source": [
    "%load_ext nb_black"
   ]
  },
  {
   "cell_type": "code",
   "execution_count": null,
   "id": "moving-martial",
   "metadata": {},
   "outputs": [],
   "source": [
    "import glob\n",
    "import os.path\n",
    "from multiprocessing import Pool\n",
    "\n",
    "import matplotlib.pyplot as plt\n",
    "import scmdata\n",
    "import seaborn as sns\n",
    "import tqdm.autonotebook as tqdman"
   ]
  },
  {
   "cell_type": "code",
   "execution_count": null,
   "id": "second-bristol",
   "metadata": {},
   "outputs": [],
   "source": [
    "plt.rcParams[\"figure.figsize\"] = (12, 8)"
   ]
  },
  {
   "cell_type": "code",
   "execution_count": null,
   "id": "emerging-poetry",
   "metadata": {},
   "outputs": [],
   "source": [
    "STITCHED_DIR = \"./country-crunch-stitched\"\n",
    "STITCHED_NORMALISED_DIR = \"./country-crunch-stitched-normalised\"\n",
    "\n",
    "# STITCHED_DIR = \"./country-crunch-stitched-popn-weighted\"\n",
    "# STITCHED_NORMALISED_DIR = \"./country-crunch-stitched-normalised-popn-weighted\"\n",
    "\n",
    "MAX_WORKERS = 60"
   ]
  },
  {
   "cell_type": "code",
   "execution_count": null,
   "id": "flexible-candle",
   "metadata": {},
   "outputs": [],
   "source": [
    "load_dir = STITCHED_DIR\n",
    "load_dir = STITCHED_NORMALISED_DIR"
   ]
  },
  {
   "cell_type": "code",
   "execution_count": null,
   "id": "turkish-muscle",
   "metadata": {},
   "outputs": [],
   "source": [
    "crunched_files = [\n",
    "    f\n",
    "    for f in glob.glob(os.path.join(load_dir, \"**\", \"*.nc\"), recursive=True)\n",
    "    if \"ssp\" in f\n",
    "]\n",
    "crunched_files[:2]\n",
    "crunched_files"
   ]
  },
  {
   "cell_type": "code",
   "execution_count": null,
   "id": "worthy-respect",
   "metadata": {},
   "outputs": [],
   "source": [
    "[f for f in crunched_files if \"CM4\" in f]"
   ]
  },
  {
   "cell_type": "code",
   "execution_count": null,
   "id": "informational-spanish",
   "metadata": {},
   "outputs": [],
   "source": [
    "dud_files = [\n",
    "    \"{}/netcdf-scm_tas_Amon_MRI-ESM2-0_ssp370-lowNTCF_r1i1p1f1_gn_185001-205512.nc\".format(\n",
    "        load_dir\n",
    "    )\n",
    "]\n",
    "crunched_files = [f for f in crunched_files if f not in dud_files]"
   ]
  },
  {
   "cell_type": "code",
   "execution_count": null,
   "id": "plastic-cocktail",
   "metadata": {},
   "outputs": [],
   "source": [
    "def load_file(f):\n",
    "    return scmdata.ScmRun.from_nc(f)\n",
    "\n",
    "\n",
    "all_dat = []\n",
    "with Pool(MAX_WORKERS) as pool:\n",
    "    all_dat = pool.map(load_file, crunched_files)\n",
    "\n",
    "all_dat = scmdata.run_append(\n",
    "    [scmdata.ScmRun(s.timeseries(time_axis=\"year-month\")) for s in tqdman.tqdm(all_dat)]\n",
    ")\n",
    "# all_dat is an ScmRun object, might be useful\n",
    "# alternately, the below gives you a pandas dataframe\n",
    "all_dat_df = all_dat.timeseries()\n",
    "all_dat_df"
   ]
  },
  {
   "cell_type": "code",
   "execution_count": null,
   "id": "chinese-success",
   "metadata": {},
   "outputs": [],
   "source": [
    "cms = all_dat.get_unique_meta(\"climate_model\")\n",
    "display(len(cms))\n",
    "sorted(cms)"
   ]
  },
  {
   "cell_type": "code",
   "execution_count": null,
   "id": "after-physics",
   "metadata": {},
   "outputs": [],
   "source": [
    "print(\"\\n\".join(sorted(cms)))"
   ]
  },
  {
   "cell_type": "code",
   "execution_count": null,
   "id": "derived-cycle",
   "metadata": {},
   "outputs": [],
   "source": [
    "ax = (\n",
    "    all_dat.time_mean(\"AC\").filter(region=\"*World\")  # , year=range(2010, 2020 + 1))\n",
    "    #     .filter(scenario=[\"ssp119\", \"ssp126\", \"ssp245\"])\n",
    "    .filter(scenario=\"ssp245\")\n",
    "    #     .filter(climate_model=\"TaiESM1\")\n",
    "    .lineplot(\n",
    "        style=\"region\",\n",
    "        hue=\"climate_model\",\n",
    "        hue_order=sorted(cms),\n",
    "        units=\"member_id\",\n",
    "        estimator=None,\n",
    "        time_axis=\"year-month\",\n",
    "    )\n",
    ")\n",
    "ax.legend(loc=\"upper left\", ncol=3)\n",
    "ax.grid()\n",
    "# ax.axvline(2014.5)"
   ]
  },
  {
   "cell_type": "code",
   "execution_count": null,
   "id": "immediate-angel",
   "metadata": {},
   "outputs": [],
   "source": [
    "ax = (\n",
    "    all_dat.time_mean(\"AC\")\n",
    "    #     .filter(region=\"*World\")\n",
    "    #     .filter(region=\"*World*France*\")\n",
    "    .filter(region=\"*World*Australia*\")\n",
    "    .filter(scenario=[\"ssp119\", \"ssp126\", \"ssp245\"])\n",
    "    #     .filter(scenario=\"ssp245\")\n",
    "    .filter(climate_model=\"TaiESM1\")\n",
    "    .lineplot(\n",
    "        hue=\"region\",\n",
    "        style=\"scenario\",\n",
    "        #         hue_order=sorted(cms),\n",
    "        units=\"member_id\",\n",
    "        estimator=None,\n",
    "        time_axis=\"year-month\",\n",
    "    )\n",
    ")\n",
    "ax.legend(loc=\"upper left\", ncol=3)\n",
    "ax.grid()\n",
    "# ax.axvline(2014.5)"
   ]
  },
  {
   "cell_type": "code",
   "execution_count": null,
   "id": "intended-chase",
   "metadata": {},
   "outputs": [],
   "source": [
    "ax = (\n",
    "    all_dat.time_mean(\"AC\").filter(\n",
    "        region=\"*World\", climate_model=\"ACCESS*\"\n",
    "    )  # , year=range(2010, 2020 + 1))\n",
    "    #     .filter(scenario=[\"ssp119\", \"ssp126\", \"ssp245\"])\n",
    "    #     .filter(scenario=\"ssp245\")\n",
    "    #     .filter(climate_model=\"FIO*\")\n",
    "    .lineplot(\n",
    "        hue=\"scenario\",\n",
    "        style=\"climate_model\",\n",
    "        #         hue_order=sorted(cms),\n",
    "        units=\"member_id\",\n",
    "        estimator=None,\n",
    "        time_axis=\"year-month\",\n",
    "    )\n",
    ")\n",
    "ax.legend(loc=\"upper left\", ncol=3)\n",
    "ax.grid()\n",
    "# ax.axvline(2014.5)"
   ]
  },
  {
   "cell_type": "code",
   "execution_count": null,
   "id": "divine-sunset",
   "metadata": {},
   "outputs": [],
   "source": [
    "mean_years = range(2081, 2100 + 1)\n",
    "# mean_years = range(2021, 2040 + 1)\n",
    "val_col = \"{}-{} mean\".format(mean_years[0], mean_years[-1])\n",
    "bardf = (\n",
    "    all_dat.filter(year=mean_years)\n",
    "    .time_mean(\"AC\")\n",
    "    .timeseries(time_axis=\"year\")\n",
    "    .mean(axis=\"columns\")\n",
    "    .reset_index()\n",
    "    .rename({0: val_col}, axis=\"columns\")\n",
    ")\n",
    "bardf"
   ]
  },
  {
   "cell_type": "code",
   "execution_count": null,
   "id": "variable-excerpt",
   "metadata": {},
   "outputs": [],
   "source": [
    "tmp = bardf[bardf[\"region\"] == \"World\"][[\"scenario\", \"climate_model\"]].drop_duplicates()\n",
    "tmp[\"scenario\"].value_counts()"
   ]
  },
  {
   "cell_type": "code",
   "execution_count": null,
   "id": "numeric-peripheral",
   "metadata": {},
   "outputs": [],
   "source": [
    "sns.relplot(\n",
    "    data=bardf[bardf[\"region\"] == \"World\"].sort_values(by=\"scenario\"),\n",
    "    #     x=\"climate_model\",\n",
    "    #     y=\"value\",\n",
    "    #     hue=\"scenario\",\n",
    "    x=\"scenario\",\n",
    "    y=val_col,\n",
    "    hue=\"climate_model\",\n",
    "    hue_order=sorted(bardf[\"climate_model\"].unique().tolist()),\n",
    "    style=\"member_id\",\n",
    "    style_order=sorted(bardf[\"member_id\"].unique().tolist()),\n",
    "    #     estimator=\"median\",\n",
    "    height=8,\n",
    "    aspect=1.5,\n",
    "    #     kind=\"line\",\n",
    "    #     marker=\"x\",\n",
    ")"
   ]
  },
  {
   "cell_type": "code",
   "execution_count": null,
   "id": "bulgarian-engagement",
   "metadata": {},
   "outputs": [],
   "source": [
    "mean_years = range(2081, 2100 + 1)\n",
    "# mean_years = range(2021, 2040 + 1)\n",
    "val_col = \"{}-{} mean\".format(mean_years[0], mean_years[-1])\n",
    "bardf = (\n",
    "    all_dat.filter(year=mean_years)\n",
    "    .time_mean(\"AC\")\n",
    "    .timeseries(time_axis=\"year\")\n",
    "    .mean(axis=\"columns\")\n",
    "    .reset_index()\n",
    "    .rename({0: val_col}, axis=\"columns\")\n",
    ")\n",
    "bardf[\"Population weighted\"] = bardf[\"region\"].str.contains(\"Popn weighted\")\n",
    "bardf[\"region\"] = bardf[\"region\"].str.replace(\"Popn weighted \", \"\")\n",
    "bardf"
   ]
  },
  {
   "cell_type": "code",
   "execution_count": null,
   "id": "underlying-medicine",
   "metadata": {},
   "outputs": [],
   "source": [
    "fg = sns.relplot(\n",
    "    data=bardf[bardf[\"scenario\"] == \"ssp245\"].sort_values(by=\"region\"),\n",
    "    #     x=\"climate_model\",\n",
    "    #     y=\"value\",\n",
    "    #     hue=\"scenario\",\n",
    "    x=\"region\",\n",
    "    y=val_col,\n",
    "    hue=\"climate_model\",\n",
    "    hue_order=sorted(bardf[\"climate_model\"].unique().tolist()),\n",
    "    style=\"Population weighted\",\n",
    "    #     style_order=sorted(bardf[\"member_id\"].unique().tolist()),\n",
    "    #     estimator=\"median\",\n",
    "    height=8,\n",
    "    aspect=1.5,\n",
    "    #     kind=\"line\",\n",
    "    #     marker=\"x\",\n",
    ")\n",
    "fg.axes[0][0].set_xticklabels(fg.axes[0][0].get_xticklabels(), rotation=90)\n",
    "print(\"done\")"
   ]
  }
 ],
 "metadata": {
  "kernelspec": {
   "display_name": "Python 3",
   "language": "python",
   "name": "python3"
  },
  "language_info": {
   "codemirror_mode": {
    "name": "ipython",
    "version": 3
   },
   "file_extension": ".py",
   "mimetype": "text/x-python",
   "name": "python",
   "nbconvert_exporter": "python",
   "pygments_lexer": "ipython3",
   "version": "3.8.8"
  }
 },
 "nbformat": 4,
 "nbformat_minor": 5
}
